{
 "cells": [
  {
   "cell_type": "markdown",
   "metadata": {},
   "source": [
    "Before you turn this problem in, make sure everything runs as expected. First, **restart the kernel** (in the menubar, select Kernel$\\rightarrow$Restart) and then **run all cells** (in the menubar, select Cell$\\rightarrow$Run All). Check your output to make sure it all looks as you expected.\n",
    "\n",
    "Make sure you fill in any place that says `YOUR CODE HERE` or \"YOUR ANSWER HERE\", as well as your name below:"
   ]
  },
  {
   "cell_type": "code",
   "execution_count": null,
   "metadata": {},
   "outputs": [],
   "source": [
    "NAME = \"Konstantin Baron von Drachenfels\""
   ]
  },
  {
   "cell_type": "markdown",
   "metadata": {},
   "source": [
    "---"
   ]
  },
  {
   "cell_type": "markdown",
   "metadata": {},
   "source": [
    "# Week3 Homework"
   ]
  },
  {
   "cell_type": "markdown",
   "metadata": {
    "deletable": false,
    "editable": false,
    "nbgrader": {
     "cell_type": "markdown",
     "checksum": "d2a376d1fda83b4cbef6a408ac4a76b3",
     "grade": false,
     "grade_id": "cell-c24968df01615fde",
     "locked": true,
     "schema_version": 3,
     "solution": false
    }
   },
   "source": [
    "** Reminder: Do not use exit() in a notebook.  Use `return` to exit a  function.**\n",
    "\n",
    "This homework includes list comprehensions, which are a very common pattern in Python code.  They can be schematically described as being of the form `[something(x) for x in list]`, which returns a new list with the function `something` applied to each member x in the list (or other iterable, such as a tuple).\n",
    "\n",
    "Make sure you have read the chapter on List Comprehensions here: \n",
    "    http://introtopython.org/lists_tuples.html#List-Comprehensions\n",
    "\n"
   ]
  },
  {
   "cell_type": "code",
   "execution_count": 22,
   "metadata": {},
   "outputs": [],
   "source": [
    "# Here is a list of names we will use for the first problem:\n",
    "\n",
    "names = ['frederica', 'gilbert', 'amine', 'hasan', 'annie', 'bob']"
   ]
  },
  {
   "cell_type": "markdown",
   "metadata": {
    "deletable": false,
    "editable": false,
    "nbgrader": {
     "cell_type": "markdown",
     "checksum": "768cfd50aa135e88c37388bc762ec8d2",
     "grade": false,
     "grade_id": "cell-4c3f81fdace48867",
     "locked": true,
     "schema_version": 3,
     "solution": false
    }
   },
   "source": [
    "**Question 1**: Write a function ** using a list comprehension ** to create a new list with just the length of each of the strings in the input list of names above.  Return the new list of string lengths."
   ]
  },
  {
   "cell_type": "code",
   "execution_count": 23,
   "metadata": {
    "deletable": false,
    "nbgrader": {
     "cell_type": "code",
     "checksum": "8e06242e34a7a99707c0b9a4f20e484b",
     "grade": false,
     "grade_id": "lengths",
     "locked": false,
     "schema_version": 3,
     "solution": true
    }
   },
   "outputs": [],
   "source": [
    "def get_lengths(words):\n",
    "    \"\"\" Takes a list of words, returns a list of their lengths. \"\"\"\n",
    "    words_length = [len(length_string) for length_string in words]\n",
    "    return(words_length)"
   ]
  },
  {
   "cell_type": "code",
   "execution_count": 24,
   "metadata": {},
   "outputs": [
    {
     "data": {
      "text/plain": [
       "[9, 7, 5, 5, 5, 3]"
      ]
     },
     "execution_count": 24,
     "metadata": {},
     "output_type": "execute_result"
    }
   ],
   "source": [
    "# show your code running here:\n",
    "get_lengths(names)"
   ]
  },
  {
   "cell_type": "code",
   "execution_count": 25,
   "metadata": {
    "deletable": false,
    "editable": false,
    "nbgrader": {
     "cell_type": "code",
     "checksum": "1d289fbed8ea102b00105383d38ab9e3",
     "grade": true,
     "grade_id": "cell-2387d8f23466ead5",
     "locked": true,
     "points": 1,
     "schema_version": 3,
     "solution": false
    }
   },
   "outputs": [],
   "source": [
    "## A test for your code that you can ignore.  We will check manually too. \n",
    "\n",
    "assert get_lengths(names) == [9, 7, 5, 5, 5, 3]"
   ]
  },
  {
   "cell_type": "code",
   "execution_count": 26,
   "metadata": {
    "deletable": false,
    "editable": false,
    "nbgrader": {
     "cell_type": "code",
     "checksum": "14335c9ab6f4f92625d229cc118c7ffe",
     "grade": true,
     "grade_id": "cell-807197682437c95e",
     "locked": true,
     "points": 1,
     "schema_version": 3,
     "solution": false
    }
   },
   "outputs": [],
   "source": [
    "## another test to make sure you used a list comprehension\n",
    "import ast\n",
    "import inspect\n",
    "\n",
    "src = inspect.getsource(get_lengths)\n",
    "node = ast.parse(src)\n",
    "\n",
    "class ListCompChecker(ast.NodeVisitor):\n",
    "    def __init__(self):\n",
    "        super(ListCompChecker).__init__()\n",
    "        self.Found = False\n",
    "    def visit_ListComp(self, node):\n",
    "        self.Found = True\n",
    "\n",
    "checker = ListCompChecker()\n",
    "checker.visit(node)\n",
    "assert checker.Found"
   ]
  },
  {
   "cell_type": "markdown",
   "metadata": {},
   "source": [
    "**Question 2**:\n",
    "    How would you convert the following for-loop code (`for val in mylist`) into a single line list comprehension? (The print part can be a separate line after your list comprehension.)\n",
    "   "
   ]
  },
  {
   "cell_type": "code",
   "execution_count": 27,
   "metadata": {
    "deletable": false,
    "editable": false,
    "nbgrader": {
     "cell_type": "code",
     "checksum": "87bcbc145a25291820cb16ab358348da",
     "grade": false,
     "grade_id": "cell-25e50b1a9e037a3c",
     "locked": true,
     "schema_version": 3,
     "solution": false
    }
   },
   "outputs": [
    {
     "name": "stdout",
     "output_type": "stream",
     "text": [
      "[20, 40, 80, 100, 34.0, 40, 20]\n"
     ]
    }
   ],
   "source": [
    "mylist = [2,4,8,10,3.4,4,2]\n",
    "tens = []\n",
    "for val in mylist:\n",
    "    tens.append(val * 10)\n",
    "print(tens)"
   ]
  },
  {
   "cell_type": "code",
   "execution_count": 28,
   "metadata": {
    "deletable": false,
    "nbgrader": {
     "cell_type": "code",
     "checksum": "d7e42ba1f512c475e4f8d2c4ad88e59e",
     "grade": true,
     "grade_id": "redo_with_listcomp",
     "locked": false,
     "points": 2,
     "schema_version": 3,
     "solution": true
    }
   },
   "outputs": [
    {
     "name": "stdout",
     "output_type": "stream",
     "text": [
      "[20, 40, 80, 100, 34.0, 40, 20]\n"
     ]
    }
   ],
   "source": [
    "tens = [val*10 for val in mylist]\n",
    "print(tens)"
   ]
  },
  {
   "cell_type": "markdown",
   "metadata": {},
   "source": [
    "## Chapter 9: Dictionaries \n",
    "\n",
    "You should have read the book chapter up to Advanced Text Parsing (you can skip that if you want) and also read this: http://introtopython.org/dictionaries.html  \n",
    "\n",
    "Pay particular attention to looping through keys and values in dictionaries using `items()`, which is not mentioned in the book.  This is the most common way to access the parts of the dictionary.\n",
    "\n",
    "The pattern to use with \"items()\" is this:\n",
    "\n",
    "````\n",
    "for key, value in mydict.items():\n",
    "    # do something with key and/or value\n",
    "````\n",
    "\n",
    "Make sure you understand this common pattern.\n",
    "\n",
    "#### Question 3:\n",
    "\n",
    "Write a function that adds one to each numeric value in a dictionary. If the value is not numeric (i.e. not an int or float), don't add anything, but keep the same value. The function should take a dictionary as argument, and return the modified dictionary.\n"
   ]
  },
  {
   "cell_type": "code",
   "execution_count": 29,
   "metadata": {
    "deletable": false,
    "nbgrader": {
     "cell_type": "code",
     "checksum": "492cdd5997391e1fe1cf692477eac31d",
     "grade": false,
     "grade_id": "addtovalue",
     "locked": false,
     "schema_version": 3,
     "solution": true
    }
   },
   "outputs": [],
   "source": [
    "def addtovalue(dictionary):\n",
    "    for key,value in dictionary.items():\n",
    "        if type(value) == int or type(value) == float:\n",
    "            dictionary[key] = dictionary[key] + 1\n",
    "    return(dictionary)"
   ]
  },
  {
   "cell_type": "code",
   "execution_count": 30,
   "metadata": {
    "deletable": false,
    "editable": false,
    "nbgrader": {
     "cell_type": "code",
     "checksum": "a5dad33049b343972a0078204727b3c6",
     "grade": true,
     "grade_id": "testaddtovalue",
     "locked": true,
     "points": 1,
     "schema_version": 3,
     "solution": false
    }
   },
   "outputs": [],
   "source": [
    "testdict = { 'fred': 3.3, 'marie': '5', 'jean': 14, 'angus': 44, 'amine': None}\n",
    "\n",
    "result = addtovalue(testdict)\n",
    "assert result['fred'] == 4.3\n",
    "assert result['jean'] == 15\n",
    "assert result['angus'] == 45"
   ]
  },
  {
   "cell_type": "code",
   "execution_count": 31,
   "metadata": {
    "deletable": false,
    "editable": false,
    "nbgrader": {
     "cell_type": "code",
     "checksum": "3dcff00ba6b0fe7028908bc314de800c",
     "grade": true,
     "grade_id": "testaddtovalue2",
     "locked": true,
     "points": 2,
     "schema_version": 3,
     "solution": false
    }
   },
   "outputs": [],
   "source": [
    "testdict = { 'fred': 3, 'marie': '5', 'jean': 14, 'angus': 44, 'amine': None}\n",
    "result = addtovalue(testdict)\n",
    "assert result['amine'] is None\n",
    "assert result['marie'] == '5'"
   ]
  },
  {
   "cell_type": "markdown",
   "metadata": {},
   "source": [
    "**Question 4**:\n",
    "\n",
    "You can use multiple functions if you want, but you have to have one main function that calls the others, if you do. This is because the test code relies on the main function to check your output.\n",
    "\n",
    "Create a function that takes a file name (and path if needed) as the argument.  In the function, open and read in the file **mountains.csv**. Use a try/catch to be sure the file exists and is readable. If the file location is wrong or it can't be opened, print an error that begins with \"Error:\".  (You can test it with a junk path or filename that doesn't exist.)\n",
    "\n",
    "The pattern I suggest for this is:\n",
    "\n",
    "````\n",
    "try:\n",
    "    with open('mountains.csv', 'r') as handle:\n",
    "        for line in handle:\n",
    "        #....do stuff here (you can have other try/except in here if you want)\n",
    "except:\n",
    "    print(\"Error: Something wrong with your file location?\")\n",
    "    return\n",
    "````\n",
    "\n",
    "An alternate pattern is:\n",
    "\n",
    "````\n",
    "try:\n",
    "    handle = open(filename, 'r')\n",
    "except:\n",
    "    print(\"Error: trouble with file opening\")\n",
    "    return\n",
    "````\n",
    "\n",
    "But you must remember to close the handle if you do this.  The book says:\n",
    "\n",
    "> We could close the files which we open for read as well, but we can be a little sloppy if we are only opening a few files since Python makes sure that all open files are closed when the program ends. When we are writing files, we want to explicitly close the files so as to leave nothing to chance.\"\n",
    "\n",
    "If you are using the pattern I recommend with the ``with open() as handle:`` idiom, you don't need to close it explicitly, it will be closed for you.  That's why it's recommended.\n",
    "\n",
    "Mountains.csv is a comma-separated list of mountains, their height in meters, and the range they belong to. (Look at it in a text editor, but don't edit the file!)  A CSV file is a common format for raw data.  Other types of raw data files are point-virgule (semi-colon) separated files or tab-separated files.  However the columns are separated, you must use that character in your \"split\" code.\n",
    "\n",
    "In this case, it's a comma. Split each line by the comma, and make a dictionary where the key is the mountain name (the first element) and the height is the value, the second element. Make sure to convert the height to a number.\n",
    "Then print the keys and values of the dictionary using ``.items()``, in readable sentences that say, for instance, \"The height of K2 is 8611 meters.\"  Return the dictionary at the end of the function.\n",
    "\n",
    "Reminder about print with {} in your string: use print(string.format(variable)) to fill in the {} with your variable. If there are 2 {}'s, use `.format(var1, var2)`.\n"
   ]
  },
  {
   "cell_type": "code",
   "execution_count": 32,
   "metadata": {
    "deletable": false,
    "nbgrader": {
     "cell_type": "code",
     "checksum": "d91052da71a2652d48c9e170128c30a4",
     "grade": false,
     "grade_id": "mountain_height",
     "locked": false,
     "schema_version": 3,
     "solution": true
    }
   },
   "outputs": [],
   "source": [
    "def mountain_height(filename):\n",
    "    \"\"\" Read in a csv file of mountain names and heights.  \n",
    "    Parse the lines and print the names and heights. \n",
    "    Return the data as a dictionary. \n",
    "    The key is the mountain and the height is the value.\n",
    "    \"\"\"\n",
    "\n",
    "    mountains = dict()\n",
    "    msg = \"The height of {} is {} meters.\"\n",
    "    err_msg = \"Error: File doesn't exist or is unreadable.\"\n",
    "    \n",
    "    try:\n",
    "        handle = open(filename, 'r')\n",
    "    except:\n",
    "        print(err_msg)\n",
    "        return\n",
    "    \n",
    "    for line in handle:\n",
    "        mountainlist = line.split(\",\")\n",
    "        mountains[mountainlist[0]] = int(mountainlist[1])\n",
    "        print(msg.format(mountainlist[0],mountainlist[1]))\n",
    "        \n",
    "    return(mountains)"
   ]
  },
  {
   "cell_type": "code",
   "execution_count": 33,
   "metadata": {},
   "outputs": [
    {
     "name": "stdout",
     "output_type": "stream",
     "text": [
      "The height of Mount Everest is 8848 meters.\n",
      "The height of K2 is 8611 meters.\n",
      "The height of Kangchenjunga is 8586 meters.\n",
      "The height of Lhotse is 8516 meters.\n",
      "The height of Makalu is 8485 meters.\n",
      "The height of Cho Oyu is 8201 meters.\n",
      "The height of Dhaulagiri is 8167 meters.\n",
      "The height of Manaslu is 8163 meters.\n",
      "The height of Nanga Parbat is 8126 meters.\n",
      "The height of Annapurna is 8091 meters.\n",
      "The height of Gasherbrum I is 8080 meters.\n",
      "The height of Broad Peak is 8051 meters.\n",
      "The height of Gasherbrum II is 8035 meters.\n",
      "The height of Shishapangma is 8027 meters.\n"
     ]
    },
    {
     "data": {
      "text/plain": [
       "{'Mount Everest': 8848,\n",
       " 'K2': 8611,\n",
       " 'Kangchenjunga': 8586,\n",
       " 'Lhotse': 8516,\n",
       " 'Makalu': 8485,\n",
       " 'Cho Oyu': 8201,\n",
       " 'Dhaulagiri': 8167,\n",
       " 'Manaslu': 8163,\n",
       " 'Nanga Parbat': 8126,\n",
       " 'Annapurna': 8091,\n",
       " 'Gasherbrum I': 8080,\n",
       " 'Broad Peak': 8051,\n",
       " 'Gasherbrum II': 8035,\n",
       " 'Shishapangma': 8027}"
      ]
     },
     "execution_count": 33,
     "metadata": {},
     "output_type": "execute_result"
    }
   ],
   "source": [
    "\n",
    "# Edit this to have the path to your file mountains.csv.  \n",
    "# Show that it runs.\n",
    "\n",
    "filename = \"./data_files/mountains.csv\"\n",
    "mountain_height(filename)"
   ]
  },
  {
   "cell_type": "code",
   "execution_count": 34,
   "metadata": {
    "deletable": false,
    "editable": false,
    "nbgrader": {
     "cell_type": "code",
     "checksum": "cfc7011f6a35743cb6798fcfe685e24b",
     "grade": true,
     "grade_id": "test_mountain_height",
     "locked": true,
     "points": 3,
     "schema_version": 3,
     "solution": false
    }
   },
   "outputs": [
    {
     "name": "stdout",
     "output_type": "stream",
     "text": [
      "The height of Mount Everest is 8848 meters.\n",
      "The height of K2 is 8611 meters.\n",
      "The height of Kangchenjunga is 8586 meters.\n",
      "The height of Lhotse is 8516 meters.\n",
      "The height of Makalu is 8485 meters.\n",
      "The height of Cho Oyu is 8201 meters.\n",
      "The height of Dhaulagiri is 8167 meters.\n",
      "The height of Manaslu is 8163 meters.\n",
      "The height of Nanga Parbat is 8126 meters.\n",
      "The height of Annapurna is 8091 meters.\n",
      "The height of Gasherbrum I is 8080 meters.\n",
      "The height of Broad Peak is 8051 meters.\n",
      "The height of Gasherbrum II is 8035 meters.\n",
      "The height of Shishapangma is 8027 meters.\n"
     ]
    }
   ],
   "source": [
    "# Test code for grading your function. You can ignore this.\n",
    "\n",
    "filename = \"./data_files/mountains.csv\"\n",
    "output = mountain_height(filename)\n",
    "assert len(output.keys()) == 14\n",
    "assert output['Annapurna'] == 8091"
   ]
  },
  {
   "cell_type": "code",
   "execution_count": 35,
   "metadata": {
    "deletable": false,
    "editable": false,
    "nbgrader": {
     "cell_type": "code",
     "checksum": "8f0938657b20f295ede4b22df44d3ab1",
     "grade": true,
     "grade_id": "test_mountain_error",
     "locked": true,
     "points": 2,
     "schema_version": 3,
     "solution": false
    }
   },
   "outputs": [],
   "source": [
    "# Test code for your printing the data.\n",
    "\n",
    "from io import StringIO\n",
    "import mock\n",
    "import sys\n",
    "\n",
    "filename = \"./data_files/mountains.csv\"\n",
    "with mock.patch('sys.stdout', new_callable=StringIO):\n",
    "    mountain_height(filename)\n",
    "    assert \"8848\" in sys.stdout.getvalue()\n",
    "    assert \"Mount Everest\" in sys.stdout.getvalue()"
   ]
  },
  {
   "cell_type": "code",
   "execution_count": 36,
   "metadata": {
    "deletable": false,
    "editable": false,
    "nbgrader": {
     "cell_type": "code",
     "checksum": "71e54a56b805e1ccc42a884cf81fcc1c",
     "grade": true,
     "grade_id": "test_mountain_print",
     "locked": true,
     "points": 1,
     "schema_version": 3,
     "solution": false
    }
   },
   "outputs": [],
   "source": [
    "# Test for your error condition with a bad filename/path.\n",
    "\n",
    "from io import StringIO\n",
    "import mock\n",
    "import sys\n",
    "\n",
    "filename = None\n",
    "with mock.patch('sys.stdout', new_callable=StringIO):\n",
    "    mountain_height(filename)\n",
    "    assert \"Error:\" in sys.stdout.getvalue()"
   ]
  },
  {
   "cell_type": "markdown",
   "metadata": {},
   "source": [
    "**Question 5**:\n",
    "\n",
    "Rewrite your function to use the collections module's Counter to count how many times each mountain range is mentioned. Each row contains a mountain, its height, and the range it is part of. The ranges are still in the 3rd column of the mountains.csv file!  You can use more than one function if you want.\n",
    "\n",
    "Also add a dictionary that records all the heights of the mountains in a particular range. You will use a list for the values of the heights. So this is a dictionary with a list value! The key will be the range name. Each time you see a new mountain in the range, add the height to the list for that key. For example, after reading all the data, ``mountains['Himalayas'] == [8848, 8586, 8516, 8485, 8201, 8167, 8163, 8126, 8091, 8027]``.  (The \"Himalayas\" are the range.)\n",
    "\n",
    "You may use a regular ``dict`` or a ``defaultdict``, but you must beware of ``KeyError`` with a regular dictionary if the key doesn't exist yet.\n",
    "\n",
    "Your output should be to print the top 2 ranges (according to their Counter value -- hint: look at the function ``most_common()``). And adding the mountain range name to the counter requires a little care (look at update).\n",
    "\n",
    "Then, print the average height of the mountains in each range. (They don't have to be in order. Hint: You may need to find out how to import a ``mean`` function, or else calculate it by hand.)\n",
    "\n",
    "Return the dictionary object with the ranges and their lists of mountain heights after all the printing.\n",
    "\n",
    "Show that this code works with the other file, \"highest_mountains.csv\" too.\n"
   ]
  },
  {
   "cell_type": "code",
   "execution_count": 37,
   "metadata": {
    "deletable": false,
    "nbgrader": {
     "cell_type": "code",
     "checksum": "d3dbe0257b3c028d22ff21f63423ca6e",
     "grade": false,
     "grade_id": "counter_mean",
     "locked": false,
     "schema_version": 3,
     "solution": true
    }
   },
   "outputs": [],
   "source": [
    "# Using Counter()\n",
    "\n",
    "from collections import Counter\n",
    "from collections import defaultdict\n",
    "from statistics import mean   # this also exists in numpy if you prefer\n",
    "\n",
    "# define your dicts inside the function, so they can be re-used each time it is called.\n",
    "def mountain_ranges(filename):\n",
    "    ranges = Counter()\n",
    "    heights = defaultdict(list)  # empty list is the default here, not an int!\n",
    "    \n",
    "    err_msg = \"Error: File doesn't exist or is unreadable.\"\n",
    "    \n",
    "    try:\n",
    "        handle = open(filename, 'r')\n",
    "    except:\n",
    "        print(err_msg)\n",
    "        return\n",
    "    \n",
    "    for line in handle:\n",
    "        mountainlist = line.split(\",\")\n",
    "        ranges[mountainlist[2]] += 1\n",
    "        heights[mountainlist[2]].append(int(mountainlist[1]))\n",
    "    \n",
    "    print(ranges.most_common(2))\n",
    "    \n",
    "    for key,value in heights.items():\n",
    "        print(key, mean(value))\n",
    "        \n",
    "    return(ranges, heights)"
   ]
  },
  {
   "cell_type": "code",
   "execution_count": 38,
   "metadata": {
    "deletable": false,
    "nbgrader": {
     "cell_type": "code",
     "checksum": "43d7bd3b9dc5c38b471b58942355622d",
     "grade": true,
     "grade_id": "review_mountain_ranges",
     "locked": false,
     "points": 2,
     "schema_version": 3,
     "solution": true
    }
   },
   "outputs": [
    {
     "name": "stdout",
     "output_type": "stream",
     "text": [
      "[('Himalayas', 10), ('Karakoram', 4)]\n",
      "Himalayas 8321\n",
      "Karakoram 8194.25\n"
     ]
    },
    {
     "data": {
      "text/plain": [
       "(Counter({'Himalayas': 10, 'Karakoram': 4}),\n",
       " defaultdict(list,\n",
       "             {'Himalayas': [8848,\n",
       "               8586,\n",
       "               8516,\n",
       "               8485,\n",
       "               8201,\n",
       "               8167,\n",
       "               8163,\n",
       "               8126,\n",
       "               8091,\n",
       "               8027],\n",
       "              'Karakoram': [8611, 8080, 8051, 8035]}))"
      ]
     },
     "execution_count": 38,
     "metadata": {},
     "output_type": "execute_result"
    }
   ],
   "source": [
    "filename = \"./data_files/mountains.csv\"\n",
    "mountain_ranges(filename)"
   ]
  },
  {
   "cell_type": "code",
   "execution_count": 39,
   "metadata": {
    "deletable": false,
    "editable": false,
    "nbgrader": {
     "cell_type": "code",
     "checksum": "e15dedb08c7ba2a42f61702060fa2ada",
     "grade": true,
     "grade_id": "test_count_values",
     "locked": true,
     "points": 2,
     "schema_version": 3,
     "solution": false
    }
   },
   "outputs": [],
   "source": [
    "## Testing the output contains values we expect from the counts and means.\n",
    "\n",
    "import mock\n",
    "from io import StringIO\n",
    "import sys\n",
    "\n",
    "with mock.patch('sys.stdout', new_callable=StringIO):\n",
    "    mountain_ranges(\"data_files/mountains.csv\")\n",
    "    assert \"8321\" in sys.stdout.getvalue()\n",
    "    assert \"10\" in sys.stdout.getvalue()"
   ]
  },
  {
   "cell_type": "code",
   "execution_count": 40,
   "metadata": {
    "deletable": false,
    "editable": false,
    "nbgrader": {
     "cell_type": "code",
     "checksum": "81d0efb0d378ea7fbece8bde7ce9ab79",
     "grade": true,
     "grade_id": "test_heights_dict",
     "locked": true,
     "points": 2,
     "schema_version": 3,
     "solution": false
    }
   },
   "outputs": [
    {
     "name": "stdout",
     "output_type": "stream",
     "text": [
      "[('Himalayas', 10), ('Karakoram', 4)]\n",
      "Himalayas 8321\n",
      "Karakoram 8194.25\n"
     ]
    },
    {
     "ename": "TypeError",
     "evalue": "tuple indices must be integers or slices, not str",
     "output_type": "error",
     "traceback": [
      "\u001b[1;31m---------------------------------------------------------------------------\u001b[0m",
      "\u001b[1;31mTypeError\u001b[0m                                 Traceback (most recent call last)",
      "\u001b[1;32m<ipython-input-40-4e60deb07b86>\u001b[0m in \u001b[0;36m<module>\u001b[1;34m\u001b[0m\n\u001b[0;32m      3\u001b[0m \u001b[0mfilepath\u001b[0m \u001b[1;33m=\u001b[0m \u001b[1;34m\"./data_files/mountains.csv\"\u001b[0m\u001b[1;33m\u001b[0m\u001b[1;33m\u001b[0m\u001b[0m\n\u001b[0;32m      4\u001b[0m \u001b[0mresult\u001b[0m \u001b[1;33m=\u001b[0m \u001b[0mmountain_ranges\u001b[0m\u001b[1;33m(\u001b[0m\u001b[0mfilepath\u001b[0m\u001b[1;33m)\u001b[0m\u001b[1;33m\u001b[0m\u001b[1;33m\u001b[0m\u001b[0m\n\u001b[1;32m----> 5\u001b[1;33m \u001b[1;32massert\u001b[0m \u001b[0mresult\u001b[0m\u001b[1;33m[\u001b[0m\u001b[1;34m'Karakoram'\u001b[0m\u001b[1;33m]\u001b[0m \u001b[1;33m==\u001b[0m \u001b[1;33m[\u001b[0m\u001b[1;36m8611\u001b[0m\u001b[1;33m,\u001b[0m \u001b[1;36m8080\u001b[0m\u001b[1;33m,\u001b[0m \u001b[1;36m8051\u001b[0m\u001b[1;33m,\u001b[0m \u001b[1;36m8035\u001b[0m\u001b[1;33m]\u001b[0m\u001b[1;33m\u001b[0m\u001b[1;33m\u001b[0m\u001b[0m\n\u001b[0m",
      "\u001b[1;31mTypeError\u001b[0m: tuple indices must be integers or slices, not str"
     ]
    }
   ],
   "source": [
    "# Testing your output for the grade. Ignore this.  Handgrading of the printed output.\n",
    "\n",
    "filepath = \"./data_files/mountains.csv\"\n",
    "result = mountain_ranges(filepath)\n",
    "assert result['Karakoram'] == [8611, 8080, 8051, 8035]"
   ]
  },
  {
   "cell_type": "code",
   "execution_count": 41,
   "metadata": {
    "deletable": false,
    "editable": false,
    "nbgrader": {
     "cell_type": "code",
     "checksum": "2840e5254a11c0c35c64348b3e9c4f92",
     "grade": true,
     "grade_id": "test_other_file",
     "locked": true,
     "points": 1,
     "schema_version": 3,
     "solution": false
    }
   },
   "outputs": [
    {
     "name": "stdout",
     "output_type": "stream",
     "text": [
      "[('Mahalangur Himalaya\\n', 12), ('Baltoro Karakoram\\n', 10)]\n",
      "Mahalangur Himalaya\n",
      " 7866.083333333333\n",
      "Baltoro Karakoram\n",
      " 7820\n",
      "Kangchenjunga Himalaya\n",
      " 7647.166666666667\n",
      "Dhaulagiri Himalaya\n",
      " 7585.142857142857\n",
      "Manaslu Himalaya\n",
      " 7975.666666666667\n",
      "Nanga Parbat Himalaya\n",
      " 8126\n",
      "Annapurna Himalaya\n",
      " 7651.4\n",
      "Jugal Himalaya\n",
      " 8027\n",
      "Hispar Karakoram\n",
      " 7548.777777777777\n",
      "Masherbrum Karakoram\n",
      " 7520\n",
      "Garhwal Himalaya\n",
      " 7488.2\n",
      "Batura Karakoram\n",
      " 7567.5\n",
      "Rakaposhi-Haramosh Karakoram\n",
      " 7504\n",
      "Assam Himalaya\n",
      " 7538\n",
      "Saltoro Karakoram\n",
      " 7487.75\n",
      "Hindu Kush\n",
      " 7488\n",
      "Langtang Himalaya\n",
      " 7356.75\n",
      "Nalakankar Himalaya\n",
      " 7694\n",
      "Saser Karakoram\n",
      " 7560\n",
      "Kongur Shan Kunlun\n",
      " 7589.5\n",
      "Kula Kangri Himalaya\n",
      " 7443\n",
      "Daxue Shan\n",
      " 7556\n",
      "Muztagata Kunlun\n",
      " 7546\n",
      "Rimo Karakoram\n",
      " 7378\n",
      "Pamir (Akademiya Nauk Range)\n",
      " 7495\n",
      "Siachen Karakoram\n",
      " 7342.6\n",
      "Tian Shan\n",
      " 7439\n",
      "Ganesh Himalaya\n",
      " 7422\n",
      "Rakaposhi Karakoram\n",
      " 7409\n",
      "Labuche Himalaya\n",
      " 7308.5\n",
      "Jomolhari Himalaya\n",
      " 7326\n",
      "Yengisogat Karakoram\n",
      " 7295\n",
      "Panmah Karakoram\n",
      " 7285\n",
      "Baiku Himalaya\n",
      " 7281\n",
      "Lunana Himalaya\n",
      " 7205.5\n",
      "Nagarze Himalaya\n",
      " 7206\n",
      "Hispar Karakoram 7200\n"
     ]
    },
    {
     "data": {
      "text/plain": [
       "(Counter({'Mahalangur Himalaya\\n': 12,\n",
       "          'Baltoro Karakoram\\n': 10,\n",
       "          'Kangchenjunga Himalaya\\n': 6,\n",
       "          'Dhaulagiri Himalaya\\n': 7,\n",
       "          'Manaslu Himalaya\\n': 3,\n",
       "          'Nanga Parbat Himalaya\\n': 1,\n",
       "          'Annapurna Himalaya\\n': 5,\n",
       "          'Jugal Himalaya\\n': 1,\n",
       "          'Hispar Karakoram\\n': 9,\n",
       "          'Masherbrum Karakoram\\n': 4,\n",
       "          'Garhwal Himalaya\\n': 5,\n",
       "          'Batura Karakoram\\n': 4,\n",
       "          'Rakaposhi-Haramosh Karakoram\\n': 3,\n",
       "          'Assam Himalaya\\n': 2,\n",
       "          'Saltoro Karakoram\\n': 4,\n",
       "          'Hindu Kush\\n': 4,\n",
       "          'Langtang Himalaya\\n': 4,\n",
       "          'Nalakankar Himalaya\\n': 1,\n",
       "          'Saser Karakoram\\n': 3,\n",
       "          'Kongur Shan Kunlun\\n': 2,\n",
       "          'Kula Kangri Himalaya\\n': 3,\n",
       "          'Daxue Shan\\n': 1,\n",
       "          'Muztagata Kunlun\\n': 1,\n",
       "          'Rimo Karakoram\\n': 3,\n",
       "          'Pamir (Akademiya Nauk Range)\\n': 1,\n",
       "          'Siachen Karakoram\\n': 5,\n",
       "          'Tian Shan\\n': 1,\n",
       "          'Ganesh Himalaya\\n': 1,\n",
       "          'Rakaposhi Karakoram\\n': 1,\n",
       "          'Labuche Himalaya\\n': 2,\n",
       "          'Jomolhari Himalaya\\n': 1,\n",
       "          'Yengisogat Karakoram\\n': 1,\n",
       "          'Panmah Karakoram\\n': 1,\n",
       "          'Baiku Himalaya\\n': 1,\n",
       "          'Lunana Himalaya\\n': 2,\n",
       "          'Nagarze Himalaya\\n': 1,\n",
       "          'Hispar Karakoram': 1}),\n",
       " defaultdict(list,\n",
       "             {'Mahalangur Himalaya\\n': [8848,\n",
       "               8516,\n",
       "               8485,\n",
       "               8188,\n",
       "               7952,\n",
       "               7864,\n",
       "               7804,\n",
       "               7543,\n",
       "               7350,\n",
       "               7321,\n",
       "               7309,\n",
       "               7213],\n",
       "              'Baltoro Karakoram\\n': [8611,\n",
       "               8080,\n",
       "               8051,\n",
       "               8034,\n",
       "               7946,\n",
       "               7932,\n",
       "               7545,\n",
       "               7410,\n",
       "               7315,\n",
       "               7276],\n",
       "              'Kangchenjunga Himalaya\\n': [8586, 7711, 7462, 7412, 7362, 7350],\n",
       "              'Dhaulagiri Himalaya\\n': [8167,\n",
       "               7751,\n",
       "               7661,\n",
       "               7618,\n",
       "               7385,\n",
       "               7268,\n",
       "               7246],\n",
       "              'Manaslu Himalaya\\n': [8163, 7893, 7871],\n",
       "              'Nanga Parbat Himalaya\\n': [8126],\n",
       "              'Annapurna Himalaya\\n': [8091, 7937, 7555, 7455, 7219],\n",
       "              'Jugal Himalaya\\n': [8027],\n",
       "              'Hispar Karakoram\\n': [7884,\n",
       "               7823,\n",
       "               7790,\n",
       "               7577,\n",
       "               7492,\n",
       "               7469,\n",
       "               7414,\n",
       "               7283,\n",
       "               7207],\n",
       "              'Masherbrum Karakoram\\n': [7821, 7665, 7312, 7282],\n",
       "              'Garhwal Himalaya\\n': [7816, 7756, 7355, 7272, 7242],\n",
       "              'Batura Karakoram\\n': [7795, 7611, 7476, 7388],\n",
       "              'Rakaposhi-Haramosh Karakoram\\n': [7788, 7458, 7266],\n",
       "              'Assam Himalaya\\n': [7782, 7294],\n",
       "              'Saltoro Karakoram\\n': [7742, 7428, 7401, 7380],\n",
       "              'Hindu Kush\\n': [7708, 7492, 7403, 7349],\n",
       "              'Langtang Himalaya\\n': [7703, 7292, 7227, 7205],\n",
       "              'Nalakankar Himalaya\\n': [7694],\n",
       "              'Saser Karakoram\\n': [7672, 7513, 7495],\n",
       "              'Kongur Shan Kunlun\\n': [7649, 7530],\n",
       "              'Kula Kangri Himalaya\\n': [7570, 7538, 7221],\n",
       "              'Daxue Shan\\n': [7556],\n",
       "              'Muztagata Kunlun\\n': [7546],\n",
       "              'Rimo Karakoram\\n': [7516, 7385, 7233],\n",
       "              'Pamir (Akademiya Nauk Range)\\n': [7495],\n",
       "              'Siachen Karakoram\\n': [7462, 7422, 7382, 7245, 7202],\n",
       "              'Tian Shan\\n': [7439],\n",
       "              'Ganesh Himalaya\\n': [7422],\n",
       "              'Rakaposhi Karakoram\\n': [7409],\n",
       "              'Labuche Himalaya\\n': [7367, 7250],\n",
       "              'Jomolhari Himalaya\\n': [7326],\n",
       "              'Yengisogat Karakoram\\n': [7295],\n",
       "              'Panmah Karakoram\\n': [7285],\n",
       "              'Baiku Himalaya\\n': [7281],\n",
       "              'Lunana Himalaya\\n': [7207, 7204],\n",
       "              'Nagarze Himalaya\\n': [7206],\n",
       "              'Hispar Karakoram': [7200]}))"
      ]
     },
     "execution_count": 41,
     "metadata": {},
     "output_type": "execute_result"
    }
   ],
   "source": [
    "# Show your code works with the other file, highest_mountains too. \n",
    "# Fix the path!\n",
    "filepath = \"./data_files/highest_mountains.csv\"\n",
    "mountain_ranges(filepath)\n"
   ]
  },
  {
   "cell_type": "markdown",
   "metadata": {},
   "source": [
    "## Congratulations, now you are doing basic data science!"
   ]
  }
 ],
 "metadata": {
  "anaconda-cloud": {},
  "kernelspec": {
   "display_name": "Python 3",
   "language": "python",
   "name": "python3"
  },
  "language_info": {
   "codemirror_mode": {
    "name": "ipython",
    "version": 3
   },
   "file_extension": ".py",
   "mimetype": "text/x-python",
   "name": "python",
   "nbconvert_exporter": "python",
   "pygments_lexer": "ipython3",
   "version": "3.7.4"
  }
 },
 "nbformat": 4,
 "nbformat_minor": 1
}
