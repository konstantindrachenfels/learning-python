{
 "cells": [
  {
   "cell_type": "markdown",
   "metadata": {
    "deletable": false,
    "editable": false,
    "nbgrader": {
     "checksum": "0647d50b2d1f2ce7bc75837388e1e902",
     "grade": false,
     "grade_id": "cell-c4d4d1f82e04f121",
     "locked": true,
     "schema_version": 1,
     "solution": false
    }
   },
   "source": [
    "# Lecture 2: Pandas Introduction, DataFrame from CSV\n",
    "Pandas is a popular Python package for data science, and with good reason: it offers powerful, expressive and flexible data structures that make data manipulation and analysis easy, among many other things. The DataFrame is one of these structures.\n",
    "\n",
    "Pandas DataFrames make manipulating your data easy, from selecting or replacing columns and indices to reshaping your data. You won't have to write functions yourself to read and write data as we did in the first lecture.\n",
    "\n",
    "The best intro guide, but it's big, is 10 Minutes to Pandas: http://pandas.pydata.org/pandas-docs/stable/10min.html\n",
    "Check the website on the library here : https://pandas.pydata.org. You can also find documentation in this website.\n",
    "\n",
    "This is also a good <a href=\"https://www.datacamp.com/community/tutorials/pandas-tutorial-dataframe-python?utm_source=adwords_ppc&utm_campaignid=898687156&utm_adgroupid=48947256715&utm_device=c&utm_keyword=&utm_matchtype=b&utm_network=g&utm_adpostion=1t1&utm_creative=229765585183&utm_targetid=dsa-473406573835&utm_loc_interest_ms=&utm_loc_physical_ms=9056017&gclid=Cj0KCQjwh8jrBRDQARIsAH7BsXcYZ9E60iAAQ9t8VhRS_TyfOtaM571VNV8EGKby9wgj9An4b1SZepgaAioSEALw_wcB\"> tutorial on Pandas </a>\n",
    "    \n",
    "\n",
    "Let's start to work with pandas, to make analysis of this data easier.  Our convention is to import as \"pd\":"
   ]
  },
  {
   "cell_type": "code",
   "execution_count": 1,
   "metadata": {
    "deletable": false,
    "editable": false,
    "nbgrader": {
     "checksum": "87c30e6b5bab913b3c98c5589a7f1954",
     "grade": false,
     "grade_id": "cell-f5effdbf2e611c88",
     "locked": true,
     "schema_version": 1,
     "solution": false
    }
   },
   "outputs": [],
   "source": [
    "import pandas as pd\n",
    "\n",
    "# numpy is a library very useful in Python for numerical stuff\n",
    "import numpy as np\n",
    "\n",
    "# two librairies for plotting\n",
    "import matplotlib.pyplot as plt\n",
    "import seaborn \n",
    "%matplotlib inline"
   ]
  },
  {
   "cell_type": "markdown",
   "metadata": {
    "deletable": false,
    "editable": false,
    "nbgrader": {
     "checksum": "9670ed9fd6b582fbfb31122c9307f13a",
     "grade": false,
     "grade_id": "cell-ab43c36c5e154aee",
     "locked": true,
     "schema_version": 1,
     "solution": false
    }
   },
   "source": [
    "## Reading/Writing files<a name=\"1. Reading/Writing files\"></a>\n",
    "### Reading<a name=\"1.1 Reading\"></a>"
   ]
  },
  {
   "cell_type": "markdown",
   "metadata": {
    "deletable": false,
    "editable": false,
    "nbgrader": {
     "checksum": "b1dd501e70c50c4eb70eaaea91ae5a67",
     "grade": false,
     "grade_id": "cell-5197614425d00fff",
     "locked": true,
     "schema_version": 1,
     "solution": false
    }
   },
   "source": [
    "In this notebook we are going to use two different datasets : one with more 'qualitative' information and one with 'quantitative' info. "
   ]
  },
  {
   "cell_type": "code",
   "execution_count": 2,
   "metadata": {
    "deletable": false,
    "editable": false,
    "nbgrader": {
     "checksum": "fee152e8a84359706de2107b2b0bb8af",
     "grade": false,
     "grade_id": "cell-a1f24a729b7a5134",
     "locked": true,
     "schema_version": 1,
     "solution": false
    }
   },
   "outputs": [
    {
     "name": "stderr",
     "output_type": "stream",
     "text": [
      "C:\\Users\\konst\\anaconda3\\lib\\site-packages\\IPython\\core\\interactiveshell.py:3146: DtypeWarning: Columns (8) have mixed types.Specify dtype option on import or set low_memory=False.\n",
      "  has_raised = await self.run_ast_nodes(code_ast.body, cell_name,\n"
     ]
    }
   ],
   "source": [
    "# Pandas has built-in tools to read files, including csv and excel.\n",
    "complaints = pd.read_csv('data/311-service-requests.csv')\n",
    "bikes = pd.read_csv('data/bikes.csv', sep=';', encoding='latin1', parse_dates=['Date'], dayfirst=True, low_memory=False)"
   ]
  },
  {
   "cell_type": "markdown",
   "metadata": {
    "deletable": false,
    "editable": false,
    "nbgrader": {
     "checksum": "9e1b8976ab22312e97375b4b6a868897",
     "grade": false,
     "grade_id": "cell-a7c6c69a8def5f42",
     "locked": true,
     "schema_version": 1,
     "solution": false
    }
   },
   "source": [
    "Depending on your pandas version, you might see an error like \"DtypeWarning: Columns (8) have mixed types\". This means that it's encountered a problem reading in our data. In this case it almost certainly means that it has columns where some of the entries are strings and some are NaN which are recognized as float by the funciton. \n",
    "\n",
    "For now we're going to ignore it and hope we don't run into a problem, but in the long run we'd need to investigate this warning.\n",
    "\n"
   ]
  },
  {
   "cell_type": "code",
   "execution_count": 3,
   "metadata": {
    "deletable": false,
    "editable": false,
    "nbgrader": {
     "checksum": "bae00563ad615e941a23c5b25e2d6604",
     "grade": false,
     "grade_id": "cell-7d9616d9d884122e",
     "locked": true,
     "schema_version": 1,
     "solution": false
    }
   },
   "outputs": [
    {
     "data": {
      "text/html": [
       "<div>\n",
       "<style scoped>\n",
       "    .dataframe tbody tr th:only-of-type {\n",
       "        vertical-align: middle;\n",
       "    }\n",
       "\n",
       "    .dataframe tbody tr th {\n",
       "        vertical-align: top;\n",
       "    }\n",
       "\n",
       "    .dataframe thead th {\n",
       "        text-align: right;\n",
       "    }\n",
       "</style>\n",
       "<table border=\"1\" class=\"dataframe\">\n",
       "  <thead>\n",
       "    <tr style=\"text-align: right;\">\n",
       "      <th></th>\n",
       "      <th>Unique Key</th>\n",
       "      <th>Created Date</th>\n",
       "      <th>Closed Date</th>\n",
       "      <th>Agency</th>\n",
       "      <th>Agency Name</th>\n",
       "      <th>Complaint Type</th>\n",
       "      <th>Descriptor</th>\n",
       "      <th>Location Type</th>\n",
       "      <th>Incident Zip</th>\n",
       "      <th>Incident Address</th>\n",
       "      <th>...</th>\n",
       "      <th>Bridge Highway Name</th>\n",
       "      <th>Bridge Highway Direction</th>\n",
       "      <th>Road Ramp</th>\n",
       "      <th>Bridge Highway Segment</th>\n",
       "      <th>Garage Lot Name</th>\n",
       "      <th>Ferry Direction</th>\n",
       "      <th>Ferry Terminal Name</th>\n",
       "      <th>Latitude</th>\n",
       "      <th>Longitude</th>\n",
       "      <th>Location</th>\n",
       "    </tr>\n",
       "  </thead>\n",
       "  <tbody>\n",
       "    <tr>\n",
       "      <th>0</th>\n",
       "      <td>26589651</td>\n",
       "      <td>10/31/2013 02:08:41 AM</td>\n",
       "      <td>NaN</td>\n",
       "      <td>NYPD</td>\n",
       "      <td>New York City Police Department</td>\n",
       "      <td>Noise - Street/Sidewalk</td>\n",
       "      <td>Loud Talking</td>\n",
       "      <td>Street/Sidewalk</td>\n",
       "      <td>11432</td>\n",
       "      <td>90-03 169 STREET</td>\n",
       "      <td>...</td>\n",
       "      <td>NaN</td>\n",
       "      <td>NaN</td>\n",
       "      <td>NaN</td>\n",
       "      <td>NaN</td>\n",
       "      <td>NaN</td>\n",
       "      <td>NaN</td>\n",
       "      <td>NaN</td>\n",
       "      <td>40.708275</td>\n",
       "      <td>-73.791604</td>\n",
       "      <td>(40.70827532593202, -73.79160395779721)</td>\n",
       "    </tr>\n",
       "    <tr>\n",
       "      <th>1</th>\n",
       "      <td>26593698</td>\n",
       "      <td>10/31/2013 02:01:04 AM</td>\n",
       "      <td>NaN</td>\n",
       "      <td>NYPD</td>\n",
       "      <td>New York City Police Department</td>\n",
       "      <td>Illegal Parking</td>\n",
       "      <td>Commercial Overnight Parking</td>\n",
       "      <td>Street/Sidewalk</td>\n",
       "      <td>11378</td>\n",
       "      <td>58 AVENUE</td>\n",
       "      <td>...</td>\n",
       "      <td>NaN</td>\n",
       "      <td>NaN</td>\n",
       "      <td>NaN</td>\n",
       "      <td>NaN</td>\n",
       "      <td>NaN</td>\n",
       "      <td>NaN</td>\n",
       "      <td>NaN</td>\n",
       "      <td>40.721041</td>\n",
       "      <td>-73.909453</td>\n",
       "      <td>(40.721040535628305, -73.90945306791765)</td>\n",
       "    </tr>\n",
       "    <tr>\n",
       "      <th>2</th>\n",
       "      <td>26594139</td>\n",
       "      <td>10/31/2013 02:00:24 AM</td>\n",
       "      <td>10/31/2013 02:40:32 AM</td>\n",
       "      <td>NYPD</td>\n",
       "      <td>New York City Police Department</td>\n",
       "      <td>Noise - Commercial</td>\n",
       "      <td>Loud Music/Party</td>\n",
       "      <td>Club/Bar/Restaurant</td>\n",
       "      <td>10032</td>\n",
       "      <td>4060 BROADWAY</td>\n",
       "      <td>...</td>\n",
       "      <td>NaN</td>\n",
       "      <td>NaN</td>\n",
       "      <td>NaN</td>\n",
       "      <td>NaN</td>\n",
       "      <td>NaN</td>\n",
       "      <td>NaN</td>\n",
       "      <td>NaN</td>\n",
       "      <td>40.843330</td>\n",
       "      <td>-73.939144</td>\n",
       "      <td>(40.84332975466513, -73.93914371913482)</td>\n",
       "    </tr>\n",
       "    <tr>\n",
       "      <th>3</th>\n",
       "      <td>26595721</td>\n",
       "      <td>10/31/2013 01:56:23 AM</td>\n",
       "      <td>10/31/2013 02:21:48 AM</td>\n",
       "      <td>NYPD</td>\n",
       "      <td>New York City Police Department</td>\n",
       "      <td>Noise - Vehicle</td>\n",
       "      <td>Car/Truck Horn</td>\n",
       "      <td>Street/Sidewalk</td>\n",
       "      <td>10023</td>\n",
       "      <td>WEST 72 STREET</td>\n",
       "      <td>...</td>\n",
       "      <td>NaN</td>\n",
       "      <td>NaN</td>\n",
       "      <td>NaN</td>\n",
       "      <td>NaN</td>\n",
       "      <td>NaN</td>\n",
       "      <td>NaN</td>\n",
       "      <td>NaN</td>\n",
       "      <td>40.778009</td>\n",
       "      <td>-73.980213</td>\n",
       "      <td>(40.7780087446372, -73.98021349023975)</td>\n",
       "    </tr>\n",
       "    <tr>\n",
       "      <th>4</th>\n",
       "      <td>26590930</td>\n",
       "      <td>10/31/2013 01:53:44 AM</td>\n",
       "      <td>NaN</td>\n",
       "      <td>DOHMH</td>\n",
       "      <td>Department of Health and Mental Hygiene</td>\n",
       "      <td>Rodent</td>\n",
       "      <td>Condition Attracting Rodents</td>\n",
       "      <td>Vacant Lot</td>\n",
       "      <td>10027</td>\n",
       "      <td>WEST 124 STREET</td>\n",
       "      <td>...</td>\n",
       "      <td>NaN</td>\n",
       "      <td>NaN</td>\n",
       "      <td>NaN</td>\n",
       "      <td>NaN</td>\n",
       "      <td>NaN</td>\n",
       "      <td>NaN</td>\n",
       "      <td>NaN</td>\n",
       "      <td>40.807691</td>\n",
       "      <td>-73.947387</td>\n",
       "      <td>(40.80769092704951, -73.94738703491433)</td>\n",
       "    </tr>\n",
       "    <tr>\n",
       "      <th>...</th>\n",
       "      <td>...</td>\n",
       "      <td>...</td>\n",
       "      <td>...</td>\n",
       "      <td>...</td>\n",
       "      <td>...</td>\n",
       "      <td>...</td>\n",
       "      <td>...</td>\n",
       "      <td>...</td>\n",
       "      <td>...</td>\n",
       "      <td>...</td>\n",
       "      <td>...</td>\n",
       "      <td>...</td>\n",
       "      <td>...</td>\n",
       "      <td>...</td>\n",
       "      <td>...</td>\n",
       "      <td>...</td>\n",
       "      <td>...</td>\n",
       "      <td>...</td>\n",
       "      <td>...</td>\n",
       "      <td>...</td>\n",
       "      <td>...</td>\n",
       "    </tr>\n",
       "    <tr>\n",
       "      <th>111064</th>\n",
       "      <td>26426013</td>\n",
       "      <td>10/04/2013 12:01:13 AM</td>\n",
       "      <td>10/07/2013 04:07:16 PM</td>\n",
       "      <td>DPR</td>\n",
       "      <td>Department of Parks and Recreation</td>\n",
       "      <td>Maintenance or Facility</td>\n",
       "      <td>Structure - Outdoors</td>\n",
       "      <td>Park</td>\n",
       "      <td>11213</td>\n",
       "      <td>NaN</td>\n",
       "      <td>...</td>\n",
       "      <td>NaN</td>\n",
       "      <td>NaN</td>\n",
       "      <td>NaN</td>\n",
       "      <td>NaN</td>\n",
       "      <td>NaN</td>\n",
       "      <td>NaN</td>\n",
       "      <td>NaN</td>\n",
       "      <td>NaN</td>\n",
       "      <td>NaN</td>\n",
       "      <td>NaN</td>\n",
       "    </tr>\n",
       "    <tr>\n",
       "      <th>111065</th>\n",
       "      <td>26428083</td>\n",
       "      <td>10/04/2013 12:01:05 AM</td>\n",
       "      <td>10/04/2013 02:13:50 AM</td>\n",
       "      <td>NYPD</td>\n",
       "      <td>New York City Police Department</td>\n",
       "      <td>Illegal Parking</td>\n",
       "      <td>Posted Parking Sign Violation</td>\n",
       "      <td>Street/Sidewalk</td>\n",
       "      <td>11434</td>\n",
       "      <td>NaN</td>\n",
       "      <td>...</td>\n",
       "      <td>NaN</td>\n",
       "      <td>NaN</td>\n",
       "      <td>NaN</td>\n",
       "      <td>NaN</td>\n",
       "      <td>NaN</td>\n",
       "      <td>NaN</td>\n",
       "      <td>NaN</td>\n",
       "      <td>40.656160</td>\n",
       "      <td>-73.767353</td>\n",
       "      <td>(40.656160351546845, -73.76735262738222)</td>\n",
       "    </tr>\n",
       "    <tr>\n",
       "      <th>111066</th>\n",
       "      <td>26428987</td>\n",
       "      <td>10/04/2013 12:00:45 AM</td>\n",
       "      <td>10/04/2013 01:25:01 AM</td>\n",
       "      <td>NYPD</td>\n",
       "      <td>New York City Police Department</td>\n",
       "      <td>Noise - Street/Sidewalk</td>\n",
       "      <td>Loud Talking</td>\n",
       "      <td>Street/Sidewalk</td>\n",
       "      <td>10016</td>\n",
       "      <td>344 EAST 28 STREET</td>\n",
       "      <td>...</td>\n",
       "      <td>NaN</td>\n",
       "      <td>NaN</td>\n",
       "      <td>NaN</td>\n",
       "      <td>NaN</td>\n",
       "      <td>NaN</td>\n",
       "      <td>NaN</td>\n",
       "      <td>NaN</td>\n",
       "      <td>40.740295</td>\n",
       "      <td>-73.976952</td>\n",
       "      <td>(40.740295354643706, -73.97695165980414)</td>\n",
       "    </tr>\n",
       "    <tr>\n",
       "      <th>111067</th>\n",
       "      <td>26426115</td>\n",
       "      <td>10/04/2013 12:00:28 AM</td>\n",
       "      <td>10/04/2013 04:17:32 AM</td>\n",
       "      <td>NYPD</td>\n",
       "      <td>New York City Police Department</td>\n",
       "      <td>Noise - Commercial</td>\n",
       "      <td>Loud Talking</td>\n",
       "      <td>Club/Bar/Restaurant</td>\n",
       "      <td>11226</td>\n",
       "      <td>1233 FLATBUSH AVENUE</td>\n",
       "      <td>...</td>\n",
       "      <td>NaN</td>\n",
       "      <td>NaN</td>\n",
       "      <td>NaN</td>\n",
       "      <td>NaN</td>\n",
       "      <td>NaN</td>\n",
       "      <td>NaN</td>\n",
       "      <td>NaN</td>\n",
       "      <td>40.640182</td>\n",
       "      <td>-73.955306</td>\n",
       "      <td>(40.64018174662485, -73.95530566958138)</td>\n",
       "    </tr>\n",
       "    <tr>\n",
       "      <th>111068</th>\n",
       "      <td>26428033</td>\n",
       "      <td>10/04/2013 12:00:10 AM</td>\n",
       "      <td>10/04/2013 01:20:52 AM</td>\n",
       "      <td>NYPD</td>\n",
       "      <td>New York City Police Department</td>\n",
       "      <td>Blocked Driveway</td>\n",
       "      <td>Partial Access</td>\n",
       "      <td>Street/Sidewalk</td>\n",
       "      <td>11236</td>\n",
       "      <td>1259 EAST 94 STREET</td>\n",
       "      <td>...</td>\n",
       "      <td>NaN</td>\n",
       "      <td>NaN</td>\n",
       "      <td>NaN</td>\n",
       "      <td>NaN</td>\n",
       "      <td>NaN</td>\n",
       "      <td>NaN</td>\n",
       "      <td>NaN</td>\n",
       "      <td>40.640024</td>\n",
       "      <td>-73.900717</td>\n",
       "      <td>(40.640024057399216, -73.90071711703163)</td>\n",
       "    </tr>\n",
       "  </tbody>\n",
       "</table>\n",
       "<p>111069 rows × 52 columns</p>\n",
       "</div>"
      ],
      "text/plain": [
       "        Unique Key            Created Date             Closed Date Agency  \\\n",
       "0         26589651  10/31/2013 02:08:41 AM                     NaN   NYPD   \n",
       "1         26593698  10/31/2013 02:01:04 AM                     NaN   NYPD   \n",
       "2         26594139  10/31/2013 02:00:24 AM  10/31/2013 02:40:32 AM   NYPD   \n",
       "3         26595721  10/31/2013 01:56:23 AM  10/31/2013 02:21:48 AM   NYPD   \n",
       "4         26590930  10/31/2013 01:53:44 AM                     NaN  DOHMH   \n",
       "...            ...                     ...                     ...    ...   \n",
       "111064    26426013  10/04/2013 12:01:13 AM  10/07/2013 04:07:16 PM    DPR   \n",
       "111065    26428083  10/04/2013 12:01:05 AM  10/04/2013 02:13:50 AM   NYPD   \n",
       "111066    26428987  10/04/2013 12:00:45 AM  10/04/2013 01:25:01 AM   NYPD   \n",
       "111067    26426115  10/04/2013 12:00:28 AM  10/04/2013 04:17:32 AM   NYPD   \n",
       "111068    26428033  10/04/2013 12:00:10 AM  10/04/2013 01:20:52 AM   NYPD   \n",
       "\n",
       "                                    Agency Name           Complaint Type  \\\n",
       "0               New York City Police Department  Noise - Street/Sidewalk   \n",
       "1               New York City Police Department          Illegal Parking   \n",
       "2               New York City Police Department       Noise - Commercial   \n",
       "3               New York City Police Department          Noise - Vehicle   \n",
       "4       Department of Health and Mental Hygiene                   Rodent   \n",
       "...                                         ...                      ...   \n",
       "111064       Department of Parks and Recreation  Maintenance or Facility   \n",
       "111065          New York City Police Department          Illegal Parking   \n",
       "111066          New York City Police Department  Noise - Street/Sidewalk   \n",
       "111067          New York City Police Department       Noise - Commercial   \n",
       "111068          New York City Police Department         Blocked Driveway   \n",
       "\n",
       "                           Descriptor        Location Type Incident Zip  \\\n",
       "0                        Loud Talking      Street/Sidewalk        11432   \n",
       "1        Commercial Overnight Parking      Street/Sidewalk        11378   \n",
       "2                    Loud Music/Party  Club/Bar/Restaurant        10032   \n",
       "3                      Car/Truck Horn      Street/Sidewalk        10023   \n",
       "4        Condition Attracting Rodents           Vacant Lot        10027   \n",
       "...                               ...                  ...          ...   \n",
       "111064           Structure - Outdoors                 Park        11213   \n",
       "111065  Posted Parking Sign Violation      Street/Sidewalk        11434   \n",
       "111066                   Loud Talking      Street/Sidewalk        10016   \n",
       "111067                   Loud Talking  Club/Bar/Restaurant        11226   \n",
       "111068                 Partial Access      Street/Sidewalk        11236   \n",
       "\n",
       "            Incident Address  ... Bridge Highway Name  \\\n",
       "0           90-03 169 STREET  ...                 NaN   \n",
       "1                  58 AVENUE  ...                 NaN   \n",
       "2              4060 BROADWAY  ...                 NaN   \n",
       "3             WEST 72 STREET  ...                 NaN   \n",
       "4            WEST 124 STREET  ...                 NaN   \n",
       "...                      ...  ...                 ...   \n",
       "111064                   NaN  ...                 NaN   \n",
       "111065                   NaN  ...                 NaN   \n",
       "111066    344 EAST 28 STREET  ...                 NaN   \n",
       "111067  1233 FLATBUSH AVENUE  ...                 NaN   \n",
       "111068   1259 EAST 94 STREET  ...                 NaN   \n",
       "\n",
       "       Bridge Highway Direction Road Ramp Bridge Highway Segment  \\\n",
       "0                           NaN       NaN                    NaN   \n",
       "1                           NaN       NaN                    NaN   \n",
       "2                           NaN       NaN                    NaN   \n",
       "3                           NaN       NaN                    NaN   \n",
       "4                           NaN       NaN                    NaN   \n",
       "...                         ...       ...                    ...   \n",
       "111064                      NaN       NaN                    NaN   \n",
       "111065                      NaN       NaN                    NaN   \n",
       "111066                      NaN       NaN                    NaN   \n",
       "111067                      NaN       NaN                    NaN   \n",
       "111068                      NaN       NaN                    NaN   \n",
       "\n",
       "       Garage Lot Name Ferry Direction Ferry Terminal Name   Latitude  \\\n",
       "0                  NaN             NaN                 NaN  40.708275   \n",
       "1                  NaN             NaN                 NaN  40.721041   \n",
       "2                  NaN             NaN                 NaN  40.843330   \n",
       "3                  NaN             NaN                 NaN  40.778009   \n",
       "4                  NaN             NaN                 NaN  40.807691   \n",
       "...                ...             ...                 ...        ...   \n",
       "111064             NaN             NaN                 NaN        NaN   \n",
       "111065             NaN             NaN                 NaN  40.656160   \n",
       "111066             NaN             NaN                 NaN  40.740295   \n",
       "111067             NaN             NaN                 NaN  40.640182   \n",
       "111068             NaN             NaN                 NaN  40.640024   \n",
       "\n",
       "        Longitude                                  Location  \n",
       "0      -73.791604   (40.70827532593202, -73.79160395779721)  \n",
       "1      -73.909453  (40.721040535628305, -73.90945306791765)  \n",
       "2      -73.939144   (40.84332975466513, -73.93914371913482)  \n",
       "3      -73.980213    (40.7780087446372, -73.98021349023975)  \n",
       "4      -73.947387   (40.80769092704951, -73.94738703491433)  \n",
       "...           ...                                       ...  \n",
       "111064        NaN                                       NaN  \n",
       "111065 -73.767353  (40.656160351546845, -73.76735262738222)  \n",
       "111066 -73.976952  (40.740295354643706, -73.97695165980414)  \n",
       "111067 -73.955306   (40.64018174662485, -73.95530566958138)  \n",
       "111068 -73.900717  (40.640024057399216, -73.90071711703163)  \n",
       "\n",
       "[111069 rows x 52 columns]"
      ]
     },
     "execution_count": 3,
     "metadata": {},
     "output_type": "execute_result"
    }
   ],
   "source": [
    "complaints\n",
    "#bikes"
   ]
  },
  {
   "cell_type": "markdown",
   "metadata": {
    "deletable": false,
    "editable": false,
    "nbgrader": {
     "checksum": "ceab232ddcd641f593b11ab03e6dff95",
     "grade": false,
     "grade_id": "cell-b8c72246b2110dd3",
     "locked": true,
     "schema_version": 1,
     "solution": false
    }
   },
   "source": [
    "Check the type of the data and see for yourself"
   ]
  },
  {
   "cell_type": "code",
   "execution_count": 4,
   "metadata": {
    "deletable": false,
    "editable": false,
    "nbgrader": {
     "checksum": "b7a3cf77bc462d04acbd0c20be8e0269",
     "grade": false,
     "grade_id": "cell-aa9e7809c2169eea",
     "locked": true,
     "schema_version": 1,
     "solution": false
    }
   },
   "outputs": [
    {
     "data": {
      "text/plain": [
       "pandas.core.frame.DataFrame"
      ]
     },
     "execution_count": 4,
     "metadata": {},
     "output_type": "execute_result"
    }
   ],
   "source": [
    "# type of the results\n",
    "type(complaints)"
   ]
  },
  {
   "cell_type": "markdown",
   "metadata": {
    "deletable": false,
    "editable": false,
    "nbgrader": {
     "checksum": "422add8349aaa35405a42b4601a5b750",
     "grade": false,
     "grade_id": "cell-beaafd0eef44ad58",
     "locked": true,
     "schema_version": 1,
     "solution": false
    }
   },
   "source": [
    "** The function returns a DataFrame which is an object with a lot of things defined on it **\n",
    "\n",
    "### Writing<a name=\"1.2 Writing\"></a>\n",
    "\n",
    "*We can also save out a csv file from pandas in a simple way*\n"
   ]
  },
  {
   "cell_type": "code",
   "execution_count": 5,
   "metadata": {
    "deletable": false,
    "editable": false,
    "nbgrader": {
     "checksum": "43ae427bb5b426778e027b3ab7c5af04",
     "grade": false,
     "grade_id": "cell-191dde5f89f76f2e",
     "locked": true,
     "schema_version": 1,
     "solution": false
    }
   },
   "outputs": [],
   "source": [
    "complaints.to_csv(\"data/saved_complaints.csv\")"
   ]
  },
  {
   "cell_type": "markdown",
   "metadata": {
    "deletable": false,
    "editable": false,
    "nbgrader": {
     "checksum": "3a09c29814a3617b204753fe787a6ff7",
     "grade": false,
     "grade_id": "cell-e9774311dcf976e1",
     "locked": true,
     "schema_version": 1,
     "solution": false
    }
   },
   "source": [
    "*What if we only wanted some of the columns? We can pick which ones to write out*\n"
   ]
  },
  {
   "cell_type": "code",
   "execution_count": 6,
   "metadata": {
    "deletable": false,
    "editable": false,
    "nbgrader": {
     "checksum": "3318c6bd422f079456bd72f0f8614fad",
     "grade": false,
     "grade_id": "cell-9dcdb851fa9ec93b",
     "locked": true,
     "schema_version": 1,
     "solution": false
    }
   },
   "outputs": [],
   "source": [
    "complaints.to_csv(\"data/saved_complaints2.csv\", columns=[\"Created Date\", \"Closed Date\"])"
   ]
  },
  {
   "cell_type": "markdown",
   "metadata": {
    "deletable": false,
    "editable": false,
    "nbgrader": {
     "checksum": "1987cb4fe4b8c247f03a30d8d4361144",
     "grade": false,
     "grade_id": "cell-5b021a421e990a9a",
     "locked": true,
     "schema_version": 1,
     "solution": false
    }
   },
   "source": [
    "*If you don't want the extra index row with the rownumber and no header, you can prevent that from being saved by saying \"index=None\" and \"header = None)*\n"
   ]
  },
  {
   "cell_type": "code",
   "execution_count": 7,
   "metadata": {
    "deletable": false,
    "editable": false,
    "nbgrader": {
     "checksum": "137c9ccd62e90a722a5408479da7d457",
     "grade": false,
     "grade_id": "cell-b58f43a5b0085ef2",
     "locked": true,
     "schema_version": 1,
     "solution": false
    }
   },
   "outputs": [],
   "source": [
    "complaints.to_csv(\"data/saved_complaints3.csv\", columns=[\"Created Date\", \"Closed Date\"], index=None, header=None)"
   ]
  },
  {
   "cell_type": "markdown",
   "metadata": {
    "deletable": false,
    "editable": false,
    "nbgrader": {
     "checksum": "08c029bed921a12df9c05f68cc8a54c5",
     "grade": false,
     "grade_id": "cell-112fc951265662cb",
     "locked": true,
     "schema_version": 1,
     "solution": false
    }
   },
   "source": [
    "## Viewing Data<a name=\"2. Viewing Data\"></a>\n",
    "### See the top & bottom rows of the frame<a name=\"2.1. See the top & bottom rows of the frame\"></a>\n",
    "\n",
    "This command shows us the result of the operation, with the top 5 rows of the table. You can specify the number of rows you want to show inside the brackets."
   ]
  },
  {
   "cell_type": "code",
   "execution_count": 8,
   "metadata": {
    "deletable": false,
    "editable": false,
    "nbgrader": {
     "checksum": "bf23cf3ce51436d2dacfe67e1885045b",
     "grade": false,
     "grade_id": "cell-537258a1e6ff5b58",
     "locked": true,
     "schema_version": 1,
     "solution": false
    }
   },
   "outputs": [
    {
     "data": {
      "text/html": [
       "<div>\n",
       "<style scoped>\n",
       "    .dataframe tbody tr th:only-of-type {\n",
       "        vertical-align: middle;\n",
       "    }\n",
       "\n",
       "    .dataframe tbody tr th {\n",
       "        vertical-align: top;\n",
       "    }\n",
       "\n",
       "    .dataframe thead th {\n",
       "        text-align: right;\n",
       "    }\n",
       "</style>\n",
       "<table border=\"1\" class=\"dataframe\">\n",
       "  <thead>\n",
       "    <tr style=\"text-align: right;\">\n",
       "      <th></th>\n",
       "      <th>Unique Key</th>\n",
       "      <th>Created Date</th>\n",
       "      <th>Closed Date</th>\n",
       "      <th>Agency</th>\n",
       "      <th>Agency Name</th>\n",
       "      <th>Complaint Type</th>\n",
       "      <th>Descriptor</th>\n",
       "      <th>Location Type</th>\n",
       "      <th>Incident Zip</th>\n",
       "      <th>Incident Address</th>\n",
       "      <th>...</th>\n",
       "      <th>Bridge Highway Name</th>\n",
       "      <th>Bridge Highway Direction</th>\n",
       "      <th>Road Ramp</th>\n",
       "      <th>Bridge Highway Segment</th>\n",
       "      <th>Garage Lot Name</th>\n",
       "      <th>Ferry Direction</th>\n",
       "      <th>Ferry Terminal Name</th>\n",
       "      <th>Latitude</th>\n",
       "      <th>Longitude</th>\n",
       "      <th>Location</th>\n",
       "    </tr>\n",
       "  </thead>\n",
       "  <tbody>\n",
       "    <tr>\n",
       "      <th>0</th>\n",
       "      <td>26589651</td>\n",
       "      <td>10/31/2013 02:08:41 AM</td>\n",
       "      <td>NaN</td>\n",
       "      <td>NYPD</td>\n",
       "      <td>New York City Police Department</td>\n",
       "      <td>Noise - Street/Sidewalk</td>\n",
       "      <td>Loud Talking</td>\n",
       "      <td>Street/Sidewalk</td>\n",
       "      <td>11432</td>\n",
       "      <td>90-03 169 STREET</td>\n",
       "      <td>...</td>\n",
       "      <td>NaN</td>\n",
       "      <td>NaN</td>\n",
       "      <td>NaN</td>\n",
       "      <td>NaN</td>\n",
       "      <td>NaN</td>\n",
       "      <td>NaN</td>\n",
       "      <td>NaN</td>\n",
       "      <td>40.708275</td>\n",
       "      <td>-73.791604</td>\n",
       "      <td>(40.70827532593202, -73.79160395779721)</td>\n",
       "    </tr>\n",
       "    <tr>\n",
       "      <th>1</th>\n",
       "      <td>26593698</td>\n",
       "      <td>10/31/2013 02:01:04 AM</td>\n",
       "      <td>NaN</td>\n",
       "      <td>NYPD</td>\n",
       "      <td>New York City Police Department</td>\n",
       "      <td>Illegal Parking</td>\n",
       "      <td>Commercial Overnight Parking</td>\n",
       "      <td>Street/Sidewalk</td>\n",
       "      <td>11378</td>\n",
       "      <td>58 AVENUE</td>\n",
       "      <td>...</td>\n",
       "      <td>NaN</td>\n",
       "      <td>NaN</td>\n",
       "      <td>NaN</td>\n",
       "      <td>NaN</td>\n",
       "      <td>NaN</td>\n",
       "      <td>NaN</td>\n",
       "      <td>NaN</td>\n",
       "      <td>40.721041</td>\n",
       "      <td>-73.909453</td>\n",
       "      <td>(40.721040535628305, -73.90945306791765)</td>\n",
       "    </tr>\n",
       "    <tr>\n",
       "      <th>2</th>\n",
       "      <td>26594139</td>\n",
       "      <td>10/31/2013 02:00:24 AM</td>\n",
       "      <td>10/31/2013 02:40:32 AM</td>\n",
       "      <td>NYPD</td>\n",
       "      <td>New York City Police Department</td>\n",
       "      <td>Noise - Commercial</td>\n",
       "      <td>Loud Music/Party</td>\n",
       "      <td>Club/Bar/Restaurant</td>\n",
       "      <td>10032</td>\n",
       "      <td>4060 BROADWAY</td>\n",
       "      <td>...</td>\n",
       "      <td>NaN</td>\n",
       "      <td>NaN</td>\n",
       "      <td>NaN</td>\n",
       "      <td>NaN</td>\n",
       "      <td>NaN</td>\n",
       "      <td>NaN</td>\n",
       "      <td>NaN</td>\n",
       "      <td>40.843330</td>\n",
       "      <td>-73.939144</td>\n",
       "      <td>(40.84332975466513, -73.93914371913482)</td>\n",
       "    </tr>\n",
       "  </tbody>\n",
       "</table>\n",
       "<p>3 rows × 52 columns</p>\n",
       "</div>"
      ],
      "text/plain": [
       "   Unique Key            Created Date             Closed Date Agency  \\\n",
       "0    26589651  10/31/2013 02:08:41 AM                     NaN   NYPD   \n",
       "1    26593698  10/31/2013 02:01:04 AM                     NaN   NYPD   \n",
       "2    26594139  10/31/2013 02:00:24 AM  10/31/2013 02:40:32 AM   NYPD   \n",
       "\n",
       "                       Agency Name           Complaint Type  \\\n",
       "0  New York City Police Department  Noise - Street/Sidewalk   \n",
       "1  New York City Police Department          Illegal Parking   \n",
       "2  New York City Police Department       Noise - Commercial   \n",
       "\n",
       "                     Descriptor        Location Type Incident Zip  \\\n",
       "0                  Loud Talking      Street/Sidewalk        11432   \n",
       "1  Commercial Overnight Parking      Street/Sidewalk        11378   \n",
       "2              Loud Music/Party  Club/Bar/Restaurant        10032   \n",
       "\n",
       "   Incident Address  ... Bridge Highway Name Bridge Highway Direction  \\\n",
       "0  90-03 169 STREET  ...                 NaN                      NaN   \n",
       "1         58 AVENUE  ...                 NaN                      NaN   \n",
       "2     4060 BROADWAY  ...                 NaN                      NaN   \n",
       "\n",
       "  Road Ramp Bridge Highway Segment Garage Lot Name Ferry Direction  \\\n",
       "0       NaN                    NaN             NaN             NaN   \n",
       "1       NaN                    NaN             NaN             NaN   \n",
       "2       NaN                    NaN             NaN             NaN   \n",
       "\n",
       "  Ferry Terminal Name   Latitude  Longitude  \\\n",
       "0                 NaN  40.708275 -73.791604   \n",
       "1                 NaN  40.721041 -73.909453   \n",
       "2                 NaN  40.843330 -73.939144   \n",
       "\n",
       "                                   Location  \n",
       "0   (40.70827532593202, -73.79160395779721)  \n",
       "1  (40.721040535628305, -73.90945306791765)  \n",
       "2   (40.84332975466513, -73.93914371913482)  \n",
       "\n",
       "[3 rows x 52 columns]"
      ]
     },
     "execution_count": 8,
     "metadata": {},
     "output_type": "execute_result"
    }
   ],
   "source": [
    "complaints.head(3)  \n",
    "#bikes.head()"
   ]
  },
  {
   "cell_type": "markdown",
   "metadata": {
    "deletable": false,
    "editable": false,
    "nbgrader": {
     "checksum": "ca737ccb0414de5474d6adee05714acb",
     "grade": false,
     "grade_id": "cell-abded95dfa0f5f0a",
     "locked": true,
     "schema_version": 1,
     "solution": false
    }
   },
   "source": [
    "To show the bottomm rows: "
   ]
  },
  {
   "cell_type": "code",
   "execution_count": 9,
   "metadata": {
    "deletable": false,
    "editable": false,
    "nbgrader": {
     "checksum": "44116f05f56ebf0f12d51658411b39eb",
     "grade": false,
     "grade_id": "cell-1f8944c2aa7010a2",
     "locked": true,
     "schema_version": 1,
     "solution": false
    }
   },
   "outputs": [
    {
     "data": {
      "text/html": [
       "<div>\n",
       "<style scoped>\n",
       "    .dataframe tbody tr th:only-of-type {\n",
       "        vertical-align: middle;\n",
       "    }\n",
       "\n",
       "    .dataframe tbody tr th {\n",
       "        vertical-align: top;\n",
       "    }\n",
       "\n",
       "    .dataframe thead th {\n",
       "        text-align: right;\n",
       "    }\n",
       "</style>\n",
       "<table border=\"1\" class=\"dataframe\">\n",
       "  <thead>\n",
       "    <tr style=\"text-align: right;\">\n",
       "      <th></th>\n",
       "      <th>Unique Key</th>\n",
       "      <th>Created Date</th>\n",
       "      <th>Closed Date</th>\n",
       "      <th>Agency</th>\n",
       "      <th>Agency Name</th>\n",
       "      <th>Complaint Type</th>\n",
       "      <th>Descriptor</th>\n",
       "      <th>Location Type</th>\n",
       "      <th>Incident Zip</th>\n",
       "      <th>Incident Address</th>\n",
       "      <th>...</th>\n",
       "      <th>Bridge Highway Name</th>\n",
       "      <th>Bridge Highway Direction</th>\n",
       "      <th>Road Ramp</th>\n",
       "      <th>Bridge Highway Segment</th>\n",
       "      <th>Garage Lot Name</th>\n",
       "      <th>Ferry Direction</th>\n",
       "      <th>Ferry Terminal Name</th>\n",
       "      <th>Latitude</th>\n",
       "      <th>Longitude</th>\n",
       "      <th>Location</th>\n",
       "    </tr>\n",
       "  </thead>\n",
       "  <tbody>\n",
       "    <tr>\n",
       "      <th>111066</th>\n",
       "      <td>26428987</td>\n",
       "      <td>10/04/2013 12:00:45 AM</td>\n",
       "      <td>10/04/2013 01:25:01 AM</td>\n",
       "      <td>NYPD</td>\n",
       "      <td>New York City Police Department</td>\n",
       "      <td>Noise - Street/Sidewalk</td>\n",
       "      <td>Loud Talking</td>\n",
       "      <td>Street/Sidewalk</td>\n",
       "      <td>10016</td>\n",
       "      <td>344 EAST 28 STREET</td>\n",
       "      <td>...</td>\n",
       "      <td>NaN</td>\n",
       "      <td>NaN</td>\n",
       "      <td>NaN</td>\n",
       "      <td>NaN</td>\n",
       "      <td>NaN</td>\n",
       "      <td>NaN</td>\n",
       "      <td>NaN</td>\n",
       "      <td>40.740295</td>\n",
       "      <td>-73.976952</td>\n",
       "      <td>(40.740295354643706, -73.97695165980414)</td>\n",
       "    </tr>\n",
       "    <tr>\n",
       "      <th>111067</th>\n",
       "      <td>26426115</td>\n",
       "      <td>10/04/2013 12:00:28 AM</td>\n",
       "      <td>10/04/2013 04:17:32 AM</td>\n",
       "      <td>NYPD</td>\n",
       "      <td>New York City Police Department</td>\n",
       "      <td>Noise - Commercial</td>\n",
       "      <td>Loud Talking</td>\n",
       "      <td>Club/Bar/Restaurant</td>\n",
       "      <td>11226</td>\n",
       "      <td>1233 FLATBUSH AVENUE</td>\n",
       "      <td>...</td>\n",
       "      <td>NaN</td>\n",
       "      <td>NaN</td>\n",
       "      <td>NaN</td>\n",
       "      <td>NaN</td>\n",
       "      <td>NaN</td>\n",
       "      <td>NaN</td>\n",
       "      <td>NaN</td>\n",
       "      <td>40.640182</td>\n",
       "      <td>-73.955306</td>\n",
       "      <td>(40.64018174662485, -73.95530566958138)</td>\n",
       "    </tr>\n",
       "    <tr>\n",
       "      <th>111068</th>\n",
       "      <td>26428033</td>\n",
       "      <td>10/04/2013 12:00:10 AM</td>\n",
       "      <td>10/04/2013 01:20:52 AM</td>\n",
       "      <td>NYPD</td>\n",
       "      <td>New York City Police Department</td>\n",
       "      <td>Blocked Driveway</td>\n",
       "      <td>Partial Access</td>\n",
       "      <td>Street/Sidewalk</td>\n",
       "      <td>11236</td>\n",
       "      <td>1259 EAST 94 STREET</td>\n",
       "      <td>...</td>\n",
       "      <td>NaN</td>\n",
       "      <td>NaN</td>\n",
       "      <td>NaN</td>\n",
       "      <td>NaN</td>\n",
       "      <td>NaN</td>\n",
       "      <td>NaN</td>\n",
       "      <td>NaN</td>\n",
       "      <td>40.640024</td>\n",
       "      <td>-73.900717</td>\n",
       "      <td>(40.640024057399216, -73.90071711703163)</td>\n",
       "    </tr>\n",
       "  </tbody>\n",
       "</table>\n",
       "<p>3 rows × 52 columns</p>\n",
       "</div>"
      ],
      "text/plain": [
       "        Unique Key            Created Date             Closed Date Agency  \\\n",
       "111066    26428987  10/04/2013 12:00:45 AM  10/04/2013 01:25:01 AM   NYPD   \n",
       "111067    26426115  10/04/2013 12:00:28 AM  10/04/2013 04:17:32 AM   NYPD   \n",
       "111068    26428033  10/04/2013 12:00:10 AM  10/04/2013 01:20:52 AM   NYPD   \n",
       "\n",
       "                            Agency Name           Complaint Type  \\\n",
       "111066  New York City Police Department  Noise - Street/Sidewalk   \n",
       "111067  New York City Police Department       Noise - Commercial   \n",
       "111068  New York City Police Department         Blocked Driveway   \n",
       "\n",
       "            Descriptor        Location Type Incident Zip  \\\n",
       "111066    Loud Talking      Street/Sidewalk        10016   \n",
       "111067    Loud Talking  Club/Bar/Restaurant        11226   \n",
       "111068  Partial Access      Street/Sidewalk        11236   \n",
       "\n",
       "            Incident Address  ... Bridge Highway Name  \\\n",
       "111066    344 EAST 28 STREET  ...                 NaN   \n",
       "111067  1233 FLATBUSH AVENUE  ...                 NaN   \n",
       "111068   1259 EAST 94 STREET  ...                 NaN   \n",
       "\n",
       "       Bridge Highway Direction Road Ramp Bridge Highway Segment  \\\n",
       "111066                      NaN       NaN                    NaN   \n",
       "111067                      NaN       NaN                    NaN   \n",
       "111068                      NaN       NaN                    NaN   \n",
       "\n",
       "       Garage Lot Name Ferry Direction Ferry Terminal Name   Latitude  \\\n",
       "111066             NaN             NaN                 NaN  40.740295   \n",
       "111067             NaN             NaN                 NaN  40.640182   \n",
       "111068             NaN             NaN                 NaN  40.640024   \n",
       "\n",
       "        Longitude                                  Location  \n",
       "111066 -73.976952  (40.740295354643706, -73.97695165980414)  \n",
       "111067 -73.955306   (40.64018174662485, -73.95530566958138)  \n",
       "111068 -73.900717  (40.640024057399216, -73.90071711703163)  \n",
       "\n",
       "[3 rows x 52 columns]"
      ]
     },
     "execution_count": 9,
     "metadata": {},
     "output_type": "execute_result"
    }
   ],
   "source": [
    "complaints.tail(3)\n",
    "#bikes.tail()"
   ]
  },
  {
   "cell_type": "markdown",
   "metadata": {
    "deletable": false,
    "editable": false,
    "nbgrader": {
     "checksum": "91923ea38c50d917ba5367e954a3408c",
     "grade": false,
     "grade_id": "cell-3f99a24fbedeff13",
     "locked": true,
     "schema_version": 1,
     "solution": false
    }
   },
   "source": [
    "### Plotting data\n",
    "Since complaints contain many qualitative data, lets first experiment with the bikes data to experiment with plotting and visualizing."
   ]
  },
  {
   "cell_type": "code",
   "execution_count": 10,
   "metadata": {
    "deletable": false,
    "editable": false,
    "nbgrader": {
     "checksum": "592e622edccfb17ec09d1d4451032e39",
     "grade": false,
     "grade_id": "cell-8e6fc06607d7669c",
     "locked": true,
     "schema_version": 1,
     "solution": false
    }
   },
   "outputs": [
    {
     "data": {
      "text/html": [
       "<div>\n",
       "<style scoped>\n",
       "    .dataframe tbody tr th:only-of-type {\n",
       "        vertical-align: middle;\n",
       "    }\n",
       "\n",
       "    .dataframe tbody tr th {\n",
       "        vertical-align: top;\n",
       "    }\n",
       "\n",
       "    .dataframe thead th {\n",
       "        text-align: right;\n",
       "    }\n",
       "</style>\n",
       "<table border=\"1\" class=\"dataframe\">\n",
       "  <thead>\n",
       "    <tr style=\"text-align: right;\">\n",
       "      <th></th>\n",
       "      <th>Date</th>\n",
       "      <th>Berri 1</th>\n",
       "      <th>Brébeuf (données non disponibles)</th>\n",
       "      <th>Côte-Sainte-Catherine</th>\n",
       "      <th>Maisonneuve 1</th>\n",
       "      <th>Maisonneuve 2</th>\n",
       "      <th>du Parc</th>\n",
       "      <th>Pierre-Dupuy</th>\n",
       "      <th>Rachel1</th>\n",
       "      <th>St-Urbain (données non disponibles)</th>\n",
       "    </tr>\n",
       "  </thead>\n",
       "  <tbody>\n",
       "    <tr>\n",
       "      <th>0</th>\n",
       "      <td>2012-01-01</td>\n",
       "      <td>35</td>\n",
       "      <td>NaN</td>\n",
       "      <td>0</td>\n",
       "      <td>38</td>\n",
       "      <td>51</td>\n",
       "      <td>26</td>\n",
       "      <td>10</td>\n",
       "      <td>16</td>\n",
       "      <td>NaN</td>\n",
       "    </tr>\n",
       "    <tr>\n",
       "      <th>1</th>\n",
       "      <td>2012-01-02</td>\n",
       "      <td>83</td>\n",
       "      <td>NaN</td>\n",
       "      <td>1</td>\n",
       "      <td>68</td>\n",
       "      <td>153</td>\n",
       "      <td>53</td>\n",
       "      <td>6</td>\n",
       "      <td>43</td>\n",
       "      <td>NaN</td>\n",
       "    </tr>\n",
       "    <tr>\n",
       "      <th>2</th>\n",
       "      <td>2012-01-03</td>\n",
       "      <td>135</td>\n",
       "      <td>NaN</td>\n",
       "      <td>2</td>\n",
       "      <td>104</td>\n",
       "      <td>248</td>\n",
       "      <td>89</td>\n",
       "      <td>3</td>\n",
       "      <td>58</td>\n",
       "      <td>NaN</td>\n",
       "    </tr>\n",
       "    <tr>\n",
       "      <th>3</th>\n",
       "      <td>2012-01-04</td>\n",
       "      <td>144</td>\n",
       "      <td>NaN</td>\n",
       "      <td>1</td>\n",
       "      <td>116</td>\n",
       "      <td>318</td>\n",
       "      <td>111</td>\n",
       "      <td>8</td>\n",
       "      <td>61</td>\n",
       "      <td>NaN</td>\n",
       "    </tr>\n",
       "    <tr>\n",
       "      <th>4</th>\n",
       "      <td>2012-01-05</td>\n",
       "      <td>197</td>\n",
       "      <td>NaN</td>\n",
       "      <td>2</td>\n",
       "      <td>124</td>\n",
       "      <td>330</td>\n",
       "      <td>97</td>\n",
       "      <td>13</td>\n",
       "      <td>95</td>\n",
       "      <td>NaN</td>\n",
       "    </tr>\n",
       "  </tbody>\n",
       "</table>\n",
       "</div>"
      ],
      "text/plain": [
       "        Date  Berri 1  Brébeuf (données non disponibles)  \\\n",
       "0 2012-01-01       35                                NaN   \n",
       "1 2012-01-02       83                                NaN   \n",
       "2 2012-01-03      135                                NaN   \n",
       "3 2012-01-04      144                                NaN   \n",
       "4 2012-01-05      197                                NaN   \n",
       "\n",
       "   Côte-Sainte-Catherine  Maisonneuve 1  Maisonneuve 2  du Parc  Pierre-Dupuy  \\\n",
       "0                      0             38             51       26            10   \n",
       "1                      1             68            153       53             6   \n",
       "2                      2            104            248       89             3   \n",
       "3                      1            116            318      111             8   \n",
       "4                      2            124            330       97            13   \n",
       "\n",
       "   Rachel1  St-Urbain (données non disponibles)  \n",
       "0       16                                  NaN  \n",
       "1       43                                  NaN  \n",
       "2       58                                  NaN  \n",
       "3       61                                  NaN  \n",
       "4       95                                  NaN  "
      ]
     },
     "execution_count": 10,
     "metadata": {},
     "output_type": "execute_result"
    }
   ],
   "source": [
    "bikes.head()"
   ]
  },
  {
   "cell_type": "markdown",
   "metadata": {
    "deletable": false,
    "editable": false,
    "nbgrader": {
     "checksum": "deb54d0a2bc90ca891f42fbad4e86482",
     "grade": false,
     "grade_id": "cell-69c825a910212788",
     "locked": true,
     "schema_version": 1,
     "solution": false
    }
   },
   "source": [
    "To make a plot from pandas, we use the dataframe object we created, then tell the plot function\n",
    "what to use as the X column and what to use as the Y column."
   ]
  },
  {
   "cell_type": "code",
   "execution_count": 11,
   "metadata": {
    "deletable": false,
    "editable": false,
    "nbgrader": {
     "checksum": "ff6493ee0044291a151d2f75e33d98ea",
     "grade": false,
     "grade_id": "cell-eedf5cad08ab4fe9",
     "locked": true,
     "schema_version": 1,
     "solution": false
    }
   },
   "outputs": [
    {
     "data": {
      "text/plain": [
       "<AxesSubplot:xlabel='Date'>"
      ]
     },
     "execution_count": 11,
     "metadata": {},
     "output_type": "execute_result"
    },
    {
     "data": {
      "image/png": "[encoded data removed]",
      "text/plain": [
       "<Figure size 720x360 with 1 Axes>"
      ]
     },
     "metadata": {
      "needs_background": "light"
     },
     "output_type": "display_data"
    }
   ],
   "source": [
    "bikes.plot( 'Date',\"Maisonneuve 1\",figsize=(10,5))"
   ]
  },
  {
   "cell_type": "markdown",
   "metadata": {
    "deletable": false,
    "editable": false,
    "nbgrader": {
     "checksum": "90f97e7c0c415add7f0cc63a2d2f5147",
     "grade": false,
     "grade_id": "cell-3af55ab51b7839c9",
     "locked": true,
     "schema_version": 1,
     "solution": false
    }
   },
   "source": [
    "## Selection\n",
    "Lets now experiment with data selection.\n",
    "\n",
    "*Let's use complaints data again*\n"
   ]
  },
  {
   "cell_type": "code",
   "execution_count": 12,
   "metadata": {
    "deletable": false,
    "editable": false,
    "nbgrader": {
     "checksum": "a18c2040d1d2457b33bf644f4139e471",
     "grade": false,
     "grade_id": "cell-ecf146e76ef0cd68",
     "locked": true,
     "schema_version": 1,
     "solution": false
    }
   },
   "outputs": [
    {
     "data": {
      "text/html": [
       "<div>\n",
       "<style scoped>\n",
       "    .dataframe tbody tr th:only-of-type {\n",
       "        vertical-align: middle;\n",
       "    }\n",
       "\n",
       "    .dataframe tbody tr th {\n",
       "        vertical-align: top;\n",
       "    }\n",
       "\n",
       "    .dataframe thead th {\n",
       "        text-align: right;\n",
       "    }\n",
       "</style>\n",
       "<table border=\"1\" class=\"dataframe\">\n",
       "  <thead>\n",
       "    <tr style=\"text-align: right;\">\n",
       "      <th></th>\n",
       "      <th>Unique Key</th>\n",
       "      <th>Created Date</th>\n",
       "      <th>Closed Date</th>\n",
       "      <th>Agency</th>\n",
       "      <th>Agency Name</th>\n",
       "      <th>Complaint Type</th>\n",
       "      <th>Descriptor</th>\n",
       "      <th>Location Type</th>\n",
       "      <th>Incident Zip</th>\n",
       "      <th>Incident Address</th>\n",
       "      <th>...</th>\n",
       "      <th>Bridge Highway Name</th>\n",
       "      <th>Bridge Highway Direction</th>\n",
       "      <th>Road Ramp</th>\n",
       "      <th>Bridge Highway Segment</th>\n",
       "      <th>Garage Lot Name</th>\n",
       "      <th>Ferry Direction</th>\n",
       "      <th>Ferry Terminal Name</th>\n",
       "      <th>Latitude</th>\n",
       "      <th>Longitude</th>\n",
       "      <th>Location</th>\n",
       "    </tr>\n",
       "  </thead>\n",
       "  <tbody>\n",
       "    <tr>\n",
       "      <th>0</th>\n",
       "      <td>26589651</td>\n",
       "      <td>10/31/2013 02:08:41 AM</td>\n",
       "      <td>NaN</td>\n",
       "      <td>NYPD</td>\n",
       "      <td>New York City Police Department</td>\n",
       "      <td>Noise - Street/Sidewalk</td>\n",
       "      <td>Loud Talking</td>\n",
       "      <td>Street/Sidewalk</td>\n",
       "      <td>11432</td>\n",
       "      <td>90-03 169 STREET</td>\n",
       "      <td>...</td>\n",
       "      <td>NaN</td>\n",
       "      <td>NaN</td>\n",
       "      <td>NaN</td>\n",
       "      <td>NaN</td>\n",
       "      <td>NaN</td>\n",
       "      <td>NaN</td>\n",
       "      <td>NaN</td>\n",
       "      <td>40.708275</td>\n",
       "      <td>-73.791604</td>\n",
       "      <td>(40.70827532593202, -73.79160395779721)</td>\n",
       "    </tr>\n",
       "    <tr>\n",
       "      <th>1</th>\n",
       "      <td>26593698</td>\n",
       "      <td>10/31/2013 02:01:04 AM</td>\n",
       "      <td>NaN</td>\n",
       "      <td>NYPD</td>\n",
       "      <td>New York City Police Department</td>\n",
       "      <td>Illegal Parking</td>\n",
       "      <td>Commercial Overnight Parking</td>\n",
       "      <td>Street/Sidewalk</td>\n",
       "      <td>11378</td>\n",
       "      <td>58 AVENUE</td>\n",
       "      <td>...</td>\n",
       "      <td>NaN</td>\n",
       "      <td>NaN</td>\n",
       "      <td>NaN</td>\n",
       "      <td>NaN</td>\n",
       "      <td>NaN</td>\n",
       "      <td>NaN</td>\n",
       "      <td>NaN</td>\n",
       "      <td>40.721041</td>\n",
       "      <td>-73.909453</td>\n",
       "      <td>(40.721040535628305, -73.90945306791765)</td>\n",
       "    </tr>\n",
       "    <tr>\n",
       "      <th>2</th>\n",
       "      <td>26594139</td>\n",
       "      <td>10/31/2013 02:00:24 AM</td>\n",
       "      <td>10/31/2013 02:40:32 AM</td>\n",
       "      <td>NYPD</td>\n",
       "      <td>New York City Police Department</td>\n",
       "      <td>Noise - Commercial</td>\n",
       "      <td>Loud Music/Party</td>\n",
       "      <td>Club/Bar/Restaurant</td>\n",
       "      <td>10032</td>\n",
       "      <td>4060 BROADWAY</td>\n",
       "      <td>...</td>\n",
       "      <td>NaN</td>\n",
       "      <td>NaN</td>\n",
       "      <td>NaN</td>\n",
       "      <td>NaN</td>\n",
       "      <td>NaN</td>\n",
       "      <td>NaN</td>\n",
       "      <td>NaN</td>\n",
       "      <td>40.843330</td>\n",
       "      <td>-73.939144</td>\n",
       "      <td>(40.84332975466513, -73.93914371913482)</td>\n",
       "    </tr>\n",
       "  </tbody>\n",
       "</table>\n",
       "<p>3 rows × 52 columns</p>\n",
       "</div>"
      ],
      "text/plain": [
       "   Unique Key            Created Date             Closed Date Agency  \\\n",
       "0    26589651  10/31/2013 02:08:41 AM                     NaN   NYPD   \n",
       "1    26593698  10/31/2013 02:01:04 AM                     NaN   NYPD   \n",
       "2    26594139  10/31/2013 02:00:24 AM  10/31/2013 02:40:32 AM   NYPD   \n",
       "\n",
       "                       Agency Name           Complaint Type  \\\n",
       "0  New York City Police Department  Noise - Street/Sidewalk   \n",
       "1  New York City Police Department          Illegal Parking   \n",
       "2  New York City Police Department       Noise - Commercial   \n",
       "\n",
       "                     Descriptor        Location Type Incident Zip  \\\n",
       "0                  Loud Talking      Street/Sidewalk        11432   \n",
       "1  Commercial Overnight Parking      Street/Sidewalk        11378   \n",
       "2              Loud Music/Party  Club/Bar/Restaurant        10032   \n",
       "\n",
       "   Incident Address  ... Bridge Highway Name Bridge Highway Direction  \\\n",
       "0  90-03 169 STREET  ...                 NaN                      NaN   \n",
       "1         58 AVENUE  ...                 NaN                      NaN   \n",
       "2     4060 BROADWAY  ...                 NaN                      NaN   \n",
       "\n",
       "  Road Ramp Bridge Highway Segment Garage Lot Name Ferry Direction  \\\n",
       "0       NaN                    NaN             NaN             NaN   \n",
       "1       NaN                    NaN             NaN             NaN   \n",
       "2       NaN                    NaN             NaN             NaN   \n",
       "\n",
       "  Ferry Terminal Name   Latitude  Longitude  \\\n",
       "0                 NaN  40.708275 -73.791604   \n",
       "1                 NaN  40.721041 -73.909453   \n",
       "2                 NaN  40.843330 -73.939144   \n",
       "\n",
       "                                   Location  \n",
       "0   (40.70827532593202, -73.79160395779721)  \n",
       "1  (40.721040535628305, -73.90945306791765)  \n",
       "2   (40.84332975466513, -73.93914371913482)  \n",
       "\n",
       "[3 rows x 52 columns]"
      ]
     },
     "execution_count": 12,
     "metadata": {},
     "output_type": "execute_result"
    }
   ],
   "source": [
    "complaints.head(3)"
   ]
  },
  {
   "cell_type": "markdown",
   "metadata": {
    "deletable": false,
    "editable": false,
    "nbgrader": {
     "checksum": "b07803e7cc18154f55f320568f75e080",
     "grade": false,
     "grade_id": "cell-61574d4b51cfece8",
     "locked": true,
     "schema_version": 1,
     "solution": false
    }
   },
   "source": [
    "### Get a slice from a DataFrame\n",
    "#### Get a specific column"
   ]
  },
  {
   "cell_type": "markdown",
   "metadata": {
    "deletable": false,
    "editable": false,
    "nbgrader": {
     "checksum": "46a4e12a2310108a4f473c2f664cb109",
     "grade": false,
     "grade_id": "cell-831a656f0e8a785e",
     "locked": true,
     "schema_version": 1,
     "solution": false
    }
   },
   "source": [
    "**Selection by colomn name**"
   ]
  },
  {
   "cell_type": "code",
   "execution_count": 13,
   "metadata": {
    "deletable": false,
    "editable": false,
    "nbgrader": {
     "checksum": "70498f457e149a7c9cbc2cea1fa5d289",
     "grade": false,
     "grade_id": "cell-eaf4bd982b9dc6d8",
     "locked": true,
     "schema_version": 1,
     "solution": false
    }
   },
   "outputs": [
    {
     "data": {
      "text/plain": [
       "0          NYPD\n",
       "1          NYPD\n",
       "2          NYPD\n",
       "3          NYPD\n",
       "4         DOHMH\n",
       "          ...  \n",
       "111064      DPR\n",
       "111065     NYPD\n",
       "111066     NYPD\n",
       "111067     NYPD\n",
       "111068     NYPD\n",
       "Name: Agency, Length: 111069, dtype: object"
      ]
     },
     "execution_count": 13,
     "metadata": {},
     "output_type": "execute_result"
    }
   ],
   "source": [
    "complaints[\"Agency\"]"
   ]
  },
  {
   "cell_type": "code",
   "execution_count": 14,
   "metadata": {
    "deletable": false,
    "editable": false,
    "nbgrader": {
     "checksum": "5897eeabc44f683f4d19ef6a7e9e17aa",
     "grade": false,
     "grade_id": "cell-cde3d09d7c60bd91",
     "locked": true,
     "schema_version": 1,
     "solution": false
    }
   },
   "outputs": [
    {
     "data": {
      "text/plain": [
       "0          NYPD\n",
       "1          NYPD\n",
       "2          NYPD\n",
       "3          NYPD\n",
       "4         DOHMH\n",
       "          ...  \n",
       "111064      DPR\n",
       "111065     NYPD\n",
       "111066     NYPD\n",
       "111067     NYPD\n",
       "111068     NYPD\n",
       "Name: Agency, Length: 111069, dtype: object"
      ]
     },
     "execution_count": 14,
     "metadata": {},
     "output_type": "execute_result"
    }
   ],
   "source": [
    "complaints.Agency"
   ]
  },
  {
   "cell_type": "markdown",
   "metadata": {
    "deletable": false,
    "editable": false,
    "nbgrader": {
     "checksum": "672b92f4548c82967f98eb6aee7887a8",
     "grade": false,
     "grade_id": "cell-54e77936fbc6867c",
     "locked": true,
     "schema_version": 1,
     "solution": false
    }
   },
   "source": [
    "**If you want to select certain rows**"
   ]
  },
  {
   "cell_type": "markdown",
   "metadata": {
    "deletable": false,
    "editable": false,
    "nbgrader": {
     "checksum": "77ec36543ae692ce7bbb25a4b1c55fd9",
     "grade": false,
     "grade_id": "cell-cb86c941c5d66754",
     "locked": true,
     "schema_version": 1,
     "solution": false
    }
   },
   "source": [
    "All rows"
   ]
  },
  {
   "cell_type": "code",
   "execution_count": 15,
   "metadata": {
    "deletable": false,
    "editable": false,
    "nbgrader": {
     "checksum": "339433b32bd7ee1bec2334235899e068",
     "grade": false,
     "grade_id": "cell-47e7f761c998a707",
     "locked": true,
     "schema_version": 1,
     "solution": false
    }
   },
   "outputs": [
    {
     "data": {
      "text/plain": [
       "0          NYPD\n",
       "1          NYPD\n",
       "2          NYPD\n",
       "3          NYPD\n",
       "4         DOHMH\n",
       "          ...  \n",
       "111064      DPR\n",
       "111065     NYPD\n",
       "111066     NYPD\n",
       "111067     NYPD\n",
       "111068     NYPD\n",
       "Name: Agency, Length: 111069, dtype: object"
      ]
     },
     "execution_count": 15,
     "metadata": {},
     "output_type": "execute_result"
    }
   ],
   "source": [
    "complaints.loc[:,'Agency']"
   ]
  },
  {
   "cell_type": "markdown",
   "metadata": {
    "deletable": false,
    "editable": false,
    "nbgrader": {
     "checksum": "735fcfb09b1382990650653039823a90",
     "grade": false,
     "grade_id": "cell-24c2d10fef045eac",
     "locked": true,
     "schema_version": 1,
     "solution": false
    }
   },
   "source": [
    "Some rows"
   ]
  },
  {
   "cell_type": "code",
   "execution_count": 16,
   "metadata": {
    "deletable": false,
    "editable": false,
    "nbgrader": {
     "checksum": "ef5f230eca2f97c13849ff9dd62380c6",
     "grade": false,
     "grade_id": "cell-da7a67fa31e9c0da",
     "locked": true,
     "schema_version": 1,
     "solution": false
    }
   },
   "outputs": [
    {
     "data": {
      "text/plain": [
       "1    NYPD\n",
       "2    NYPD\n",
       "3    NYPD\n",
       "Name: Agency, dtype: object"
      ]
     },
     "execution_count": 16,
     "metadata": {},
     "output_type": "execute_result"
    }
   ],
   "source": [
    "complaints.loc[1:3,'Agency']"
   ]
  },
  {
   "cell_type": "markdown",
   "metadata": {
    "deletable": false,
    "editable": false,
    "nbgrader": {
     "checksum": "8083267346e71612eabc603b5f9177bb",
     "grade": false,
     "grade_id": "cell-9f007200473aa44a",
     "locked": true,
     "schema_version": 1,
     "solution": false
    }
   },
   "source": [
    "**Selection by position**"
   ]
  },
  {
   "cell_type": "code",
   "execution_count": 17,
   "metadata": {
    "deletable": false,
    "editable": false,
    "nbgrader": {
     "checksum": "2376eea10cfe280509acc4711017e53d",
     "grade": false,
     "grade_id": "cell-5d40042a8ada1660",
     "locked": true,
     "schema_version": 1,
     "solution": false
    }
   },
   "outputs": [
    {
     "data": {
      "text/plain": [
       "0          NYPD\n",
       "1          NYPD\n",
       "2          NYPD\n",
       "3          NYPD\n",
       "4         DOHMH\n",
       "          ...  \n",
       "111064      DPR\n",
       "111065     NYPD\n",
       "111066     NYPD\n",
       "111067     NYPD\n",
       "111068     NYPD\n",
       "Name: Agency, Length: 111069, dtype: object"
      ]
     },
     "execution_count": 17,
     "metadata": {},
     "output_type": "execute_result"
    }
   ],
   "source": [
    "# comment/uncomment lines\n",
    "complaints.iloc[:,3]"
   ]
  },
  {
   "cell_type": "markdown",
   "metadata": {
    "deletable": false,
    "editable": false,
    "nbgrader": {
     "checksum": "e201ea6f1056d92615ef4711e3fac9e4",
     "grade": false,
     "grade_id": "cell-526deb3febdb7c19",
     "locked": true,
     "schema_version": 1,
     "solution": false
    }
   },
   "source": [
    "#### Get a line"
   ]
  },
  {
   "cell_type": "code",
   "execution_count": 18,
   "metadata": {
    "deletable": false,
    "editable": false,
    "nbgrader": {
     "checksum": "fb652f0ba25c7fb9df7b358d7d083004",
     "grade": false,
     "grade_id": "cell-5f8e0e2231ab6681",
     "locked": true,
     "schema_version": 1,
     "solution": false
    }
   },
   "outputs": [
    {
     "data": {
      "text/html": [
       "<div>\n",
       "<style scoped>\n",
       "    .dataframe tbody tr th:only-of-type {\n",
       "        vertical-align: middle;\n",
       "    }\n",
       "\n",
       "    .dataframe tbody tr th {\n",
       "        vertical-align: top;\n",
       "    }\n",
       "\n",
       "    .dataframe thead th {\n",
       "        text-align: right;\n",
       "    }\n",
       "</style>\n",
       "<table border=\"1\" class=\"dataframe\">\n",
       "  <thead>\n",
       "    <tr style=\"text-align: right;\">\n",
       "      <th></th>\n",
       "      <th>Unique Key</th>\n",
       "      <th>Created Date</th>\n",
       "      <th>Closed Date</th>\n",
       "      <th>Agency</th>\n",
       "      <th>Agency Name</th>\n",
       "      <th>Complaint Type</th>\n",
       "      <th>Descriptor</th>\n",
       "      <th>Location Type</th>\n",
       "      <th>Incident Zip</th>\n",
       "      <th>Incident Address</th>\n",
       "      <th>...</th>\n",
       "      <th>Bridge Highway Name</th>\n",
       "      <th>Bridge Highway Direction</th>\n",
       "      <th>Road Ramp</th>\n",
       "      <th>Bridge Highway Segment</th>\n",
       "      <th>Garage Lot Name</th>\n",
       "      <th>Ferry Direction</th>\n",
       "      <th>Ferry Terminal Name</th>\n",
       "      <th>Latitude</th>\n",
       "      <th>Longitude</th>\n",
       "      <th>Location</th>\n",
       "    </tr>\n",
       "  </thead>\n",
       "  <tbody>\n",
       "    <tr>\n",
       "      <th>0</th>\n",
       "      <td>26589651</td>\n",
       "      <td>10/31/2013 02:08:41 AM</td>\n",
       "      <td>NaN</td>\n",
       "      <td>NYPD</td>\n",
       "      <td>New York City Police Department</td>\n",
       "      <td>Noise - Street/Sidewalk</td>\n",
       "      <td>Loud Talking</td>\n",
       "      <td>Street/Sidewalk</td>\n",
       "      <td>11432</td>\n",
       "      <td>90-03 169 STREET</td>\n",
       "      <td>...</td>\n",
       "      <td>NaN</td>\n",
       "      <td>NaN</td>\n",
       "      <td>NaN</td>\n",
       "      <td>NaN</td>\n",
       "      <td>NaN</td>\n",
       "      <td>NaN</td>\n",
       "      <td>NaN</td>\n",
       "      <td>40.708275</td>\n",
       "      <td>-73.791604</td>\n",
       "      <td>(40.70827532593202, -73.79160395779721)</td>\n",
       "    </tr>\n",
       "  </tbody>\n",
       "</table>\n",
       "<p>1 rows × 52 columns</p>\n",
       "</div>"
      ],
      "text/plain": [
       "   Unique Key            Created Date Closed Date Agency  \\\n",
       "0    26589651  10/31/2013 02:08:41 AM         NaN   NYPD   \n",
       "\n",
       "                       Agency Name           Complaint Type    Descriptor  \\\n",
       "0  New York City Police Department  Noise - Street/Sidewalk  Loud Talking   \n",
       "\n",
       "     Location Type Incident Zip  Incident Address  ... Bridge Highway Name  \\\n",
       "0  Street/Sidewalk        11432  90-03 169 STREET  ...                 NaN   \n",
       "\n",
       "  Bridge Highway Direction Road Ramp Bridge Highway Segment Garage Lot Name  \\\n",
       "0                      NaN       NaN                    NaN             NaN   \n",
       "\n",
       "  Ferry Direction Ferry Terminal Name   Latitude  Longitude  \\\n",
       "0             NaN                 NaN  40.708275 -73.791604   \n",
       "\n",
       "                                  Location  \n",
       "0  (40.70827532593202, -73.79160395779721)  \n",
       "\n",
       "[1 rows x 52 columns]"
      ]
     },
     "execution_count": 18,
     "metadata": {},
     "output_type": "execute_result"
    }
   ],
   "source": [
    "complaints.head(1)"
   ]
  },
  {
   "cell_type": "code",
   "execution_count": 19,
   "metadata": {
    "deletable": false,
    "editable": false,
    "nbgrader": {
     "checksum": "bbd1f5e8db1cb14d31bcca4d42640804",
     "grade": false,
     "grade_id": "cell-bb979b0bb7c2fbe4",
     "locked": true,
     "schema_version": 1,
     "solution": false
    }
   },
   "outputs": [
    {
     "data": {
      "text/plain": [
       "Unique Key                                                        26593698\n",
       "Created Date                                        10/31/2013 02:01:04 AM\n",
       "Closed Date                                                            NaN\n",
       "Agency                                                                NYPD\n",
       "Agency Name                                New York City Police Department\n",
       "Complaint Type                                             Illegal Parking\n",
       "Descriptor                                    Commercial Overnight Parking\n",
       "Location Type                                              Street/Sidewalk\n",
       "Incident Zip                                                         11378\n",
       "Incident Address                                                 58 AVENUE\n",
       "Street Name                                                      58 AVENUE\n",
       "Cross Street 1                                                    58 PLACE\n",
       "Cross Street 2                                                   59 STREET\n",
       "Intersection Street 1                                                  NaN\n",
       "Intersection Street 2                                                  NaN\n",
       "Address Type                                                     BLOCKFACE\n",
       "City                                                               MASPETH\n",
       "Landmark                                                               NaN\n",
       "Facility Type                                                     Precinct\n",
       "Status                                                                Open\n",
       "Due Date                                            10/31/2013 10:01:04 AM\n",
       "Resolution Action Updated Date                                         NaN\n",
       "Community Board                                                  05 QUEENS\n",
       "Borough                                                             QUEENS\n",
       "X Coordinate (State Plane)                                     1.00935e+06\n",
       "Y Coordinate (State Plane)                                          201984\n",
       "Park Facility Name                                             Unspecified\n",
       "Park Borough                                                        QUEENS\n",
       "School Name                                                    Unspecified\n",
       "School Number                                                  Unspecified\n",
       "School Region                                                  Unspecified\n",
       "School Code                                                    Unspecified\n",
       "School Phone Number                                            Unspecified\n",
       "School Address                                                 Unspecified\n",
       "School City                                                    Unspecified\n",
       "School State                                                   Unspecified\n",
       "School Zip                                                     Unspecified\n",
       "School Not Found                                                         N\n",
       "School or Citywide Complaint                                           NaN\n",
       "Vehicle Type                                                           NaN\n",
       "Taxi Company Borough                                                   NaN\n",
       "Taxi Pick Up Location                                                  NaN\n",
       "Bridge Highway Name                                                    NaN\n",
       "Bridge Highway Direction                                               NaN\n",
       "Road Ramp                                                              NaN\n",
       "Bridge Highway Segment                                                 NaN\n",
       "Garage Lot Name                                                        NaN\n",
       "Ferry Direction                                                        NaN\n",
       "Ferry Terminal Name                                                    NaN\n",
       "Latitude                                                            40.721\n",
       "Longitude                                                         -73.9095\n",
       "Location                          (40.721040535628305, -73.90945306791765)\n",
       "Name: 1, dtype: object"
      ]
     },
     "execution_count": 19,
     "metadata": {},
     "output_type": "execute_result"
    }
   ],
   "source": [
    "# comment/uncomment lines\n",
    "complaints.iloc[1,:]\n",
    "#complaints.loc[1,:] #Selection by Label"
   ]
  },
  {
   "cell_type": "markdown",
   "metadata": {
    "deletable": false,
    "editable": false,
    "nbgrader": {
     "checksum": "76380eca2de3585c42f3d9fa525b1937",
     "grade": false,
     "grade_id": "cell-92f74b7ba65cec77",
     "locked": true,
     "schema_version": 1,
     "solution": false
    }
   },
   "source": [
    "Type of columns or rows"
   ]
  },
  {
   "cell_type": "code",
   "execution_count": 20,
   "metadata": {
    "deletable": false,
    "editable": false,
    "nbgrader": {
     "checksum": "b006d3e40f332d17e9b011856170b024",
     "grade": false,
     "grade_id": "cell-9d25ccbda0187c7b",
     "locked": true,
     "schema_version": 1,
     "solution": false
    }
   },
   "outputs": [
    {
     "name": "stdout",
     "output_type": "stream",
     "text": [
      "<class 'pandas.core.series.Series'>\n",
      "<class 'pandas.core.series.Series'>\n"
     ]
    }
   ],
   "source": [
    "print(type(complaints[\"Agency\"]))\n",
    "print(type(complaints.iloc[1,:]))"
   ]
  },
  {
   "cell_type": "markdown",
   "metadata": {
    "deletable": false,
    "editable": false,
    "nbgrader": {
     "checksum": "9c68777bf09c655628cc4428c51509f3",
     "grade": false,
     "grade_id": "cell-d31c996df7258504",
     "locked": true,
     "schema_version": 1,
     "solution": false
    }
   },
   "source": [
    "** A Slice of shape (1,) or (,1) is not a DataFrame but a Serie. The associated functions are not exactly the same **"
   ]
  },
  {
   "cell_type": "code",
   "execution_count": 21,
   "metadata": {
    "deletable": false,
    "editable": false,
    "nbgrader": {
     "checksum": "9fc1c4da48ad1091989924e39ad112ce",
     "grade": false,
     "grade_id": "cell-9598ed8370f3712b",
     "locked": true,
     "schema_version": 1,
     "solution": false
    }
   },
   "outputs": [
    {
     "data": {
      "text/html": [
       "<div>\n",
       "<style scoped>\n",
       "    .dataframe tbody tr th:only-of-type {\n",
       "        vertical-align: middle;\n",
       "    }\n",
       "\n",
       "    .dataframe tbody tr th {\n",
       "        vertical-align: top;\n",
       "    }\n",
       "\n",
       "    .dataframe thead th {\n",
       "        text-align: right;\n",
       "    }\n",
       "</style>\n",
       "<table border=\"1\" class=\"dataframe\">\n",
       "  <thead>\n",
       "    <tr style=\"text-align: right;\">\n",
       "      <th></th>\n",
       "      <th>Agency</th>\n",
       "    </tr>\n",
       "  </thead>\n",
       "  <tbody>\n",
       "    <tr>\n",
       "      <th>0</th>\n",
       "      <td>NYPD</td>\n",
       "    </tr>\n",
       "    <tr>\n",
       "      <th>1</th>\n",
       "      <td>NYPD</td>\n",
       "    </tr>\n",
       "    <tr>\n",
       "      <th>2</th>\n",
       "      <td>NYPD</td>\n",
       "    </tr>\n",
       "    <tr>\n",
       "      <th>3</th>\n",
       "      <td>NYPD</td>\n",
       "    </tr>\n",
       "    <tr>\n",
       "      <th>4</th>\n",
       "      <td>DOHMH</td>\n",
       "    </tr>\n",
       "  </tbody>\n",
       "</table>\n",
       "</div>"
      ],
      "text/plain": [
       "  Agency\n",
       "0   NYPD\n",
       "1   NYPD\n",
       "2   NYPD\n",
       "3   NYPD\n",
       "4  DOHMH"
      ]
     },
     "execution_count": 21,
     "metadata": {},
     "output_type": "execute_result"
    }
   ],
   "source": [
    "# Possible to build a DataFrame from a serie\n",
    "pd.DataFrame(complaints[\"Agency\"]).head()"
   ]
  },
  {
   "cell_type": "markdown",
   "metadata": {
    "deletable": false,
    "editable": false,
    "nbgrader": {
     "checksum": "e98d756025369e89ad5d3c7fbd256eb6",
     "grade": false,
     "grade_id": "cell-0665731b7ed27a3f",
     "locked": true,
     "schema_version": 1,
     "solution": false
    }
   },
   "source": [
    "#### Select multiple rows and columns"
   ]
  },
  {
   "cell_type": "markdown",
   "metadata": {
    "deletable": false,
    "editable": false,
    "nbgrader": {
     "checksum": "fd61725d3c1b893a784fdef8d0ae1e5e",
     "grade": false,
     "grade_id": "cell-6563b2618537f43f",
     "locked": true,
     "schema_version": 1,
     "solution": false
    }
   },
   "source": [
    "Sometimes you want to combine your selection to rows and columns.  You can do that with `.loc[]` and `.iloc[]`.\n",
    "\n",
    "`iloc[rows,colums]` is for use with **number selectors** for row and column, and `loc[rows,columns]` is for **label selectors** for row and column (if they exist).\n",
    "\n",
    "The documentation for this is [here](http://pandas.pydata.org/pandas-docs/stable/indexing.html).\n",
    "\n",
    "If you use these, you must put a row selector first, then a column selector:"
   ]
  },
  {
   "cell_type": "code",
   "execution_count": 22,
   "metadata": {
    "deletable": false,
    "editable": false,
    "nbgrader": {
     "checksum": "cc2eeed7eb042b04acadd1b9c90e416e",
     "grade": false,
     "grade_id": "cell-35ecb3a1433e492e",
     "locked": true,
     "schema_version": 1,
     "solution": false
    }
   },
   "outputs": [
    {
     "data": {
      "text/html": [
       "<div>\n",
       "<style scoped>\n",
       "    .dataframe tbody tr th:only-of-type {\n",
       "        vertical-align: middle;\n",
       "    }\n",
       "\n",
       "    .dataframe tbody tr th {\n",
       "        vertical-align: top;\n",
       "    }\n",
       "\n",
       "    .dataframe thead th {\n",
       "        text-align: right;\n",
       "    }\n",
       "</style>\n",
       "<table border=\"1\" class=\"dataframe\">\n",
       "  <thead>\n",
       "    <tr style=\"text-align: right;\">\n",
       "      <th></th>\n",
       "      <th>Unique Key</th>\n",
       "      <th>Created Date</th>\n",
       "      <th>Closed Date</th>\n",
       "    </tr>\n",
       "  </thead>\n",
       "  <tbody>\n",
       "    <tr>\n",
       "      <th>0</th>\n",
       "      <td>26589651</td>\n",
       "      <td>10/31/2013 02:08:41 AM</td>\n",
       "      <td>NaN</td>\n",
       "    </tr>\n",
       "    <tr>\n",
       "      <th>1</th>\n",
       "      <td>26593698</td>\n",
       "      <td>10/31/2013 02:01:04 AM</td>\n",
       "      <td>NaN</td>\n",
       "    </tr>\n",
       "    <tr>\n",
       "      <th>2</th>\n",
       "      <td>26594139</td>\n",
       "      <td>10/31/2013 02:00:24 AM</td>\n",
       "      <td>10/31/2013 02:40:32 AM</td>\n",
       "    </tr>\n",
       "    <tr>\n",
       "      <th>3</th>\n",
       "      <td>26595721</td>\n",
       "      <td>10/31/2013 01:56:23 AM</td>\n",
       "      <td>10/31/2013 02:21:48 AM</td>\n",
       "    </tr>\n",
       "    <tr>\n",
       "      <th>4</th>\n",
       "      <td>26590930</td>\n",
       "      <td>10/31/2013 01:53:44 AM</td>\n",
       "      <td>NaN</td>\n",
       "    </tr>\n",
       "    <tr>\n",
       "      <th>5</th>\n",
       "      <td>26592370</td>\n",
       "      <td>10/31/2013 01:46:52 AM</td>\n",
       "      <td>NaN</td>\n",
       "    </tr>\n",
       "    <tr>\n",
       "      <th>6</th>\n",
       "      <td>26595682</td>\n",
       "      <td>10/31/2013 01:46:40 AM</td>\n",
       "      <td>NaN</td>\n",
       "    </tr>\n",
       "    <tr>\n",
       "      <th>7</th>\n",
       "      <td>26595195</td>\n",
       "      <td>10/31/2013 01:44:19 AM</td>\n",
       "      <td>10/31/2013 01:58:49 AM</td>\n",
       "    </tr>\n",
       "    <tr>\n",
       "      <th>8</th>\n",
       "      <td>26590540</td>\n",
       "      <td>10/31/2013 01:44:14 AM</td>\n",
       "      <td>10/31/2013 02:28:04 AM</td>\n",
       "    </tr>\n",
       "    <tr>\n",
       "      <th>9</th>\n",
       "      <td>26594392</td>\n",
       "      <td>10/31/2013 01:34:41 AM</td>\n",
       "      <td>10/31/2013 02:23:51 AM</td>\n",
       "    </tr>\n",
       "  </tbody>\n",
       "</table>\n",
       "</div>"
      ],
      "text/plain": [
       "   Unique Key            Created Date             Closed Date\n",
       "0    26589651  10/31/2013 02:08:41 AM                     NaN\n",
       "1    26593698  10/31/2013 02:01:04 AM                     NaN\n",
       "2    26594139  10/31/2013 02:00:24 AM  10/31/2013 02:40:32 AM\n",
       "3    26595721  10/31/2013 01:56:23 AM  10/31/2013 02:21:48 AM\n",
       "4    26590930  10/31/2013 01:53:44 AM                     NaN\n",
       "5    26592370  10/31/2013 01:46:52 AM                     NaN\n",
       "6    26595682  10/31/2013 01:46:40 AM                     NaN\n",
       "7    26595195  10/31/2013 01:44:19 AM  10/31/2013 01:58:49 AM\n",
       "8    26590540  10/31/2013 01:44:14 AM  10/31/2013 02:28:04 AM\n",
       "9    26594392  10/31/2013 01:34:41 AM  10/31/2013 02:23:51 AM"
      ]
     },
     "execution_count": 22,
     "metadata": {},
     "output_type": "execute_result"
    }
   ],
   "source": [
    "#Selecting by integer is done with iloc:\n",
    "# this selects the first 10 rows and the first 3 columns.\n",
    "complaints.iloc[0:10, 0:3]"
   ]
  },
  {
   "cell_type": "markdown",
   "metadata": {
    "deletable": false,
    "editable": false,
    "nbgrader": {
     "checksum": "7ad2071f9be8b2db37718852cd1ef0aa",
     "grade": false,
     "grade_id": "cell-4f6bc02e6e04f9d6",
     "locked": true,
     "schema_version": 1,
     "solution": false
    }
   },
   "source": [
    "select rows 0:5, but the columns between the named columns here:\n",
    "Note, this works with row numbers because there is no label for the rows aside from numbers.\n",
    "Notice this command loc is \"inclusive\" of the end points on the range.  Meaning it includes them."
   ]
  },
  {
   "cell_type": "code",
   "execution_count": 23,
   "metadata": {
    "deletable": false,
    "editable": false,
    "nbgrader": {
     "checksum": "f94c000e29f2587ace5b387fd7583469",
     "grade": false,
     "grade_id": "cell-69430cd49c907342",
     "locked": true,
     "schema_version": 1,
     "solution": false
    }
   },
   "outputs": [
    {
     "data": {
      "text/html": [
       "<div>\n",
       "<style scoped>\n",
       "    .dataframe tbody tr th:only-of-type {\n",
       "        vertical-align: middle;\n",
       "    }\n",
       "\n",
       "    .dataframe tbody tr th {\n",
       "        vertical-align: top;\n",
       "    }\n",
       "\n",
       "    .dataframe thead th {\n",
       "        text-align: right;\n",
       "    }\n",
       "</style>\n",
       "<table border=\"1\" class=\"dataframe\">\n",
       "  <thead>\n",
       "    <tr style=\"text-align: right;\">\n",
       "      <th></th>\n",
       "      <th>Closed Date</th>\n",
       "      <th>Agency</th>\n",
       "      <th>Agency Name</th>\n",
       "      <th>Complaint Type</th>\n",
       "    </tr>\n",
       "  </thead>\n",
       "  <tbody>\n",
       "    <tr>\n",
       "      <th>0</th>\n",
       "      <td>NaN</td>\n",
       "      <td>NYPD</td>\n",
       "      <td>New York City Police Department</td>\n",
       "      <td>Noise - Street/Sidewalk</td>\n",
       "    </tr>\n",
       "    <tr>\n",
       "      <th>1</th>\n",
       "      <td>NaN</td>\n",
       "      <td>NYPD</td>\n",
       "      <td>New York City Police Department</td>\n",
       "      <td>Illegal Parking</td>\n",
       "    </tr>\n",
       "    <tr>\n",
       "      <th>2</th>\n",
       "      <td>10/31/2013 02:40:32 AM</td>\n",
       "      <td>NYPD</td>\n",
       "      <td>New York City Police Department</td>\n",
       "      <td>Noise - Commercial</td>\n",
       "    </tr>\n",
       "    <tr>\n",
       "      <th>3</th>\n",
       "      <td>10/31/2013 02:21:48 AM</td>\n",
       "      <td>NYPD</td>\n",
       "      <td>New York City Police Department</td>\n",
       "      <td>Noise - Vehicle</td>\n",
       "    </tr>\n",
       "    <tr>\n",
       "      <th>4</th>\n",
       "      <td>NaN</td>\n",
       "      <td>DOHMH</td>\n",
       "      <td>Department of Health and Mental Hygiene</td>\n",
       "      <td>Rodent</td>\n",
       "    </tr>\n",
       "    <tr>\n",
       "      <th>5</th>\n",
       "      <td>NaN</td>\n",
       "      <td>NYPD</td>\n",
       "      <td>New York City Police Department</td>\n",
       "      <td>Noise - Commercial</td>\n",
       "    </tr>\n",
       "  </tbody>\n",
       "</table>\n",
       "</div>"
      ],
      "text/plain": [
       "              Closed Date Agency                              Agency Name  \\\n",
       "0                     NaN   NYPD          New York City Police Department   \n",
       "1                     NaN   NYPD          New York City Police Department   \n",
       "2  10/31/2013 02:40:32 AM   NYPD          New York City Police Department   \n",
       "3  10/31/2013 02:21:48 AM   NYPD          New York City Police Department   \n",
       "4                     NaN  DOHMH  Department of Health and Mental Hygiene   \n",
       "5                     NaN   NYPD          New York City Police Department   \n",
       "\n",
       "            Complaint Type  \n",
       "0  Noise - Street/Sidewalk  \n",
       "1          Illegal Parking  \n",
       "2       Noise - Commercial  \n",
       "3          Noise - Vehicle  \n",
       "4                   Rodent  \n",
       "5       Noise - Commercial  "
      ]
     },
     "execution_count": 23,
     "metadata": {},
     "output_type": "execute_result"
    }
   ],
   "source": [
    "complaints.loc[0:5, 'Closed Date':'Complaint Type']"
   ]
  },
  {
   "cell_type": "markdown",
   "metadata": {
    "deletable": false,
    "editable": false,
    "nbgrader": {
     "checksum": "a9022a727a425b37fdd4ad3d5c2dae99",
     "grade": false,
     "grade_id": "cell-1482a1080ec5e4a3",
     "locked": true,
     "schema_version": 1,
     "solution": false
    }
   },
   "source": [
    "What if we just want to know the complaint type and the borough, but not the rest of the information? Pandas makes it really easy to select a subset of the columns: just index with list of columns you want, using double square brackets (Or using the `loc[]` method above):"
   ]
  },
  {
   "cell_type": "code",
   "execution_count": 24,
   "metadata": {
    "deletable": false,
    "editable": false,
    "nbgrader": {
     "checksum": "0716df4ecfa32d5863cfeb8f7bea9daf",
     "grade": false,
     "grade_id": "cell-ceef19fd8f36ee30",
     "locked": true,
     "schema_version": 1,
     "solution": false
    }
   },
   "outputs": [
    {
     "data": {
      "text/html": [
       "<div>\n",
       "<style scoped>\n",
       "    .dataframe tbody tr th:only-of-type {\n",
       "        vertical-align: middle;\n",
       "    }\n",
       "\n",
       "    .dataframe tbody tr th {\n",
       "        vertical-align: top;\n",
       "    }\n",
       "\n",
       "    .dataframe thead th {\n",
       "        text-align: right;\n",
       "    }\n",
       "</style>\n",
       "<table border=\"1\" class=\"dataframe\">\n",
       "  <thead>\n",
       "    <tr style=\"text-align: right;\">\n",
       "      <th></th>\n",
       "      <th>Complaint Type</th>\n",
       "      <th>Borough</th>\n",
       "    </tr>\n",
       "  </thead>\n",
       "  <tbody>\n",
       "    <tr>\n",
       "      <th>0</th>\n",
       "      <td>Noise - Street/Sidewalk</td>\n",
       "      <td>QUEENS</td>\n",
       "    </tr>\n",
       "    <tr>\n",
       "      <th>1</th>\n",
       "      <td>Illegal Parking</td>\n",
       "      <td>QUEENS</td>\n",
       "    </tr>\n",
       "    <tr>\n",
       "      <th>2</th>\n",
       "      <td>Noise - Commercial</td>\n",
       "      <td>MANHATTAN</td>\n",
       "    </tr>\n",
       "    <tr>\n",
       "      <th>3</th>\n",
       "      <td>Noise - Vehicle</td>\n",
       "      <td>MANHATTAN</td>\n",
       "    </tr>\n",
       "    <tr>\n",
       "      <th>4</th>\n",
       "      <td>Rodent</td>\n",
       "      <td>MANHATTAN</td>\n",
       "    </tr>\n",
       "    <tr>\n",
       "      <th>...</th>\n",
       "      <td>...</td>\n",
       "      <td>...</td>\n",
       "    </tr>\n",
       "    <tr>\n",
       "      <th>111064</th>\n",
       "      <td>Maintenance or Facility</td>\n",
       "      <td>BROOKLYN</td>\n",
       "    </tr>\n",
       "    <tr>\n",
       "      <th>111065</th>\n",
       "      <td>Illegal Parking</td>\n",
       "      <td>QUEENS</td>\n",
       "    </tr>\n",
       "    <tr>\n",
       "      <th>111066</th>\n",
       "      <td>Noise - Street/Sidewalk</td>\n",
       "      <td>MANHATTAN</td>\n",
       "    </tr>\n",
       "    <tr>\n",
       "      <th>111067</th>\n",
       "      <td>Noise - Commercial</td>\n",
       "      <td>BROOKLYN</td>\n",
       "    </tr>\n",
       "    <tr>\n",
       "      <th>111068</th>\n",
       "      <td>Blocked Driveway</td>\n",
       "      <td>BROOKLYN</td>\n",
       "    </tr>\n",
       "  </tbody>\n",
       "</table>\n",
       "<p>111069 rows × 2 columns</p>\n",
       "</div>"
      ],
      "text/plain": [
       "                 Complaint Type    Borough\n",
       "0       Noise - Street/Sidewalk     QUEENS\n",
       "1               Illegal Parking     QUEENS\n",
       "2            Noise - Commercial  MANHATTAN\n",
       "3               Noise - Vehicle  MANHATTAN\n",
       "4                        Rodent  MANHATTAN\n",
       "...                         ...        ...\n",
       "111064  Maintenance or Facility   BROOKLYN\n",
       "111065          Illegal Parking     QUEENS\n",
       "111066  Noise - Street/Sidewalk  MANHATTAN\n",
       "111067       Noise - Commercial   BROOKLYN\n",
       "111068         Blocked Driveway   BROOKLYN\n",
       "\n",
       "[111069 rows x 2 columns]"
      ]
     },
     "execution_count": 24,
     "metadata": {},
     "output_type": "execute_result"
    }
   ],
   "source": [
    "#complaints[['Complaint Type', 'Borough']]\n",
    "complaints.loc[:,['Complaint Type', 'Borough']]"
   ]
  },
  {
   "cell_type": "markdown",
   "metadata": {
    "deletable": false,
    "editable": false,
    "nbgrader": {
     "checksum": "8a7e8ae22c08f9f3684b733dd6789508",
     "grade": false,
     "grade_id": "cell-a63eb41fa062235b",
     "locked": true,
     "schema_version": 1,
     "solution": false
    }
   },
   "source": [
    "### Boolean Indexing\n",
    "Boolean indexing is useful when we need to select data based on a certain criteria. For example, if we only want to select data where the value of the Unique Key colomn is greater than 26595140:\n",
    "\n",
    "Check which data satisties the condition:"
   ]
  },
  {
   "cell_type": "code",
   "execution_count": 25,
   "metadata": {
    "deletable": false,
    "editable": false,
    "nbgrader": {
     "checksum": "cc4eef063bebafd8537e58039e281b46",
     "grade": false,
     "grade_id": "cell-ffbe04c772c3ae5e",
     "locked": true,
     "schema_version": 1,
     "solution": false
    }
   },
   "outputs": [
    {
     "data": {
      "text/plain": [
       "0         False\n",
       "1         False\n",
       "2         False\n",
       "3          True\n",
       "4         False\n",
       "          ...  \n",
       "111064    False\n",
       "111065    False\n",
       "111066    False\n",
       "111067    False\n",
       "111068    False\n",
       "Name: Unique Key, Length: 111069, dtype: bool"
      ]
     },
     "execution_count": 25,
     "metadata": {},
     "output_type": "execute_result"
    }
   ],
   "source": [
    "complaints['Unique Key'] > 26595140"
   ]
  },
  {
   "cell_type": "code",
   "execution_count": 26,
   "metadata": {
    "deletable": false,
    "editable": false,
    "nbgrader": {
     "checksum": "6b38135472285fd776fdfc44064c48a8",
     "grade": false,
     "grade_id": "cell-2ad77eb86bf6fca5",
     "locked": true,
     "schema_version": 1,
     "solution": false
    }
   },
   "outputs": [
    {
     "data": {
      "text/html": [
       "<div>\n",
       "<style scoped>\n",
       "    .dataframe tbody tr th:only-of-type {\n",
       "        vertical-align: middle;\n",
       "    }\n",
       "\n",
       "    .dataframe tbody tr th {\n",
       "        vertical-align: top;\n",
       "    }\n",
       "\n",
       "    .dataframe thead th {\n",
       "        text-align: right;\n",
       "    }\n",
       "</style>\n",
       "<table border=\"1\" class=\"dataframe\">\n",
       "  <thead>\n",
       "    <tr style=\"text-align: right;\">\n",
       "      <th></th>\n",
       "      <th>Unique Key</th>\n",
       "      <th>Created Date</th>\n",
       "      <th>Closed Date</th>\n",
       "      <th>Agency</th>\n",
       "      <th>Agency Name</th>\n",
       "      <th>Complaint Type</th>\n",
       "      <th>Descriptor</th>\n",
       "      <th>Location Type</th>\n",
       "      <th>Incident Zip</th>\n",
       "      <th>Incident Address</th>\n",
       "      <th>...</th>\n",
       "      <th>Bridge Highway Name</th>\n",
       "      <th>Bridge Highway Direction</th>\n",
       "      <th>Road Ramp</th>\n",
       "      <th>Bridge Highway Segment</th>\n",
       "      <th>Garage Lot Name</th>\n",
       "      <th>Ferry Direction</th>\n",
       "      <th>Ferry Terminal Name</th>\n",
       "      <th>Latitude</th>\n",
       "      <th>Longitude</th>\n",
       "      <th>Location</th>\n",
       "    </tr>\n",
       "  </thead>\n",
       "  <tbody>\n",
       "    <tr>\n",
       "      <th>3</th>\n",
       "      <td>26595721</td>\n",
       "      <td>10/31/2013 01:56:23 AM</td>\n",
       "      <td>10/31/2013 02:21:48 AM</td>\n",
       "      <td>NYPD</td>\n",
       "      <td>New York City Police Department</td>\n",
       "      <td>Noise - Vehicle</td>\n",
       "      <td>Car/Truck Horn</td>\n",
       "      <td>Street/Sidewalk</td>\n",
       "      <td>10023</td>\n",
       "      <td>WEST 72 STREET</td>\n",
       "      <td>...</td>\n",
       "      <td>NaN</td>\n",
       "      <td>NaN</td>\n",
       "      <td>NaN</td>\n",
       "      <td>NaN</td>\n",
       "      <td>NaN</td>\n",
       "      <td>NaN</td>\n",
       "      <td>NaN</td>\n",
       "      <td>40.778009</td>\n",
       "      <td>-73.980213</td>\n",
       "      <td>(40.7780087446372, -73.98021349023975)</td>\n",
       "    </tr>\n",
       "    <tr>\n",
       "      <th>6</th>\n",
       "      <td>26595682</td>\n",
       "      <td>10/31/2013 01:46:40 AM</td>\n",
       "      <td>NaN</td>\n",
       "      <td>NYPD</td>\n",
       "      <td>New York City Police Department</td>\n",
       "      <td>Blocked Driveway</td>\n",
       "      <td>No Access</td>\n",
       "      <td>Street/Sidewalk</td>\n",
       "      <td>11419</td>\n",
       "      <td>107-50 109 STREET</td>\n",
       "      <td>...</td>\n",
       "      <td>NaN</td>\n",
       "      <td>NaN</td>\n",
       "      <td>NaN</td>\n",
       "      <td>NaN</td>\n",
       "      <td>NaN</td>\n",
       "      <td>NaN</td>\n",
       "      <td>NaN</td>\n",
       "      <td>40.681533</td>\n",
       "      <td>-73.831737</td>\n",
       "      <td>(40.68153278675525, -73.83173699701601)</td>\n",
       "    </tr>\n",
       "    <tr>\n",
       "      <th>7</th>\n",
       "      <td>26595195</td>\n",
       "      <td>10/31/2013 01:44:19 AM</td>\n",
       "      <td>10/31/2013 01:58:49 AM</td>\n",
       "      <td>NYPD</td>\n",
       "      <td>New York City Police Department</td>\n",
       "      <td>Noise - Commercial</td>\n",
       "      <td>Loud Music/Party</td>\n",
       "      <td>Club/Bar/Restaurant</td>\n",
       "      <td>11417</td>\n",
       "      <td>137-09 CROSSBAY BOULEVARD</td>\n",
       "      <td>...</td>\n",
       "      <td>NaN</td>\n",
       "      <td>NaN</td>\n",
       "      <td>NaN</td>\n",
       "      <td>NaN</td>\n",
       "      <td>NaN</td>\n",
       "      <td>NaN</td>\n",
       "      <td>NaN</td>\n",
       "      <td>40.671816</td>\n",
       "      <td>-73.843092</td>\n",
       "      <td>(40.67181584567338, -73.84309181950769)</td>\n",
       "    </tr>\n",
       "    <tr>\n",
       "      <th>10</th>\n",
       "      <td>26595176</td>\n",
       "      <td>10/31/2013 01:25:12 AM</td>\n",
       "      <td>NaN</td>\n",
       "      <td>NYPD</td>\n",
       "      <td>New York City Police Department</td>\n",
       "      <td>Noise - House of Worship</td>\n",
       "      <td>Loud Music/Party</td>\n",
       "      <td>House of Worship</td>\n",
       "      <td>11218</td>\n",
       "      <td>3775 18 AVENUE</td>\n",
       "      <td>...</td>\n",
       "      <td>NaN</td>\n",
       "      <td>NaN</td>\n",
       "      <td>NaN</td>\n",
       "      <td>NaN</td>\n",
       "      <td>NaN</td>\n",
       "      <td>NaN</td>\n",
       "      <td>NaN</td>\n",
       "      <td>40.634378</td>\n",
       "      <td>-73.969462</td>\n",
       "      <td>(40.63437840816299, -73.96946177104543)</td>\n",
       "    </tr>\n",
       "    <tr>\n",
       "      <th>31</th>\n",
       "      <td>26595564</td>\n",
       "      <td>10/31/2013 12:30:36 AM</td>\n",
       "      <td>NaN</td>\n",
       "      <td>NYPD</td>\n",
       "      <td>New York City Police Department</td>\n",
       "      <td>Noise - Street/Sidewalk</td>\n",
       "      <td>Loud Music/Party</td>\n",
       "      <td>Street/Sidewalk</td>\n",
       "      <td>11236</td>\n",
       "      <td>AVENUE J</td>\n",
       "      <td>...</td>\n",
       "      <td>NaN</td>\n",
       "      <td>NaN</td>\n",
       "      <td>NaN</td>\n",
       "      <td>NaN</td>\n",
       "      <td>NaN</td>\n",
       "      <td>NaN</td>\n",
       "      <td>NaN</td>\n",
       "      <td>40.634104</td>\n",
       "      <td>-73.911055</td>\n",
       "      <td>(40.634103775951736, -73.91105541883589)</td>\n",
       "    </tr>\n",
       "  </tbody>\n",
       "</table>\n",
       "<p>5 rows × 52 columns</p>\n",
       "</div>"
      ],
      "text/plain": [
       "    Unique Key            Created Date             Closed Date Agency  \\\n",
       "3     26595721  10/31/2013 01:56:23 AM  10/31/2013 02:21:48 AM   NYPD   \n",
       "6     26595682  10/31/2013 01:46:40 AM                     NaN   NYPD   \n",
       "7     26595195  10/31/2013 01:44:19 AM  10/31/2013 01:58:49 AM   NYPD   \n",
       "10    26595176  10/31/2013 01:25:12 AM                     NaN   NYPD   \n",
       "31    26595564  10/31/2013 12:30:36 AM                     NaN   NYPD   \n",
       "\n",
       "                        Agency Name            Complaint Type  \\\n",
       "3   New York City Police Department           Noise - Vehicle   \n",
       "6   New York City Police Department          Blocked Driveway   \n",
       "7   New York City Police Department        Noise - Commercial   \n",
       "10  New York City Police Department  Noise - House of Worship   \n",
       "31  New York City Police Department   Noise - Street/Sidewalk   \n",
       "\n",
       "          Descriptor        Location Type Incident Zip  \\\n",
       "3     Car/Truck Horn      Street/Sidewalk        10023   \n",
       "6          No Access      Street/Sidewalk        11419   \n",
       "7   Loud Music/Party  Club/Bar/Restaurant        11417   \n",
       "10  Loud Music/Party     House of Worship        11218   \n",
       "31  Loud Music/Party      Street/Sidewalk        11236   \n",
       "\n",
       "             Incident Address  ... Bridge Highway Name  \\\n",
       "3              WEST 72 STREET  ...                 NaN   \n",
       "6           107-50 109 STREET  ...                 NaN   \n",
       "7   137-09 CROSSBAY BOULEVARD  ...                 NaN   \n",
       "10             3775 18 AVENUE  ...                 NaN   \n",
       "31                   AVENUE J  ...                 NaN   \n",
       "\n",
       "   Bridge Highway Direction Road Ramp Bridge Highway Segment Garage Lot Name  \\\n",
       "3                       NaN       NaN                    NaN             NaN   \n",
       "6                       NaN       NaN                    NaN             NaN   \n",
       "7                       NaN       NaN                    NaN             NaN   \n",
       "10                      NaN       NaN                    NaN             NaN   \n",
       "31                      NaN       NaN                    NaN             NaN   \n",
       "\n",
       "   Ferry Direction Ferry Terminal Name   Latitude  Longitude  \\\n",
       "3              NaN                 NaN  40.778009 -73.980213   \n",
       "6              NaN                 NaN  40.681533 -73.831737   \n",
       "7              NaN                 NaN  40.671816 -73.843092   \n",
       "10             NaN                 NaN  40.634378 -73.969462   \n",
       "31             NaN                 NaN  40.634104 -73.911055   \n",
       "\n",
       "                                    Location  \n",
       "3     (40.7780087446372, -73.98021349023975)  \n",
       "6    (40.68153278675525, -73.83173699701601)  \n",
       "7    (40.67181584567338, -73.84309181950769)  \n",
       "10   (40.63437840816299, -73.96946177104543)  \n",
       "31  (40.634103775951736, -73.91105541883589)  \n",
       "\n",
       "[5 rows x 52 columns]"
      ]
     },
     "execution_count": 26,
     "metadata": {},
     "output_type": "execute_result"
    }
   ],
   "source": [
    "complaints[complaints['Unique Key'] > 26595140].head()"
   ]
  },
  {
   "cell_type": "markdown",
   "metadata": {
    "deletable": false,
    "editable": false,
    "nbgrader": {
     "checksum": "98ceef58853f810bd810677b3874eea5",
     "grade": false,
     "grade_id": "cell-f861579cd3e71706",
     "locked": true,
     "schema_version": 1,
     "solution": false
    }
   },
   "source": [
    "Use Function isin() to select the data rows that contain specific values in a specific column.\n",
    "For example this command selects all rows that have Complaint Type is equal to the values \"Noise - Vehicle\" and \"Noise - Street/Sidewalk\""
   ]
  },
  {
   "cell_type": "code",
   "execution_count": 27,
   "metadata": {
    "deletable": false,
    "editable": false,
    "nbgrader": {
     "checksum": "9ef489bf5e7e87f8b5b1c7ee82863d6d",
     "grade": false,
     "grade_id": "cell-5dff194ea02b3e27",
     "locked": true,
     "schema_version": 1,
     "solution": false
    }
   },
   "outputs": [
    {
     "data": {
      "text/html": [
       "<div>\n",
       "<style scoped>\n",
       "    .dataframe tbody tr th:only-of-type {\n",
       "        vertical-align: middle;\n",
       "    }\n",
       "\n",
       "    .dataframe tbody tr th {\n",
       "        vertical-align: top;\n",
       "    }\n",
       "\n",
       "    .dataframe thead th {\n",
       "        text-align: right;\n",
       "    }\n",
       "</style>\n",
       "<table border=\"1\" class=\"dataframe\">\n",
       "  <thead>\n",
       "    <tr style=\"text-align: right;\">\n",
       "      <th></th>\n",
       "      <th>Unique Key</th>\n",
       "      <th>Created Date</th>\n",
       "      <th>Closed Date</th>\n",
       "      <th>Agency</th>\n",
       "      <th>Agency Name</th>\n",
       "      <th>Complaint Type</th>\n",
       "      <th>Descriptor</th>\n",
       "      <th>Location Type</th>\n",
       "      <th>Incident Zip</th>\n",
       "      <th>Incident Address</th>\n",
       "      <th>...</th>\n",
       "      <th>Bridge Highway Name</th>\n",
       "      <th>Bridge Highway Direction</th>\n",
       "      <th>Road Ramp</th>\n",
       "      <th>Bridge Highway Segment</th>\n",
       "      <th>Garage Lot Name</th>\n",
       "      <th>Ferry Direction</th>\n",
       "      <th>Ferry Terminal Name</th>\n",
       "      <th>Latitude</th>\n",
       "      <th>Longitude</th>\n",
       "      <th>Location</th>\n",
       "    </tr>\n",
       "  </thead>\n",
       "  <tbody>\n",
       "    <tr>\n",
       "      <th>0</th>\n",
       "      <td>26589651</td>\n",
       "      <td>10/31/2013 02:08:41 AM</td>\n",
       "      <td>NaN</td>\n",
       "      <td>NYPD</td>\n",
       "      <td>New York City Police Department</td>\n",
       "      <td>Noise - Street/Sidewalk</td>\n",
       "      <td>Loud Talking</td>\n",
       "      <td>Street/Sidewalk</td>\n",
       "      <td>11432</td>\n",
       "      <td>90-03 169 STREET</td>\n",
       "      <td>...</td>\n",
       "      <td>NaN</td>\n",
       "      <td>NaN</td>\n",
       "      <td>NaN</td>\n",
       "      <td>NaN</td>\n",
       "      <td>NaN</td>\n",
       "      <td>NaN</td>\n",
       "      <td>NaN</td>\n",
       "      <td>40.708275</td>\n",
       "      <td>-73.791604</td>\n",
       "      <td>(40.70827532593202, -73.79160395779721)</td>\n",
       "    </tr>\n",
       "    <tr>\n",
       "      <th>3</th>\n",
       "      <td>26595721</td>\n",
       "      <td>10/31/2013 01:56:23 AM</td>\n",
       "      <td>10/31/2013 02:21:48 AM</td>\n",
       "      <td>NYPD</td>\n",
       "      <td>New York City Police Department</td>\n",
       "      <td>Noise - Vehicle</td>\n",
       "      <td>Car/Truck Horn</td>\n",
       "      <td>Street/Sidewalk</td>\n",
       "      <td>10023</td>\n",
       "      <td>WEST 72 STREET</td>\n",
       "      <td>...</td>\n",
       "      <td>NaN</td>\n",
       "      <td>NaN</td>\n",
       "      <td>NaN</td>\n",
       "      <td>NaN</td>\n",
       "      <td>NaN</td>\n",
       "      <td>NaN</td>\n",
       "      <td>NaN</td>\n",
       "      <td>40.778009</td>\n",
       "      <td>-73.980213</td>\n",
       "      <td>(40.7780087446372, -73.98021349023975)</td>\n",
       "    </tr>\n",
       "    <tr>\n",
       "      <th>13</th>\n",
       "      <td>26594391</td>\n",
       "      <td>10/31/2013 01:20:13 AM</td>\n",
       "      <td>NaN</td>\n",
       "      <td>NYPD</td>\n",
       "      <td>New York City Police Department</td>\n",
       "      <td>Noise - Vehicle</td>\n",
       "      <td>Engine Idling</td>\n",
       "      <td>Street/Sidewalk</td>\n",
       "      <td>10466</td>\n",
       "      <td>NaN</td>\n",
       "      <td>...</td>\n",
       "      <td>NaN</td>\n",
       "      <td>NaN</td>\n",
       "      <td>NaN</td>\n",
       "      <td>NaN</td>\n",
       "      <td>NaN</td>\n",
       "      <td>NaN</td>\n",
       "      <td>NaN</td>\n",
       "      <td>40.891517</td>\n",
       "      <td>-73.836457</td>\n",
       "      <td>(40.89151738488846, -73.83645714593568)</td>\n",
       "    </tr>\n",
       "    <tr>\n",
       "      <th>16</th>\n",
       "      <td>26594086</td>\n",
       "      <td>10/31/2013 12:54:03 AM</td>\n",
       "      <td>10/31/2013 02:16:39 AM</td>\n",
       "      <td>NYPD</td>\n",
       "      <td>New York City Police Department</td>\n",
       "      <td>Noise - Street/Sidewalk</td>\n",
       "      <td>Loud Music/Party</td>\n",
       "      <td>Street/Sidewalk</td>\n",
       "      <td>10310</td>\n",
       "      <td>173 CAMPBELL AVENUE</td>\n",
       "      <td>...</td>\n",
       "      <td>NaN</td>\n",
       "      <td>NaN</td>\n",
       "      <td>NaN</td>\n",
       "      <td>NaN</td>\n",
       "      <td>NaN</td>\n",
       "      <td>NaN</td>\n",
       "      <td>NaN</td>\n",
       "      <td>40.636182</td>\n",
       "      <td>-74.116150</td>\n",
       "      <td>(40.63618202176914, -74.1161500428337)</td>\n",
       "    </tr>\n",
       "    <tr>\n",
       "      <th>22</th>\n",
       "      <td>26589678</td>\n",
       "      <td>10/31/2013 12:39:55 AM</td>\n",
       "      <td>NaN</td>\n",
       "      <td>NYPD</td>\n",
       "      <td>New York City Police Department</td>\n",
       "      <td>Noise - Vehicle</td>\n",
       "      <td>Car/Truck Music</td>\n",
       "      <td>Street/Sidewalk</td>\n",
       "      <td>11419</td>\n",
       "      <td>NaN</td>\n",
       "      <td>...</td>\n",
       "      <td>NaN</td>\n",
       "      <td>NaN</td>\n",
       "      <td>NaN</td>\n",
       "      <td>NaN</td>\n",
       "      <td>NaN</td>\n",
       "      <td>NaN</td>\n",
       "      <td>NaN</td>\n",
       "      <td>40.692394</td>\n",
       "      <td>-73.833891</td>\n",
       "      <td>(40.69239424979043, -73.8338912453996)</td>\n",
       "    </tr>\n",
       "    <tr>\n",
       "      <th>...</th>\n",
       "      <td>...</td>\n",
       "      <td>...</td>\n",
       "      <td>...</td>\n",
       "      <td>...</td>\n",
       "      <td>...</td>\n",
       "      <td>...</td>\n",
       "      <td>...</td>\n",
       "      <td>...</td>\n",
       "      <td>...</td>\n",
       "      <td>...</td>\n",
       "      <td>...</td>\n",
       "      <td>...</td>\n",
       "      <td>...</td>\n",
       "      <td>...</td>\n",
       "      <td>...</td>\n",
       "      <td>...</td>\n",
       "      <td>...</td>\n",
       "      <td>...</td>\n",
       "      <td>...</td>\n",
       "      <td>...</td>\n",
       "      <td>...</td>\n",
       "    </tr>\n",
       "    <tr>\n",
       "      <th>111044</th>\n",
       "      <td>26426096</td>\n",
       "      <td>10/04/2013 12:14:09 AM</td>\n",
       "      <td>10/04/2013 01:03:46 AM</td>\n",
       "      <td>NYPD</td>\n",
       "      <td>New York City Police Department</td>\n",
       "      <td>Noise - Street/Sidewalk</td>\n",
       "      <td>Loud Talking</td>\n",
       "      <td>Street/Sidewalk</td>\n",
       "      <td>10032</td>\n",
       "      <td>539 WEST 162 STREET</td>\n",
       "      <td>...</td>\n",
       "      <td>NaN</td>\n",
       "      <td>NaN</td>\n",
       "      <td>NaN</td>\n",
       "      <td>NaN</td>\n",
       "      <td>NaN</td>\n",
       "      <td>NaN</td>\n",
       "      <td>NaN</td>\n",
       "      <td>40.836532</td>\n",
       "      <td>-73.941018</td>\n",
       "      <td>(40.836532082987944, -73.9410182995914)</td>\n",
       "    </tr>\n",
       "    <tr>\n",
       "      <th>111048</th>\n",
       "      <td>26430030</td>\n",
       "      <td>10/04/2013 12:12:07 AM</td>\n",
       "      <td>10/04/2013 02:45:24 AM</td>\n",
       "      <td>NYPD</td>\n",
       "      <td>New York City Police Department</td>\n",
       "      <td>Noise - Street/Sidewalk</td>\n",
       "      <td>Loud Talking</td>\n",
       "      <td>Street/Sidewalk</td>\n",
       "      <td>10027</td>\n",
       "      <td>215 WEST 131ST STREET</td>\n",
       "      <td>...</td>\n",
       "      <td>NaN</td>\n",
       "      <td>NaN</td>\n",
       "      <td>NaN</td>\n",
       "      <td>NaN</td>\n",
       "      <td>NaN</td>\n",
       "      <td>NaN</td>\n",
       "      <td>NaN</td>\n",
       "      <td>40.813339</td>\n",
       "      <td>-73.946328</td>\n",
       "      <td>(40.81333907832113, -73.94632769228208)</td>\n",
       "    </tr>\n",
       "    <tr>\n",
       "      <th>111054</th>\n",
       "      <td>26426060</td>\n",
       "      <td>10/04/2013 12:06:39 AM</td>\n",
       "      <td>10/04/2013 12:31:16 AM</td>\n",
       "      <td>NYPD</td>\n",
       "      <td>New York City Police Department</td>\n",
       "      <td>Noise - Street/Sidewalk</td>\n",
       "      <td>Loud Talking</td>\n",
       "      <td>Street/Sidewalk</td>\n",
       "      <td>11224</td>\n",
       "      <td>4823 BEACH 48 STREET</td>\n",
       "      <td>...</td>\n",
       "      <td>NaN</td>\n",
       "      <td>NaN</td>\n",
       "      <td>NaN</td>\n",
       "      <td>NaN</td>\n",
       "      <td>NaN</td>\n",
       "      <td>NaN</td>\n",
       "      <td>NaN</td>\n",
       "      <td>40.577515</td>\n",
       "      <td>-74.012207</td>\n",
       "      <td>(40.57751513866536, -74.01220705163807)</td>\n",
       "    </tr>\n",
       "    <tr>\n",
       "      <th>111059</th>\n",
       "      <td>26429040</td>\n",
       "      <td>10/04/2013 12:04:52 AM</td>\n",
       "      <td>10/04/2013 03:01:04 AM</td>\n",
       "      <td>NYPD</td>\n",
       "      <td>New York City Police Department</td>\n",
       "      <td>Noise - Street/Sidewalk</td>\n",
       "      <td>Loud Talking</td>\n",
       "      <td>Street/Sidewalk</td>\n",
       "      <td>10003</td>\n",
       "      <td>99 2 AVENUE</td>\n",
       "      <td>...</td>\n",
       "      <td>NaN</td>\n",
       "      <td>NaN</td>\n",
       "      <td>NaN</td>\n",
       "      <td>NaN</td>\n",
       "      <td>NaN</td>\n",
       "      <td>NaN</td>\n",
       "      <td>NaN</td>\n",
       "      <td>40.727251</td>\n",
       "      <td>-73.988660</td>\n",
       "      <td>(40.727251287038676, -73.98866028603422)</td>\n",
       "    </tr>\n",
       "    <tr>\n",
       "      <th>111066</th>\n",
       "      <td>26428987</td>\n",
       "      <td>10/04/2013 12:00:45 AM</td>\n",
       "      <td>10/04/2013 01:25:01 AM</td>\n",
       "      <td>NYPD</td>\n",
       "      <td>New York City Police Department</td>\n",
       "      <td>Noise - Street/Sidewalk</td>\n",
       "      <td>Loud Talking</td>\n",
       "      <td>Street/Sidewalk</td>\n",
       "      <td>10016</td>\n",
       "      <td>344 EAST 28 STREET</td>\n",
       "      <td>...</td>\n",
       "      <td>NaN</td>\n",
       "      <td>NaN</td>\n",
       "      <td>NaN</td>\n",
       "      <td>NaN</td>\n",
       "      <td>NaN</td>\n",
       "      <td>NaN</td>\n",
       "      <td>NaN</td>\n",
       "      <td>40.740295</td>\n",
       "      <td>-73.976952</td>\n",
       "      <td>(40.740295354643706, -73.97695165980414)</td>\n",
       "    </tr>\n",
       "  </tbody>\n",
       "</table>\n",
       "<p>2678 rows × 52 columns</p>\n",
       "</div>"
      ],
      "text/plain": [
       "        Unique Key            Created Date             Closed Date Agency  \\\n",
       "0         26589651  10/31/2013 02:08:41 AM                     NaN   NYPD   \n",
       "3         26595721  10/31/2013 01:56:23 AM  10/31/2013 02:21:48 AM   NYPD   \n",
       "13        26594391  10/31/2013 01:20:13 AM                     NaN   NYPD   \n",
       "16        26594086  10/31/2013 12:54:03 AM  10/31/2013 02:16:39 AM   NYPD   \n",
       "22        26589678  10/31/2013 12:39:55 AM                     NaN   NYPD   \n",
       "...            ...                     ...                     ...    ...   \n",
       "111044    26426096  10/04/2013 12:14:09 AM  10/04/2013 01:03:46 AM   NYPD   \n",
       "111048    26430030  10/04/2013 12:12:07 AM  10/04/2013 02:45:24 AM   NYPD   \n",
       "111054    26426060  10/04/2013 12:06:39 AM  10/04/2013 12:31:16 AM   NYPD   \n",
       "111059    26429040  10/04/2013 12:04:52 AM  10/04/2013 03:01:04 AM   NYPD   \n",
       "111066    26428987  10/04/2013 12:00:45 AM  10/04/2013 01:25:01 AM   NYPD   \n",
       "\n",
       "                            Agency Name           Complaint Type  \\\n",
       "0       New York City Police Department  Noise - Street/Sidewalk   \n",
       "3       New York City Police Department          Noise - Vehicle   \n",
       "13      New York City Police Department          Noise - Vehicle   \n",
       "16      New York City Police Department  Noise - Street/Sidewalk   \n",
       "22      New York City Police Department          Noise - Vehicle   \n",
       "...                                 ...                      ...   \n",
       "111044  New York City Police Department  Noise - Street/Sidewalk   \n",
       "111048  New York City Police Department  Noise - Street/Sidewalk   \n",
       "111054  New York City Police Department  Noise - Street/Sidewalk   \n",
       "111059  New York City Police Department  Noise - Street/Sidewalk   \n",
       "111066  New York City Police Department  Noise - Street/Sidewalk   \n",
       "\n",
       "              Descriptor    Location Type Incident Zip       Incident Address  \\\n",
       "0           Loud Talking  Street/Sidewalk        11432       90-03 169 STREET   \n",
       "3         Car/Truck Horn  Street/Sidewalk        10023         WEST 72 STREET   \n",
       "13         Engine Idling  Street/Sidewalk        10466                    NaN   \n",
       "16      Loud Music/Party  Street/Sidewalk        10310    173 CAMPBELL AVENUE   \n",
       "22       Car/Truck Music  Street/Sidewalk        11419                    NaN   \n",
       "...                  ...              ...          ...                    ...   \n",
       "111044      Loud Talking  Street/Sidewalk        10032    539 WEST 162 STREET   \n",
       "111048      Loud Talking  Street/Sidewalk        10027  215 WEST 131ST STREET   \n",
       "111054      Loud Talking  Street/Sidewalk        11224   4823 BEACH 48 STREET   \n",
       "111059      Loud Talking  Street/Sidewalk        10003            99 2 AVENUE   \n",
       "111066      Loud Talking  Street/Sidewalk        10016     344 EAST 28 STREET   \n",
       "\n",
       "        ... Bridge Highway Name Bridge Highway Direction Road Ramp  \\\n",
       "0       ...                 NaN                      NaN       NaN   \n",
       "3       ...                 NaN                      NaN       NaN   \n",
       "13      ...                 NaN                      NaN       NaN   \n",
       "16      ...                 NaN                      NaN       NaN   \n",
       "22      ...                 NaN                      NaN       NaN   \n",
       "...     ...                 ...                      ...       ...   \n",
       "111044  ...                 NaN                      NaN       NaN   \n",
       "111048  ...                 NaN                      NaN       NaN   \n",
       "111054  ...                 NaN                      NaN       NaN   \n",
       "111059  ...                 NaN                      NaN       NaN   \n",
       "111066  ...                 NaN                      NaN       NaN   \n",
       "\n",
       "       Bridge Highway Segment Garage Lot Name Ferry Direction  \\\n",
       "0                         NaN             NaN             NaN   \n",
       "3                         NaN             NaN             NaN   \n",
       "13                        NaN             NaN             NaN   \n",
       "16                        NaN             NaN             NaN   \n",
       "22                        NaN             NaN             NaN   \n",
       "...                       ...             ...             ...   \n",
       "111044                    NaN             NaN             NaN   \n",
       "111048                    NaN             NaN             NaN   \n",
       "111054                    NaN             NaN             NaN   \n",
       "111059                    NaN             NaN             NaN   \n",
       "111066                    NaN             NaN             NaN   \n",
       "\n",
       "       Ferry Terminal Name   Latitude  Longitude  \\\n",
       "0                      NaN  40.708275 -73.791604   \n",
       "3                      NaN  40.778009 -73.980213   \n",
       "13                     NaN  40.891517 -73.836457   \n",
       "16                     NaN  40.636182 -74.116150   \n",
       "22                     NaN  40.692394 -73.833891   \n",
       "...                    ...        ...        ...   \n",
       "111044                 NaN  40.836532 -73.941018   \n",
       "111048                 NaN  40.813339 -73.946328   \n",
       "111054                 NaN  40.577515 -74.012207   \n",
       "111059                 NaN  40.727251 -73.988660   \n",
       "111066                 NaN  40.740295 -73.976952   \n",
       "\n",
       "                                        Location  \n",
       "0        (40.70827532593202, -73.79160395779721)  \n",
       "3         (40.7780087446372, -73.98021349023975)  \n",
       "13       (40.89151738488846, -73.83645714593568)  \n",
       "16        (40.63618202176914, -74.1161500428337)  \n",
       "22        (40.69239424979043, -73.8338912453996)  \n",
       "...                                          ...  \n",
       "111044   (40.836532082987944, -73.9410182995914)  \n",
       "111048   (40.81333907832113, -73.94632769228208)  \n",
       "111054   (40.57751513866536, -74.01220705163807)  \n",
       "111059  (40.727251287038676, -73.98866028603422)  \n",
       "111066  (40.740295354643706, -73.97695165980414)  \n",
       "\n",
       "[2678 rows x 52 columns]"
      ]
     },
     "execution_count": 27,
     "metadata": {},
     "output_type": "execute_result"
    }
   ],
   "source": [
    "complaints[complaints['Complaint Type'].isin(['Noise - Vehicle','Noise - Street/Sidewalk'])]"
   ]
  },
  {
   "cell_type": "markdown",
   "metadata": {
    "deletable": false,
    "editable": false,
    "nbgrader": {
     "checksum": "0ca3a0fce39c0d55aac416439e42df8c",
     "grade": false,
     "grade_id": "cell-bc21dd1ef412d8f5",
     "locked": true,
     "schema_version": 1,
     "solution": false
    }
   },
   "source": [
    "**Using list of Booleans**\n",
    "\n",
    "Check when values in a specific column is equal to a specific value."
   ]
  },
  {
   "cell_type": "code",
   "execution_count": 28,
   "metadata": {
    "deletable": false,
    "editable": false,
    "nbgrader": {
     "checksum": "fdc4625676b2f46356495faae64ebc24",
     "grade": false,
     "grade_id": "cell-b6bc711f7243c2ec",
     "locked": true,
     "schema_version": 1,
     "solution": false
    }
   },
   "outputs": [
    {
     "data": {
      "text/plain": [
       "0          True\n",
       "1         False\n",
       "2         False\n",
       "3         False\n",
       "4         False\n",
       "          ...  \n",
       "111064    False\n",
       "111065    False\n",
       "111066     True\n",
       "111067    False\n",
       "111068    False\n",
       "Name: Complaint Type, Length: 111069, dtype: bool"
      ]
     },
     "execution_count": 28,
     "metadata": {},
     "output_type": "execute_result"
    }
   ],
   "source": [
    "complaints['Complaint Type'] == 'Noise - Street/Sidewalk'"
   ]
  },
  {
   "cell_type": "markdown",
   "metadata": {
    "deletable": false,
    "editable": false,
    "nbgrader": {
     "checksum": "a027c2c2b417779c91d685a31490415a",
     "grade": false,
     "grade_id": "cell-f399c6385cc1aabb",
     "locked": true,
     "schema_version": 1,
     "solution": false
    }
   },
   "source": [
    "This is a big array of `True`s and `False`s, one for each row in our dataframe. When we index our dataframe with this array, we get just the rows where our boolean array evaluated to `True`.  It's important to note that for row filtering by a boolean array the length of our dataframe's index must be the same length as the boolean array used for filtering."
   ]
  },
  {
   "cell_type": "code",
   "execution_count": 29,
   "metadata": {
    "deletable": false,
    "editable": false,
    "nbgrader": {
     "checksum": "9ff49e11dbf41ab64036c372565f15aa",
     "grade": false,
     "grade_id": "cell-ff47ca6136526300",
     "locked": true,
     "schema_version": 1,
     "solution": false
    }
   },
   "outputs": [
    {
     "data": {
      "text/html": [
       "<div>\n",
       "<style scoped>\n",
       "    .dataframe tbody tr th:only-of-type {\n",
       "        vertical-align: middle;\n",
       "    }\n",
       "\n",
       "    .dataframe tbody tr th {\n",
       "        vertical-align: top;\n",
       "    }\n",
       "\n",
       "    .dataframe thead th {\n",
       "        text-align: right;\n",
       "    }\n",
       "</style>\n",
       "<table border=\"1\" class=\"dataframe\">\n",
       "  <thead>\n",
       "    <tr style=\"text-align: right;\">\n",
       "      <th></th>\n",
       "      <th>Unique Key</th>\n",
       "      <th>Created Date</th>\n",
       "      <th>Closed Date</th>\n",
       "      <th>Agency</th>\n",
       "      <th>Agency Name</th>\n",
       "      <th>Complaint Type</th>\n",
       "      <th>Descriptor</th>\n",
       "      <th>Location Type</th>\n",
       "      <th>Incident Zip</th>\n",
       "      <th>Incident Address</th>\n",
       "      <th>...</th>\n",
       "      <th>Bridge Highway Name</th>\n",
       "      <th>Bridge Highway Direction</th>\n",
       "      <th>Road Ramp</th>\n",
       "      <th>Bridge Highway Segment</th>\n",
       "      <th>Garage Lot Name</th>\n",
       "      <th>Ferry Direction</th>\n",
       "      <th>Ferry Terminal Name</th>\n",
       "      <th>Latitude</th>\n",
       "      <th>Longitude</th>\n",
       "      <th>Location</th>\n",
       "    </tr>\n",
       "  </thead>\n",
       "  <tbody>\n",
       "    <tr>\n",
       "      <th>0</th>\n",
       "      <td>26589651</td>\n",
       "      <td>10/31/2013 02:08:41 AM</td>\n",
       "      <td>NaN</td>\n",
       "      <td>NYPD</td>\n",
       "      <td>New York City Police Department</td>\n",
       "      <td>Noise - Street/Sidewalk</td>\n",
       "      <td>Loud Talking</td>\n",
       "      <td>Street/Sidewalk</td>\n",
       "      <td>11432</td>\n",
       "      <td>90-03 169 STREET</td>\n",
       "      <td>...</td>\n",
       "      <td>NaN</td>\n",
       "      <td>NaN</td>\n",
       "      <td>NaN</td>\n",
       "      <td>NaN</td>\n",
       "      <td>NaN</td>\n",
       "      <td>NaN</td>\n",
       "      <td>NaN</td>\n",
       "      <td>40.708275</td>\n",
       "      <td>-73.791604</td>\n",
       "      <td>(40.70827532593202, -73.79160395779721)</td>\n",
       "    </tr>\n",
       "    <tr>\n",
       "      <th>16</th>\n",
       "      <td>26594086</td>\n",
       "      <td>10/31/2013 12:54:03 AM</td>\n",
       "      <td>10/31/2013 02:16:39 AM</td>\n",
       "      <td>NYPD</td>\n",
       "      <td>New York City Police Department</td>\n",
       "      <td>Noise - Street/Sidewalk</td>\n",
       "      <td>Loud Music/Party</td>\n",
       "      <td>Street/Sidewalk</td>\n",
       "      <td>10310</td>\n",
       "      <td>173 CAMPBELL AVENUE</td>\n",
       "      <td>...</td>\n",
       "      <td>NaN</td>\n",
       "      <td>NaN</td>\n",
       "      <td>NaN</td>\n",
       "      <td>NaN</td>\n",
       "      <td>NaN</td>\n",
       "      <td>NaN</td>\n",
       "      <td>NaN</td>\n",
       "      <td>40.636182</td>\n",
       "      <td>-74.116150</td>\n",
       "      <td>(40.63618202176914, -74.1161500428337)</td>\n",
       "    </tr>\n",
       "    <tr>\n",
       "      <th>25</th>\n",
       "      <td>26591573</td>\n",
       "      <td>10/31/2013 12:35:18 AM</td>\n",
       "      <td>10/31/2013 02:41:35 AM</td>\n",
       "      <td>NYPD</td>\n",
       "      <td>New York City Police Department</td>\n",
       "      <td>Noise - Street/Sidewalk</td>\n",
       "      <td>Loud Talking</td>\n",
       "      <td>Street/Sidewalk</td>\n",
       "      <td>10312</td>\n",
       "      <td>24 PRINCETON LANE</td>\n",
       "      <td>...</td>\n",
       "      <td>NaN</td>\n",
       "      <td>NaN</td>\n",
       "      <td>NaN</td>\n",
       "      <td>NaN</td>\n",
       "      <td>NaN</td>\n",
       "      <td>NaN</td>\n",
       "      <td>NaN</td>\n",
       "      <td>40.553421</td>\n",
       "      <td>-74.196743</td>\n",
       "      <td>(40.55342078716953, -74.19674315017886)</td>\n",
       "    </tr>\n",
       "    <tr>\n",
       "      <th>28</th>\n",
       "      <td>26594085</td>\n",
       "      <td>10/31/2013 12:32:08 AM</td>\n",
       "      <td>NaN</td>\n",
       "      <td>NYPD</td>\n",
       "      <td>New York City Police Department</td>\n",
       "      <td>Noise - Street/Sidewalk</td>\n",
       "      <td>Loud Talking</td>\n",
       "      <td>Street/Sidewalk</td>\n",
       "      <td>10026</td>\n",
       "      <td>121 WEST 116 STREET</td>\n",
       "      <td>...</td>\n",
       "      <td>NaN</td>\n",
       "      <td>NaN</td>\n",
       "      <td>NaN</td>\n",
       "      <td>NaN</td>\n",
       "      <td>NaN</td>\n",
       "      <td>NaN</td>\n",
       "      <td>NaN</td>\n",
       "      <td>40.802390</td>\n",
       "      <td>-73.950526</td>\n",
       "      <td>(40.80238950799943, -73.95052644123253)</td>\n",
       "    </tr>\n",
       "    <tr>\n",
       "      <th>31</th>\n",
       "      <td>26595564</td>\n",
       "      <td>10/31/2013 12:30:36 AM</td>\n",
       "      <td>NaN</td>\n",
       "      <td>NYPD</td>\n",
       "      <td>New York City Police Department</td>\n",
       "      <td>Noise - Street/Sidewalk</td>\n",
       "      <td>Loud Music/Party</td>\n",
       "      <td>Street/Sidewalk</td>\n",
       "      <td>11236</td>\n",
       "      <td>AVENUE J</td>\n",
       "      <td>...</td>\n",
       "      <td>NaN</td>\n",
       "      <td>NaN</td>\n",
       "      <td>NaN</td>\n",
       "      <td>NaN</td>\n",
       "      <td>NaN</td>\n",
       "      <td>NaN</td>\n",
       "      <td>NaN</td>\n",
       "      <td>40.634104</td>\n",
       "      <td>-73.911055</td>\n",
       "      <td>(40.634103775951736, -73.91105541883589)</td>\n",
       "    </tr>\n",
       "    <tr>\n",
       "      <th>...</th>\n",
       "      <td>...</td>\n",
       "      <td>...</td>\n",
       "      <td>...</td>\n",
       "      <td>...</td>\n",
       "      <td>...</td>\n",
       "      <td>...</td>\n",
       "      <td>...</td>\n",
       "      <td>...</td>\n",
       "      <td>...</td>\n",
       "      <td>...</td>\n",
       "      <td>...</td>\n",
       "      <td>...</td>\n",
       "      <td>...</td>\n",
       "      <td>...</td>\n",
       "      <td>...</td>\n",
       "      <td>...</td>\n",
       "      <td>...</td>\n",
       "      <td>...</td>\n",
       "      <td>...</td>\n",
       "      <td>...</td>\n",
       "      <td>...</td>\n",
       "    </tr>\n",
       "    <tr>\n",
       "      <th>111044</th>\n",
       "      <td>26426096</td>\n",
       "      <td>10/04/2013 12:14:09 AM</td>\n",
       "      <td>10/04/2013 01:03:46 AM</td>\n",
       "      <td>NYPD</td>\n",
       "      <td>New York City Police Department</td>\n",
       "      <td>Noise - Street/Sidewalk</td>\n",
       "      <td>Loud Talking</td>\n",
       "      <td>Street/Sidewalk</td>\n",
       "      <td>10032</td>\n",
       "      <td>539 WEST 162 STREET</td>\n",
       "      <td>...</td>\n",
       "      <td>NaN</td>\n",
       "      <td>NaN</td>\n",
       "      <td>NaN</td>\n",
       "      <td>NaN</td>\n",
       "      <td>NaN</td>\n",
       "      <td>NaN</td>\n",
       "      <td>NaN</td>\n",
       "      <td>40.836532</td>\n",
       "      <td>-73.941018</td>\n",
       "      <td>(40.836532082987944, -73.9410182995914)</td>\n",
       "    </tr>\n",
       "    <tr>\n",
       "      <th>111048</th>\n",
       "      <td>26430030</td>\n",
       "      <td>10/04/2013 12:12:07 AM</td>\n",
       "      <td>10/04/2013 02:45:24 AM</td>\n",
       "      <td>NYPD</td>\n",
       "      <td>New York City Police Department</td>\n",
       "      <td>Noise - Street/Sidewalk</td>\n",
       "      <td>Loud Talking</td>\n",
       "      <td>Street/Sidewalk</td>\n",
       "      <td>10027</td>\n",
       "      <td>215 WEST 131ST STREET</td>\n",
       "      <td>...</td>\n",
       "      <td>NaN</td>\n",
       "      <td>NaN</td>\n",
       "      <td>NaN</td>\n",
       "      <td>NaN</td>\n",
       "      <td>NaN</td>\n",
       "      <td>NaN</td>\n",
       "      <td>NaN</td>\n",
       "      <td>40.813339</td>\n",
       "      <td>-73.946328</td>\n",
       "      <td>(40.81333907832113, -73.94632769228208)</td>\n",
       "    </tr>\n",
       "    <tr>\n",
       "      <th>111054</th>\n",
       "      <td>26426060</td>\n",
       "      <td>10/04/2013 12:06:39 AM</td>\n",
       "      <td>10/04/2013 12:31:16 AM</td>\n",
       "      <td>NYPD</td>\n",
       "      <td>New York City Police Department</td>\n",
       "      <td>Noise - Street/Sidewalk</td>\n",
       "      <td>Loud Talking</td>\n",
       "      <td>Street/Sidewalk</td>\n",
       "      <td>11224</td>\n",
       "      <td>4823 BEACH 48 STREET</td>\n",
       "      <td>...</td>\n",
       "      <td>NaN</td>\n",
       "      <td>NaN</td>\n",
       "      <td>NaN</td>\n",
       "      <td>NaN</td>\n",
       "      <td>NaN</td>\n",
       "      <td>NaN</td>\n",
       "      <td>NaN</td>\n",
       "      <td>40.577515</td>\n",
       "      <td>-74.012207</td>\n",
       "      <td>(40.57751513866536, -74.01220705163807)</td>\n",
       "    </tr>\n",
       "    <tr>\n",
       "      <th>111059</th>\n",
       "      <td>26429040</td>\n",
       "      <td>10/04/2013 12:04:52 AM</td>\n",
       "      <td>10/04/2013 03:01:04 AM</td>\n",
       "      <td>NYPD</td>\n",
       "      <td>New York City Police Department</td>\n",
       "      <td>Noise - Street/Sidewalk</td>\n",
       "      <td>Loud Talking</td>\n",
       "      <td>Street/Sidewalk</td>\n",
       "      <td>10003</td>\n",
       "      <td>99 2 AVENUE</td>\n",
       "      <td>...</td>\n",
       "      <td>NaN</td>\n",
       "      <td>NaN</td>\n",
       "      <td>NaN</td>\n",
       "      <td>NaN</td>\n",
       "      <td>NaN</td>\n",
       "      <td>NaN</td>\n",
       "      <td>NaN</td>\n",
       "      <td>40.727251</td>\n",
       "      <td>-73.988660</td>\n",
       "      <td>(40.727251287038676, -73.98866028603422)</td>\n",
       "    </tr>\n",
       "    <tr>\n",
       "      <th>111066</th>\n",
       "      <td>26428987</td>\n",
       "      <td>10/04/2013 12:00:45 AM</td>\n",
       "      <td>10/04/2013 01:25:01 AM</td>\n",
       "      <td>NYPD</td>\n",
       "      <td>New York City Police Department</td>\n",
       "      <td>Noise - Street/Sidewalk</td>\n",
       "      <td>Loud Talking</td>\n",
       "      <td>Street/Sidewalk</td>\n",
       "      <td>10016</td>\n",
       "      <td>344 EAST 28 STREET</td>\n",
       "      <td>...</td>\n",
       "      <td>NaN</td>\n",
       "      <td>NaN</td>\n",
       "      <td>NaN</td>\n",
       "      <td>NaN</td>\n",
       "      <td>NaN</td>\n",
       "      <td>NaN</td>\n",
       "      <td>NaN</td>\n",
       "      <td>40.740295</td>\n",
       "      <td>-73.976952</td>\n",
       "      <td>(40.740295354643706, -73.97695165980414)</td>\n",
       "    </tr>\n",
       "  </tbody>\n",
       "</table>\n",
       "<p>1928 rows × 52 columns</p>\n",
       "</div>"
      ],
      "text/plain": [
       "        Unique Key            Created Date             Closed Date Agency  \\\n",
       "0         26589651  10/31/2013 02:08:41 AM                     NaN   NYPD   \n",
       "16        26594086  10/31/2013 12:54:03 AM  10/31/2013 02:16:39 AM   NYPD   \n",
       "25        26591573  10/31/2013 12:35:18 AM  10/31/2013 02:41:35 AM   NYPD   \n",
       "28        26594085  10/31/2013 12:32:08 AM                     NaN   NYPD   \n",
       "31        26595564  10/31/2013 12:30:36 AM                     NaN   NYPD   \n",
       "...            ...                     ...                     ...    ...   \n",
       "111044    26426096  10/04/2013 12:14:09 AM  10/04/2013 01:03:46 AM   NYPD   \n",
       "111048    26430030  10/04/2013 12:12:07 AM  10/04/2013 02:45:24 AM   NYPD   \n",
       "111054    26426060  10/04/2013 12:06:39 AM  10/04/2013 12:31:16 AM   NYPD   \n",
       "111059    26429040  10/04/2013 12:04:52 AM  10/04/2013 03:01:04 AM   NYPD   \n",
       "111066    26428987  10/04/2013 12:00:45 AM  10/04/2013 01:25:01 AM   NYPD   \n",
       "\n",
       "                            Agency Name           Complaint Type  \\\n",
       "0       New York City Police Department  Noise - Street/Sidewalk   \n",
       "16      New York City Police Department  Noise - Street/Sidewalk   \n",
       "25      New York City Police Department  Noise - Street/Sidewalk   \n",
       "28      New York City Police Department  Noise - Street/Sidewalk   \n",
       "31      New York City Police Department  Noise - Street/Sidewalk   \n",
       "...                                 ...                      ...   \n",
       "111044  New York City Police Department  Noise - Street/Sidewalk   \n",
       "111048  New York City Police Department  Noise - Street/Sidewalk   \n",
       "111054  New York City Police Department  Noise - Street/Sidewalk   \n",
       "111059  New York City Police Department  Noise - Street/Sidewalk   \n",
       "111066  New York City Police Department  Noise - Street/Sidewalk   \n",
       "\n",
       "              Descriptor    Location Type Incident Zip       Incident Address  \\\n",
       "0           Loud Talking  Street/Sidewalk        11432       90-03 169 STREET   \n",
       "16      Loud Music/Party  Street/Sidewalk        10310    173 CAMPBELL AVENUE   \n",
       "25          Loud Talking  Street/Sidewalk        10312      24 PRINCETON LANE   \n",
       "28          Loud Talking  Street/Sidewalk        10026    121 WEST 116 STREET   \n",
       "31      Loud Music/Party  Street/Sidewalk        11236               AVENUE J   \n",
       "...                  ...              ...          ...                    ...   \n",
       "111044      Loud Talking  Street/Sidewalk        10032    539 WEST 162 STREET   \n",
       "111048      Loud Talking  Street/Sidewalk        10027  215 WEST 131ST STREET   \n",
       "111054      Loud Talking  Street/Sidewalk        11224   4823 BEACH 48 STREET   \n",
       "111059      Loud Talking  Street/Sidewalk        10003            99 2 AVENUE   \n",
       "111066      Loud Talking  Street/Sidewalk        10016     344 EAST 28 STREET   \n",
       "\n",
       "        ... Bridge Highway Name Bridge Highway Direction Road Ramp  \\\n",
       "0       ...                 NaN                      NaN       NaN   \n",
       "16      ...                 NaN                      NaN       NaN   \n",
       "25      ...                 NaN                      NaN       NaN   \n",
       "28      ...                 NaN                      NaN       NaN   \n",
       "31      ...                 NaN                      NaN       NaN   \n",
       "...     ...                 ...                      ...       ...   \n",
       "111044  ...                 NaN                      NaN       NaN   \n",
       "111048  ...                 NaN                      NaN       NaN   \n",
       "111054  ...                 NaN                      NaN       NaN   \n",
       "111059  ...                 NaN                      NaN       NaN   \n",
       "111066  ...                 NaN                      NaN       NaN   \n",
       "\n",
       "       Bridge Highway Segment Garage Lot Name Ferry Direction  \\\n",
       "0                         NaN             NaN             NaN   \n",
       "16                        NaN             NaN             NaN   \n",
       "25                        NaN             NaN             NaN   \n",
       "28                        NaN             NaN             NaN   \n",
       "31                        NaN             NaN             NaN   \n",
       "...                       ...             ...             ...   \n",
       "111044                    NaN             NaN             NaN   \n",
       "111048                    NaN             NaN             NaN   \n",
       "111054                    NaN             NaN             NaN   \n",
       "111059                    NaN             NaN             NaN   \n",
       "111066                    NaN             NaN             NaN   \n",
       "\n",
       "       Ferry Terminal Name   Latitude  Longitude  \\\n",
       "0                      NaN  40.708275 -73.791604   \n",
       "16                     NaN  40.636182 -74.116150   \n",
       "25                     NaN  40.553421 -74.196743   \n",
       "28                     NaN  40.802390 -73.950526   \n",
       "31                     NaN  40.634104 -73.911055   \n",
       "...                    ...        ...        ...   \n",
       "111044                 NaN  40.836532 -73.941018   \n",
       "111048                 NaN  40.813339 -73.946328   \n",
       "111054                 NaN  40.577515 -74.012207   \n",
       "111059                 NaN  40.727251 -73.988660   \n",
       "111066                 NaN  40.740295 -73.976952   \n",
       "\n",
       "                                        Location  \n",
       "0        (40.70827532593202, -73.79160395779721)  \n",
       "16        (40.63618202176914, -74.1161500428337)  \n",
       "25       (40.55342078716953, -74.19674315017886)  \n",
       "28       (40.80238950799943, -73.95052644123253)  \n",
       "31      (40.634103775951736, -73.91105541883589)  \n",
       "...                                          ...  \n",
       "111044   (40.836532082987944, -73.9410182995914)  \n",
       "111048   (40.81333907832113, -73.94632769228208)  \n",
       "111054   (40.57751513866536, -74.01220705163807)  \n",
       "111059  (40.727251287038676, -73.98866028603422)  \n",
       "111066  (40.740295354643706, -73.97695165980414)  \n",
       "\n",
       "[1928 rows x 52 columns]"
      ]
     },
     "execution_count": 29,
     "metadata": {},
     "output_type": "execute_result"
    }
   ],
   "source": [
    "complaints[complaints['Complaint Type'] == 'Noise - Street/Sidewalk' ]"
   ]
  },
  {
   "cell_type": "markdown",
   "metadata": {
    "deletable": false,
    "editable": false,
    "nbgrader": {
     "checksum": "8be3b340461b694bb0da22505db57a2a",
     "grade": false,
     "grade_id": "cell-d8aa6ee24f25ab41",
     "locked": true,
     "schema_version": 1,
     "solution": false
    }
   },
   "source": [
    "You can also combine more than one condition with the `&` operator like this:"
   ]
  },
  {
   "cell_type": "code",
   "execution_count": 30,
   "metadata": {
    "deletable": false,
    "editable": false,
    "nbgrader": {
     "checksum": "5060c92cf7d7074698787d1b3c3ed431",
     "grade": false,
     "grade_id": "cell-866df70cf322b29e",
     "locked": true,
     "schema_version": 1,
     "solution": false
    }
   },
   "outputs": [
    {
     "data": {
      "text/html": [
       "<div>\n",
       "<style scoped>\n",
       "    .dataframe tbody tr th:only-of-type {\n",
       "        vertical-align: middle;\n",
       "    }\n",
       "\n",
       "    .dataframe tbody tr th {\n",
       "        vertical-align: top;\n",
       "    }\n",
       "\n",
       "    .dataframe thead th {\n",
       "        text-align: right;\n",
       "    }\n",
       "</style>\n",
       "<table border=\"1\" class=\"dataframe\">\n",
       "  <thead>\n",
       "    <tr style=\"text-align: right;\">\n",
       "      <th></th>\n",
       "      <th>Unique Key</th>\n",
       "      <th>Created Date</th>\n",
       "      <th>Closed Date</th>\n",
       "      <th>Agency</th>\n",
       "      <th>Agency Name</th>\n",
       "      <th>Complaint Type</th>\n",
       "      <th>Descriptor</th>\n",
       "      <th>Location Type</th>\n",
       "      <th>Incident Zip</th>\n",
       "      <th>Incident Address</th>\n",
       "      <th>...</th>\n",
       "      <th>Bridge Highway Name</th>\n",
       "      <th>Bridge Highway Direction</th>\n",
       "      <th>Road Ramp</th>\n",
       "      <th>Bridge Highway Segment</th>\n",
       "      <th>Garage Lot Name</th>\n",
       "      <th>Ferry Direction</th>\n",
       "      <th>Ferry Terminal Name</th>\n",
       "      <th>Latitude</th>\n",
       "      <th>Longitude</th>\n",
       "      <th>Location</th>\n",
       "    </tr>\n",
       "  </thead>\n",
       "  <tbody>\n",
       "    <tr>\n",
       "      <th>0</th>\n",
       "      <td>26589651</td>\n",
       "      <td>10/31/2013 02:08:41 AM</td>\n",
       "      <td>NaN</td>\n",
       "      <td>NYPD</td>\n",
       "      <td>New York City Police Department</td>\n",
       "      <td>Noise - Street/Sidewalk</td>\n",
       "      <td>Loud Talking</td>\n",
       "      <td>Street/Sidewalk</td>\n",
       "      <td>11432</td>\n",
       "      <td>90-03 169 STREET</td>\n",
       "      <td>...</td>\n",
       "      <td>NaN</td>\n",
       "      <td>NaN</td>\n",
       "      <td>NaN</td>\n",
       "      <td>NaN</td>\n",
       "      <td>NaN</td>\n",
       "      <td>NaN</td>\n",
       "      <td>NaN</td>\n",
       "      <td>40.708275</td>\n",
       "      <td>-73.791604</td>\n",
       "      <td>(40.70827532593202, -73.79160395779721)</td>\n",
       "    </tr>\n",
       "    <tr>\n",
       "      <th>1</th>\n",
       "      <td>26593698</td>\n",
       "      <td>10/31/2013 02:01:04 AM</td>\n",
       "      <td>NaN</td>\n",
       "      <td>NYPD</td>\n",
       "      <td>New York City Police Department</td>\n",
       "      <td>Illegal Parking</td>\n",
       "      <td>Commercial Overnight Parking</td>\n",
       "      <td>Street/Sidewalk</td>\n",
       "      <td>11378</td>\n",
       "      <td>58 AVENUE</td>\n",
       "      <td>...</td>\n",
       "      <td>NaN</td>\n",
       "      <td>NaN</td>\n",
       "      <td>NaN</td>\n",
       "      <td>NaN</td>\n",
       "      <td>NaN</td>\n",
       "      <td>NaN</td>\n",
       "      <td>NaN</td>\n",
       "      <td>40.721041</td>\n",
       "      <td>-73.909453</td>\n",
       "      <td>(40.721040535628305, -73.90945306791765)</td>\n",
       "    </tr>\n",
       "    <tr>\n",
       "      <th>2</th>\n",
       "      <td>26594139</td>\n",
       "      <td>10/31/2013 02:00:24 AM</td>\n",
       "      <td>10/31/2013 02:40:32 AM</td>\n",
       "      <td>NYPD</td>\n",
       "      <td>New York City Police Department</td>\n",
       "      <td>Noise - Commercial</td>\n",
       "      <td>Loud Music/Party</td>\n",
       "      <td>Club/Bar/Restaurant</td>\n",
       "      <td>10032</td>\n",
       "      <td>4060 BROADWAY</td>\n",
       "      <td>...</td>\n",
       "      <td>NaN</td>\n",
       "      <td>NaN</td>\n",
       "      <td>NaN</td>\n",
       "      <td>NaN</td>\n",
       "      <td>NaN</td>\n",
       "      <td>NaN</td>\n",
       "      <td>NaN</td>\n",
       "      <td>40.843330</td>\n",
       "      <td>-73.939144</td>\n",
       "      <td>(40.84332975466513, -73.93914371913482)</td>\n",
       "    </tr>\n",
       "    <tr>\n",
       "      <th>3</th>\n",
       "      <td>26595721</td>\n",
       "      <td>10/31/2013 01:56:23 AM</td>\n",
       "      <td>10/31/2013 02:21:48 AM</td>\n",
       "      <td>NYPD</td>\n",
       "      <td>New York City Police Department</td>\n",
       "      <td>Noise - Vehicle</td>\n",
       "      <td>Car/Truck Horn</td>\n",
       "      <td>Street/Sidewalk</td>\n",
       "      <td>10023</td>\n",
       "      <td>WEST 72 STREET</td>\n",
       "      <td>...</td>\n",
       "      <td>NaN</td>\n",
       "      <td>NaN</td>\n",
       "      <td>NaN</td>\n",
       "      <td>NaN</td>\n",
       "      <td>NaN</td>\n",
       "      <td>NaN</td>\n",
       "      <td>NaN</td>\n",
       "      <td>40.778009</td>\n",
       "      <td>-73.980213</td>\n",
       "      <td>(40.7780087446372, -73.98021349023975)</td>\n",
       "    </tr>\n",
       "    <tr>\n",
       "      <th>4</th>\n",
       "      <td>26590930</td>\n",
       "      <td>10/31/2013 01:53:44 AM</td>\n",
       "      <td>NaN</td>\n",
       "      <td>DOHMH</td>\n",
       "      <td>Department of Health and Mental Hygiene</td>\n",
       "      <td>Rodent</td>\n",
       "      <td>Condition Attracting Rodents</td>\n",
       "      <td>Vacant Lot</td>\n",
       "      <td>10027</td>\n",
       "      <td>WEST 124 STREET</td>\n",
       "      <td>...</td>\n",
       "      <td>NaN</td>\n",
       "      <td>NaN</td>\n",
       "      <td>NaN</td>\n",
       "      <td>NaN</td>\n",
       "      <td>NaN</td>\n",
       "      <td>NaN</td>\n",
       "      <td>NaN</td>\n",
       "      <td>40.807691</td>\n",
       "      <td>-73.947387</td>\n",
       "      <td>(40.80769092704951, -73.94738703491433)</td>\n",
       "    </tr>\n",
       "    <tr>\n",
       "      <th>5</th>\n",
       "      <td>26592370</td>\n",
       "      <td>10/31/2013 01:46:52 AM</td>\n",
       "      <td>NaN</td>\n",
       "      <td>NYPD</td>\n",
       "      <td>New York City Police Department</td>\n",
       "      <td>Noise - Commercial</td>\n",
       "      <td>Banging/Pounding</td>\n",
       "      <td>Club/Bar/Restaurant</td>\n",
       "      <td>11372</td>\n",
       "      <td>37 AVENUE</td>\n",
       "      <td>...</td>\n",
       "      <td>NaN</td>\n",
       "      <td>NaN</td>\n",
       "      <td>NaN</td>\n",
       "      <td>NaN</td>\n",
       "      <td>NaN</td>\n",
       "      <td>NaN</td>\n",
       "      <td>NaN</td>\n",
       "      <td>40.749989</td>\n",
       "      <td>-73.881988</td>\n",
       "      <td>(40.7499893014072, -73.88198770727831)</td>\n",
       "    </tr>\n",
       "    <tr>\n",
       "      <th>6</th>\n",
       "      <td>26595682</td>\n",
       "      <td>10/31/2013 01:46:40 AM</td>\n",
       "      <td>NaN</td>\n",
       "      <td>NYPD</td>\n",
       "      <td>New York City Police Department</td>\n",
       "      <td>Blocked Driveway</td>\n",
       "      <td>No Access</td>\n",
       "      <td>Street/Sidewalk</td>\n",
       "      <td>11419</td>\n",
       "      <td>107-50 109 STREET</td>\n",
       "      <td>...</td>\n",
       "      <td>NaN</td>\n",
       "      <td>NaN</td>\n",
       "      <td>NaN</td>\n",
       "      <td>NaN</td>\n",
       "      <td>NaN</td>\n",
       "      <td>NaN</td>\n",
       "      <td>NaN</td>\n",
       "      <td>40.681533</td>\n",
       "      <td>-73.831737</td>\n",
       "      <td>(40.68153278675525, -73.83173699701601)</td>\n",
       "    </tr>\n",
       "    <tr>\n",
       "      <th>7</th>\n",
       "      <td>26595195</td>\n",
       "      <td>10/31/2013 01:44:19 AM</td>\n",
       "      <td>10/31/2013 01:58:49 AM</td>\n",
       "      <td>NYPD</td>\n",
       "      <td>New York City Police Department</td>\n",
       "      <td>Noise - Commercial</td>\n",
       "      <td>Loud Music/Party</td>\n",
       "      <td>Club/Bar/Restaurant</td>\n",
       "      <td>11417</td>\n",
       "      <td>137-09 CROSSBAY BOULEVARD</td>\n",
       "      <td>...</td>\n",
       "      <td>NaN</td>\n",
       "      <td>NaN</td>\n",
       "      <td>NaN</td>\n",
       "      <td>NaN</td>\n",
       "      <td>NaN</td>\n",
       "      <td>NaN</td>\n",
       "      <td>NaN</td>\n",
       "      <td>40.671816</td>\n",
       "      <td>-73.843092</td>\n",
       "      <td>(40.67181584567338, -73.84309181950769)</td>\n",
       "    </tr>\n",
       "    <tr>\n",
       "      <th>8</th>\n",
       "      <td>26590540</td>\n",
       "      <td>10/31/2013 01:44:14 AM</td>\n",
       "      <td>10/31/2013 02:28:04 AM</td>\n",
       "      <td>NYPD</td>\n",
       "      <td>New York City Police Department</td>\n",
       "      <td>Noise - Commercial</td>\n",
       "      <td>Loud Talking</td>\n",
       "      <td>Club/Bar/Restaurant</td>\n",
       "      <td>10011</td>\n",
       "      <td>258 WEST 15 STREET</td>\n",
       "      <td>...</td>\n",
       "      <td>NaN</td>\n",
       "      <td>NaN</td>\n",
       "      <td>NaN</td>\n",
       "      <td>NaN</td>\n",
       "      <td>NaN</td>\n",
       "      <td>NaN</td>\n",
       "      <td>NaN</td>\n",
       "      <td>40.739913</td>\n",
       "      <td>-74.000790</td>\n",
       "      <td>(40.73991339303542, -74.00079028612932)</td>\n",
       "    </tr>\n",
       "    <tr>\n",
       "      <th>9</th>\n",
       "      <td>26594392</td>\n",
       "      <td>10/31/2013 01:34:41 AM</td>\n",
       "      <td>10/31/2013 02:23:51 AM</td>\n",
       "      <td>NYPD</td>\n",
       "      <td>New York City Police Department</td>\n",
       "      <td>Noise - Commercial</td>\n",
       "      <td>Loud Music/Party</td>\n",
       "      <td>Club/Bar/Restaurant</td>\n",
       "      <td>11225</td>\n",
       "      <td>835 NOSTRAND AVENUE</td>\n",
       "      <td>...</td>\n",
       "      <td>NaN</td>\n",
       "      <td>NaN</td>\n",
       "      <td>NaN</td>\n",
       "      <td>NaN</td>\n",
       "      <td>NaN</td>\n",
       "      <td>NaN</td>\n",
       "      <td>NaN</td>\n",
       "      <td>40.668204</td>\n",
       "      <td>-73.950648</td>\n",
       "      <td>(40.66820406598287, -73.95064760056546)</td>\n",
       "    </tr>\n",
       "  </tbody>\n",
       "</table>\n",
       "<p>10 rows × 52 columns</p>\n",
       "</div>"
      ],
      "text/plain": [
       "   Unique Key            Created Date             Closed Date Agency  \\\n",
       "0    26589651  10/31/2013 02:08:41 AM                     NaN   NYPD   \n",
       "1    26593698  10/31/2013 02:01:04 AM                     NaN   NYPD   \n",
       "2    26594139  10/31/2013 02:00:24 AM  10/31/2013 02:40:32 AM   NYPD   \n",
       "3    26595721  10/31/2013 01:56:23 AM  10/31/2013 02:21:48 AM   NYPD   \n",
       "4    26590930  10/31/2013 01:53:44 AM                     NaN  DOHMH   \n",
       "5    26592370  10/31/2013 01:46:52 AM                     NaN   NYPD   \n",
       "6    26595682  10/31/2013 01:46:40 AM                     NaN   NYPD   \n",
       "7    26595195  10/31/2013 01:44:19 AM  10/31/2013 01:58:49 AM   NYPD   \n",
       "8    26590540  10/31/2013 01:44:14 AM  10/31/2013 02:28:04 AM   NYPD   \n",
       "9    26594392  10/31/2013 01:34:41 AM  10/31/2013 02:23:51 AM   NYPD   \n",
       "\n",
       "                               Agency Name           Complaint Type  \\\n",
       "0          New York City Police Department  Noise - Street/Sidewalk   \n",
       "1          New York City Police Department          Illegal Parking   \n",
       "2          New York City Police Department       Noise - Commercial   \n",
       "3          New York City Police Department          Noise - Vehicle   \n",
       "4  Department of Health and Mental Hygiene                   Rodent   \n",
       "5          New York City Police Department       Noise - Commercial   \n",
       "6          New York City Police Department         Blocked Driveway   \n",
       "7          New York City Police Department       Noise - Commercial   \n",
       "8          New York City Police Department       Noise - Commercial   \n",
       "9          New York City Police Department       Noise - Commercial   \n",
       "\n",
       "                     Descriptor        Location Type Incident Zip  \\\n",
       "0                  Loud Talking      Street/Sidewalk        11432   \n",
       "1  Commercial Overnight Parking      Street/Sidewalk        11378   \n",
       "2              Loud Music/Party  Club/Bar/Restaurant        10032   \n",
       "3                Car/Truck Horn      Street/Sidewalk        10023   \n",
       "4  Condition Attracting Rodents           Vacant Lot        10027   \n",
       "5              Banging/Pounding  Club/Bar/Restaurant        11372   \n",
       "6                     No Access      Street/Sidewalk        11419   \n",
       "7              Loud Music/Party  Club/Bar/Restaurant        11417   \n",
       "8                  Loud Talking  Club/Bar/Restaurant        10011   \n",
       "9              Loud Music/Party  Club/Bar/Restaurant        11225   \n",
       "\n",
       "            Incident Address  ... Bridge Highway Name  \\\n",
       "0           90-03 169 STREET  ...                 NaN   \n",
       "1                  58 AVENUE  ...                 NaN   \n",
       "2              4060 BROADWAY  ...                 NaN   \n",
       "3             WEST 72 STREET  ...                 NaN   \n",
       "4            WEST 124 STREET  ...                 NaN   \n",
       "5                  37 AVENUE  ...                 NaN   \n",
       "6          107-50 109 STREET  ...                 NaN   \n",
       "7  137-09 CROSSBAY BOULEVARD  ...                 NaN   \n",
       "8         258 WEST 15 STREET  ...                 NaN   \n",
       "9        835 NOSTRAND AVENUE  ...                 NaN   \n",
       "\n",
       "  Bridge Highway Direction Road Ramp Bridge Highway Segment Garage Lot Name  \\\n",
       "0                      NaN       NaN                    NaN             NaN   \n",
       "1                      NaN       NaN                    NaN             NaN   \n",
       "2                      NaN       NaN                    NaN             NaN   \n",
       "3                      NaN       NaN                    NaN             NaN   \n",
       "4                      NaN       NaN                    NaN             NaN   \n",
       "5                      NaN       NaN                    NaN             NaN   \n",
       "6                      NaN       NaN                    NaN             NaN   \n",
       "7                      NaN       NaN                    NaN             NaN   \n",
       "8                      NaN       NaN                    NaN             NaN   \n",
       "9                      NaN       NaN                    NaN             NaN   \n",
       "\n",
       "  Ferry Direction Ferry Terminal Name   Latitude  Longitude  \\\n",
       "0             NaN                 NaN  40.708275 -73.791604   \n",
       "1             NaN                 NaN  40.721041 -73.909453   \n",
       "2             NaN                 NaN  40.843330 -73.939144   \n",
       "3             NaN                 NaN  40.778009 -73.980213   \n",
       "4             NaN                 NaN  40.807691 -73.947387   \n",
       "5             NaN                 NaN  40.749989 -73.881988   \n",
       "6             NaN                 NaN  40.681533 -73.831737   \n",
       "7             NaN                 NaN  40.671816 -73.843092   \n",
       "8             NaN                 NaN  40.739913 -74.000790   \n",
       "9             NaN                 NaN  40.668204 -73.950648   \n",
       "\n",
       "                                   Location  \n",
       "0   (40.70827532593202, -73.79160395779721)  \n",
       "1  (40.721040535628305, -73.90945306791765)  \n",
       "2   (40.84332975466513, -73.93914371913482)  \n",
       "3    (40.7780087446372, -73.98021349023975)  \n",
       "4   (40.80769092704951, -73.94738703491433)  \n",
       "5    (40.7499893014072, -73.88198770727831)  \n",
       "6   (40.68153278675525, -73.83173699701601)  \n",
       "7   (40.67181584567338, -73.84309181950769)  \n",
       "8   (40.73991339303542, -74.00079028612932)  \n",
       "9   (40.66820406598287, -73.95064760056546)  \n",
       "\n",
       "[10 rows x 52 columns]"
      ]
     },
     "execution_count": 30,
     "metadata": {},
     "output_type": "execute_result"
    }
   ],
   "source": [
    "is_noise = complaints['Complaint Type'] == \"Noise - Street/Sidewalk\"\n",
    "in_brooklyn = complaints['Borough'] == \"BROOKLYN\"\n",
    "# now, both must be true since we use & here:\n",
    "complaints[~(is_noise & in_brooklyn)].iloc[:10,:]"
   ]
  },
  {
   "cell_type": "markdown",
   "metadata": {
    "deletable": false,
    "editable": false,
    "nbgrader": {
     "checksum": "5193416b56733e117830cc6dfbef0bf6",
     "grade": false,
     "grade_id": "cell-b75fcb5751468079",
     "locked": true,
     "schema_version": 1,
     "solution": false
    }
   },
   "source": [
    "Or, to limit the columns we return -- \n"
   ]
  },
  {
   "cell_type": "code",
   "execution_count": 31,
   "metadata": {
    "deletable": false,
    "editable": false,
    "nbgrader": {
     "checksum": "4de8c3e102d73be93ffc9e15a74e44ad",
     "grade": false,
     "grade_id": "cell-a7c6b2b04825756e",
     "locked": true,
     "schema_version": 1,
     "solution": false
    }
   },
   "outputs": [
    {
     "data": {
      "text/html": [
       "<div>\n",
       "<style scoped>\n",
       "    .dataframe tbody tr th:only-of-type {\n",
       "        vertical-align: middle;\n",
       "    }\n",
       "\n",
       "    .dataframe tbody tr th {\n",
       "        vertical-align: top;\n",
       "    }\n",
       "\n",
       "    .dataframe thead th {\n",
       "        text-align: right;\n",
       "    }\n",
       "</style>\n",
       "<table border=\"1\" class=\"dataframe\">\n",
       "  <thead>\n",
       "    <tr style=\"text-align: right;\">\n",
       "      <th></th>\n",
       "      <th>Complaint Type</th>\n",
       "      <th>Borough</th>\n",
       "      <th>Created Date</th>\n",
       "      <th>Descriptor</th>\n",
       "    </tr>\n",
       "  </thead>\n",
       "  <tbody>\n",
       "    <tr>\n",
       "      <th>31</th>\n",
       "      <td>Noise - Street/Sidewalk</td>\n",
       "      <td>BROOKLYN</td>\n",
       "      <td>10/31/2013 12:30:36 AM</td>\n",
       "      <td>Loud Music/Party</td>\n",
       "    </tr>\n",
       "    <tr>\n",
       "      <th>49</th>\n",
       "      <td>Noise - Street/Sidewalk</td>\n",
       "      <td>BROOKLYN</td>\n",
       "      <td>10/31/2013 12:05:10 AM</td>\n",
       "      <td>Loud Talking</td>\n",
       "    </tr>\n",
       "    <tr>\n",
       "      <th>109</th>\n",
       "      <td>Noise - Street/Sidewalk</td>\n",
       "      <td>BROOKLYN</td>\n",
       "      <td>10/30/2013 11:26:32 PM</td>\n",
       "      <td>Loud Music/Party</td>\n",
       "    </tr>\n",
       "    <tr>\n",
       "      <th>236</th>\n",
       "      <td>Noise - Street/Sidewalk</td>\n",
       "      <td>BROOKLYN</td>\n",
       "      <td>10/30/2013 10:02:58 PM</td>\n",
       "      <td>Loud Talking</td>\n",
       "    </tr>\n",
       "    <tr>\n",
       "      <th>370</th>\n",
       "      <td>Noise - Street/Sidewalk</td>\n",
       "      <td>BROOKLYN</td>\n",
       "      <td>10/30/2013 08:38:25 PM</td>\n",
       "      <td>Loud Music/Party</td>\n",
       "    </tr>\n",
       "    <tr>\n",
       "      <th>...</th>\n",
       "      <td>...</td>\n",
       "      <td>...</td>\n",
       "      <td>...</td>\n",
       "      <td>...</td>\n",
       "    </tr>\n",
       "    <tr>\n",
       "      <th>111002</th>\n",
       "      <td>Noise - Street/Sidewalk</td>\n",
       "      <td>BROOKLYN</td>\n",
       "      <td>10/04/2013 01:02:45 AM</td>\n",
       "      <td>Loud Music/Party</td>\n",
       "    </tr>\n",
       "    <tr>\n",
       "      <th>111006</th>\n",
       "      <td>Noise - Street/Sidewalk</td>\n",
       "      <td>BROOKLYN</td>\n",
       "      <td>10/04/2013 12:59:57 AM</td>\n",
       "      <td>Loud Talking</td>\n",
       "    </tr>\n",
       "    <tr>\n",
       "      <th>111021</th>\n",
       "      <td>Noise - Street/Sidewalk</td>\n",
       "      <td>BROOKLYN</td>\n",
       "      <td>10/04/2013 12:42:45 AM</td>\n",
       "      <td>Loud Talking</td>\n",
       "    </tr>\n",
       "    <tr>\n",
       "      <th>111035</th>\n",
       "      <td>Noise - Street/Sidewalk</td>\n",
       "      <td>BROOKLYN</td>\n",
       "      <td>10/04/2013 12:21:04 AM</td>\n",
       "      <td>Loud Music/Party</td>\n",
       "    </tr>\n",
       "    <tr>\n",
       "      <th>111054</th>\n",
       "      <td>Noise - Street/Sidewalk</td>\n",
       "      <td>BROOKLYN</td>\n",
       "      <td>10/04/2013 12:06:39 AM</td>\n",
       "      <td>Loud Talking</td>\n",
       "    </tr>\n",
       "  </tbody>\n",
       "</table>\n",
       "<p>456 rows × 4 columns</p>\n",
       "</div>"
      ],
      "text/plain": [
       "                 Complaint Type   Borough            Created Date  \\\n",
       "31      Noise - Street/Sidewalk  BROOKLYN  10/31/2013 12:30:36 AM   \n",
       "49      Noise - Street/Sidewalk  BROOKLYN  10/31/2013 12:05:10 AM   \n",
       "109     Noise - Street/Sidewalk  BROOKLYN  10/30/2013 11:26:32 PM   \n",
       "236     Noise - Street/Sidewalk  BROOKLYN  10/30/2013 10:02:58 PM   \n",
       "370     Noise - Street/Sidewalk  BROOKLYN  10/30/2013 08:38:25 PM   \n",
       "...                         ...       ...                     ...   \n",
       "111002  Noise - Street/Sidewalk  BROOKLYN  10/04/2013 01:02:45 AM   \n",
       "111006  Noise - Street/Sidewalk  BROOKLYN  10/04/2013 12:59:57 AM   \n",
       "111021  Noise - Street/Sidewalk  BROOKLYN  10/04/2013 12:42:45 AM   \n",
       "111035  Noise - Street/Sidewalk  BROOKLYN  10/04/2013 12:21:04 AM   \n",
       "111054  Noise - Street/Sidewalk  BROOKLYN  10/04/2013 12:06:39 AM   \n",
       "\n",
       "              Descriptor  \n",
       "31      Loud Music/Party  \n",
       "49          Loud Talking  \n",
       "109     Loud Music/Party  \n",
       "236         Loud Talking  \n",
       "370     Loud Music/Party  \n",
       "...                  ...  \n",
       "111002  Loud Music/Party  \n",
       "111006      Loud Talking  \n",
       "111021      Loud Talking  \n",
       "111035  Loud Music/Party  \n",
       "111054      Loud Talking  \n",
       "\n",
       "[456 rows x 4 columns]"
      ]
     },
     "execution_count": 31,
     "metadata": {},
     "output_type": "execute_result"
    }
   ],
   "source": [
    "complaints[is_noise & in_brooklyn][['Complaint Type', 'Borough', 'Created Date', 'Descriptor']]\n"
   ]
  },
  {
   "cell_type": "markdown",
   "metadata": {
    "deletable": false,
    "editable": false,
    "nbgrader": {
     "checksum": "99b78f2a9c4b5eb6ed30a5ecd69d2976",
     "grade": false,
     "grade_id": "cell-80a74b736a2602df",
     "locked": true,
     "schema_version": 1,
     "solution": false
    }
   },
   "source": [
    "## Get information about data\n",
    "### Display the index, columns, and the underlying numpy data"
   ]
  },
  {
   "cell_type": "code",
   "execution_count": 32,
   "metadata": {
    "deletable": false,
    "editable": false,
    "nbgrader": {
     "checksum": "4e1de8d31e9f611c1150144fd4720168",
     "grade": false,
     "grade_id": "cell-926b313d66aa133f",
     "locked": true,
     "schema_version": 1,
     "solution": false
    }
   },
   "outputs": [
    {
     "data": {
      "text/html": [
       "<div>\n",
       "<style scoped>\n",
       "    .dataframe tbody tr th:only-of-type {\n",
       "        vertical-align: middle;\n",
       "    }\n",
       "\n",
       "    .dataframe tbody tr th {\n",
       "        vertical-align: top;\n",
       "    }\n",
       "\n",
       "    .dataframe thead th {\n",
       "        text-align: right;\n",
       "    }\n",
       "</style>\n",
       "<table border=\"1\" class=\"dataframe\">\n",
       "  <thead>\n",
       "    <tr style=\"text-align: right;\">\n",
       "      <th></th>\n",
       "      <th>Unique Key</th>\n",
       "      <th>Created Date</th>\n",
       "      <th>Closed Date</th>\n",
       "      <th>Agency</th>\n",
       "      <th>Agency Name</th>\n",
       "      <th>Complaint Type</th>\n",
       "      <th>Descriptor</th>\n",
       "      <th>Location Type</th>\n",
       "      <th>Incident Zip</th>\n",
       "      <th>Incident Address</th>\n",
       "      <th>...</th>\n",
       "      <th>Bridge Highway Name</th>\n",
       "      <th>Bridge Highway Direction</th>\n",
       "      <th>Road Ramp</th>\n",
       "      <th>Bridge Highway Segment</th>\n",
       "      <th>Garage Lot Name</th>\n",
       "      <th>Ferry Direction</th>\n",
       "      <th>Ferry Terminal Name</th>\n",
       "      <th>Latitude</th>\n",
       "      <th>Longitude</th>\n",
       "      <th>Location</th>\n",
       "    </tr>\n",
       "  </thead>\n",
       "  <tbody>\n",
       "    <tr>\n",
       "      <th>0</th>\n",
       "      <td>26589651</td>\n",
       "      <td>10/31/2013 02:08:41 AM</td>\n",
       "      <td>NaN</td>\n",
       "      <td>NYPD</td>\n",
       "      <td>New York City Police Department</td>\n",
       "      <td>Noise - Street/Sidewalk</td>\n",
       "      <td>Loud Talking</td>\n",
       "      <td>Street/Sidewalk</td>\n",
       "      <td>11432</td>\n",
       "      <td>90-03 169 STREET</td>\n",
       "      <td>...</td>\n",
       "      <td>NaN</td>\n",
       "      <td>NaN</td>\n",
       "      <td>NaN</td>\n",
       "      <td>NaN</td>\n",
       "      <td>NaN</td>\n",
       "      <td>NaN</td>\n",
       "      <td>NaN</td>\n",
       "      <td>40.708275</td>\n",
       "      <td>-73.791604</td>\n",
       "      <td>(40.70827532593202, -73.79160395779721)</td>\n",
       "    </tr>\n",
       "  </tbody>\n",
       "</table>\n",
       "<p>1 rows × 52 columns</p>\n",
       "</div>"
      ],
      "text/plain": [
       "   Unique Key            Created Date Closed Date Agency  \\\n",
       "0    26589651  10/31/2013 02:08:41 AM         NaN   NYPD   \n",
       "\n",
       "                       Agency Name           Complaint Type    Descriptor  \\\n",
       "0  New York City Police Department  Noise - Street/Sidewalk  Loud Talking   \n",
       "\n",
       "     Location Type Incident Zip  Incident Address  ... Bridge Highway Name  \\\n",
       "0  Street/Sidewalk        11432  90-03 169 STREET  ...                 NaN   \n",
       "\n",
       "  Bridge Highway Direction Road Ramp Bridge Highway Segment Garage Lot Name  \\\n",
       "0                      NaN       NaN                    NaN             NaN   \n",
       "\n",
       "  Ferry Direction Ferry Terminal Name   Latitude  Longitude  \\\n",
       "0             NaN                 NaN  40.708275 -73.791604   \n",
       "\n",
       "                                  Location  \n",
       "0  (40.70827532593202, -73.79160395779721)  \n",
       "\n",
       "[1 rows x 52 columns]"
      ]
     },
     "execution_count": 32,
     "metadata": {},
     "output_type": "execute_result"
    }
   ],
   "source": [
    "complaints.head(1)"
   ]
  },
  {
   "cell_type": "code",
   "execution_count": 33,
   "metadata": {
    "deletable": false,
    "editable": false,
    "nbgrader": {
     "checksum": "0ee7ce855bf8d974448c96fcf32d00ca",
     "grade": false,
     "grade_id": "cell-74f3f4a35bd218d4",
     "locked": true,
     "schema_version": 1,
     "solution": false
    }
   },
   "outputs": [
    {
     "data": {
      "text/plain": [
       "RangeIndex(start=0, stop=111069, step=1)"
      ]
     },
     "execution_count": 33,
     "metadata": {},
     "output_type": "execute_result"
    }
   ],
   "source": [
    "complaints.index"
   ]
  },
  {
   "cell_type": "markdown",
   "metadata": {
    "deletable": false,
    "editable": false,
    "nbgrader": {
     "checksum": "5e1c210ffddf917ce903e3ef3af2e337",
     "grade": false,
     "grade_id": "cell-c2c8d803e82d7301",
     "locked": true,
     "schema_version": 1,
     "solution": false
    }
   },
   "source": [
    "To get the index of the rows that satisfy a certain condition use .index"
   ]
  },
  {
   "cell_type": "code",
   "execution_count": 34,
   "metadata": {
    "deletable": false,
    "editable": false,
    "nbgrader": {
     "checksum": "101180a6e3d4c02ca54d76761074d4ae",
     "grade": false,
     "grade_id": "cell-1fa85421733020fa",
     "locked": true,
     "schema_version": 1,
     "solution": false
    }
   },
   "outputs": [
    {
     "data": {
      "text/plain": [
       "Int64Index([    31,     49,    109,    236,    370,    378,    656,   1251,\n",
       "              5416,   5584,\n",
       "            ...\n",
       "            110937, 110939, 110941, 110946, 110960, 111002, 111006, 111021,\n",
       "            111035, 111054],\n",
       "           dtype='int64', length=456)"
      ]
     },
     "execution_count": 34,
     "metadata": {},
     "output_type": "execute_result"
    }
   ],
   "source": [
    "complaints[is_noise & in_brooklyn][['Complaint Type', 'Borough', 'Created Date', 'Descriptor']].index"
   ]
  },
  {
   "cell_type": "code",
   "execution_count": 35,
   "metadata": {
    "deletable": false,
    "editable": false,
    "nbgrader": {
     "checksum": "440f74a6f060dace52682d10a1179636",
     "grade": false,
     "grade_id": "cell-aae2fdc33e6f9356",
     "locked": true,
     "schema_version": 1,
     "solution": false
    }
   },
   "outputs": [
    {
     "data": {
      "text/plain": [
       "Index(['Unique Key', 'Created Date', 'Closed Date', 'Agency', 'Agency Name',\n",
       "       'Complaint Type', 'Descriptor', 'Location Type', 'Incident Zip',\n",
       "       'Incident Address', 'Street Name', 'Cross Street 1', 'Cross Street 2',\n",
       "       'Intersection Street 1', 'Intersection Street 2', 'Address Type',\n",
       "       'City', 'Landmark', 'Facility Type', 'Status', 'Due Date',\n",
       "       'Resolution Action Updated Date', 'Community Board', 'Borough',\n",
       "       'X Coordinate (State Plane)', 'Y Coordinate (State Plane)',\n",
       "       'Park Facility Name', 'Park Borough', 'School Name', 'School Number',\n",
       "       'School Region', 'School Code', 'School Phone Number', 'School Address',\n",
       "       'School City', 'School State', 'School Zip', 'School Not Found',\n",
       "       'School or Citywide Complaint', 'Vehicle Type', 'Taxi Company Borough',\n",
       "       'Taxi Pick Up Location', 'Bridge Highway Name',\n",
       "       'Bridge Highway Direction', 'Road Ramp', 'Bridge Highway Segment',\n",
       "       'Garage Lot Name', 'Ferry Direction', 'Ferry Terminal Name', 'Latitude',\n",
       "       'Longitude', 'Location'],\n",
       "      dtype='object')"
      ]
     },
     "execution_count": 35,
     "metadata": {},
     "output_type": "execute_result"
    }
   ],
   "source": [
    "complaints.columns"
   ]
  },
  {
   "cell_type": "code",
   "execution_count": 36,
   "metadata": {
    "deletable": false,
    "editable": false,
    "nbgrader": {
     "checksum": "b8b4f642250090edae18c04806c55620",
     "grade": false,
     "grade_id": "cell-b2bd52d15df6886d",
     "locked": true,
     "schema_version": 1,
     "solution": false
    }
   },
   "outputs": [
    {
     "data": {
      "text/plain": [
       "array([[26589651, '10/31/2013 02:08:41 AM', nan, ..., 40.70827532593202,\n",
       "        -73.79160395779721, '(40.70827532593202, -73.79160395779721)'],\n",
       "       [26593698, '10/31/2013 02:01:04 AM', nan, ..., 40.72104053562831,\n",
       "        -73.90945306791765, '(40.721040535628305, -73.90945306791765)'],\n",
       "       [26594139, '10/31/2013 02:00:24 AM', '10/31/2013 02:40:32 AM',\n",
       "        ..., 40.843329754665135, -73.93914371913482,\n",
       "        '(40.84332975466513, -73.93914371913482)'],\n",
       "       ...,\n",
       "       [26428987, '10/04/2013 12:00:45 AM', '10/04/2013 01:25:01 AM',\n",
       "        ..., 40.7402953546437, -73.97695165980414,\n",
       "        '(40.740295354643706, -73.97695165980414)'],\n",
       "       [26426115, '10/04/2013 12:00:28 AM', '10/04/2013 04:17:32 AM',\n",
       "        ..., 40.640181746624854, -73.95530566958138,\n",
       "        '(40.64018174662485, -73.95530566958138)'],\n",
       "       [26428033, '10/04/2013 12:00:10 AM', '10/04/2013 01:20:52 AM',\n",
       "        ..., 40.64002405739922, -73.90071711703162,\n",
       "        '(40.640024057399216, -73.90071711703163)']], dtype=object)"
      ]
     },
     "execution_count": 36,
     "metadata": {},
     "output_type": "execute_result"
    }
   ],
   "source": [
    "complaints.values"
   ]
  },
  {
   "cell_type": "markdown",
   "metadata": {
    "deletable": false,
    "editable": false,
    "nbgrader": {
     "checksum": "b13319735f9989beb45af396348247a4",
     "grade": false,
     "grade_id": "cell-0311ca8fc8fb3bf4",
     "locked": true,
     "schema_version": 1,
     "solution": false
    }
   },
   "source": [
    "To get the types of the data columns in the dataframe"
   ]
  },
  {
   "cell_type": "code",
   "execution_count": 37,
   "metadata": {
    "deletable": false,
    "editable": false,
    "nbgrader": {
     "checksum": "71a9af66cbff51b9a6e16d2284186ce6",
     "grade": false,
     "grade_id": "cell-4bc6b4030715be07",
     "locked": true,
     "schema_version": 1,
     "solution": false
    }
   },
   "outputs": [
    {
     "data": {
      "text/plain": [
       "Unique Key                          int64\n",
       "Created Date                       object\n",
       "Closed Date                        object\n",
       "Agency                             object\n",
       "Agency Name                        object\n",
       "Complaint Type                     object\n",
       "Descriptor                         object\n",
       "Location Type                      object\n",
       "Incident Zip                       object\n",
       "Incident Address                   object\n",
       "Street Name                        object\n",
       "Cross Street 1                     object\n",
       "Cross Street 2                     object\n",
       "Intersection Street 1              object\n",
       "Intersection Street 2              object\n",
       "Address Type                       object\n",
       "City                               object\n",
       "Landmark                           object\n",
       "Facility Type                      object\n",
       "Status                             object\n",
       "Due Date                           object\n",
       "Resolution Action Updated Date     object\n",
       "Community Board                    object\n",
       "Borough                            object\n",
       "X Coordinate (State Plane)        float64\n",
       "Y Coordinate (State Plane)        float64\n",
       "Park Facility Name                 object\n",
       "Park Borough                       object\n",
       "School Name                        object\n",
       "School Number                      object\n",
       "School Region                      object\n",
       "School Code                        object\n",
       "School Phone Number                object\n",
       "School Address                     object\n",
       "School City                        object\n",
       "School State                       object\n",
       "School Zip                         object\n",
       "School Not Found                   object\n",
       "School or Citywide Complaint      float64\n",
       "Vehicle Type                       object\n",
       "Taxi Company Borough               object\n",
       "Taxi Pick Up Location              object\n",
       "Bridge Highway Name                object\n",
       "Bridge Highway Direction           object\n",
       "Road Ramp                          object\n",
       "Bridge Highway Segment             object\n",
       "Garage Lot Name                    object\n",
       "Ferry Direction                    object\n",
       "Ferry Terminal Name                object\n",
       "Latitude                          float64\n",
       "Longitude                         float64\n",
       "Location                           object\n",
       "dtype: object"
      ]
     },
     "execution_count": 37,
     "metadata": {},
     "output_type": "execute_result"
    }
   ],
   "source": [
    "complaints.dtypes"
   ]
  },
  {
   "cell_type": "markdown",
   "metadata": {
    "deletable": false,
    "editable": false,
    "nbgrader": {
     "checksum": "0e653923c32959862d370cb240dbeeee",
     "grade": false,
     "grade_id": "cell-b7be686c6baf4c03",
     "locked": true,
     "schema_version": 1,
     "solution": false
    }
   },
   "source": [
    "### Describe data\n",
    "The describe function summarizes statistics of the numerical data present in the DataFrame.\n",
    "\n",
    " - mean : average\n",
    " - std : standard deviation\n",
    " - Maximum\n",
    " - Minimum\n",
    " - Quantile 25 50 75 \n",
    " "
   ]
  },
  {
   "cell_type": "code",
   "execution_count": 38,
   "metadata": {
    "deletable": false,
    "editable": false,
    "nbgrader": {
     "checksum": "ef2ad56ec7cc8cac89ecc97c355c3557",
     "grade": false,
     "grade_id": "cell-7d245f33c9e0c775",
     "locked": true,
     "schema_version": 1,
     "solution": false
    }
   },
   "outputs": [
    {
     "data": {
      "text/html": [
       "<div>\n",
       "<style scoped>\n",
       "    .dataframe tbody tr th:only-of-type {\n",
       "        vertical-align: middle;\n",
       "    }\n",
       "\n",
       "    .dataframe tbody tr th {\n",
       "        vertical-align: top;\n",
       "    }\n",
       "\n",
       "    .dataframe thead th {\n",
       "        text-align: right;\n",
       "    }\n",
       "</style>\n",
       "<table border=\"1\" class=\"dataframe\">\n",
       "  <thead>\n",
       "    <tr style=\"text-align: right;\">\n",
       "      <th></th>\n",
       "      <th>Berri 1</th>\n",
       "      <th>Brébeuf (données non disponibles)</th>\n",
       "      <th>Côte-Sainte-Catherine</th>\n",
       "      <th>Maisonneuve 1</th>\n",
       "      <th>Maisonneuve 2</th>\n",
       "      <th>du Parc</th>\n",
       "      <th>Pierre-Dupuy</th>\n",
       "      <th>Rachel1</th>\n",
       "      <th>St-Urbain (données non disponibles)</th>\n",
       "    </tr>\n",
       "  </thead>\n",
       "  <tbody>\n",
       "    <tr>\n",
       "      <th>count</th>\n",
       "      <td>310.000000</td>\n",
       "      <td>0.0</td>\n",
       "      <td>310.000000</td>\n",
       "      <td>310.000000</td>\n",
       "      <td>310.000000</td>\n",
       "      <td>310.000000</td>\n",
       "      <td>310.000000</td>\n",
       "      <td>310.000000</td>\n",
       "      <td>0.0</td>\n",
       "    </tr>\n",
       "    <tr>\n",
       "      <th>mean</th>\n",
       "      <td>2985.048387</td>\n",
       "      <td>NaN</td>\n",
       "      <td>1233.351613</td>\n",
       "      <td>1983.325806</td>\n",
       "      <td>3510.261290</td>\n",
       "      <td>1862.983871</td>\n",
       "      <td>1054.306452</td>\n",
       "      <td>2873.483871</td>\n",
       "      <td>NaN</td>\n",
       "    </tr>\n",
       "    <tr>\n",
       "      <th>std</th>\n",
       "      <td>2169.271062</td>\n",
       "      <td>NaN</td>\n",
       "      <td>944.643188</td>\n",
       "      <td>1450.715170</td>\n",
       "      <td>2484.959789</td>\n",
       "      <td>1332.543266</td>\n",
       "      <td>1064.029205</td>\n",
       "      <td>2039.315504</td>\n",
       "      <td>NaN</td>\n",
       "    </tr>\n",
       "    <tr>\n",
       "      <th>min</th>\n",
       "      <td>32.000000</td>\n",
       "      <td>NaN</td>\n",
       "      <td>0.000000</td>\n",
       "      <td>33.000000</td>\n",
       "      <td>47.000000</td>\n",
       "      <td>18.000000</td>\n",
       "      <td>0.000000</td>\n",
       "      <td>0.000000</td>\n",
       "      <td>NaN</td>\n",
       "    </tr>\n",
       "    <tr>\n",
       "      <th>25%</th>\n",
       "      <td>596.000000</td>\n",
       "      <td>NaN</td>\n",
       "      <td>243.250000</td>\n",
       "      <td>427.000000</td>\n",
       "      <td>831.000000</td>\n",
       "      <td>474.750000</td>\n",
       "      <td>53.250000</td>\n",
       "      <td>731.000000</td>\n",
       "      <td>NaN</td>\n",
       "    </tr>\n",
       "    <tr>\n",
       "      <th>50%</th>\n",
       "      <td>3128.000000</td>\n",
       "      <td>NaN</td>\n",
       "      <td>1269.000000</td>\n",
       "      <td>2019.500000</td>\n",
       "      <td>3688.500000</td>\n",
       "      <td>1822.500000</td>\n",
       "      <td>704.000000</td>\n",
       "      <td>3223.500000</td>\n",
       "      <td>NaN</td>\n",
       "    </tr>\n",
       "    <tr>\n",
       "      <th>75%</th>\n",
       "      <td>4973.250000</td>\n",
       "      <td>NaN</td>\n",
       "      <td>2003.000000</td>\n",
       "      <td>3168.250000</td>\n",
       "      <td>5731.750000</td>\n",
       "      <td>3069.000000</td>\n",
       "      <td>1818.500000</td>\n",
       "      <td>4717.250000</td>\n",
       "      <td>NaN</td>\n",
       "    </tr>\n",
       "    <tr>\n",
       "      <th>max</th>\n",
       "      <td>7077.000000</td>\n",
       "      <td>NaN</td>\n",
       "      <td>3124.000000</td>\n",
       "      <td>4999.000000</td>\n",
       "      <td>8222.000000</td>\n",
       "      <td>4510.000000</td>\n",
       "      <td>4386.000000</td>\n",
       "      <td>6595.000000</td>\n",
       "      <td>NaN</td>\n",
       "    </tr>\n",
       "  </tbody>\n",
       "</table>\n",
       "</div>"
      ],
      "text/plain": [
       "           Berri 1  Brébeuf (données non disponibles)  Côte-Sainte-Catherine  \\\n",
       "count   310.000000                                0.0             310.000000   \n",
       "mean   2985.048387                                NaN            1233.351613   \n",
       "std    2169.271062                                NaN             944.643188   \n",
       "min      32.000000                                NaN               0.000000   \n",
       "25%     596.000000                                NaN             243.250000   \n",
       "50%    3128.000000                                NaN            1269.000000   \n",
       "75%    4973.250000                                NaN            2003.000000   \n",
       "max    7077.000000                                NaN            3124.000000   \n",
       "\n",
       "       Maisonneuve 1  Maisonneuve 2      du Parc  Pierre-Dupuy      Rachel1  \\\n",
       "count     310.000000     310.000000   310.000000    310.000000   310.000000   \n",
       "mean     1983.325806    3510.261290  1862.983871   1054.306452  2873.483871   \n",
       "std      1450.715170    2484.959789  1332.543266   1064.029205  2039.315504   \n",
       "min        33.000000      47.000000    18.000000      0.000000     0.000000   \n",
       "25%       427.000000     831.000000   474.750000     53.250000   731.000000   \n",
       "50%      2019.500000    3688.500000  1822.500000    704.000000  3223.500000   \n",
       "75%      3168.250000    5731.750000  3069.000000   1818.500000  4717.250000   \n",
       "max      4999.000000    8222.000000  4510.000000   4386.000000  6595.000000   \n",
       "\n",
       "       St-Urbain (données non disponibles)  \n",
       "count                                  0.0  \n",
       "mean                                   NaN  \n",
       "std                                    NaN  \n",
       "min                                    NaN  \n",
       "25%                                    NaN  \n",
       "50%                                    NaN  \n",
       "75%                                    NaN  \n",
       "max                                    NaN  "
      ]
     },
     "execution_count": 38,
     "metadata": {},
     "output_type": "execute_result"
    }
   ],
   "source": [
    "bikes.describe()\n",
    "# Only the numeric columns"
   ]
  },
  {
   "cell_type": "markdown",
   "metadata": {
    "deletable": false,
    "editable": false,
    "nbgrader": {
     "checksum": "bd2c01c36b6a0a73b98d6a732404d742",
     "grade": false,
     "grade_id": "cell-77c391597c7075ec",
     "locked": true,
     "schema_version": 1,
     "solution": false
    }
   },
   "source": [
    "*Now we can see the min and max, and check if we were right!*"
   ]
  },
  {
   "cell_type": "code",
   "execution_count": 39,
   "metadata": {
    "deletable": false,
    "editable": false,
    "nbgrader": {
     "checksum": "98b6856006f2a4caffab2bd6f1695466",
     "grade": false,
     "grade_id": "cell-bfce4fd853b99c1d",
     "locked": true,
     "schema_version": 1,
     "solution": false
    }
   },
   "outputs": [],
   "source": [
    "# We define a new function get_highest for DataFrame\n",
    "def get_highest(data, name_column):\n",
    "    highest = 0\n",
    "    for value in data.loc[:,name_column]:\n",
    "        if float(value) > highest:\n",
    "            highest = float(value)\n",
    "    return highest"
   ]
  },
  {
   "cell_type": "code",
   "execution_count": 40,
   "metadata": {
    "deletable": false,
    "editable": false,
    "nbgrader": {
     "checksum": "bd9581f441539909c79fa53a9233da91",
     "grade": false,
     "grade_id": "cell-ab6a1643a569c4b9",
     "locked": true,
     "schema_version": 1,
     "solution": false
    }
   },
   "outputs": [
    {
     "data": {
      "text/plain": [
       "4999.0"
      ]
     },
     "execution_count": 40,
     "metadata": {},
     "output_type": "execute_result"
    }
   ],
   "source": [
    "get_highest(bikes, 'Maisonneuve 1')"
   ]
  },
  {
   "cell_type": "markdown",
   "metadata": {
    "deletable": false,
    "editable": false,
    "nbgrader": {
     "checksum": "40027bd7203c098325bcca77f18bedd3",
     "grade": false,
     "grade_id": "cell-2ee262f766e7a748",
     "locked": true,
     "schema_version": 1,
     "solution": false
    }
   },
   "source": [
    "#### Plotting histograms"
   ]
  },
  {
   "cell_type": "code",
   "execution_count": 41,
   "metadata": {
    "deletable": false,
    "editable": false,
    "nbgrader": {
     "checksum": "46a8fb8e4a6a7b2cad01b95423a26085",
     "grade": false,
     "grade_id": "cell-baf2c00800b69046",
     "locked": true,
     "schema_version": 1,
     "solution": false
    }
   },
   "outputs": [
    {
     "data": {
      "text/plain": [
       "array([[<AxesSubplot:title={'center':'Berri 1'}>,\n",
       "        <AxesSubplot:title={'center':'Brébeuf (données non disponibles)'}>,\n",
       "        <AxesSubplot:title={'center':'Côte-Sainte-Catherine'}>],\n",
       "       [<AxesSubplot:title={'center':'Maisonneuve 1'}>,\n",
       "        <AxesSubplot:title={'center':'Maisonneuve 2'}>,\n",
       "        <AxesSubplot:title={'center':'du Parc'}>],\n",
       "       [<AxesSubplot:title={'center':'Pierre-Dupuy'}>,\n",
       "        <AxesSubplot:title={'center':'Rachel1'}>,\n",
       "        <AxesSubplot:title={'center':'St-Urbain (données non disponibles)'}>]],\n",
       "      dtype=object)"
      ]
     },
     "execution_count": 41,
     "metadata": {},
     "output_type": "execute_result"
    },
    {
     "data": {
      "image/png": "[encoded data removed]",
      "text/plain": [
       "<Figure size 1440x720 with 9 Axes>"
      ]
     },
     "metadata": {
      "needs_background": "light"
     },
     "output_type": "display_data"
    }
   ],
   "source": [
    "bikes.hist(figsize = (20,10))"
   ]
  },
  {
   "cell_type": "code",
   "execution_count": 42,
   "metadata": {
    "deletable": false,
    "editable": false,
    "nbgrader": {
     "checksum": "3d814580555f36cc9b630b8bee639e85",
     "grade": false,
     "grade_id": "cell-3d3b8739e64624ab",
     "locked": true,
     "schema_version": 1,
     "solution": false
    }
   },
   "outputs": [
    {
     "data": {
      "text/plain": [
       "<AxesSubplot:>"
      ]
     },
     "execution_count": 42,
     "metadata": {},
     "output_type": "execute_result"
    },
    {
     "data": {
      "image/png": "[encoded data removed]",
      "text/plain": [
       "<Figure size 432x288 with 1 Axes>"
      ]
     },
     "metadata": {
      "needs_background": "light"
     },
     "output_type": "display_data"
    }
   ],
   "source": [
    "# histogram of a specific column\n",
    "bikes['Maisonneuve 1'].hist()"
   ]
  },
  {
   "cell_type": "markdown",
   "metadata": {
    "deletable": false,
    "editable": false,
    "nbgrader": {
     "checksum": "88aa431ad22bb58f799c31b813235801",
     "grade": false,
     "grade_id": "cell-22b3905e7d021582",
     "locked": true,
     "schema_version": 1,
     "solution": false
    }
   },
   "source": [
    "### Simple stats on Numerical columns"
   ]
  },
  {
   "cell_type": "code",
   "execution_count": 43,
   "metadata": {
    "deletable": false,
    "editable": false,
    "nbgrader": {
     "checksum": "bd5b29230fd4f987c4e7828c9855d9b7",
     "grade": false,
     "grade_id": "cell-5cf4bbc4a776807e",
     "locked": true,
     "schema_version": 1,
     "solution": false
    }
   },
   "outputs": [
    {
     "data": {
      "text/plain": [
       "382339"
      ]
     },
     "execution_count": 43,
     "metadata": {},
     "output_type": "execute_result"
    }
   ],
   "source": [
    "bikes['Côte-Sainte-Catherine'].sum()"
   ]
  },
  {
   "cell_type": "code",
   "execution_count": 44,
   "metadata": {
    "deletable": false,
    "editable": false,
    "nbgrader": {
     "checksum": "c714bd7f6fc1c98012031f1f9fed088e",
     "grade": false,
     "grade_id": "cell-e5aa6d60e813eaba",
     "locked": true,
     "schema_version": 1,
     "solution": false
    }
   },
   "outputs": [
    {
     "data": {
      "text/plain": [
       "1233.3516129032257"
      ]
     },
     "execution_count": 44,
     "metadata": {},
     "output_type": "execute_result"
    }
   ],
   "source": [
    "bikes['Côte-Sainte-Catherine'].mean()"
   ]
  },
  {
   "cell_type": "code",
   "execution_count": 45,
   "metadata": {
    "deletable": false,
    "editable": false,
    "nbgrader": {
     "checksum": "8f8c4f4d69784d7035f559ec0206436b",
     "grade": false,
     "grade_id": "cell-172586519ba18403",
     "locked": true,
     "schema_version": 1,
     "solution": false
    }
   },
   "outputs": [
    {
     "data": {
      "text/plain": [
       "3124"
      ]
     },
     "execution_count": 45,
     "metadata": {},
     "output_type": "execute_result"
    }
   ],
   "source": [
    "bikes['Côte-Sainte-Catherine'].max()"
   ]
  },
  {
   "cell_type": "code",
   "execution_count": 46,
   "metadata": {
    "deletable": false,
    "editable": false,
    "nbgrader": {
     "checksum": "e55e2ba85971d7255a3196e13ce811ea",
     "grade": false,
     "grade_id": "cell-67d6edf982caee8c",
     "locked": true,
     "schema_version": 1,
     "solution": false
    }
   },
   "outputs": [
    {
     "data": {
      "text/plain": [
       "0"
      ]
     },
     "execution_count": 46,
     "metadata": {},
     "output_type": "execute_result"
    }
   ],
   "source": [
    "bikes['Côte-Sainte-Catherine'].min()"
   ]
  },
  {
   "cell_type": "code",
   "execution_count": 47,
   "metadata": {
    "deletable": false,
    "editable": false,
    "nbgrader": {
     "checksum": "dbf6291d3bc4ff747764da4947124942",
     "grade": false,
     "grade_id": "cell-a901b09c4376dbfb",
     "locked": true,
     "schema_version": 1,
     "solution": false
    }
   },
   "outputs": [
    {
     "data": {
      "text/plain": [
       "1269.0"
      ]
     },
     "execution_count": 47,
     "metadata": {},
     "output_type": "execute_result"
    }
   ],
   "source": [
    "bikes['Côte-Sainte-Catherine'].median()"
   ]
  },
  {
   "cell_type": "markdown",
   "metadata": {
    "deletable": false,
    "editable": false,
    "nbgrader": {
     "checksum": "e2a9e2af87897660fd338e45efd8b152",
     "grade": false,
     "grade_id": "cell-8882315b560c94eb",
     "locked": true,
     "schema_version": 1,
     "solution": false
    }
   },
   "source": [
    "## Reorganizing data\n",
    "### Transposing data "
   ]
  },
  {
   "cell_type": "code",
   "execution_count": 48,
   "metadata": {
    "deletable": false,
    "editable": false,
    "nbgrader": {
     "checksum": "e78772909edf355d225b486dec0c7d20",
     "grade": false,
     "grade_id": "cell-05604e6b84ac6a7e",
     "locked": true,
     "schema_version": 1,
     "solution": false
    }
   },
   "outputs": [
    {
     "data": {
      "text/html": [
       "<div>\n",
       "<style scoped>\n",
       "    .dataframe tbody tr th:only-of-type {\n",
       "        vertical-align: middle;\n",
       "    }\n",
       "\n",
       "    .dataframe tbody tr th {\n",
       "        vertical-align: top;\n",
       "    }\n",
       "\n",
       "    .dataframe thead th {\n",
       "        text-align: right;\n",
       "    }\n",
       "</style>\n",
       "<table border=\"1\" class=\"dataframe\">\n",
       "  <thead>\n",
       "    <tr style=\"text-align: right;\">\n",
       "      <th></th>\n",
       "      <th>0</th>\n",
       "      <th>1</th>\n",
       "      <th>2</th>\n",
       "      <th>3</th>\n",
       "      <th>4</th>\n",
       "      <th>5</th>\n",
       "      <th>6</th>\n",
       "      <th>7</th>\n",
       "      <th>8</th>\n",
       "      <th>9</th>\n",
       "      <th>...</th>\n",
       "      <th>300</th>\n",
       "      <th>301</th>\n",
       "      <th>302</th>\n",
       "      <th>303</th>\n",
       "      <th>304</th>\n",
       "      <th>305</th>\n",
       "      <th>306</th>\n",
       "      <th>307</th>\n",
       "      <th>308</th>\n",
       "      <th>309</th>\n",
       "    </tr>\n",
       "  </thead>\n",
       "  <tbody>\n",
       "    <tr>\n",
       "      <th>Date</th>\n",
       "      <td>2012-01-01 00:00:00</td>\n",
       "      <td>2012-01-02 00:00:00</td>\n",
       "      <td>2012-01-03 00:00:00</td>\n",
       "      <td>2012-01-04 00:00:00</td>\n",
       "      <td>2012-01-05 00:00:00</td>\n",
       "      <td>2012-01-06 00:00:00</td>\n",
       "      <td>2012-01-07 00:00:00</td>\n",
       "      <td>2012-01-08 00:00:00</td>\n",
       "      <td>2012-01-09 00:00:00</td>\n",
       "      <td>2012-01-10 00:00:00</td>\n",
       "      <td>...</td>\n",
       "      <td>2012-10-27 00:00:00</td>\n",
       "      <td>2012-10-28 00:00:00</td>\n",
       "      <td>2012-10-29 00:00:00</td>\n",
       "      <td>2012-10-30 00:00:00</td>\n",
       "      <td>2012-10-31 00:00:00</td>\n",
       "      <td>2012-11-01 00:00:00</td>\n",
       "      <td>2012-11-02 00:00:00</td>\n",
       "      <td>2012-11-03 00:00:00</td>\n",
       "      <td>2012-11-04 00:00:00</td>\n",
       "      <td>2012-11-05 00:00:00</td>\n",
       "    </tr>\n",
       "    <tr>\n",
       "      <th>Berri 1</th>\n",
       "      <td>35</td>\n",
       "      <td>83</td>\n",
       "      <td>135</td>\n",
       "      <td>144</td>\n",
       "      <td>197</td>\n",
       "      <td>146</td>\n",
       "      <td>98</td>\n",
       "      <td>95</td>\n",
       "      <td>244</td>\n",
       "      <td>397</td>\n",
       "      <td>...</td>\n",
       "      <td>1857</td>\n",
       "      <td>1310</td>\n",
       "      <td>2919</td>\n",
       "      <td>2887</td>\n",
       "      <td>2634</td>\n",
       "      <td>2405</td>\n",
       "      <td>1582</td>\n",
       "      <td>844</td>\n",
       "      <td>966</td>\n",
       "      <td>2247</td>\n",
       "    </tr>\n",
       "    <tr>\n",
       "      <th>Brébeuf (données non disponibles)</th>\n",
       "      <td>NaN</td>\n",
       "      <td>NaN</td>\n",
       "      <td>NaN</td>\n",
       "      <td>NaN</td>\n",
       "      <td>NaN</td>\n",
       "      <td>NaN</td>\n",
       "      <td>NaN</td>\n",
       "      <td>NaN</td>\n",
       "      <td>NaN</td>\n",
       "      <td>NaN</td>\n",
       "      <td>...</td>\n",
       "      <td>NaN</td>\n",
       "      <td>NaN</td>\n",
       "      <td>NaN</td>\n",
       "      <td>NaN</td>\n",
       "      <td>NaN</td>\n",
       "      <td>NaN</td>\n",
       "      <td>NaN</td>\n",
       "      <td>NaN</td>\n",
       "      <td>NaN</td>\n",
       "      <td>NaN</td>\n",
       "    </tr>\n",
       "    <tr>\n",
       "      <th>Côte-Sainte-Catherine</th>\n",
       "      <td>0</td>\n",
       "      <td>1</td>\n",
       "      <td>2</td>\n",
       "      <td>1</td>\n",
       "      <td>2</td>\n",
       "      <td>0</td>\n",
       "      <td>2</td>\n",
       "      <td>1</td>\n",
       "      <td>2</td>\n",
       "      <td>3</td>\n",
       "      <td>...</td>\n",
       "      <td>792</td>\n",
       "      <td>697</td>\n",
       "      <td>1458</td>\n",
       "      <td>1251</td>\n",
       "      <td>1294</td>\n",
       "      <td>1208</td>\n",
       "      <td>737</td>\n",
       "      <td>380</td>\n",
       "      <td>446</td>\n",
       "      <td>1170</td>\n",
       "    </tr>\n",
       "    <tr>\n",
       "      <th>Maisonneuve 1</th>\n",
       "      <td>38</td>\n",
       "      <td>68</td>\n",
       "      <td>104</td>\n",
       "      <td>116</td>\n",
       "      <td>124</td>\n",
       "      <td>98</td>\n",
       "      <td>80</td>\n",
       "      <td>62</td>\n",
       "      <td>165</td>\n",
       "      <td>238</td>\n",
       "      <td>...</td>\n",
       "      <td>1244</td>\n",
       "      <td>910</td>\n",
       "      <td>2071</td>\n",
       "      <td>2007</td>\n",
       "      <td>1835</td>\n",
       "      <td>1701</td>\n",
       "      <td>1109</td>\n",
       "      <td>612</td>\n",
       "      <td>710</td>\n",
       "      <td>1705</td>\n",
       "    </tr>\n",
       "    <tr>\n",
       "      <th>Maisonneuve 2</th>\n",
       "      <td>51</td>\n",
       "      <td>153</td>\n",
       "      <td>248</td>\n",
       "      <td>318</td>\n",
       "      <td>330</td>\n",
       "      <td>244</td>\n",
       "      <td>108</td>\n",
       "      <td>98</td>\n",
       "      <td>432</td>\n",
       "      <td>563</td>\n",
       "      <td>...</td>\n",
       "      <td>2461</td>\n",
       "      <td>1776</td>\n",
       "      <td>3768</td>\n",
       "      <td>3516</td>\n",
       "      <td>3453</td>\n",
       "      <td>3082</td>\n",
       "      <td>2277</td>\n",
       "      <td>1137</td>\n",
       "      <td>1277</td>\n",
       "      <td>3221</td>\n",
       "    </tr>\n",
       "    <tr>\n",
       "      <th>du Parc</th>\n",
       "      <td>26</td>\n",
       "      <td>53</td>\n",
       "      <td>89</td>\n",
       "      <td>111</td>\n",
       "      <td>97</td>\n",
       "      <td>86</td>\n",
       "      <td>53</td>\n",
       "      <td>64</td>\n",
       "      <td>198</td>\n",
       "      <td>275</td>\n",
       "      <td>...</td>\n",
       "      <td>1193</td>\n",
       "      <td>955</td>\n",
       "      <td>2440</td>\n",
       "      <td>2255</td>\n",
       "      <td>2220</td>\n",
       "      <td>2076</td>\n",
       "      <td>1392</td>\n",
       "      <td>713</td>\n",
       "      <td>692</td>\n",
       "      <td>2143</td>\n",
       "    </tr>\n",
       "    <tr>\n",
       "      <th>Pierre-Dupuy</th>\n",
       "      <td>10</td>\n",
       "      <td>6</td>\n",
       "      <td>3</td>\n",
       "      <td>8</td>\n",
       "      <td>13</td>\n",
       "      <td>4</td>\n",
       "      <td>6</td>\n",
       "      <td>11</td>\n",
       "      <td>12</td>\n",
       "      <td>18</td>\n",
       "      <td>...</td>\n",
       "      <td>618</td>\n",
       "      <td>387</td>\n",
       "      <td>411</td>\n",
       "      <td>338</td>\n",
       "      <td>245</td>\n",
       "      <td>165</td>\n",
       "      <td>97</td>\n",
       "      <td>105</td>\n",
       "      <td>197</td>\n",
       "      <td>179</td>\n",
       "    </tr>\n",
       "    <tr>\n",
       "      <th>Rachel1</th>\n",
       "      <td>16</td>\n",
       "      <td>43</td>\n",
       "      <td>58</td>\n",
       "      <td>61</td>\n",
       "      <td>95</td>\n",
       "      <td>75</td>\n",
       "      <td>54</td>\n",
       "      <td>63</td>\n",
       "      <td>173</td>\n",
       "      <td>241</td>\n",
       "      <td>...</td>\n",
       "      <td>2471</td>\n",
       "      <td>1876</td>\n",
       "      <td>2795</td>\n",
       "      <td>2790</td>\n",
       "      <td>2570</td>\n",
       "      <td>2461</td>\n",
       "      <td>1888</td>\n",
       "      <td>1302</td>\n",
       "      <td>1374</td>\n",
       "      <td>2430</td>\n",
       "    </tr>\n",
       "    <tr>\n",
       "      <th>St-Urbain (données non disponibles)</th>\n",
       "      <td>NaN</td>\n",
       "      <td>NaN</td>\n",
       "      <td>NaN</td>\n",
       "      <td>NaN</td>\n",
       "      <td>NaN</td>\n",
       "      <td>NaN</td>\n",
       "      <td>NaN</td>\n",
       "      <td>NaN</td>\n",
       "      <td>NaN</td>\n",
       "      <td>NaN</td>\n",
       "      <td>...</td>\n",
       "      <td>NaN</td>\n",
       "      <td>NaN</td>\n",
       "      <td>NaN</td>\n",
       "      <td>NaN</td>\n",
       "      <td>NaN</td>\n",
       "      <td>NaN</td>\n",
       "      <td>NaN</td>\n",
       "      <td>NaN</td>\n",
       "      <td>NaN</td>\n",
       "      <td>NaN</td>\n",
       "    </tr>\n",
       "  </tbody>\n",
       "</table>\n",
       "<p>10 rows × 310 columns</p>\n",
       "</div>"
      ],
      "text/plain": [
       "                                                     0                    1    \\\n",
       "Date                                 2012-01-01 00:00:00  2012-01-02 00:00:00   \n",
       "Berri 1                                               35                   83   \n",
       "Brébeuf (données non disponibles)                    NaN                  NaN   \n",
       "Côte-Sainte-Catherine                                  0                    1   \n",
       "Maisonneuve 1                                         38                   68   \n",
       "Maisonneuve 2                                         51                  153   \n",
       "du Parc                                               26                   53   \n",
       "Pierre-Dupuy                                          10                    6   \n",
       "Rachel1                                               16                   43   \n",
       "St-Urbain (données non disponibles)                  NaN                  NaN   \n",
       "\n",
       "                                                     2                    3    \\\n",
       "Date                                 2012-01-03 00:00:00  2012-01-04 00:00:00   \n",
       "Berri 1                                              135                  144   \n",
       "Brébeuf (données non disponibles)                    NaN                  NaN   \n",
       "Côte-Sainte-Catherine                                  2                    1   \n",
       "Maisonneuve 1                                        104                  116   \n",
       "Maisonneuve 2                                        248                  318   \n",
       "du Parc                                               89                  111   \n",
       "Pierre-Dupuy                                           3                    8   \n",
       "Rachel1                                               58                   61   \n",
       "St-Urbain (données non disponibles)                  NaN                  NaN   \n",
       "\n",
       "                                                     4                    5    \\\n",
       "Date                                 2012-01-05 00:00:00  2012-01-06 00:00:00   \n",
       "Berri 1                                              197                  146   \n",
       "Brébeuf (données non disponibles)                    NaN                  NaN   \n",
       "Côte-Sainte-Catherine                                  2                    0   \n",
       "Maisonneuve 1                                        124                   98   \n",
       "Maisonneuve 2                                        330                  244   \n",
       "du Parc                                               97                   86   \n",
       "Pierre-Dupuy                                          13                    4   \n",
       "Rachel1                                               95                   75   \n",
       "St-Urbain (données non disponibles)                  NaN                  NaN   \n",
       "\n",
       "                                                     6                    7    \\\n",
       "Date                                 2012-01-07 00:00:00  2012-01-08 00:00:00   \n",
       "Berri 1                                               98                   95   \n",
       "Brébeuf (données non disponibles)                    NaN                  NaN   \n",
       "Côte-Sainte-Catherine                                  2                    1   \n",
       "Maisonneuve 1                                         80                   62   \n",
       "Maisonneuve 2                                        108                   98   \n",
       "du Parc                                               53                   64   \n",
       "Pierre-Dupuy                                           6                   11   \n",
       "Rachel1                                               54                   63   \n",
       "St-Urbain (données non disponibles)                  NaN                  NaN   \n",
       "\n",
       "                                                     8                    9    \\\n",
       "Date                                 2012-01-09 00:00:00  2012-01-10 00:00:00   \n",
       "Berri 1                                              244                  397   \n",
       "Brébeuf (données non disponibles)                    NaN                  NaN   \n",
       "Côte-Sainte-Catherine                                  2                    3   \n",
       "Maisonneuve 1                                        165                  238   \n",
       "Maisonneuve 2                                        432                  563   \n",
       "du Parc                                              198                  275   \n",
       "Pierre-Dupuy                                          12                   18   \n",
       "Rachel1                                              173                  241   \n",
       "St-Urbain (données non disponibles)                  NaN                  NaN   \n",
       "\n",
       "                                     ...                  300  \\\n",
       "Date                                 ...  2012-10-27 00:00:00   \n",
       "Berri 1                              ...                 1857   \n",
       "Brébeuf (données non disponibles)    ...                  NaN   \n",
       "Côte-Sainte-Catherine                ...                  792   \n",
       "Maisonneuve 1                        ...                 1244   \n",
       "Maisonneuve 2                        ...                 2461   \n",
       "du Parc                              ...                 1193   \n",
       "Pierre-Dupuy                         ...                  618   \n",
       "Rachel1                              ...                 2471   \n",
       "St-Urbain (données non disponibles)  ...                  NaN   \n",
       "\n",
       "                                                     301                  302  \\\n",
       "Date                                 2012-10-28 00:00:00  2012-10-29 00:00:00   \n",
       "Berri 1                                             1310                 2919   \n",
       "Brébeuf (données non disponibles)                    NaN                  NaN   \n",
       "Côte-Sainte-Catherine                                697                 1458   \n",
       "Maisonneuve 1                                        910                 2071   \n",
       "Maisonneuve 2                                       1776                 3768   \n",
       "du Parc                                              955                 2440   \n",
       "Pierre-Dupuy                                         387                  411   \n",
       "Rachel1                                             1876                 2795   \n",
       "St-Urbain (données non disponibles)                  NaN                  NaN   \n",
       "\n",
       "                                                     303                  304  \\\n",
       "Date                                 2012-10-30 00:00:00  2012-10-31 00:00:00   \n",
       "Berri 1                                             2887                 2634   \n",
       "Brébeuf (données non disponibles)                    NaN                  NaN   \n",
       "Côte-Sainte-Catherine                               1251                 1294   \n",
       "Maisonneuve 1                                       2007                 1835   \n",
       "Maisonneuve 2                                       3516                 3453   \n",
       "du Parc                                             2255                 2220   \n",
       "Pierre-Dupuy                                         338                  245   \n",
       "Rachel1                                             2790                 2570   \n",
       "St-Urbain (données non disponibles)                  NaN                  NaN   \n",
       "\n",
       "                                                     305                  306  \\\n",
       "Date                                 2012-11-01 00:00:00  2012-11-02 00:00:00   \n",
       "Berri 1                                             2405                 1582   \n",
       "Brébeuf (données non disponibles)                    NaN                  NaN   \n",
       "Côte-Sainte-Catherine                               1208                  737   \n",
       "Maisonneuve 1                                       1701                 1109   \n",
       "Maisonneuve 2                                       3082                 2277   \n",
       "du Parc                                             2076                 1392   \n",
       "Pierre-Dupuy                                         165                   97   \n",
       "Rachel1                                             2461                 1888   \n",
       "St-Urbain (données non disponibles)                  NaN                  NaN   \n",
       "\n",
       "                                                     307                  308  \\\n",
       "Date                                 2012-11-03 00:00:00  2012-11-04 00:00:00   \n",
       "Berri 1                                              844                  966   \n",
       "Brébeuf (données non disponibles)                    NaN                  NaN   \n",
       "Côte-Sainte-Catherine                                380                  446   \n",
       "Maisonneuve 1                                        612                  710   \n",
       "Maisonneuve 2                                       1137                 1277   \n",
       "du Parc                                              713                  692   \n",
       "Pierre-Dupuy                                         105                  197   \n",
       "Rachel1                                             1302                 1374   \n",
       "St-Urbain (données non disponibles)                  NaN                  NaN   \n",
       "\n",
       "                                                     309  \n",
       "Date                                 2012-11-05 00:00:00  \n",
       "Berri 1                                             2247  \n",
       "Brébeuf (données non disponibles)                    NaN  \n",
       "Côte-Sainte-Catherine                               1170  \n",
       "Maisonneuve 1                                       1705  \n",
       "Maisonneuve 2                                       3221  \n",
       "du Parc                                             2143  \n",
       "Pierre-Dupuy                                         179  \n",
       "Rachel1                                             2430  \n",
       "St-Urbain (données non disponibles)                  NaN  \n",
       "\n",
       "[10 rows x 310 columns]"
      ]
     },
     "execution_count": 48,
     "metadata": {},
     "output_type": "execute_result"
    }
   ],
   "source": [
    "bikes.T"
   ]
  },
  {
   "cell_type": "markdown",
   "metadata": {
    "deletable": false,
    "editable": false,
    "nbgrader": {
     "checksum": "e8586399f1af04efb5524cfef9ec2614",
     "grade": false,
     "grade_id": "cell-c9622b1633901097",
     "locked": true,
     "schema_version": 1,
     "solution": false
    }
   },
   "source": [
    "### Sorting data"
   ]
  },
  {
   "cell_type": "code",
   "execution_count": 49,
   "metadata": {
    "deletable": false,
    "editable": false,
    "nbgrader": {
     "checksum": "65082603da36e4640e95fd2f4f64212b",
     "grade": false,
     "grade_id": "cell-cbf6e3a97b0e7b8a",
     "locked": true,
     "schema_version": 1,
     "solution": false
    }
   },
   "outputs": [
    {
     "data": {
      "text/html": [
       "<div>\n",
       "<style scoped>\n",
       "    .dataframe tbody tr th:only-of-type {\n",
       "        vertical-align: middle;\n",
       "    }\n",
       "\n",
       "    .dataframe tbody tr th {\n",
       "        vertical-align: top;\n",
       "    }\n",
       "\n",
       "    .dataframe thead th {\n",
       "        text-align: right;\n",
       "    }\n",
       "</style>\n",
       "<table border=\"1\" class=\"dataframe\">\n",
       "  <thead>\n",
       "    <tr style=\"text-align: right;\">\n",
       "      <th></th>\n",
       "      <th>Date</th>\n",
       "      <th>Berri 1</th>\n",
       "      <th>Brébeuf (données non disponibles)</th>\n",
       "      <th>Côte-Sainte-Catherine</th>\n",
       "      <th>Maisonneuve 1</th>\n",
       "      <th>Maisonneuve 2</th>\n",
       "      <th>du Parc</th>\n",
       "      <th>Pierre-Dupuy</th>\n",
       "      <th>Rachel1</th>\n",
       "      <th>St-Urbain (données non disponibles)</th>\n",
       "    </tr>\n",
       "  </thead>\n",
       "  <tbody>\n",
       "    <tr>\n",
       "      <th>166</th>\n",
       "      <td>2012-06-15</td>\n",
       "      <td>7077</td>\n",
       "      <td>NaN</td>\n",
       "      <td>2469</td>\n",
       "      <td>4999</td>\n",
       "      <td>7663</td>\n",
       "      <td>4053</td>\n",
       "      <td>2293</td>\n",
       "      <td>6491</td>\n",
       "      <td>NaN</td>\n",
       "    </tr>\n",
       "    <tr>\n",
       "      <th>165</th>\n",
       "      <td>2012-06-14</td>\n",
       "      <td>6908</td>\n",
       "      <td>NaN</td>\n",
       "      <td>2978</td>\n",
       "      <td>4809</td>\n",
       "      <td>7934</td>\n",
       "      <td>4223</td>\n",
       "      <td>2386</td>\n",
       "      <td>6243</td>\n",
       "      <td>NaN</td>\n",
       "    </tr>\n",
       "    <tr>\n",
       "      <th>184</th>\n",
       "      <td>2012-07-03</td>\n",
       "      <td>6712</td>\n",
       "      <td>NaN</td>\n",
       "      <td>2634</td>\n",
       "      <td>4398</td>\n",
       "      <td>7416</td>\n",
       "      <td>3896</td>\n",
       "      <td>2606</td>\n",
       "      <td>5462</td>\n",
       "      <td>NaN</td>\n",
       "    </tr>\n",
       "    <tr>\n",
       "      <th>186</th>\n",
       "      <td>2012-07-05</td>\n",
       "      <td>6672</td>\n",
       "      <td>NaN</td>\n",
       "      <td>2603</td>\n",
       "      <td>4830</td>\n",
       "      <td>7764</td>\n",
       "      <td>3816</td>\n",
       "      <td>2746</td>\n",
       "      <td>5153</td>\n",
       "      <td>NaN</td>\n",
       "    </tr>\n",
       "    <tr>\n",
       "      <th>234</th>\n",
       "      <td>2012-08-22</td>\n",
       "      <td>6529</td>\n",
       "      <td>NaN</td>\n",
       "      <td>2671</td>\n",
       "      <td>4513</td>\n",
       "      <td>7065</td>\n",
       "      <td>3774</td>\n",
       "      <td>2391</td>\n",
       "      <td>5154</td>\n",
       "      <td>NaN</td>\n",
       "    </tr>\n",
       "  </tbody>\n",
       "</table>\n",
       "</div>"
      ],
      "text/plain": [
       "          Date  Berri 1  Brébeuf (données non disponibles)  \\\n",
       "166 2012-06-15     7077                                NaN   \n",
       "165 2012-06-14     6908                                NaN   \n",
       "184 2012-07-03     6712                                NaN   \n",
       "186 2012-07-05     6672                                NaN   \n",
       "234 2012-08-22     6529                                NaN   \n",
       "\n",
       "     Côte-Sainte-Catherine  Maisonneuve 1  Maisonneuve 2  du Parc  \\\n",
       "166                   2469           4999           7663     4053   \n",
       "165                   2978           4809           7934     4223   \n",
       "184                   2634           4398           7416     3896   \n",
       "186                   2603           4830           7764     3816   \n",
       "234                   2671           4513           7065     3774   \n",
       "\n",
       "     Pierre-Dupuy  Rachel1  St-Urbain (données non disponibles)  \n",
       "166          2293     6491                                  NaN  \n",
       "165          2386     6243                                  NaN  \n",
       "184          2606     5462                                  NaN  \n",
       "186          2746     5153                                  NaN  \n",
       "234          2391     5154                                  NaN  "
      ]
     },
     "execution_count": 49,
     "metadata": {},
     "output_type": "execute_result"
    }
   ],
   "source": [
    "bikes.sort_values(by = 'Berri 1', ascending=False).head()\n",
    "# add arg inplace = True to perform operation in-place"
   ]
  },
  {
   "cell_type": "code",
   "execution_count": 50,
   "metadata": {
    "deletable": false,
    "editable": false,
    "nbgrader": {
     "checksum": "9ec5605d94753a9cb875ad0f9d8c9544",
     "grade": false,
     "grade_id": "cell-c02647d329a17e95",
     "locked": true,
     "schema_version": 1,
     "solution": false
    }
   },
   "outputs": [
    {
     "data": {
      "text/plain": [
       "55    18\n",
       "14    18\n",
       "13    19\n",
       "0     26\n",
       "20    32\n",
       "Name: du Parc, dtype: int64"
      ]
     },
     "execution_count": 50,
     "metadata": {},
     "output_type": "execute_result"
    }
   ],
   "source": [
    "# it's possible to sort a column with the same function\n",
    "bikes['du Parc'].sort_values().head()"
   ]
  },
  {
   "cell_type": "markdown",
   "metadata": {
    "deletable": false,
    "editable": false,
    "nbgrader": {
     "checksum": "dcce0c9302d90265afa3d6c3992bd25a",
     "grade": false,
     "grade_id": "cell-46f741ab9f0d53d4",
     "locked": true,
     "schema_version": 1,
     "solution": false
    }
   },
   "source": [
    "## Transforming data\n",
    "### Transforming existing data\n",
    "*To avoid transforming df, we first make a copy*\n"
   ]
  },
  {
   "cell_type": "code",
   "execution_count": 51,
   "metadata": {
    "deletable": false,
    "editable": false,
    "nbgrader": {
     "checksum": "0c21e12b571f73d6ee1d4435b98ad93d",
     "grade": false,
     "grade_id": "cell-047f84bc4c0dbed0",
     "locked": true,
     "schema_version": 1,
     "solution": false
    }
   },
   "outputs": [],
   "source": [
    "complaints_copy = complaints.copy()\n",
    "# df_copy = df only creates a alias, not a new object !\n",
    "bikes_copy = bikes.copy()"
   ]
  },
  {
   "cell_type": "markdown",
   "metadata": {
    "deletable": false,
    "editable": false,
    "nbgrader": {
     "checksum": "43eb3358eedf42a02d49f93992c99655",
     "grade": false,
     "grade_id": "cell-fe2d77d69c48304b",
     "locked": true,
     "schema_version": 1,
     "solution": false
    }
   },
   "source": [
    "*You just have to assign new values to a selection*\n",
    "\n",
    "Lets assign the values 1 to 3 to the first \"Unique Key\" rows\n"
   ]
  },
  {
   "cell_type": "code",
   "execution_count": 52,
   "metadata": {
    "deletable": false,
    "editable": false,
    "nbgrader": {
     "checksum": "618c5618eecb51dae23f24c30b6df80e",
     "grade": false,
     "grade_id": "cell-bb5ccfcd4a1d54d1",
     "locked": true,
     "schema_version": 1,
     "solution": false
    }
   },
   "outputs": [
    {
     "data": {
      "text/html": [
       "<div>\n",
       "<style scoped>\n",
       "    .dataframe tbody tr th:only-of-type {\n",
       "        vertical-align: middle;\n",
       "    }\n",
       "\n",
       "    .dataframe tbody tr th {\n",
       "        vertical-align: top;\n",
       "    }\n",
       "\n",
       "    .dataframe thead th {\n",
       "        text-align: right;\n",
       "    }\n",
       "</style>\n",
       "<table border=\"1\" class=\"dataframe\">\n",
       "  <thead>\n",
       "    <tr style=\"text-align: right;\">\n",
       "      <th></th>\n",
       "      <th>Unique Key</th>\n",
       "      <th>Created Date</th>\n",
       "      <th>Closed Date</th>\n",
       "      <th>Agency</th>\n",
       "      <th>Agency Name</th>\n",
       "      <th>Complaint Type</th>\n",
       "      <th>Descriptor</th>\n",
       "      <th>Location Type</th>\n",
       "      <th>Incident Zip</th>\n",
       "      <th>Incident Address</th>\n",
       "      <th>...</th>\n",
       "      <th>Bridge Highway Name</th>\n",
       "      <th>Bridge Highway Direction</th>\n",
       "      <th>Road Ramp</th>\n",
       "      <th>Bridge Highway Segment</th>\n",
       "      <th>Garage Lot Name</th>\n",
       "      <th>Ferry Direction</th>\n",
       "      <th>Ferry Terminal Name</th>\n",
       "      <th>Latitude</th>\n",
       "      <th>Longitude</th>\n",
       "      <th>Location</th>\n",
       "    </tr>\n",
       "  </thead>\n",
       "  <tbody>\n",
       "    <tr>\n",
       "      <th>0</th>\n",
       "      <td>1</td>\n",
       "      <td>10/31/2013 02:08:41 AM</td>\n",
       "      <td>NaN</td>\n",
       "      <td>NYPD</td>\n",
       "      <td>New York City Police Department</td>\n",
       "      <td>Noise - Street/Sidewalk</td>\n",
       "      <td>Loud Talking</td>\n",
       "      <td>Street/Sidewalk</td>\n",
       "      <td>11432</td>\n",
       "      <td>90-03 169 STREET</td>\n",
       "      <td>...</td>\n",
       "      <td>NaN</td>\n",
       "      <td>NaN</td>\n",
       "      <td>NaN</td>\n",
       "      <td>NaN</td>\n",
       "      <td>NaN</td>\n",
       "      <td>NaN</td>\n",
       "      <td>NaN</td>\n",
       "      <td>40.708275</td>\n",
       "      <td>-73.791604</td>\n",
       "      <td>(40.70827532593202, -73.79160395779721)</td>\n",
       "    </tr>\n",
       "    <tr>\n",
       "      <th>1</th>\n",
       "      <td>2</td>\n",
       "      <td>10/31/2013 02:01:04 AM</td>\n",
       "      <td>NaN</td>\n",
       "      <td>NYPD</td>\n",
       "      <td>New York City Police Department</td>\n",
       "      <td>Illegal Parking</td>\n",
       "      <td>Commercial Overnight Parking</td>\n",
       "      <td>Street/Sidewalk</td>\n",
       "      <td>11378</td>\n",
       "      <td>58 AVENUE</td>\n",
       "      <td>...</td>\n",
       "      <td>NaN</td>\n",
       "      <td>NaN</td>\n",
       "      <td>NaN</td>\n",
       "      <td>NaN</td>\n",
       "      <td>NaN</td>\n",
       "      <td>NaN</td>\n",
       "      <td>NaN</td>\n",
       "      <td>40.721041</td>\n",
       "      <td>-73.909453</td>\n",
       "      <td>(40.721040535628305, -73.90945306791765)</td>\n",
       "    </tr>\n",
       "    <tr>\n",
       "      <th>2</th>\n",
       "      <td>3</td>\n",
       "      <td>10/31/2013 02:00:24 AM</td>\n",
       "      <td>10/31/2013 02:40:32 AM</td>\n",
       "      <td>NYPD</td>\n",
       "      <td>New York City Police Department</td>\n",
       "      <td>Noise - Commercial</td>\n",
       "      <td>Loud Music/Party</td>\n",
       "      <td>Club/Bar/Restaurant</td>\n",
       "      <td>10032</td>\n",
       "      <td>4060 BROADWAY</td>\n",
       "      <td>...</td>\n",
       "      <td>NaN</td>\n",
       "      <td>NaN</td>\n",
       "      <td>NaN</td>\n",
       "      <td>NaN</td>\n",
       "      <td>NaN</td>\n",
       "      <td>NaN</td>\n",
       "      <td>NaN</td>\n",
       "      <td>40.843330</td>\n",
       "      <td>-73.939144</td>\n",
       "      <td>(40.84332975466513, -73.93914371913482)</td>\n",
       "    </tr>\n",
       "    <tr>\n",
       "      <th>3</th>\n",
       "      <td>26595721</td>\n",
       "      <td>10/31/2013 01:56:23 AM</td>\n",
       "      <td>10/31/2013 02:21:48 AM</td>\n",
       "      <td>NYPD</td>\n",
       "      <td>New York City Police Department</td>\n",
       "      <td>Noise - Vehicle</td>\n",
       "      <td>Car/Truck Horn</td>\n",
       "      <td>Street/Sidewalk</td>\n",
       "      <td>10023</td>\n",
       "      <td>WEST 72 STREET</td>\n",
       "      <td>...</td>\n",
       "      <td>NaN</td>\n",
       "      <td>NaN</td>\n",
       "      <td>NaN</td>\n",
       "      <td>NaN</td>\n",
       "      <td>NaN</td>\n",
       "      <td>NaN</td>\n",
       "      <td>NaN</td>\n",
       "      <td>40.778009</td>\n",
       "      <td>-73.980213</td>\n",
       "      <td>(40.7780087446372, -73.98021349023975)</td>\n",
       "    </tr>\n",
       "    <tr>\n",
       "      <th>4</th>\n",
       "      <td>26590930</td>\n",
       "      <td>10/31/2013 01:53:44 AM</td>\n",
       "      <td>NaN</td>\n",
       "      <td>DOHMH</td>\n",
       "      <td>Department of Health and Mental Hygiene</td>\n",
       "      <td>Rodent</td>\n",
       "      <td>Condition Attracting Rodents</td>\n",
       "      <td>Vacant Lot</td>\n",
       "      <td>10027</td>\n",
       "      <td>WEST 124 STREET</td>\n",
       "      <td>...</td>\n",
       "      <td>NaN</td>\n",
       "      <td>NaN</td>\n",
       "      <td>NaN</td>\n",
       "      <td>NaN</td>\n",
       "      <td>NaN</td>\n",
       "      <td>NaN</td>\n",
       "      <td>NaN</td>\n",
       "      <td>40.807691</td>\n",
       "      <td>-73.947387</td>\n",
       "      <td>(40.80769092704951, -73.94738703491433)</td>\n",
       "    </tr>\n",
       "  </tbody>\n",
       "</table>\n",
       "<p>5 rows × 52 columns</p>\n",
       "</div>"
      ],
      "text/plain": [
       "   Unique Key            Created Date             Closed Date Agency  \\\n",
       "0           1  10/31/2013 02:08:41 AM                     NaN   NYPD   \n",
       "1           2  10/31/2013 02:01:04 AM                     NaN   NYPD   \n",
       "2           3  10/31/2013 02:00:24 AM  10/31/2013 02:40:32 AM   NYPD   \n",
       "3    26595721  10/31/2013 01:56:23 AM  10/31/2013 02:21:48 AM   NYPD   \n",
       "4    26590930  10/31/2013 01:53:44 AM                     NaN  DOHMH   \n",
       "\n",
       "                               Agency Name           Complaint Type  \\\n",
       "0          New York City Police Department  Noise - Street/Sidewalk   \n",
       "1          New York City Police Department          Illegal Parking   \n",
       "2          New York City Police Department       Noise - Commercial   \n",
       "3          New York City Police Department          Noise - Vehicle   \n",
       "4  Department of Health and Mental Hygiene                   Rodent   \n",
       "\n",
       "                     Descriptor        Location Type Incident Zip  \\\n",
       "0                  Loud Talking      Street/Sidewalk        11432   \n",
       "1  Commercial Overnight Parking      Street/Sidewalk        11378   \n",
       "2              Loud Music/Party  Club/Bar/Restaurant        10032   \n",
       "3                Car/Truck Horn      Street/Sidewalk        10023   \n",
       "4  Condition Attracting Rodents           Vacant Lot        10027   \n",
       "\n",
       "   Incident Address  ... Bridge Highway Name Bridge Highway Direction  \\\n",
       "0  90-03 169 STREET  ...                 NaN                      NaN   \n",
       "1         58 AVENUE  ...                 NaN                      NaN   \n",
       "2     4060 BROADWAY  ...                 NaN                      NaN   \n",
       "3    WEST 72 STREET  ...                 NaN                      NaN   \n",
       "4   WEST 124 STREET  ...                 NaN                      NaN   \n",
       "\n",
       "  Road Ramp Bridge Highway Segment Garage Lot Name Ferry Direction  \\\n",
       "0       NaN                    NaN             NaN             NaN   \n",
       "1       NaN                    NaN             NaN             NaN   \n",
       "2       NaN                    NaN             NaN             NaN   \n",
       "3       NaN                    NaN             NaN             NaN   \n",
       "4       NaN                    NaN             NaN             NaN   \n",
       "\n",
       "  Ferry Terminal Name   Latitude  Longitude  \\\n",
       "0                 NaN  40.708275 -73.791604   \n",
       "1                 NaN  40.721041 -73.909453   \n",
       "2                 NaN  40.843330 -73.939144   \n",
       "3                 NaN  40.778009 -73.980213   \n",
       "4                 NaN  40.807691 -73.947387   \n",
       "\n",
       "                                   Location  \n",
       "0   (40.70827532593202, -73.79160395779721)  \n",
       "1  (40.721040535628305, -73.90945306791765)  \n",
       "2   (40.84332975466513, -73.93914371913482)  \n",
       "3    (40.7780087446372, -73.98021349023975)  \n",
       "4   (40.80769092704951, -73.94738703491433)  \n",
       "\n",
       "[5 rows x 52 columns]"
      ]
     },
     "execution_count": 52,
     "metadata": {},
     "output_type": "execute_result"
    }
   ],
   "source": [
    "complaints_copy.loc[0:2,'Unique Key'] = np.array([1,2,3])\n",
    "complaints_copy.head()"
   ]
  },
  {
   "cell_type": "markdown",
   "metadata": {
    "deletable": false,
    "editable": false,
    "nbgrader": {
     "checksum": "3a06ac0568a9351f5d54e0fba82a54cf",
     "grade": false,
     "grade_id": "cell-e145e6b5d18b5792",
     "locked": true,
     "schema_version": 1,
     "solution": false
    }
   },
   "source": [
    "### Adding new data\n",
    "\n",
    "Lets add the column Daily Total to our data and assign each value as the sum of the others "
   ]
  },
  {
   "cell_type": "code",
   "execution_count": 53,
   "metadata": {
    "deletable": false,
    "editable": false,
    "nbgrader": {
     "checksum": "717ff6a7b52159e9ff71d3df006aac28",
     "grade": false,
     "grade_id": "cell-48ebf7b30c3c310c",
     "locked": true,
     "schema_version": 1,
     "solution": false
    }
   },
   "outputs": [
    {
     "data": {
      "text/html": [
       "<div>\n",
       "<style scoped>\n",
       "    .dataframe tbody tr th:only-of-type {\n",
       "        vertical-align: middle;\n",
       "    }\n",
       "\n",
       "    .dataframe tbody tr th {\n",
       "        vertical-align: top;\n",
       "    }\n",
       "\n",
       "    .dataframe thead th {\n",
       "        text-align: right;\n",
       "    }\n",
       "</style>\n",
       "<table border=\"1\" class=\"dataframe\">\n",
       "  <thead>\n",
       "    <tr style=\"text-align: right;\">\n",
       "      <th></th>\n",
       "      <th>Date</th>\n",
       "      <th>Berri 1</th>\n",
       "      <th>Brébeuf (données non disponibles)</th>\n",
       "      <th>Côte-Sainte-Catherine</th>\n",
       "      <th>Maisonneuve 1</th>\n",
       "      <th>Maisonneuve 2</th>\n",
       "      <th>du Parc</th>\n",
       "      <th>Pierre-Dupuy</th>\n",
       "      <th>Rachel1</th>\n",
       "      <th>St-Urbain (données non disponibles)</th>\n",
       "      <th>Daily Total</th>\n",
       "    </tr>\n",
       "  </thead>\n",
       "  <tbody>\n",
       "    <tr>\n",
       "      <th>0</th>\n",
       "      <td>2012-01-01</td>\n",
       "      <td>35</td>\n",
       "      <td>NaN</td>\n",
       "      <td>0</td>\n",
       "      <td>38</td>\n",
       "      <td>51</td>\n",
       "      <td>26</td>\n",
       "      <td>10</td>\n",
       "      <td>16</td>\n",
       "      <td>NaN</td>\n",
       "      <td>176</td>\n",
       "    </tr>\n",
       "    <tr>\n",
       "      <th>1</th>\n",
       "      <td>2012-01-02</td>\n",
       "      <td>83</td>\n",
       "      <td>NaN</td>\n",
       "      <td>1</td>\n",
       "      <td>68</td>\n",
       "      <td>153</td>\n",
       "      <td>53</td>\n",
       "      <td>6</td>\n",
       "      <td>43</td>\n",
       "      <td>NaN</td>\n",
       "      <td>407</td>\n",
       "    </tr>\n",
       "    <tr>\n",
       "      <th>2</th>\n",
       "      <td>2012-01-03</td>\n",
       "      <td>135</td>\n",
       "      <td>NaN</td>\n",
       "      <td>2</td>\n",
       "      <td>104</td>\n",
       "      <td>248</td>\n",
       "      <td>89</td>\n",
       "      <td>3</td>\n",
       "      <td>58</td>\n",
       "      <td>NaN</td>\n",
       "      <td>639</td>\n",
       "    </tr>\n",
       "    <tr>\n",
       "      <th>3</th>\n",
       "      <td>2012-01-04</td>\n",
       "      <td>144</td>\n",
       "      <td>NaN</td>\n",
       "      <td>1</td>\n",
       "      <td>116</td>\n",
       "      <td>318</td>\n",
       "      <td>111</td>\n",
       "      <td>8</td>\n",
       "      <td>61</td>\n",
       "      <td>NaN</td>\n",
       "      <td>759</td>\n",
       "    </tr>\n",
       "    <tr>\n",
       "      <th>4</th>\n",
       "      <td>2012-01-05</td>\n",
       "      <td>197</td>\n",
       "      <td>NaN</td>\n",
       "      <td>2</td>\n",
       "      <td>124</td>\n",
       "      <td>330</td>\n",
       "      <td>97</td>\n",
       "      <td>13</td>\n",
       "      <td>95</td>\n",
       "      <td>NaN</td>\n",
       "      <td>858</td>\n",
       "    </tr>\n",
       "  </tbody>\n",
       "</table>\n",
       "</div>"
      ],
      "text/plain": [
       "        Date  Berri 1  Brébeuf (données non disponibles)  \\\n",
       "0 2012-01-01       35                                NaN   \n",
       "1 2012-01-02       83                                NaN   \n",
       "2 2012-01-03      135                                NaN   \n",
       "3 2012-01-04      144                                NaN   \n",
       "4 2012-01-05      197                                NaN   \n",
       "\n",
       "   Côte-Sainte-Catherine  Maisonneuve 1  Maisonneuve 2  du Parc  Pierre-Dupuy  \\\n",
       "0                      0             38             51       26            10   \n",
       "1                      1             68            153       53             6   \n",
       "2                      2            104            248       89             3   \n",
       "3                      1            116            318      111             8   \n",
       "4                      2            124            330       97            13   \n",
       "\n",
       "   Rachel1  St-Urbain (données non disponibles)  Daily Total  \n",
       "0       16                                  NaN          176  \n",
       "1       43                                  NaN          407  \n",
       "2       58                                  NaN          639  \n",
       "3       61                                  NaN          759  \n",
       "4       95                                  NaN          858  "
      ]
     },
     "execution_count": 53,
     "metadata": {},
     "output_type": "execute_result"
    }
   ],
   "source": [
    "# Adding a column\n",
    "bikes_copy['Daily Total'] = bikes['Berri 1'] + bikes['Côte-Sainte-Catherine'] + bikes['Maisonneuve 1'] + bikes['Maisonneuve 2']+ bikes['du Parc']+ bikes['Pierre-Dupuy']+ bikes['Rachel1']\n",
    "bikes_copy.head()"
   ]
  },
  {
   "cell_type": "markdown",
   "metadata": {
    "deletable": false,
    "editable": false,
    "nbgrader": {
     "checksum": "1b74ce8facec3bcf76aeca8ce4bff02c",
     "grade": false,
     "grade_id": "cell-b185250c220a7d1e",
     "locked": true,
     "schema_version": 1,
     "solution": false
    }
   },
   "source": [
    "### Dropping data\n",
    "- To delete a row or a column use the function drop(). \n",
    "- To drop a column set axis = 1 \n",
    "- To delete the column without having to reassign like this: bikes_copy = bikes_copy.drop()\n",
    "--> you can set the parameter inplace = True\n"
   ]
  },
  {
   "cell_type": "code",
   "execution_count": 54,
   "metadata": {
    "deletable": false,
    "editable": false,
    "nbgrader": {
     "checksum": "2e91fd4246434cd50411c167d3f38376",
     "grade": false,
     "grade_id": "cell-c4be4f8c87c3c88e",
     "locked": true,
     "schema_version": 1,
     "solution": false
    }
   },
   "outputs": [
    {
     "data": {
      "text/html": [
       "<div>\n",
       "<style scoped>\n",
       "    .dataframe tbody tr th:only-of-type {\n",
       "        vertical-align: middle;\n",
       "    }\n",
       "\n",
       "    .dataframe tbody tr th {\n",
       "        vertical-align: top;\n",
       "    }\n",
       "\n",
       "    .dataframe thead th {\n",
       "        text-align: right;\n",
       "    }\n",
       "</style>\n",
       "<table border=\"1\" class=\"dataframe\">\n",
       "  <thead>\n",
       "    <tr style=\"text-align: right;\">\n",
       "      <th></th>\n",
       "      <th>Date</th>\n",
       "      <th>Berri 1</th>\n",
       "      <th>Côte-Sainte-Catherine</th>\n",
       "      <th>Maisonneuve 1</th>\n",
       "      <th>Maisonneuve 2</th>\n",
       "      <th>du Parc</th>\n",
       "      <th>Pierre-Dupuy</th>\n",
       "      <th>Rachel1</th>\n",
       "      <th>St-Urbain (données non disponibles)</th>\n",
       "      <th>Daily Total</th>\n",
       "    </tr>\n",
       "  </thead>\n",
       "  <tbody>\n",
       "    <tr>\n",
       "      <th>0</th>\n",
       "      <td>2012-01-01</td>\n",
       "      <td>35</td>\n",
       "      <td>0</td>\n",
       "      <td>38</td>\n",
       "      <td>51</td>\n",
       "      <td>26</td>\n",
       "      <td>10</td>\n",
       "      <td>16</td>\n",
       "      <td>NaN</td>\n",
       "      <td>176</td>\n",
       "    </tr>\n",
       "    <tr>\n",
       "      <th>1</th>\n",
       "      <td>2012-01-02</td>\n",
       "      <td>83</td>\n",
       "      <td>1</td>\n",
       "      <td>68</td>\n",
       "      <td>153</td>\n",
       "      <td>53</td>\n",
       "      <td>6</td>\n",
       "      <td>43</td>\n",
       "      <td>NaN</td>\n",
       "      <td>407</td>\n",
       "    </tr>\n",
       "    <tr>\n",
       "      <th>2</th>\n",
       "      <td>2012-01-03</td>\n",
       "      <td>135</td>\n",
       "      <td>2</td>\n",
       "      <td>104</td>\n",
       "      <td>248</td>\n",
       "      <td>89</td>\n",
       "      <td>3</td>\n",
       "      <td>58</td>\n",
       "      <td>NaN</td>\n",
       "      <td>639</td>\n",
       "    </tr>\n",
       "    <tr>\n",
       "      <th>3</th>\n",
       "      <td>2012-01-04</td>\n",
       "      <td>144</td>\n",
       "      <td>1</td>\n",
       "      <td>116</td>\n",
       "      <td>318</td>\n",
       "      <td>111</td>\n",
       "      <td>8</td>\n",
       "      <td>61</td>\n",
       "      <td>NaN</td>\n",
       "      <td>759</td>\n",
       "    </tr>\n",
       "    <tr>\n",
       "      <th>4</th>\n",
       "      <td>2012-01-05</td>\n",
       "      <td>197</td>\n",
       "      <td>2</td>\n",
       "      <td>124</td>\n",
       "      <td>330</td>\n",
       "      <td>97</td>\n",
       "      <td>13</td>\n",
       "      <td>95</td>\n",
       "      <td>NaN</td>\n",
       "      <td>858</td>\n",
       "    </tr>\n",
       "  </tbody>\n",
       "</table>\n",
       "</div>"
      ],
      "text/plain": [
       "        Date  Berri 1  Côte-Sainte-Catherine  Maisonneuve 1  Maisonneuve 2  \\\n",
       "0 2012-01-01       35                      0             38             51   \n",
       "1 2012-01-02       83                      1             68            153   \n",
       "2 2012-01-03      135                      2            104            248   \n",
       "3 2012-01-04      144                      1            116            318   \n",
       "4 2012-01-05      197                      2            124            330   \n",
       "\n",
       "   du Parc  Pierre-Dupuy  Rachel1  St-Urbain (données non disponibles)  \\\n",
       "0       26            10       16                                  NaN   \n",
       "1       53             6       43                                  NaN   \n",
       "2       89             3       58                                  NaN   \n",
       "3      111             8       61                                  NaN   \n",
       "4       97            13       95                                  NaN   \n",
       "\n",
       "   Daily Total  \n",
       "0          176  \n",
       "1          407  \n",
       "2          639  \n",
       "3          759  \n",
       "4          858  "
      ]
     },
     "execution_count": 54,
     "metadata": {},
     "output_type": "execute_result"
    }
   ],
   "source": [
    "bikes_copy.drop('Brébeuf (données non disponibles)', axis = 1, inplace = True)\n",
    "bikes_copy.head()"
   ]
  },
  {
   "cell_type": "markdown",
   "metadata": {
    "deletable": false,
    "editable": false,
    "nbgrader": {
     "checksum": "faabde59381459e98d95afff809c2cba",
     "grade": false,
     "grade_id": "cell-5033a56f4832661e",
     "locked": true,
     "schema_version": 1,
     "solution": false
    }
   },
   "source": [
    "Finally, to drop by column number instead of by column label, try this to delete the 2nd and 3rd columns"
   ]
  },
  {
   "cell_type": "code",
   "execution_count": 55,
   "metadata": {
    "deletable": false,
    "editable": false,
    "nbgrader": {
     "checksum": "98c0f30545849c7b22d6d26394f999d7",
     "grade": false,
     "grade_id": "cell-dcc5b5dbc185f962",
     "locked": true,
     "schema_version": 1,
     "solution": false
    }
   },
   "outputs": [
    {
     "data": {
      "text/html": [
       "<div>\n",
       "<style scoped>\n",
       "    .dataframe tbody tr th:only-of-type {\n",
       "        vertical-align: middle;\n",
       "    }\n",
       "\n",
       "    .dataframe tbody tr th {\n",
       "        vertical-align: top;\n",
       "    }\n",
       "\n",
       "    .dataframe thead th {\n",
       "        text-align: right;\n",
       "    }\n",
       "</style>\n",
       "<table border=\"1\" class=\"dataframe\">\n",
       "  <thead>\n",
       "    <tr style=\"text-align: right;\">\n",
       "      <th></th>\n",
       "      <th>Date</th>\n",
       "      <th>Berri 1</th>\n",
       "      <th>Maisonneuve 2</th>\n",
       "      <th>du Parc</th>\n",
       "      <th>Pierre-Dupuy</th>\n",
       "      <th>Rachel1</th>\n",
       "      <th>St-Urbain (données non disponibles)</th>\n",
       "      <th>Daily Total</th>\n",
       "    </tr>\n",
       "  </thead>\n",
       "  <tbody>\n",
       "    <tr>\n",
       "      <th>0</th>\n",
       "      <td>2012-01-01</td>\n",
       "      <td>35</td>\n",
       "      <td>51</td>\n",
       "      <td>26</td>\n",
       "      <td>10</td>\n",
       "      <td>16</td>\n",
       "      <td>NaN</td>\n",
       "      <td>176</td>\n",
       "    </tr>\n",
       "    <tr>\n",
       "      <th>1</th>\n",
       "      <td>2012-01-02</td>\n",
       "      <td>83</td>\n",
       "      <td>153</td>\n",
       "      <td>53</td>\n",
       "      <td>6</td>\n",
       "      <td>43</td>\n",
       "      <td>NaN</td>\n",
       "      <td>407</td>\n",
       "    </tr>\n",
       "    <tr>\n",
       "      <th>2</th>\n",
       "      <td>2012-01-03</td>\n",
       "      <td>135</td>\n",
       "      <td>248</td>\n",
       "      <td>89</td>\n",
       "      <td>3</td>\n",
       "      <td>58</td>\n",
       "      <td>NaN</td>\n",
       "      <td>639</td>\n",
       "    </tr>\n",
       "    <tr>\n",
       "      <th>3</th>\n",
       "      <td>2012-01-04</td>\n",
       "      <td>144</td>\n",
       "      <td>318</td>\n",
       "      <td>111</td>\n",
       "      <td>8</td>\n",
       "      <td>61</td>\n",
       "      <td>NaN</td>\n",
       "      <td>759</td>\n",
       "    </tr>\n",
       "    <tr>\n",
       "      <th>4</th>\n",
       "      <td>2012-01-05</td>\n",
       "      <td>197</td>\n",
       "      <td>330</td>\n",
       "      <td>97</td>\n",
       "      <td>13</td>\n",
       "      <td>95</td>\n",
       "      <td>NaN</td>\n",
       "      <td>858</td>\n",
       "    </tr>\n",
       "  </tbody>\n",
       "</table>\n",
       "</div>"
      ],
      "text/plain": [
       "        Date  Berri 1  Maisonneuve 2  du Parc  Pierre-Dupuy  Rachel1  \\\n",
       "0 2012-01-01       35             51       26            10       16   \n",
       "1 2012-01-02       83            153       53             6       43   \n",
       "2 2012-01-03      135            248       89             3       58   \n",
       "3 2012-01-04      144            318      111             8       61   \n",
       "4 2012-01-05      197            330       97            13       95   \n",
       "\n",
       "   St-Urbain (données non disponibles)  Daily Total  \n",
       "0                                  NaN          176  \n",
       "1                                  NaN          407  \n",
       "2                                  NaN          639  \n",
       "3                                  NaN          759  \n",
       "4                                  NaN          858  "
      ]
     },
     "execution_count": 55,
     "metadata": {},
     "output_type": "execute_result"
    }
   ],
   "source": [
    "bikes_copy.drop(bikes_copy.columns[[2, 3]], axis=1,inplace = True)  # df.columns is zero-based pd.Index \n",
    "bikes_copy.head()"
   ]
  },
  {
   "cell_type": "markdown",
   "metadata": {
    "deletable": false,
    "editable": false,
    "nbgrader": {
     "checksum": "f9497a152edf24131f377b67a856a056",
     "grade": false,
     "grade_id": "cell-85a2d4b22b089666",
     "locked": true,
     "schema_version": 1,
     "solution": false
    }
   },
   "source": [
    "### Sorting values"
   ]
  },
  {
   "cell_type": "markdown",
   "metadata": {
    "deletable": false,
    "editable": false,
    "nbgrader": {
     "checksum": "a92e45e876746bc16b135f1dc914a48d",
     "grade": false,
     "grade_id": "cell-fcd61f12cc5d176a",
     "locked": true,
     "schema_version": 1,
     "solution": false
    }
   },
   "source": [
    "To sort the values of the columns with respect to a certain column: sort_values(by = '', ascending= )"
   ]
  },
  {
   "cell_type": "code",
   "execution_count": 56,
   "metadata": {
    "deletable": false,
    "editable": false,
    "nbgrader": {
     "checksum": "e7d23d933ca415cb517fd5e702a799a8",
     "grade": false,
     "grade_id": "cell-a69a6d21c1972e15",
     "locked": true,
     "schema_version": 1,
     "solution": false
    }
   },
   "outputs": [
    {
     "data": {
      "text/html": [
       "<div>\n",
       "<style scoped>\n",
       "    .dataframe tbody tr th:only-of-type {\n",
       "        vertical-align: middle;\n",
       "    }\n",
       "\n",
       "    .dataframe tbody tr th {\n",
       "        vertical-align: top;\n",
       "    }\n",
       "\n",
       "    .dataframe thead th {\n",
       "        text-align: right;\n",
       "    }\n",
       "</style>\n",
       "<table border=\"1\" class=\"dataframe\">\n",
       "  <thead>\n",
       "    <tr style=\"text-align: right;\">\n",
       "      <th></th>\n",
       "      <th>Date</th>\n",
       "      <th>Berri 1</th>\n",
       "      <th>Maisonneuve 2</th>\n",
       "      <th>du Parc</th>\n",
       "      <th>Pierre-Dupuy</th>\n",
       "      <th>Rachel1</th>\n",
       "      <th>St-Urbain (données non disponibles)</th>\n",
       "      <th>Daily Total</th>\n",
       "    </tr>\n",
       "  </thead>\n",
       "  <tbody>\n",
       "    <tr>\n",
       "      <th>165</th>\n",
       "      <td>2012-06-14</td>\n",
       "      <td>6908</td>\n",
       "      <td>7934</td>\n",
       "      <td>4223</td>\n",
       "      <td>2386</td>\n",
       "      <td>6243</td>\n",
       "      <td>NaN</td>\n",
       "      <td>35481</td>\n",
       "    </tr>\n",
       "    <tr>\n",
       "      <th>166</th>\n",
       "      <td>2012-06-15</td>\n",
       "      <td>7077</td>\n",
       "      <td>7663</td>\n",
       "      <td>4053</td>\n",
       "      <td>2293</td>\n",
       "      <td>6491</td>\n",
       "      <td>NaN</td>\n",
       "      <td>35045</td>\n",
       "    </tr>\n",
       "    <tr>\n",
       "      <th>256</th>\n",
       "      <td>2012-09-13</td>\n",
       "      <td>6520</td>\n",
       "      <td>7514</td>\n",
       "      <td>4494</td>\n",
       "      <td>1986</td>\n",
       "      <td>5742</td>\n",
       "      <td>NaN</td>\n",
       "      <td>33701</td>\n",
       "    </tr>\n",
       "    <tr>\n",
       "      <th>186</th>\n",
       "      <td>2012-07-05</td>\n",
       "      <td>6672</td>\n",
       "      <td>7764</td>\n",
       "      <td>3816</td>\n",
       "      <td>2746</td>\n",
       "      <td>5153</td>\n",
       "      <td>NaN</td>\n",
       "      <td>33584</td>\n",
       "    </tr>\n",
       "    <tr>\n",
       "      <th>255</th>\n",
       "      <td>2012-09-12</td>\n",
       "      <td>6349</td>\n",
       "      <td>7292</td>\n",
       "      <td>4510</td>\n",
       "      <td>1981</td>\n",
       "      <td>5697</td>\n",
       "      <td>NaN</td>\n",
       "      <td>33162</td>\n",
       "    </tr>\n",
       "  </tbody>\n",
       "</table>\n",
       "</div>"
      ],
      "text/plain": [
       "          Date  Berri 1  Maisonneuve 2  du Parc  Pierre-Dupuy  Rachel1  \\\n",
       "165 2012-06-14     6908           7934     4223          2386     6243   \n",
       "166 2012-06-15     7077           7663     4053          2293     6491   \n",
       "256 2012-09-13     6520           7514     4494          1986     5742   \n",
       "186 2012-07-05     6672           7764     3816          2746     5153   \n",
       "255 2012-09-12     6349           7292     4510          1981     5697   \n",
       "\n",
       "     St-Urbain (données non disponibles)  Daily Total  \n",
       "165                                  NaN        35481  \n",
       "166                                  NaN        35045  \n",
       "256                                  NaN        33701  \n",
       "186                                  NaN        33584  \n",
       "255                                  NaN        33162  "
      ]
     },
     "execution_count": 56,
     "metadata": {},
     "output_type": "execute_result"
    }
   ],
   "source": [
    "bikes_copy = bikes_copy.sort_values(by = 'Daily Total',ascending=False)\n",
    "bikes_copy.head()"
   ]
  },
  {
   "cell_type": "markdown",
   "metadata": {
    "deletable": false,
    "editable": false,
    "nbgrader": {
     "checksum": "98bdae1e65dc7eb5f6fc7347a61dbb88",
     "grade": false,
     "grade_id": "cell-bb2d62bfb84a3864",
     "locked": true,
     "schema_version": 1,
     "solution": false
    }
   },
   "source": [
    "After sorting To reset the values, the indices of the rows will be sorted as well. To deal with this we used the reset_index() function. drop = True means not to keep the old index"
   ]
  },
  {
   "cell_type": "code",
   "execution_count": 57,
   "metadata": {
    "deletable": false,
    "editable": false,
    "nbgrader": {
     "checksum": "54357d0a98e63f646a1dd0d7a2dc63f9",
     "grade": false,
     "grade_id": "cell-ab467a3b9f8d11c0",
     "locked": true,
     "schema_version": 1,
     "solution": false
    }
   },
   "outputs": [
    {
     "data": {
      "text/html": [
       "<div>\n",
       "<style scoped>\n",
       "    .dataframe tbody tr th:only-of-type {\n",
       "        vertical-align: middle;\n",
       "    }\n",
       "\n",
       "    .dataframe tbody tr th {\n",
       "        vertical-align: top;\n",
       "    }\n",
       "\n",
       "    .dataframe thead th {\n",
       "        text-align: right;\n",
       "    }\n",
       "</style>\n",
       "<table border=\"1\" class=\"dataframe\">\n",
       "  <thead>\n",
       "    <tr style=\"text-align: right;\">\n",
       "      <th></th>\n",
       "      <th>Date</th>\n",
       "      <th>Berri 1</th>\n",
       "      <th>Maisonneuve 2</th>\n",
       "      <th>du Parc</th>\n",
       "      <th>Pierre-Dupuy</th>\n",
       "      <th>Rachel1</th>\n",
       "      <th>St-Urbain (données non disponibles)</th>\n",
       "      <th>Daily Total</th>\n",
       "    </tr>\n",
       "  </thead>\n",
       "  <tbody>\n",
       "    <tr>\n",
       "      <th>0</th>\n",
       "      <td>2012-06-14</td>\n",
       "      <td>6908</td>\n",
       "      <td>7934</td>\n",
       "      <td>4223</td>\n",
       "      <td>2386</td>\n",
       "      <td>6243</td>\n",
       "      <td>NaN</td>\n",
       "      <td>35481</td>\n",
       "    </tr>\n",
       "    <tr>\n",
       "      <th>1</th>\n",
       "      <td>2012-06-15</td>\n",
       "      <td>7077</td>\n",
       "      <td>7663</td>\n",
       "      <td>4053</td>\n",
       "      <td>2293</td>\n",
       "      <td>6491</td>\n",
       "      <td>NaN</td>\n",
       "      <td>35045</td>\n",
       "    </tr>\n",
       "    <tr>\n",
       "      <th>2</th>\n",
       "      <td>2012-09-13</td>\n",
       "      <td>6520</td>\n",
       "      <td>7514</td>\n",
       "      <td>4494</td>\n",
       "      <td>1986</td>\n",
       "      <td>5742</td>\n",
       "      <td>NaN</td>\n",
       "      <td>33701</td>\n",
       "    </tr>\n",
       "    <tr>\n",
       "      <th>3</th>\n",
       "      <td>2012-07-05</td>\n",
       "      <td>6672</td>\n",
       "      <td>7764</td>\n",
       "      <td>3816</td>\n",
       "      <td>2746</td>\n",
       "      <td>5153</td>\n",
       "      <td>NaN</td>\n",
       "      <td>33584</td>\n",
       "    </tr>\n",
       "    <tr>\n",
       "      <th>4</th>\n",
       "      <td>2012-09-12</td>\n",
       "      <td>6349</td>\n",
       "      <td>7292</td>\n",
       "      <td>4510</td>\n",
       "      <td>1981</td>\n",
       "      <td>5697</td>\n",
       "      <td>NaN</td>\n",
       "      <td>33162</td>\n",
       "    </tr>\n",
       "  </tbody>\n",
       "</table>\n",
       "</div>"
      ],
      "text/plain": [
       "        Date  Berri 1  Maisonneuve 2  du Parc  Pierre-Dupuy  Rachel1  \\\n",
       "0 2012-06-14     6908           7934     4223          2386     6243   \n",
       "1 2012-06-15     7077           7663     4053          2293     6491   \n",
       "2 2012-09-13     6520           7514     4494          1986     5742   \n",
       "3 2012-07-05     6672           7764     3816          2746     5153   \n",
       "4 2012-09-12     6349           7292     4510          1981     5697   \n",
       "\n",
       "   St-Urbain (données non disponibles)  Daily Total  \n",
       "0                                  NaN        35481  \n",
       "1                                  NaN        35045  \n",
       "2                                  NaN        33701  \n",
       "3                                  NaN        33584  \n",
       "4                                  NaN        33162  "
      ]
     },
     "execution_count": 57,
     "metadata": {},
     "output_type": "execute_result"
    }
   ],
   "source": [
    "bikes_copy.reset_index(inplace=True, drop = True)\n",
    "bikes_copy.head()\n"
   ]
  },
  {
   "cell_type": "markdown",
   "metadata": {
    "deletable": false,
    "editable": false,
    "nbgrader": {
     "checksum": "42fda15540ba5eb5bd5e06d6131c0b38",
     "grade": false,
     "grade_id": "cell-2894a0f13c8862ab",
     "locked": true,
     "schema_version": 1,
     "solution": false
    }
   },
   "source": [
    "### Applying a Function to Each Column"
   ]
  },
  {
   "cell_type": "markdown",
   "metadata": {
    "deletable": false,
    "editable": false,
    "nbgrader": {
     "checksum": "2d64493a0a0198d5a0c08462a1935827",
     "grade": false,
     "grade_id": "cell-b279e53a9d5b9b0e",
     "locked": true,
     "schema_version": 1,
     "solution": false
    }
   },
   "source": [
    "Sometimes it is necessary to apply the same function to certain columns of the data. To do this we use apply().\n",
    "Lets for example try to apply a function that divides each value starting from the 3rd column by the values of the column Daily Total and put it in a DataFrame named proportions. Notice that we did not put inplace=True and so \n",
    "we had to define a new DataFrame called proportions and put the values in it. "
   ]
  },
  {
   "cell_type": "code",
   "execution_count": 58,
   "metadata": {
    "deletable": false,
    "editable": false,
    "nbgrader": {
     "checksum": "bc134606e23247476dd094a41393d398",
     "grade": false,
     "grade_id": "cell-e15b5327547b7450",
     "locked": true,
     "schema_version": 1,
     "solution": false
    }
   },
   "outputs": [
    {
     "data": {
      "text/html": [
       "<div>\n",
       "<style scoped>\n",
       "    .dataframe tbody tr th:only-of-type {\n",
       "        vertical-align: middle;\n",
       "    }\n",
       "\n",
       "    .dataframe tbody tr th {\n",
       "        vertical-align: top;\n",
       "    }\n",
       "\n",
       "    .dataframe thead th {\n",
       "        text-align: right;\n",
       "    }\n",
       "</style>\n",
       "<table border=\"1\" class=\"dataframe\">\n",
       "  <thead>\n",
       "    <tr style=\"text-align: right;\">\n",
       "      <th></th>\n",
       "      <th>Maisonneuve 2</th>\n",
       "      <th>du Parc</th>\n",
       "      <th>Pierre-Dupuy</th>\n",
       "      <th>Rachel1</th>\n",
       "      <th>St-Urbain (données non disponibles)</th>\n",
       "      <th>Daily Total</th>\n",
       "    </tr>\n",
       "  </thead>\n",
       "  <tbody>\n",
       "    <tr>\n",
       "      <th>0</th>\n",
       "      <td>0.223613</td>\n",
       "      <td>0.119021</td>\n",
       "      <td>0.067247</td>\n",
       "      <td>0.175953</td>\n",
       "      <td>NaN</td>\n",
       "      <td>1.0</td>\n",
       "    </tr>\n",
       "    <tr>\n",
       "      <th>1</th>\n",
       "      <td>0.218662</td>\n",
       "      <td>0.115651</td>\n",
       "      <td>0.065430</td>\n",
       "      <td>0.185219</td>\n",
       "      <td>NaN</td>\n",
       "      <td>1.0</td>\n",
       "    </tr>\n",
       "    <tr>\n",
       "      <th>2</th>\n",
       "      <td>0.222961</td>\n",
       "      <td>0.133349</td>\n",
       "      <td>0.058930</td>\n",
       "      <td>0.170381</td>\n",
       "      <td>NaN</td>\n",
       "      <td>1.0</td>\n",
       "    </tr>\n",
       "    <tr>\n",
       "      <th>3</th>\n",
       "      <td>0.231182</td>\n",
       "      <td>0.113626</td>\n",
       "      <td>0.081765</td>\n",
       "      <td>0.153436</td>\n",
       "      <td>NaN</td>\n",
       "      <td>1.0</td>\n",
       "    </tr>\n",
       "    <tr>\n",
       "      <th>4</th>\n",
       "      <td>0.219890</td>\n",
       "      <td>0.135999</td>\n",
       "      <td>0.059737</td>\n",
       "      <td>0.171793</td>\n",
       "      <td>NaN</td>\n",
       "      <td>1.0</td>\n",
       "    </tr>\n",
       "  </tbody>\n",
       "</table>\n",
       "</div>"
      ],
      "text/plain": [
       "   Maisonneuve 2   du Parc  Pierre-Dupuy   Rachel1  \\\n",
       "0       0.223613  0.119021      0.067247  0.175953   \n",
       "1       0.218662  0.115651      0.065430  0.185219   \n",
       "2       0.222961  0.133349      0.058930  0.170381   \n",
       "3       0.231182  0.113626      0.081765  0.153436   \n",
       "4       0.219890  0.135999      0.059737  0.171793   \n",
       "\n",
       "   St-Urbain (données non disponibles)  Daily Total  \n",
       "0                                  NaN          1.0  \n",
       "1                                  NaN          1.0  \n",
       "2                                  NaN          1.0  \n",
       "3                                  NaN          1.0  \n",
       "4                                  NaN          1.0  "
      ]
     },
     "execution_count": 58,
     "metadata": {},
     "output_type": "execute_result"
    }
   ],
   "source": [
    "proportions = bikes_copy.iloc[:,2:].apply(lambda x: x/x['Daily Total'], axis=1)\n",
    "proportions.head()"
   ]
  },
  {
   "cell_type": "markdown",
   "metadata": {
    "deletable": false,
    "editable": false,
    "nbgrader": {
     "checksum": "b296b091e04abc3daa4878e376e57655",
     "grade": false,
     "grade_id": "cell-102915db9466243d",
     "locked": true,
     "schema_version": 1,
     "solution": false
    }
   },
   "source": [
    "### Dealing with NA"
   ]
  },
  {
   "cell_type": "markdown",
   "metadata": {
    "deletable": false,
    "editable": false,
    "nbgrader": {
     "checksum": "32d35c70da92eebcde3832a9e2d4ff25",
     "grade": false,
     "grade_id": "cell-9af0229d32b75eee",
     "locked": true,
     "schema_version": 1,
     "solution": false
    }
   },
   "source": [
    "Missing values is a common problem in data analysis. Missing values are usually automatically replaced by NaN values. To clean our data we can either delete the rows containing NaN or replacing NaNs by specific values.  "
   ]
  },
  {
   "cell_type": "markdown",
   "metadata": {
    "deletable": false,
    "editable": false,
    "nbgrader": {
     "checksum": "ff441fa131f026257ae2e3e8ab019329",
     "grade": false,
     "grade_id": "cell-8f527a838d408573",
     "locked": true,
     "schema_version": 1,
     "solution": false
    }
   },
   "source": [
    "Lets check if we have NaN values in the bikes data. For that we use isnull() function. The result is True is the value is Nan and False if it is not."
   ]
  },
  {
   "cell_type": "code",
   "execution_count": 59,
   "metadata": {
    "deletable": false,
    "editable": false,
    "nbgrader": {
     "checksum": "605818126ce0a0692a14e2309aff780b",
     "grade": false,
     "grade_id": "cell-4c2583b0201ec267",
     "locked": true,
     "schema_version": 1,
     "solution": false
    }
   },
   "outputs": [
    {
     "data": {
      "text/html": [
       "<div>\n",
       "<style scoped>\n",
       "    .dataframe tbody tr th:only-of-type {\n",
       "        vertical-align: middle;\n",
       "    }\n",
       "\n",
       "    .dataframe tbody tr th {\n",
       "        vertical-align: top;\n",
       "    }\n",
       "\n",
       "    .dataframe thead th {\n",
       "        text-align: right;\n",
       "    }\n",
       "</style>\n",
       "<table border=\"1\" class=\"dataframe\">\n",
       "  <thead>\n",
       "    <tr style=\"text-align: right;\">\n",
       "      <th></th>\n",
       "      <th>Date</th>\n",
       "      <th>Berri 1</th>\n",
       "      <th>Maisonneuve 2</th>\n",
       "      <th>du Parc</th>\n",
       "      <th>Pierre-Dupuy</th>\n",
       "      <th>Rachel1</th>\n",
       "      <th>St-Urbain (données non disponibles)</th>\n",
       "      <th>Daily Total</th>\n",
       "    </tr>\n",
       "  </thead>\n",
       "  <tbody>\n",
       "    <tr>\n",
       "      <th>0</th>\n",
       "      <td>False</td>\n",
       "      <td>False</td>\n",
       "      <td>False</td>\n",
       "      <td>False</td>\n",
       "      <td>False</td>\n",
       "      <td>False</td>\n",
       "      <td>True</td>\n",
       "      <td>False</td>\n",
       "    </tr>\n",
       "    <tr>\n",
       "      <th>1</th>\n",
       "      <td>False</td>\n",
       "      <td>False</td>\n",
       "      <td>False</td>\n",
       "      <td>False</td>\n",
       "      <td>False</td>\n",
       "      <td>False</td>\n",
       "      <td>True</td>\n",
       "      <td>False</td>\n",
       "    </tr>\n",
       "    <tr>\n",
       "      <th>2</th>\n",
       "      <td>False</td>\n",
       "      <td>False</td>\n",
       "      <td>False</td>\n",
       "      <td>False</td>\n",
       "      <td>False</td>\n",
       "      <td>False</td>\n",
       "      <td>True</td>\n",
       "      <td>False</td>\n",
       "    </tr>\n",
       "    <tr>\n",
       "      <th>3</th>\n",
       "      <td>False</td>\n",
       "      <td>False</td>\n",
       "      <td>False</td>\n",
       "      <td>False</td>\n",
       "      <td>False</td>\n",
       "      <td>False</td>\n",
       "      <td>True</td>\n",
       "      <td>False</td>\n",
       "    </tr>\n",
       "    <tr>\n",
       "      <th>4</th>\n",
       "      <td>False</td>\n",
       "      <td>False</td>\n",
       "      <td>False</td>\n",
       "      <td>False</td>\n",
       "      <td>False</td>\n",
       "      <td>False</td>\n",
       "      <td>True</td>\n",
       "      <td>False</td>\n",
       "    </tr>\n",
       "  </tbody>\n",
       "</table>\n",
       "</div>"
      ],
      "text/plain": [
       "    Date  Berri 1  Maisonneuve 2  du Parc  Pierre-Dupuy  Rachel1  \\\n",
       "0  False    False          False    False         False    False   \n",
       "1  False    False          False    False         False    False   \n",
       "2  False    False          False    False         False    False   \n",
       "3  False    False          False    False         False    False   \n",
       "4  False    False          False    False         False    False   \n",
       "\n",
       "   St-Urbain (données non disponibles)  Daily Total  \n",
       "0                                 True        False  \n",
       "1                                 True        False  \n",
       "2                                 True        False  \n",
       "3                                 True        False  \n",
       "4                                 True        False  "
      ]
     },
     "execution_count": 59,
     "metadata": {},
     "output_type": "execute_result"
    }
   ],
   "source": [
    "# To get the boolean mask where values are NaN \n",
    "bikes_copy.isnull().head()"
   ]
  },
  {
   "cell_type": "markdown",
   "metadata": {
    "deletable": false,
    "editable": false,
    "nbgrader": {
     "checksum": "08965885e84853bf724bfbbfe2af5e26",
     "grade": false,
     "grade_id": "cell-95b68610d1d259f0",
     "locked": true,
     "schema_version": 1,
     "solution": false
    }
   },
   "source": [
    "use fillna() function to replace the NaN values by whatever value you choose.\n",
    "value can be a string, a number or even a function"
   ]
  },
  {
   "cell_type": "code",
   "execution_count": 60,
   "metadata": {
    "deletable": false,
    "editable": false,
    "nbgrader": {
     "checksum": "2cad60f18f28c9a7ee3316b702948aab",
     "grade": false,
     "grade_id": "cell-8100f341260a7a2e",
     "locked": true,
     "schema_version": 1,
     "solution": false
    }
   },
   "outputs": [
    {
     "data": {
      "text/html": [
       "<div>\n",
       "<style scoped>\n",
       "    .dataframe tbody tr th:only-of-type {\n",
       "        vertical-align: middle;\n",
       "    }\n",
       "\n",
       "    .dataframe tbody tr th {\n",
       "        vertical-align: top;\n",
       "    }\n",
       "\n",
       "    .dataframe thead th {\n",
       "        text-align: right;\n",
       "    }\n",
       "</style>\n",
       "<table border=\"1\" class=\"dataframe\">\n",
       "  <thead>\n",
       "    <tr style=\"text-align: right;\">\n",
       "      <th></th>\n",
       "      <th>Date</th>\n",
       "      <th>Berri 1</th>\n",
       "      <th>Maisonneuve 2</th>\n",
       "      <th>du Parc</th>\n",
       "      <th>Pierre-Dupuy</th>\n",
       "      <th>Rachel1</th>\n",
       "      <th>St-Urbain (données non disponibles)</th>\n",
       "      <th>Daily Total</th>\n",
       "    </tr>\n",
       "  </thead>\n",
       "  <tbody>\n",
       "    <tr>\n",
       "      <th>0</th>\n",
       "      <td>2012-06-14</td>\n",
       "      <td>6908</td>\n",
       "      <td>7934</td>\n",
       "      <td>4223</td>\n",
       "      <td>2386</td>\n",
       "      <td>6243</td>\n",
       "      <td>0.0</td>\n",
       "      <td>35481</td>\n",
       "    </tr>\n",
       "    <tr>\n",
       "      <th>1</th>\n",
       "      <td>2012-06-15</td>\n",
       "      <td>7077</td>\n",
       "      <td>7663</td>\n",
       "      <td>4053</td>\n",
       "      <td>2293</td>\n",
       "      <td>6491</td>\n",
       "      <td>0.0</td>\n",
       "      <td>35045</td>\n",
       "    </tr>\n",
       "    <tr>\n",
       "      <th>2</th>\n",
       "      <td>2012-09-13</td>\n",
       "      <td>6520</td>\n",
       "      <td>7514</td>\n",
       "      <td>4494</td>\n",
       "      <td>1986</td>\n",
       "      <td>5742</td>\n",
       "      <td>0.0</td>\n",
       "      <td>33701</td>\n",
       "    </tr>\n",
       "    <tr>\n",
       "      <th>3</th>\n",
       "      <td>2012-07-05</td>\n",
       "      <td>6672</td>\n",
       "      <td>7764</td>\n",
       "      <td>3816</td>\n",
       "      <td>2746</td>\n",
       "      <td>5153</td>\n",
       "      <td>0.0</td>\n",
       "      <td>33584</td>\n",
       "    </tr>\n",
       "    <tr>\n",
       "      <th>4</th>\n",
       "      <td>2012-09-12</td>\n",
       "      <td>6349</td>\n",
       "      <td>7292</td>\n",
       "      <td>4510</td>\n",
       "      <td>1981</td>\n",
       "      <td>5697</td>\n",
       "      <td>0.0</td>\n",
       "      <td>33162</td>\n",
       "    </tr>\n",
       "  </tbody>\n",
       "</table>\n",
       "</div>"
      ],
      "text/plain": [
       "        Date  Berri 1  Maisonneuve 2  du Parc  Pierre-Dupuy  Rachel1  \\\n",
       "0 2012-06-14     6908           7934     4223          2386     6243   \n",
       "1 2012-06-15     7077           7663     4053          2293     6491   \n",
       "2 2012-09-13     6520           7514     4494          1986     5742   \n",
       "3 2012-07-05     6672           7764     3816          2746     5153   \n",
       "4 2012-09-12     6349           7292     4510          1981     5697   \n",
       "\n",
       "   St-Urbain (données non disponibles)  Daily Total  \n",
       "0                                  0.0        35481  \n",
       "1                                  0.0        35045  \n",
       "2                                  0.0        33701  \n",
       "3                                  0.0        33584  \n",
       "4                                  0.0        33162  "
      ]
     },
     "execution_count": 60,
     "metadata": {},
     "output_type": "execute_result"
    }
   ],
   "source": [
    "# Filling missing data\n",
    "bikes_copy.fillna(value = 0, inplace=False).head()"
   ]
  },
  {
   "cell_type": "code",
   "execution_count": 61,
   "metadata": {
    "deletable": false,
    "editable": false,
    "nbgrader": {
     "checksum": "e3fe142f0fed772074e4fc9016557086",
     "grade": false,
     "grade_id": "cell-8a2760ae8b0a2bc1",
     "locked": true,
     "schema_version": 1,
     "solution": false
    }
   },
   "outputs": [
    {
     "data": {
      "text/html": [
       "<div>\n",
       "<style scoped>\n",
       "    .dataframe tbody tr th:only-of-type {\n",
       "        vertical-align: middle;\n",
       "    }\n",
       "\n",
       "    .dataframe tbody tr th {\n",
       "        vertical-align: top;\n",
       "    }\n",
       "\n",
       "    .dataframe thead th {\n",
       "        text-align: right;\n",
       "    }\n",
       "</style>\n",
       "<table border=\"1\" class=\"dataframe\">\n",
       "  <thead>\n",
       "    <tr style=\"text-align: right;\">\n",
       "      <th></th>\n",
       "      <th>Date</th>\n",
       "      <th>Berri 1</th>\n",
       "      <th>Maisonneuve 2</th>\n",
       "      <th>du Parc</th>\n",
       "      <th>Pierre-Dupuy</th>\n",
       "      <th>Rachel1</th>\n",
       "      <th>St-Urbain (données non disponibles)</th>\n",
       "      <th>Daily Total</th>\n",
       "    </tr>\n",
       "  </thead>\n",
       "  <tbody>\n",
       "    <tr>\n",
       "      <th>0</th>\n",
       "      <td>2012-06-14</td>\n",
       "      <td>6908</td>\n",
       "      <td>7934</td>\n",
       "      <td>4223</td>\n",
       "      <td>2386</td>\n",
       "      <td>6243</td>\n",
       "      <td>NaN</td>\n",
       "      <td>35481</td>\n",
       "    </tr>\n",
       "    <tr>\n",
       "      <th>1</th>\n",
       "      <td>2012-06-15</td>\n",
       "      <td>7077</td>\n",
       "      <td>7663</td>\n",
       "      <td>4053</td>\n",
       "      <td>2293</td>\n",
       "      <td>6491</td>\n",
       "      <td>NaN</td>\n",
       "      <td>35045</td>\n",
       "    </tr>\n",
       "    <tr>\n",
       "      <th>2</th>\n",
       "      <td>2012-09-13</td>\n",
       "      <td>6520</td>\n",
       "      <td>7514</td>\n",
       "      <td>4494</td>\n",
       "      <td>1986</td>\n",
       "      <td>5742</td>\n",
       "      <td>NaN</td>\n",
       "      <td>33701</td>\n",
       "    </tr>\n",
       "    <tr>\n",
       "      <th>3</th>\n",
       "      <td>2012-07-05</td>\n",
       "      <td>6672</td>\n",
       "      <td>7764</td>\n",
       "      <td>3816</td>\n",
       "      <td>2746</td>\n",
       "      <td>5153</td>\n",
       "      <td>NaN</td>\n",
       "      <td>33584</td>\n",
       "    </tr>\n",
       "    <tr>\n",
       "      <th>4</th>\n",
       "      <td>2012-09-12</td>\n",
       "      <td>6349</td>\n",
       "      <td>7292</td>\n",
       "      <td>4510</td>\n",
       "      <td>1981</td>\n",
       "      <td>5697</td>\n",
       "      <td>NaN</td>\n",
       "      <td>33162</td>\n",
       "    </tr>\n",
       "  </tbody>\n",
       "</table>\n",
       "</div>"
      ],
      "text/plain": [
       "        Date  Berri 1  Maisonneuve 2  du Parc  Pierre-Dupuy  Rachel1  \\\n",
       "0 2012-06-14     6908           7934     4223          2386     6243   \n",
       "1 2012-06-15     7077           7663     4053          2293     6491   \n",
       "2 2012-09-13     6520           7514     4494          1986     5742   \n",
       "3 2012-07-05     6672           7764     3816          2746     5153   \n",
       "4 2012-09-12     6349           7292     4510          1981     5697   \n",
       "\n",
       "   St-Urbain (données non disponibles)  Daily Total  \n",
       "0                                  NaN        35481  \n",
       "1                                  NaN        35045  \n",
       "2                                  NaN        33701  \n",
       "3                                  NaN        33584  \n",
       "4                                  NaN        33162  "
      ]
     },
     "execution_count": 61,
     "metadata": {},
     "output_type": "execute_result"
    }
   ],
   "source": [
    "bikes_copy.head()"
   ]
  },
  {
   "cell_type": "markdown",
   "metadata": {
    "deletable": false,
    "editable": false,
    "nbgrader": {
     "checksum": "b333021414cc2c69ee521370245f3757",
     "grade": false,
     "grade_id": "cell-53033023510fe8a5",
     "locked": true,
     "schema_version": 1,
     "solution": false
    }
   },
   "source": [
    "Lets replace the NaN values in the Closed Date column in complaints by the string \"Unknown\""
   ]
  },
  {
   "cell_type": "code",
   "execution_count": 62,
   "metadata": {
    "deletable": false,
    "editable": false,
    "nbgrader": {
     "checksum": "dfcd6a6c8674b6fcf9cc8bb440822da0",
     "grade": false,
     "grade_id": "cell-7cbccd9d345996d1",
     "locked": true,
     "schema_version": 1,
     "solution": false
    }
   },
   "outputs": [
    {
     "data": {
      "text/html": [
       "<div>\n",
       "<style scoped>\n",
       "    .dataframe tbody tr th:only-of-type {\n",
       "        vertical-align: middle;\n",
       "    }\n",
       "\n",
       "    .dataframe tbody tr th {\n",
       "        vertical-align: top;\n",
       "    }\n",
       "\n",
       "    .dataframe thead th {\n",
       "        text-align: right;\n",
       "    }\n",
       "</style>\n",
       "<table border=\"1\" class=\"dataframe\">\n",
       "  <thead>\n",
       "    <tr style=\"text-align: right;\">\n",
       "      <th></th>\n",
       "      <th>Unique Key</th>\n",
       "      <th>Created Date</th>\n",
       "      <th>Closed Date</th>\n",
       "      <th>Agency</th>\n",
       "      <th>Agency Name</th>\n",
       "      <th>Complaint Type</th>\n",
       "      <th>Descriptor</th>\n",
       "      <th>Location Type</th>\n",
       "      <th>Incident Zip</th>\n",
       "      <th>Incident Address</th>\n",
       "      <th>...</th>\n",
       "      <th>Bridge Highway Name</th>\n",
       "      <th>Bridge Highway Direction</th>\n",
       "      <th>Road Ramp</th>\n",
       "      <th>Bridge Highway Segment</th>\n",
       "      <th>Garage Lot Name</th>\n",
       "      <th>Ferry Direction</th>\n",
       "      <th>Ferry Terminal Name</th>\n",
       "      <th>Latitude</th>\n",
       "      <th>Longitude</th>\n",
       "      <th>Location</th>\n",
       "    </tr>\n",
       "  </thead>\n",
       "  <tbody>\n",
       "    <tr>\n",
       "      <th>0</th>\n",
       "      <td>26589651</td>\n",
       "      <td>10/31/2013 02:08:41 AM</td>\n",
       "      <td>NaN</td>\n",
       "      <td>NYPD</td>\n",
       "      <td>New York City Police Department</td>\n",
       "      <td>Noise - Street/Sidewalk</td>\n",
       "      <td>Loud Talking</td>\n",
       "      <td>Street/Sidewalk</td>\n",
       "      <td>11432</td>\n",
       "      <td>90-03 169 STREET</td>\n",
       "      <td>...</td>\n",
       "      <td>NaN</td>\n",
       "      <td>NaN</td>\n",
       "      <td>NaN</td>\n",
       "      <td>NaN</td>\n",
       "      <td>NaN</td>\n",
       "      <td>NaN</td>\n",
       "      <td>NaN</td>\n",
       "      <td>40.708275</td>\n",
       "      <td>-73.791604</td>\n",
       "      <td>(40.70827532593202, -73.79160395779721)</td>\n",
       "    </tr>\n",
       "    <tr>\n",
       "      <th>1</th>\n",
       "      <td>26593698</td>\n",
       "      <td>10/31/2013 02:01:04 AM</td>\n",
       "      <td>NaN</td>\n",
       "      <td>NYPD</td>\n",
       "      <td>New York City Police Department</td>\n",
       "      <td>Illegal Parking</td>\n",
       "      <td>Commercial Overnight Parking</td>\n",
       "      <td>Street/Sidewalk</td>\n",
       "      <td>11378</td>\n",
       "      <td>58 AVENUE</td>\n",
       "      <td>...</td>\n",
       "      <td>NaN</td>\n",
       "      <td>NaN</td>\n",
       "      <td>NaN</td>\n",
       "      <td>NaN</td>\n",
       "      <td>NaN</td>\n",
       "      <td>NaN</td>\n",
       "      <td>NaN</td>\n",
       "      <td>40.721041</td>\n",
       "      <td>-73.909453</td>\n",
       "      <td>(40.721040535628305, -73.90945306791765)</td>\n",
       "    </tr>\n",
       "    <tr>\n",
       "      <th>2</th>\n",
       "      <td>26594139</td>\n",
       "      <td>10/31/2013 02:00:24 AM</td>\n",
       "      <td>10/31/2013 02:40:32 AM</td>\n",
       "      <td>NYPD</td>\n",
       "      <td>New York City Police Department</td>\n",
       "      <td>Noise - Commercial</td>\n",
       "      <td>Loud Music/Party</td>\n",
       "      <td>Club/Bar/Restaurant</td>\n",
       "      <td>10032</td>\n",
       "      <td>4060 BROADWAY</td>\n",
       "      <td>...</td>\n",
       "      <td>NaN</td>\n",
       "      <td>NaN</td>\n",
       "      <td>NaN</td>\n",
       "      <td>NaN</td>\n",
       "      <td>NaN</td>\n",
       "      <td>NaN</td>\n",
       "      <td>NaN</td>\n",
       "      <td>40.843330</td>\n",
       "      <td>-73.939144</td>\n",
       "      <td>(40.84332975466513, -73.93914371913482)</td>\n",
       "    </tr>\n",
       "  </tbody>\n",
       "</table>\n",
       "<p>3 rows × 52 columns</p>\n",
       "</div>"
      ],
      "text/plain": [
       "   Unique Key            Created Date             Closed Date Agency  \\\n",
       "0    26589651  10/31/2013 02:08:41 AM                     NaN   NYPD   \n",
       "1    26593698  10/31/2013 02:01:04 AM                     NaN   NYPD   \n",
       "2    26594139  10/31/2013 02:00:24 AM  10/31/2013 02:40:32 AM   NYPD   \n",
       "\n",
       "                       Agency Name           Complaint Type  \\\n",
       "0  New York City Police Department  Noise - Street/Sidewalk   \n",
       "1  New York City Police Department          Illegal Parking   \n",
       "2  New York City Police Department       Noise - Commercial   \n",
       "\n",
       "                     Descriptor        Location Type Incident Zip  \\\n",
       "0                  Loud Talking      Street/Sidewalk        11432   \n",
       "1  Commercial Overnight Parking      Street/Sidewalk        11378   \n",
       "2              Loud Music/Party  Club/Bar/Restaurant        10032   \n",
       "\n",
       "   Incident Address  ... Bridge Highway Name Bridge Highway Direction  \\\n",
       "0  90-03 169 STREET  ...                 NaN                      NaN   \n",
       "1         58 AVENUE  ...                 NaN                      NaN   \n",
       "2     4060 BROADWAY  ...                 NaN                      NaN   \n",
       "\n",
       "  Road Ramp Bridge Highway Segment Garage Lot Name Ferry Direction  \\\n",
       "0       NaN                    NaN             NaN             NaN   \n",
       "1       NaN                    NaN             NaN             NaN   \n",
       "2       NaN                    NaN             NaN             NaN   \n",
       "\n",
       "  Ferry Terminal Name   Latitude  Longitude  \\\n",
       "0                 NaN  40.708275 -73.791604   \n",
       "1                 NaN  40.721041 -73.909453   \n",
       "2                 NaN  40.843330 -73.939144   \n",
       "\n",
       "                                   Location  \n",
       "0   (40.70827532593202, -73.79160395779721)  \n",
       "1  (40.721040535628305, -73.90945306791765)  \n",
       "2   (40.84332975466513, -73.93914371913482)  \n",
       "\n",
       "[3 rows x 52 columns]"
      ]
     },
     "execution_count": 62,
     "metadata": {},
     "output_type": "execute_result"
    }
   ],
   "source": [
    "complaints.head(3)"
   ]
  },
  {
   "cell_type": "code",
   "execution_count": 63,
   "metadata": {
    "deletable": false,
    "editable": false,
    "nbgrader": {
     "checksum": "bd4f40aedac50c7130d36352b8c1a1ee",
     "grade": false,
     "grade_id": "cell-c45626e014936dfe",
     "locked": true,
     "schema_version": 1,
     "solution": false
    }
   },
   "outputs": [
    {
     "data": {
      "text/html": [
       "<div>\n",
       "<style scoped>\n",
       "    .dataframe tbody tr th:only-of-type {\n",
       "        vertical-align: middle;\n",
       "    }\n",
       "\n",
       "    .dataframe tbody tr th {\n",
       "        vertical-align: top;\n",
       "    }\n",
       "\n",
       "    .dataframe thead th {\n",
       "        text-align: right;\n",
       "    }\n",
       "</style>\n",
       "<table border=\"1\" class=\"dataframe\">\n",
       "  <thead>\n",
       "    <tr style=\"text-align: right;\">\n",
       "      <th></th>\n",
       "      <th>Unique Key</th>\n",
       "      <th>Created Date</th>\n",
       "      <th>Closed Date</th>\n",
       "      <th>Agency</th>\n",
       "      <th>Agency Name</th>\n",
       "      <th>Complaint Type</th>\n",
       "      <th>Descriptor</th>\n",
       "      <th>Location Type</th>\n",
       "      <th>Incident Zip</th>\n",
       "      <th>Incident Address</th>\n",
       "      <th>...</th>\n",
       "      <th>Bridge Highway Name</th>\n",
       "      <th>Bridge Highway Direction</th>\n",
       "      <th>Road Ramp</th>\n",
       "      <th>Bridge Highway Segment</th>\n",
       "      <th>Garage Lot Name</th>\n",
       "      <th>Ferry Direction</th>\n",
       "      <th>Ferry Terminal Name</th>\n",
       "      <th>Latitude</th>\n",
       "      <th>Longitude</th>\n",
       "      <th>Location</th>\n",
       "    </tr>\n",
       "  </thead>\n",
       "  <tbody>\n",
       "    <tr>\n",
       "      <th>0</th>\n",
       "      <td>1</td>\n",
       "      <td>10/31/2013 02:08:41 AM</td>\n",
       "      <td>Unknown</td>\n",
       "      <td>NYPD</td>\n",
       "      <td>New York City Police Department</td>\n",
       "      <td>Noise - Street/Sidewalk</td>\n",
       "      <td>Loud Talking</td>\n",
       "      <td>Street/Sidewalk</td>\n",
       "      <td>11432</td>\n",
       "      <td>90-03 169 STREET</td>\n",
       "      <td>...</td>\n",
       "      <td>NaN</td>\n",
       "      <td>NaN</td>\n",
       "      <td>NaN</td>\n",
       "      <td>NaN</td>\n",
       "      <td>NaN</td>\n",
       "      <td>NaN</td>\n",
       "      <td>NaN</td>\n",
       "      <td>40.708275</td>\n",
       "      <td>-73.791604</td>\n",
       "      <td>(40.70827532593202, -73.79160395779721)</td>\n",
       "    </tr>\n",
       "    <tr>\n",
       "      <th>1</th>\n",
       "      <td>2</td>\n",
       "      <td>10/31/2013 02:01:04 AM</td>\n",
       "      <td>Unknown</td>\n",
       "      <td>NYPD</td>\n",
       "      <td>New York City Police Department</td>\n",
       "      <td>Illegal Parking</td>\n",
       "      <td>Commercial Overnight Parking</td>\n",
       "      <td>Street/Sidewalk</td>\n",
       "      <td>11378</td>\n",
       "      <td>58 AVENUE</td>\n",
       "      <td>...</td>\n",
       "      <td>NaN</td>\n",
       "      <td>NaN</td>\n",
       "      <td>NaN</td>\n",
       "      <td>NaN</td>\n",
       "      <td>NaN</td>\n",
       "      <td>NaN</td>\n",
       "      <td>NaN</td>\n",
       "      <td>40.721041</td>\n",
       "      <td>-73.909453</td>\n",
       "      <td>(40.721040535628305, -73.90945306791765)</td>\n",
       "    </tr>\n",
       "    <tr>\n",
       "      <th>2</th>\n",
       "      <td>3</td>\n",
       "      <td>10/31/2013 02:00:24 AM</td>\n",
       "      <td>10/31/2013 02:40:32 AM</td>\n",
       "      <td>NYPD</td>\n",
       "      <td>New York City Police Department</td>\n",
       "      <td>Noise - Commercial</td>\n",
       "      <td>Loud Music/Party</td>\n",
       "      <td>Club/Bar/Restaurant</td>\n",
       "      <td>10032</td>\n",
       "      <td>4060 BROADWAY</td>\n",
       "      <td>...</td>\n",
       "      <td>NaN</td>\n",
       "      <td>NaN</td>\n",
       "      <td>NaN</td>\n",
       "      <td>NaN</td>\n",
       "      <td>NaN</td>\n",
       "      <td>NaN</td>\n",
       "      <td>NaN</td>\n",
       "      <td>40.843330</td>\n",
       "      <td>-73.939144</td>\n",
       "      <td>(40.84332975466513, -73.93914371913482)</td>\n",
       "    </tr>\n",
       "  </tbody>\n",
       "</table>\n",
       "<p>3 rows × 52 columns</p>\n",
       "</div>"
      ],
      "text/plain": [
       "   Unique Key            Created Date             Closed Date Agency  \\\n",
       "0           1  10/31/2013 02:08:41 AM                 Unknown   NYPD   \n",
       "1           2  10/31/2013 02:01:04 AM                 Unknown   NYPD   \n",
       "2           3  10/31/2013 02:00:24 AM  10/31/2013 02:40:32 AM   NYPD   \n",
       "\n",
       "                       Agency Name           Complaint Type  \\\n",
       "0  New York City Police Department  Noise - Street/Sidewalk   \n",
       "1  New York City Police Department          Illegal Parking   \n",
       "2  New York City Police Department       Noise - Commercial   \n",
       "\n",
       "                     Descriptor        Location Type Incident Zip  \\\n",
       "0                  Loud Talking      Street/Sidewalk        11432   \n",
       "1  Commercial Overnight Parking      Street/Sidewalk        11378   \n",
       "2              Loud Music/Party  Club/Bar/Restaurant        10032   \n",
       "\n",
       "   Incident Address  ... Bridge Highway Name Bridge Highway Direction  \\\n",
       "0  90-03 169 STREET  ...                 NaN                      NaN   \n",
       "1         58 AVENUE  ...                 NaN                      NaN   \n",
       "2     4060 BROADWAY  ...                 NaN                      NaN   \n",
       "\n",
       "  Road Ramp Bridge Highway Segment Garage Lot Name Ferry Direction  \\\n",
       "0       NaN                    NaN             NaN             NaN   \n",
       "1       NaN                    NaN             NaN             NaN   \n",
       "2       NaN                    NaN             NaN             NaN   \n",
       "\n",
       "  Ferry Terminal Name   Latitude  Longitude  \\\n",
       "0                 NaN  40.708275 -73.791604   \n",
       "1                 NaN  40.721041 -73.909453   \n",
       "2                 NaN  40.843330 -73.939144   \n",
       "\n",
       "                                   Location  \n",
       "0   (40.70827532593202, -73.79160395779721)  \n",
       "1  (40.721040535628305, -73.90945306791765)  \n",
       "2   (40.84332975466513, -73.93914371913482)  \n",
       "\n",
       "[3 rows x 52 columns]"
      ]
     },
     "execution_count": 63,
     "metadata": {},
     "output_type": "execute_result"
    }
   ],
   "source": [
    "complaints_copy['Closed Date'].fillna(value='Unknown', inplace= True)\n",
    "complaints_copy.head(3)"
   ]
  },
  {
   "cell_type": "markdown",
   "metadata": {
    "deletable": false,
    "editable": false,
    "nbgrader": {
     "checksum": "6647ab93127790eff7163d83adfc5278",
     "grade": false,
     "grade_id": "cell-0406ae6fe1f05886",
     "locked": true,
     "schema_version": 1,
     "solution": false
    }
   },
   "source": [
    "To delete all the rows containg NaN, use the dropna() function\n",
    "- axis where missing values are dropped, 0 <=> row and 1 <=> column\n",
    "- how : if 'any' NaN are present, drop that label \n",
    "- if 'all' labels are NA, drop that label"
   ]
  },
  {
   "cell_type": "code",
   "execution_count": 64,
   "metadata": {
    "deletable": false,
    "editable": false,
    "nbgrader": {
     "checksum": "0256b1295461fb72abb4704d53e2dfc4",
     "grade": false,
     "grade_id": "cell-b40eff30bfe17952",
     "locked": true,
     "schema_version": 1,
     "solution": false
    }
   },
   "outputs": [
    {
     "data": {
      "text/html": [
       "<div>\n",
       "<style scoped>\n",
       "    .dataframe tbody tr th:only-of-type {\n",
       "        vertical-align: middle;\n",
       "    }\n",
       "\n",
       "    .dataframe tbody tr th {\n",
       "        vertical-align: top;\n",
       "    }\n",
       "\n",
       "    .dataframe thead th {\n",
       "        text-align: right;\n",
       "    }\n",
       "</style>\n",
       "<table border=\"1\" class=\"dataframe\">\n",
       "  <thead>\n",
       "    <tr style=\"text-align: right;\">\n",
       "      <th></th>\n",
       "      <th>Unique Key</th>\n",
       "      <th>Created Date</th>\n",
       "      <th>Closed Date</th>\n",
       "      <th>Agency</th>\n",
       "      <th>Agency Name</th>\n",
       "      <th>Complaint Type</th>\n",
       "      <th>Descriptor</th>\n",
       "      <th>Location Type</th>\n",
       "      <th>Incident Zip</th>\n",
       "      <th>Incident Address</th>\n",
       "      <th>...</th>\n",
       "      <th>Bridge Highway Name</th>\n",
       "      <th>Bridge Highway Direction</th>\n",
       "      <th>Road Ramp</th>\n",
       "      <th>Bridge Highway Segment</th>\n",
       "      <th>Garage Lot Name</th>\n",
       "      <th>Ferry Direction</th>\n",
       "      <th>Ferry Terminal Name</th>\n",
       "      <th>Latitude</th>\n",
       "      <th>Longitude</th>\n",
       "      <th>Location</th>\n",
       "    </tr>\n",
       "  </thead>\n",
       "  <tbody>\n",
       "    <tr>\n",
       "      <th>0</th>\n",
       "      <td>26589651</td>\n",
       "      <td>10/31/2013 02:08:41 AM</td>\n",
       "      <td>NaN</td>\n",
       "      <td>NYPD</td>\n",
       "      <td>New York City Police Department</td>\n",
       "      <td>Noise - Street/Sidewalk</td>\n",
       "      <td>Loud Talking</td>\n",
       "      <td>Street/Sidewalk</td>\n",
       "      <td>11432</td>\n",
       "      <td>90-03 169 STREET</td>\n",
       "      <td>...</td>\n",
       "      <td>NaN</td>\n",
       "      <td>NaN</td>\n",
       "      <td>NaN</td>\n",
       "      <td>NaN</td>\n",
       "      <td>NaN</td>\n",
       "      <td>NaN</td>\n",
       "      <td>NaN</td>\n",
       "      <td>40.708275</td>\n",
       "      <td>-73.791604</td>\n",
       "      <td>(40.70827532593202, -73.79160395779721)</td>\n",
       "    </tr>\n",
       "    <tr>\n",
       "      <th>1</th>\n",
       "      <td>26593698</td>\n",
       "      <td>10/31/2013 02:01:04 AM</td>\n",
       "      <td>NaN</td>\n",
       "      <td>NYPD</td>\n",
       "      <td>New York City Police Department</td>\n",
       "      <td>Illegal Parking</td>\n",
       "      <td>Commercial Overnight Parking</td>\n",
       "      <td>Street/Sidewalk</td>\n",
       "      <td>11378</td>\n",
       "      <td>58 AVENUE</td>\n",
       "      <td>...</td>\n",
       "      <td>NaN</td>\n",
       "      <td>NaN</td>\n",
       "      <td>NaN</td>\n",
       "      <td>NaN</td>\n",
       "      <td>NaN</td>\n",
       "      <td>NaN</td>\n",
       "      <td>NaN</td>\n",
       "      <td>40.721041</td>\n",
       "      <td>-73.909453</td>\n",
       "      <td>(40.721040535628305, -73.90945306791765)</td>\n",
       "    </tr>\n",
       "    <tr>\n",
       "      <th>2</th>\n",
       "      <td>26594139</td>\n",
       "      <td>10/31/2013 02:00:24 AM</td>\n",
       "      <td>10/31/2013 02:40:32 AM</td>\n",
       "      <td>NYPD</td>\n",
       "      <td>New York City Police Department</td>\n",
       "      <td>Noise - Commercial</td>\n",
       "      <td>Loud Music/Party</td>\n",
       "      <td>Club/Bar/Restaurant</td>\n",
       "      <td>10032</td>\n",
       "      <td>4060 BROADWAY</td>\n",
       "      <td>...</td>\n",
       "      <td>NaN</td>\n",
       "      <td>NaN</td>\n",
       "      <td>NaN</td>\n",
       "      <td>NaN</td>\n",
       "      <td>NaN</td>\n",
       "      <td>NaN</td>\n",
       "      <td>NaN</td>\n",
       "      <td>40.843330</td>\n",
       "      <td>-73.939144</td>\n",
       "      <td>(40.84332975466513, -73.93914371913482)</td>\n",
       "    </tr>\n",
       "    <tr>\n",
       "      <th>3</th>\n",
       "      <td>26595721</td>\n",
       "      <td>10/31/2013 01:56:23 AM</td>\n",
       "      <td>10/31/2013 02:21:48 AM</td>\n",
       "      <td>NYPD</td>\n",
       "      <td>New York City Police Department</td>\n",
       "      <td>Noise - Vehicle</td>\n",
       "      <td>Car/Truck Horn</td>\n",
       "      <td>Street/Sidewalk</td>\n",
       "      <td>10023</td>\n",
       "      <td>WEST 72 STREET</td>\n",
       "      <td>...</td>\n",
       "      <td>NaN</td>\n",
       "      <td>NaN</td>\n",
       "      <td>NaN</td>\n",
       "      <td>NaN</td>\n",
       "      <td>NaN</td>\n",
       "      <td>NaN</td>\n",
       "      <td>NaN</td>\n",
       "      <td>40.778009</td>\n",
       "      <td>-73.980213</td>\n",
       "      <td>(40.7780087446372, -73.98021349023975)</td>\n",
       "    </tr>\n",
       "    <tr>\n",
       "      <th>4</th>\n",
       "      <td>26590930</td>\n",
       "      <td>10/31/2013 01:53:44 AM</td>\n",
       "      <td>NaN</td>\n",
       "      <td>DOHMH</td>\n",
       "      <td>Department of Health and Mental Hygiene</td>\n",
       "      <td>Rodent</td>\n",
       "      <td>Condition Attracting Rodents</td>\n",
       "      <td>Vacant Lot</td>\n",
       "      <td>10027</td>\n",
       "      <td>WEST 124 STREET</td>\n",
       "      <td>...</td>\n",
       "      <td>NaN</td>\n",
       "      <td>NaN</td>\n",
       "      <td>NaN</td>\n",
       "      <td>NaN</td>\n",
       "      <td>NaN</td>\n",
       "      <td>NaN</td>\n",
       "      <td>NaN</td>\n",
       "      <td>40.807691</td>\n",
       "      <td>-73.947387</td>\n",
       "      <td>(40.80769092704951, -73.94738703491433)</td>\n",
       "    </tr>\n",
       "  </tbody>\n",
       "</table>\n",
       "<p>5 rows × 52 columns</p>\n",
       "</div>"
      ],
      "text/plain": [
       "   Unique Key            Created Date             Closed Date Agency  \\\n",
       "0    26589651  10/31/2013 02:08:41 AM                     NaN   NYPD   \n",
       "1    26593698  10/31/2013 02:01:04 AM                     NaN   NYPD   \n",
       "2    26594139  10/31/2013 02:00:24 AM  10/31/2013 02:40:32 AM   NYPD   \n",
       "3    26595721  10/31/2013 01:56:23 AM  10/31/2013 02:21:48 AM   NYPD   \n",
       "4    26590930  10/31/2013 01:53:44 AM                     NaN  DOHMH   \n",
       "\n",
       "                               Agency Name           Complaint Type  \\\n",
       "0          New York City Police Department  Noise - Street/Sidewalk   \n",
       "1          New York City Police Department          Illegal Parking   \n",
       "2          New York City Police Department       Noise - Commercial   \n",
       "3          New York City Police Department          Noise - Vehicle   \n",
       "4  Department of Health and Mental Hygiene                   Rodent   \n",
       "\n",
       "                     Descriptor        Location Type Incident Zip  \\\n",
       "0                  Loud Talking      Street/Sidewalk        11432   \n",
       "1  Commercial Overnight Parking      Street/Sidewalk        11378   \n",
       "2              Loud Music/Party  Club/Bar/Restaurant        10032   \n",
       "3                Car/Truck Horn      Street/Sidewalk        10023   \n",
       "4  Condition Attracting Rodents           Vacant Lot        10027   \n",
       "\n",
       "   Incident Address  ... Bridge Highway Name Bridge Highway Direction  \\\n",
       "0  90-03 169 STREET  ...                 NaN                      NaN   \n",
       "1         58 AVENUE  ...                 NaN                      NaN   \n",
       "2     4060 BROADWAY  ...                 NaN                      NaN   \n",
       "3    WEST 72 STREET  ...                 NaN                      NaN   \n",
       "4   WEST 124 STREET  ...                 NaN                      NaN   \n",
       "\n",
       "  Road Ramp Bridge Highway Segment Garage Lot Name Ferry Direction  \\\n",
       "0       NaN                    NaN             NaN             NaN   \n",
       "1       NaN                    NaN             NaN             NaN   \n",
       "2       NaN                    NaN             NaN             NaN   \n",
       "3       NaN                    NaN             NaN             NaN   \n",
       "4       NaN                    NaN             NaN             NaN   \n",
       "\n",
       "  Ferry Terminal Name   Latitude  Longitude  \\\n",
       "0                 NaN  40.708275 -73.791604   \n",
       "1                 NaN  40.721041 -73.909453   \n",
       "2                 NaN  40.843330 -73.939144   \n",
       "3                 NaN  40.778009 -73.980213   \n",
       "4                 NaN  40.807691 -73.947387   \n",
       "\n",
       "                                   Location  \n",
       "0   (40.70827532593202, -73.79160395779721)  \n",
       "1  (40.721040535628305, -73.90945306791765)  \n",
       "2   (40.84332975466513, -73.93914371913482)  \n",
       "3    (40.7780087446372, -73.98021349023975)  \n",
       "4   (40.80769092704951, -73.94738703491433)  \n",
       "\n",
       "[5 rows x 52 columns]"
      ]
     },
     "execution_count": 64,
     "metadata": {},
     "output_type": "execute_result"
    }
   ],
   "source": [
    "complaints.dropna(axis = 0, how = 'all', inplace = False).head()"
   ]
  },
  {
   "cell_type": "markdown",
   "metadata": {
    "deletable": false,
    "editable": false,
    "nbgrader": {
     "checksum": "1b7414c6837a159e0d4a84e19e5eedc1",
     "grade": false,
     "grade_id": "cell-4f34f20d235ece83",
     "locked": true,
     "schema_version": 1,
     "solution": false
    }
   },
   "source": [
    "## Counting Values And Filtering<a name=\"_counting values and filtering\"></a>\n",
    "\n",
    "To count the occurence of specific values for specific columns. We use the `.value_counts()` function.\n",
    "What's the most common complaint type? This is a really easy question to answer! "
   ]
  },
  {
   "cell_type": "code",
   "execution_count": 65,
   "metadata": {
    "deletable": false,
    "editable": false,
    "nbgrader": {
     "checksum": "97f2f8807222592255d96744bf50bfb7",
     "grade": false,
     "grade_id": "cell-99e8ae21997c1d14",
     "locked": true,
     "schema_version": 1,
     "solution": false
    }
   },
   "outputs": [
    {
     "data": {
      "text/plain": [
       "HEATING                           14200\n",
       "GENERAL CONSTRUCTION               7471\n",
       "Street Light Condition             7117\n",
       "DOF Literature Request             5797\n",
       "PLUMBING                           5373\n",
       "                                  ...  \n",
       "DHS Income Savings Requirement        1\n",
       "Open Flame Permit                     1\n",
       "DWD                                   1\n",
       "Municipal Parking Facility            1\n",
       "X-Ray Machine/Equipment               1\n",
       "Name: Complaint Type, Length: 165, dtype: int64"
      ]
     },
     "execution_count": 65,
     "metadata": {},
     "output_type": "execute_result"
    }
   ],
   "source": [
    "complaints['Complaint Type'].value_counts()"
   ]
  },
  {
   "cell_type": "markdown",
   "metadata": {
    "deletable": false,
    "editable": false,
    "nbgrader": {
     "checksum": "cd01755b1397948aa33fd95879ec7008",
     "grade": false,
     "grade_id": "cell-e6d3d6da47582442",
     "locked": true,
     "schema_version": 1,
     "solution": false
    }
   },
   "source": [
    "If we just wanted the top 10 most common complaints, we can do this:"
   ]
  },
  {
   "cell_type": "code",
   "execution_count": 66,
   "metadata": {
    "deletable": false,
    "editable": false,
    "nbgrader": {
     "checksum": "4eaf07e5060165ce0e0dc616950175d4",
     "grade": false,
     "grade_id": "cell-a38237909eb4a45a",
     "locked": true,
     "schema_version": 1,
     "solution": false
    }
   },
   "outputs": [
    {
     "data": {
      "text/plain": [
       "HEATING                   14200\n",
       "GENERAL CONSTRUCTION       7471\n",
       "Street Light Condition     7117\n",
       "DOF Literature Request     5797\n",
       "PLUMBING                   5373\n",
       "PAINT - PLASTER            5149\n",
       "Blocked Driveway           4590\n",
       "NONCONST                   3998\n",
       "Street Condition           3473\n",
       "Illegal Parking            3343\n",
       "Name: Complaint Type, dtype: int64"
      ]
     },
     "execution_count": 66,
     "metadata": {},
     "output_type": "execute_result"
    }
   ],
   "source": [
    "complaint_counts = complaints['Complaint Type'].value_counts()\n",
    "complaint_counts[:10]"
   ]
  },
  {
   "cell_type": "markdown",
   "metadata": {
    "deletable": false,
    "editable": false,
    "nbgrader": {
     "checksum": "cca54cf73f195b5b0ebed84917dfc866",
     "grade": false,
     "grade_id": "cell-84cfaebc279868fc",
     "locked": true,
     "schema_version": 1,
     "solution": false
    }
   },
   "source": [
    "Transform the result to a dictionary."
   ]
  },
  {
   "cell_type": "code",
   "execution_count": 67,
   "metadata": {
    "deletable": false,
    "editable": false,
    "nbgrader": {
     "checksum": "79689597a427e45335e54adb245197ba",
     "grade": false,
     "grade_id": "cell-ab8782d3be7651a6",
     "locked": true,
     "schema_version": 1,
     "solution": false
    }
   },
   "outputs": [
    {
     "data": {
      "text/plain": [
       "{'HEATING': 14200,\n",
       " 'GENERAL CONSTRUCTION': 7471,\n",
       " 'Street Light Condition': 7117,\n",
       " 'DOF Literature Request': 5797,\n",
       " 'PLUMBING': 5373,\n",
       " 'PAINT - PLASTER': 5149,\n",
       " 'Blocked Driveway': 4590,\n",
       " 'NONCONST': 3998,\n",
       " 'Street Condition': 3473,\n",
       " 'Illegal Parking': 3343,\n",
       " 'Noise': 3321,\n",
       " 'Traffic Signal Condition': 3145,\n",
       " 'Dirty Conditions': 2653,\n",
       " 'Water System': 2636,\n",
       " 'Noise - Commercial': 2578,\n",
       " 'ELECTRIC': 2350,\n",
       " 'Broken Muni Meter': 2070,\n",
       " 'Noise - Street/Sidewalk': 1928,\n",
       " 'Sanitation Condition': 1824,\n",
       " 'Rodent': 1632,\n",
       " 'Sewer': 1627,\n",
       " 'Consumer Complaint': 1227,\n",
       " 'Taxi Complaint': 1227,\n",
       " 'Damaged Tree': 1180,\n",
       " 'Overgrown Tree/Branches': 1083,\n",
       " 'Graffiti': 973,\n",
       " 'Missed Collection (All Materials)': 973,\n",
       " 'Building/Use': 942,\n",
       " 'Root/Sewer/Sidewalk Condition': 836,\n",
       " 'Derelict Vehicle': 803,\n",
       " 'Derelict Vehicles': 801,\n",
       " 'Noise - Vehicle': 750,\n",
       " 'General Construction/Plumbing': 738,\n",
       " 'Street Sign - Damaged': 691,\n",
       " 'Dead Tree': 630,\n",
       " 'SCRIE': 530,\n",
       " 'Food Establishment': 485,\n",
       " 'Air Quality': 459,\n",
       " 'Maintenance or Facility': 455,\n",
       " 'APPLIANCE': 445,\n",
       " 'Fire Safety Director - F58': 441,\n",
       " 'Construction': 420,\n",
       " 'Benefit Card Replacement': 387,\n",
       " 'Other Enforcement': 358,\n",
       " 'Sidewalk Condition': 339,\n",
       " 'Street Sign - Missing': 327,\n",
       " 'Homeless Encampment': 269,\n",
       " 'Indoor Air Quality': 254,\n",
       " 'Litter Basket / Request': 252,\n",
       " 'Elevator': 244,\n",
       " 'Vending': 229,\n",
       " 'Special Enforcement': 206,\n",
       " 'Noise - Park': 191,\n",
       " 'Agency Issues': 174,\n",
       " 'For Hire Vehicle Complaint': 173,\n",
       " 'Hazardous Materials': 171,\n",
       " 'Traffic': 168,\n",
       " 'Lead': 167,\n",
       " 'Sweeping/Missed-Inadequate': 164,\n",
       " 'Animal Abuse': 164,\n",
       " 'DCA / DOH New License Application Request': 164,\n",
       " 'Illegal Tree Damage': 163,\n",
       " 'Food Poisoning': 152,\n",
       " 'Vacant Lot': 146,\n",
       " 'Industrial Waste': 145,\n",
       " 'Asbestos': 143,\n",
       " 'Highway Condition': 130,\n",
       " 'Water Conservation': 130,\n",
       " 'EAP Inspection - F59': 126,\n",
       " 'DOT Literature Request': 123,\n",
       " 'Smoking': 113,\n",
       " 'Street Sign - Dangling': 110,\n",
       " 'Special Projects Inspection Team (SPIT)': 106,\n",
       " 'Unsanitary Animal Pvt Property': 106,\n",
       " 'Non-Residential Heat': 106,\n",
       " 'Indoor Sewage': 104,\n",
       " 'Noise - Helicopter': 99,\n",
       " 'Homeless Person Assistance': 99,\n",
       " 'School Maintenance': 97,\n",
       " 'Overflowing Litter Baskets': 96,\n",
       " 'Violation of Park Rules': 90,\n",
       " 'Water Quality': 89,\n",
       " 'Electrical': 86,\n",
       " 'DPR Internal': 86,\n",
       " 'Boilers': 86,\n",
       " 'Animal in a Park': 84,\n",
       " 'Derelict Bicycle': 83,\n",
       " 'Drinking': 83,\n",
       " 'Taxi Compliment': 73,\n",
       " 'Noise - House of Worship': 67,\n",
       " 'Curb Condition': 66,\n",
       " 'Plumbing': 66,\n",
       " 'CONSTRUCTION': 65,\n",
       " 'Standing Water': 64,\n",
       " 'Recycling Enforcement': 56,\n",
       " 'BEST/Site Safety': 52,\n",
       " 'DOF Parking - Tax Exemption': 43,\n",
       " 'Unsanitary Pigeon Condition': 41,\n",
       " 'Investigations and Discipline (IAD)': 40,\n",
       " 'Unleashed Dog': 36,\n",
       " 'Plant': 34,\n",
       " 'Bike/Roller/Skate Chronic': 32,\n",
       " 'City Vehicle Placard Complaint': 32,\n",
       " 'Ferry Inquiry': 32,\n",
       " 'Public Payphone Complaint': 31,\n",
       " 'Urinating in Public': 30,\n",
       " 'OEM Literature Request': 29,\n",
       " 'Mold': 26,\n",
       " 'Disorderly Youth': 26,\n",
       " 'Panhandling': 23,\n",
       " 'Illegal Animal Kept as Pet': 21,\n",
       " 'Bridge Condition': 20,\n",
       " 'Found Property': 18,\n",
       " 'Request for Information': 18,\n",
       " 'Fire Alarm - Reinspection': 18,\n",
       " 'STRUCTURAL': 16,\n",
       " 'Bus Stop Shelter Placement': 14,\n",
       " 'DCA Literature Request': 14,\n",
       " 'Senior Center Complaint': 14,\n",
       " 'Harboring Bees/Wasps': 14,\n",
       " 'Drinking Water': 11,\n",
       " 'Cranes and Derricks': 10,\n",
       " 'Complaint': 9,\n",
       " 'Compliment': 9,\n",
       " 'Animal Facility - No Permit': 8,\n",
       " 'Scaffold Safety': 8,\n",
       " 'Collection Truck Noise': 8,\n",
       " 'Parking Card': 8,\n",
       " 'Beach/Pool/Sauna Complaint': 7,\n",
       " 'DPR Literature Request': 7,\n",
       " 'Bike Rack Condition': 7,\n",
       " 'Fire Alarm - New System': 6,\n",
       " 'Unsanitary Animal Facility': 6,\n",
       " 'Tattooing': 6,\n",
       " 'Public Toilet': 6,\n",
       " 'Posting Advertisement': 5,\n",
       " 'Internal Code': 5,\n",
       " 'Poison Ivy': 5,\n",
       " 'Miscellaneous Categories': 5,\n",
       " 'Fire Alarm - Modification': 5,\n",
       " 'Transportation Provider Complaint': 4,\n",
       " 'Special Natural Area District (SNAD)': 4,\n",
       " 'Ferry Complaint': 4,\n",
       " 'Illegal Animal Sold': 4,\n",
       " 'Fire Alarm - Replacement': 3,\n",
       " 'Invitation': 3,\n",
       " 'Illegal Fireworks': 3,\n",
       " 'Adopt-A-Basket': 3,\n",
       " 'Legal Services Provider Complaint': 2,\n",
       " 'Window Guard': 2,\n",
       " 'Opinion for the Mayor': 2,\n",
       " 'Public Assembly': 2,\n",
       " 'DFTA Literature Request': 2,\n",
       " 'Misc. Comments': 2,\n",
       " 'Stalled Sites': 1,\n",
       " 'Snow': 1,\n",
       " 'Ferry Permit': 1,\n",
       " 'Tunnel Condition': 1,\n",
       " 'Highway Sign - Damaged': 1,\n",
       " 'Trans Fat': 1,\n",
       " 'DHS Income Savings Requirement': 1,\n",
       " 'Open Flame Permit': 1,\n",
       " 'DWD': 1,\n",
       " 'Municipal Parking Facility': 1,\n",
       " 'X-Ray Machine/Equipment': 1}"
      ]
     },
     "execution_count": 67,
     "metadata": {},
     "output_type": "execute_result"
    }
   ],
   "source": [
    "dict(complaint_counts)"
   ]
  },
  {
   "cell_type": "markdown",
   "metadata": {
    "deletable": false,
    "editable": false,
    "nbgrader": {
     "checksum": "46a29b371503c1bc3cbfcd7da16ef7a6",
     "grade": false,
     "grade_id": "cell-7bf83c7b94810a4a",
     "locked": true,
     "schema_version": 1,
     "solution": false
    }
   },
   "source": [
    "But it gets better! We can plot them!"
   ]
  },
  {
   "cell_type": "code",
   "execution_count": 68,
   "metadata": {
    "deletable": false,
    "editable": false,
    "nbgrader": {
     "checksum": "2bcddc46fb67d94e1c55a1c6f0c6f0dd",
     "grade": false,
     "grade_id": "cell-40671c45c8d7a9ae",
     "locked": true,
     "schema_version": 1,
     "solution": false
    }
   },
   "outputs": [
    {
     "data": {
      "text/plain": [
       "<AxesSubplot:>"
      ]
     },
     "execution_count": 68,
     "metadata": {},
     "output_type": "execute_result"
    },
    {
     "data": {
      "image/png": "[encoded data removed]",
      "text/plain": [
       "<Figure size 432x288 with 1 Axes>"
      ]
     },
     "metadata": {
      "needs_background": "light"
     },
     "output_type": "display_data"
    }
   ],
   "source": [
    "complaint_counts[:10].plot(kind='bar')"
   ]
  },
  {
   "cell_type": "markdown",
   "metadata": {
    "deletable": false,
    "editable": false,
    "nbgrader": {
     "checksum": "89a7cc88fc4cd709497c01aa4a0262b9",
     "grade": false,
     "grade_id": "cell-2092b73f1034873e",
     "locked": true,
     "schema_version": 1,
     "solution": false
    }
   },
   "source": [
    "We can also see how many unique types of complaints there are in the column, using `.unique` and len (for length):"
   ]
  },
  {
   "cell_type": "code",
   "execution_count": 69,
   "metadata": {
    "deletable": false,
    "editable": false,
    "nbgrader": {
     "checksum": "0ca0e814682dba639fee751b0a178f84",
     "grade": false,
     "grade_id": "cell-3c942d1cebb644b4",
     "locked": true,
     "schema_version": 1,
     "solution": false
    }
   },
   "outputs": [
    {
     "data": {
      "text/plain": [
       "array(['NYPD', 'DOHMH', 'DOT', 'TLC', 'HRA', 'DSNY', 'HPD', 'DCA', 'DEP',\n",
       "       'EDC', 'DHS', 'DPR', 'DOF', 'CHALL', 'DOE', 'DOB', 'FDNY', 'DOITT',\n",
       "       '3-1-1', 'DFTA', 'COIB', 'OEM', 'OATH', 'OPS', 'OMB', 'DOP'],\n",
       "      dtype=object)"
      ]
     },
     "execution_count": 69,
     "metadata": {},
     "output_type": "execute_result"
    }
   ],
   "source": [
    "complaints['Agency'].unique()"
   ]
  },
  {
   "cell_type": "code",
   "execution_count": 70,
   "metadata": {
    "deletable": false,
    "editable": false,
    "nbgrader": {
     "checksum": "4322b4e8d0b8c8476d523cfdb977aeec",
     "grade": false,
     "grade_id": "cell-de0340d6639171f0",
     "locked": true,
     "schema_version": 1,
     "solution": false
    }
   },
   "outputs": [
    {
     "data": {
      "text/plain": [
       "26"
      ]
     },
     "execution_count": 70,
     "metadata": {},
     "output_type": "execute_result"
    }
   ],
   "source": [
    "# get the number of unique values for a feature\n",
    "len(complaints['Agency'].unique())"
   ]
  },
  {
   "cell_type": "markdown",
   "metadata": {
    "deletable": false,
    "editable": false,
    "nbgrader": {
     "checksum": "59bb17eac3367dfdbe693ee2891525f4",
     "grade": false,
     "grade_id": "cell-76929b449dd74412",
     "locked": true,
     "schema_version": 1,
     "solution": false
    }
   },
   "source": [
    "## Application : Which Borough has the Most Noise Complaints?<a name=\"_ 8. application : which borough has the most noise complaints?\"></a>"
   ]
  },
  {
   "cell_type": "markdown",
   "metadata": {
    "deletable": false,
    "editable": false,
    "nbgrader": {
     "checksum": "50f1bbf39445f357b9ee10fa8d434381",
     "grade": false,
     "grade_id": "cell-1bee013abf76f2b4",
     "locked": true,
     "schema_version": 1,
     "solution": false
    }
   },
   "source": [
    "To get the noise complaints, we first need to find the rows where the \"Complaint Type\" column is \"Noise - Street/Sidewalk\". We use boolean indexing (3.2.)"
   ]
  },
  {
   "cell_type": "code",
   "execution_count": 71,
   "metadata": {
    "deletable": false,
    "editable": false,
    "nbgrader": {
     "checksum": "f5fb3c625dee8d5e07123135d4be3c9e",
     "grade": false,
     "grade_id": "cell-1075d181036319f2",
     "locked": true,
     "schema_version": 1,
     "solution": false
    }
   },
   "outputs": [
    {
     "data": {
      "text/plain": [
       "0                QUEENS\n",
       "16        STATEN ISLAND\n",
       "25        STATEN ISLAND\n",
       "28            MANHATTAN\n",
       "31             BROOKLYN\n",
       "              ...      \n",
       "111044        MANHATTAN\n",
       "111048        MANHATTAN\n",
       "111054         BROOKLYN\n",
       "111059        MANHATTAN\n",
       "111066        MANHATTAN\n",
       "Name: Borough, Length: 1928, dtype: object"
      ]
     },
     "execution_count": 71,
     "metadata": {},
     "output_type": "execute_result"
    }
   ],
   "source": [
    "noise_complaints = complaints[  complaints['Complaint Type'] == \"Noise - Street/Sidewalk\"  ] \n",
    "noise_complaints[0:10]\n",
    "noise_complaints['Borough']"
   ]
  },
  {
   "cell_type": "code",
   "execution_count": 72,
   "metadata": {
    "deletable": false,
    "editable": false,
    "nbgrader": {
     "checksum": "9cd0c7ec4270bce8b18fcc5327ea9141",
     "grade": false,
     "grade_id": "cell-e051f50f3d3a7460",
     "locked": true,
     "schema_version": 1,
     "solution": false
    }
   },
   "outputs": [
    {
     "data": {
      "text/plain": [
       "<AxesSubplot:>"
      ]
     },
     "execution_count": 72,
     "metadata": {},
     "output_type": "execute_result"
    },
    {
     "data": {
      "image/png": "[encoded data removed]",
      "text/plain": [
       "<Figure size 432x288 with 1 Axes>"
      ]
     },
     "metadata": {
      "needs_background": "light"
     },
     "output_type": "display_data"
    }
   ],
   "source": [
    "noise_complaints['Borough'].value_counts().plot(kind = 'bar')"
   ]
  },
  {
   "cell_type": "markdown",
   "metadata": {
    "deletable": false,
    "editable": false,
    "nbgrader": {
     "checksum": "93a13cc5e2e8d56b67c9ae788cf9f3a7",
     "grade": false,
     "grade_id": "cell-496a15866a0aabb7",
     "locked": true,
     "schema_version": 1,
     "solution": false
    }
   },
   "source": [
    "It's Manhattan! But what if we wanted to divide by the total number of complaints, to make it make a bit more sense? That would be easy too:"
   ]
  },
  {
   "cell_type": "code",
   "execution_count": 73,
   "metadata": {
    "deletable": false,
    "editable": false,
    "nbgrader": {
     "checksum": "210504cc21f0fd9698077f0febe292a0",
     "grade": false,
     "grade_id": "cell-c6f506004297585f",
     "locked": true,
     "schema_version": 1,
     "solution": false
    }
   },
   "outputs": [
    {
     "data": {
      "text/plain": [
       "BROOKLYN         32890\n",
       "MANHATTAN        24288\n",
       "QUEENS           22281\n",
       "BRONX            19686\n",
       "Unspecified       7107\n",
       "STATEN ISLAND     4817\n",
       "Name: Borough, dtype: int64"
      ]
     },
     "execution_count": 73,
     "metadata": {},
     "output_type": "execute_result"
    }
   ],
   "source": [
    "complaints['Borough'].value_counts()"
   ]
  },
  {
   "cell_type": "code",
   "execution_count": 74,
   "metadata": {
    "deletable": false,
    "editable": false,
    "nbgrader": {
     "checksum": "53df314e82184afc28e9e41606d1e91b",
     "grade": false,
     "grade_id": "cell-7b72467696ec6952",
     "locked": true,
     "schema_version": 1,
     "solution": false
    }
   },
   "outputs": [
    {
     "data": {
      "text/plain": [
       "BRONX            0.014833\n",
       "BROOKLYN         0.013864\n",
       "MANHATTAN        0.037755\n",
       "QUEENS           0.010143\n",
       "STATEN ISLAND    0.007474\n",
       "Unspecified      0.000141\n",
       "Name: Borough, dtype: float64"
      ]
     },
     "execution_count": 74,
     "metadata": {},
     "output_type": "execute_result"
    }
   ],
   "source": [
    "results = noise_complaints['Borough'].value_counts() / complaints['Borough'].value_counts()\n",
    "results"
   ]
  },
  {
   "cell_type": "markdown",
   "metadata": {
    "deletable": false,
    "editable": false,
    "nbgrader": {
     "checksum": "13ce844d533036478e9dd1961dd25fd8",
     "grade": false,
     "grade_id": "cell-fac52869d1a8334c",
     "locked": true,
     "schema_version": 1,
     "solution": false
    }
   },
   "source": [
    "What if we want to graph this?\n",
    "The default is a line graph, which is not the right type for this kind of data.  This data is not timeseries (where the X axis is dates/times).  This data is count data by categories that are not ordered -- \"boroughs.\"  The proper type of chart for this is a bar graph."
   ]
  },
  {
   "cell_type": "code",
   "execution_count": 75,
   "metadata": {
    "deletable": false,
    "editable": false,
    "nbgrader": {
     "checksum": "d7c065cb6cd41cbccdf93662f509b401",
     "grade": false,
     "grade_id": "cell-afea63703f06ac8b",
     "locked": true,
     "schema_version": 1,
     "solution": false
    }
   },
   "outputs": [
    {
     "data": {
      "text/plain": [
       "<AxesSubplot:>"
      ]
     },
     "execution_count": 75,
     "metadata": {},
     "output_type": "execute_result"
    },
    {
     "data": {
      "image/png": "[encoded data removed]",
      "text/plain": [
       "<Figure size 432x288 with 1 Axes>"
      ]
     },
     "metadata": {
      "needs_background": "light"
     },
     "output_type": "display_data"
    }
   ],
   "source": [
    "results.plot()"
   ]
  },
  {
   "cell_type": "code",
   "execution_count": 76,
   "metadata": {
    "deletable": false,
    "editable": false,
    "nbgrader": {
     "checksum": "221e07c1b5bf468a3340983e363c11e2",
     "grade": false,
     "grade_id": "cell-a8ca4aaefe8968ac",
     "locked": true,
     "schema_version": 1,
     "solution": false
    }
   },
   "outputs": [
    {
     "data": {
      "text/plain": [
       "<AxesSubplot:>"
      ]
     },
     "execution_count": 76,
     "metadata": {},
     "output_type": "execute_result"
    },
    {
     "data": {
      "image/png": "[encoded data removed]",
      "text/plain": [
       "<Figure size 432x288 with 1 Axes>"
      ]
     },
     "metadata": {
      "needs_background": "light"
     },
     "output_type": "display_data"
    }
   ],
   "source": [
    "# we can use the keyword argument kind for this:\n",
    "results.sort_values(ascending=False).plot(kind = 'bar')"
   ]
  },
  {
   "cell_type": "markdown",
   "metadata": {
    "deletable": false,
    "editable": false,
    "nbgrader": {
     "checksum": "3f953532bb196ef8b33140aff5c5d9c9",
     "grade": false,
     "grade_id": "cell-ca929764d1a17a93",
     "locked": true,
     "schema_version": 1,
     "solution": false
    }
   },
   "source": [
    "# In-Class Exercises\n",
    "## Part 1: Filtering and Counting Things\n"
   ]
  },
  {
   "cell_type": "code",
   "execution_count": 77,
   "metadata": {
    "deletable": false,
    "editable": false,
    "nbgrader": {
     "checksum": "8e033cbe25c622ea9a7bd4421a873739",
     "grade": false,
     "grade_id": "cell-39bde91645aa7582",
     "locked": true,
     "schema_version": 1,
     "solution": false
    },
    "scrolled": true
   },
   "outputs": [],
   "source": [
    "df = pd.read_csv('data/chicago_crimes.csv', parse_dates=['Date-Time'], dayfirst=False,)"
   ]
  },
  {
   "cell_type": "code",
   "execution_count": 78,
   "metadata": {
    "deletable": false,
    "editable": false,
    "nbgrader": {
     "checksum": "4b25a4a9b46e69bf7ca4a185ee143dab",
     "grade": false,
     "grade_id": "cell-a310d370d2235c51",
     "locked": true,
     "schema_version": 1,
     "solution": false
    }
   },
   "outputs": [
    {
     "data": {
      "text/html": [
       "<div>\n",
       "<style scoped>\n",
       "    .dataframe tbody tr th:only-of-type {\n",
       "        vertical-align: middle;\n",
       "    }\n",
       "\n",
       "    .dataframe tbody tr th {\n",
       "        vertical-align: top;\n",
       "    }\n",
       "\n",
       "    .dataframe thead th {\n",
       "        text-align: right;\n",
       "    }\n",
       "</style>\n",
       "<table border=\"1\" class=\"dataframe\">\n",
       "  <thead>\n",
       "    <tr style=\"text-align: right;\">\n",
       "      <th></th>\n",
       "      <th>identification</th>\n",
       "      <th>Beat</th>\n",
       "      <th>District</th>\n",
       "      <th>Ward</th>\n",
       "      <th>Community Area</th>\n",
       "      <th>X Coordinate</th>\n",
       "      <th>Y Coordinate</th>\n",
       "      <th>Year</th>\n",
       "      <th>Latitude</th>\n",
       "      <th>Longitude</th>\n",
       "    </tr>\n",
       "  </thead>\n",
       "  <tbody>\n",
       "    <tr>\n",
       "      <th>count</th>\n",
       "      <td>2.000000e+03</td>\n",
       "      <td>2000.000000</td>\n",
       "      <td>1780.000000</td>\n",
       "      <td>2000.000000</td>\n",
       "      <td>2000.000000</td>\n",
       "      <td>1.780000e+03</td>\n",
       "      <td>1.780000e+03</td>\n",
       "      <td>2000.0</td>\n",
       "      <td>1780.000000</td>\n",
       "      <td>1780.000000</td>\n",
       "    </tr>\n",
       "    <tr>\n",
       "      <th>mean</th>\n",
       "      <td>6.267862e+06</td>\n",
       "      <td>1231.581500</td>\n",
       "      <td>11.565730</td>\n",
       "      <td>23.295500</td>\n",
       "      <td>37.269500</td>\n",
       "      <td>1.164729e+06</td>\n",
       "      <td>1.886418e+06</td>\n",
       "      <td>2008.0</td>\n",
       "      <td>41.843926</td>\n",
       "      <td>-87.671010</td>\n",
       "    </tr>\n",
       "    <tr>\n",
       "      <th>std</th>\n",
       "      <td>6.699590e+05</td>\n",
       "      <td>713.767292</td>\n",
       "      <td>7.007958</td>\n",
       "      <td>13.768259</td>\n",
       "      <td>21.817398</td>\n",
       "      <td>1.616071e+04</td>\n",
       "      <td>3.174306e+04</td>\n",
       "      <td>0.0</td>\n",
       "      <td>0.087297</td>\n",
       "      <td>0.058810</td>\n",
       "    </tr>\n",
       "    <tr>\n",
       "      <th>min</th>\n",
       "      <td>4.379000e+03</td>\n",
       "      <td>111.000000</td>\n",
       "      <td>1.000000</td>\n",
       "      <td>1.000000</td>\n",
       "      <td>1.000000</td>\n",
       "      <td>1.100635e+06</td>\n",
       "      <td>1.814278e+06</td>\n",
       "      <td>2008.0</td>\n",
       "      <td>41.645636</td>\n",
       "      <td>-87.905312</td>\n",
       "    </tr>\n",
       "    <tr>\n",
       "      <th>25%</th>\n",
       "      <td>5.994172e+06</td>\n",
       "      <td>631.000000</td>\n",
       "      <td>6.000000</td>\n",
       "      <td>11.000000</td>\n",
       "      <td>22.000000</td>\n",
       "      <td>1.153470e+06</td>\n",
       "      <td>1.859010e+06</td>\n",
       "      <td>2008.0</td>\n",
       "      <td>41.768470</td>\n",
       "      <td>-87.711982</td>\n",
       "    </tr>\n",
       "    <tr>\n",
       "      <th>50%</th>\n",
       "      <td>6.000126e+06</td>\n",
       "      <td>1115.000000</td>\n",
       "      <td>10.000000</td>\n",
       "      <td>24.000000</td>\n",
       "      <td>32.000000</td>\n",
       "      <td>1.165820e+06</td>\n",
       "      <td>1.891388e+06</td>\n",
       "      <td>2008.0</td>\n",
       "      <td>41.857613</td>\n",
       "      <td>-87.666840</td>\n",
       "    </tr>\n",
       "    <tr>\n",
       "      <th>75%</th>\n",
       "      <td>6.142792e+06</td>\n",
       "      <td>1821.250000</td>\n",
       "      <td>17.000000</td>\n",
       "      <td>34.000000</td>\n",
       "      <td>57.000000</td>\n",
       "      <td>1.176344e+06</td>\n",
       "      <td>1.910260e+06</td>\n",
       "      <td>2008.0</td>\n",
       "      <td>41.909694</td>\n",
       "      <td>-87.628180</td>\n",
       "    </tr>\n",
       "    <tr>\n",
       "      <th>max</th>\n",
       "      <td>9.249024e+06</td>\n",
       "      <td>2535.000000</td>\n",
       "      <td>31.000000</td>\n",
       "      <td>50.000000</td>\n",
       "      <td>77.000000</td>\n",
       "      <td>1.204829e+06</td>\n",
       "      <td>1.951407e+06</td>\n",
       "      <td>2008.0</td>\n",
       "      <td>42.022291</td>\n",
       "      <td>-87.525651</td>\n",
       "    </tr>\n",
       "  </tbody>\n",
       "</table>\n",
       "</div>"
      ],
      "text/plain": [
       "       identification         Beat     District         Ward  Community Area  \\\n",
       "count    2.000000e+03  2000.000000  1780.000000  2000.000000     2000.000000   \n",
       "mean     6.267862e+06  1231.581500    11.565730    23.295500       37.269500   \n",
       "std      6.699590e+05   713.767292     7.007958    13.768259       21.817398   \n",
       "min      4.379000e+03   111.000000     1.000000     1.000000        1.000000   \n",
       "25%      5.994172e+06   631.000000     6.000000    11.000000       22.000000   \n",
       "50%      6.000126e+06  1115.000000    10.000000    24.000000       32.000000   \n",
       "75%      6.142792e+06  1821.250000    17.000000    34.000000       57.000000   \n",
       "max      9.249024e+06  2535.000000    31.000000    50.000000       77.000000   \n",
       "\n",
       "       X Coordinate  Y Coordinate    Year     Latitude    Longitude  \n",
       "count  1.780000e+03  1.780000e+03  2000.0  1780.000000  1780.000000  \n",
       "mean   1.164729e+06  1.886418e+06  2008.0    41.843926   -87.671010  \n",
       "std    1.616071e+04  3.174306e+04     0.0     0.087297     0.058810  \n",
       "min    1.100635e+06  1.814278e+06  2008.0    41.645636   -87.905312  \n",
       "25%    1.153470e+06  1.859010e+06  2008.0    41.768470   -87.711982  \n",
       "50%    1.165820e+06  1.891388e+06  2008.0    41.857613   -87.666840  \n",
       "75%    1.176344e+06  1.910260e+06  2008.0    41.909694   -87.628180  \n",
       "max    1.204829e+06  1.951407e+06  2008.0    42.022291   -87.525651  "
      ]
     },
     "execution_count": 78,
     "metadata": {},
     "output_type": "execute_result"
    }
   ],
   "source": [
    "df.describe()"
   ]
  },
  {
   "cell_type": "markdown",
   "metadata": {
    "deletable": false,
    "editable": false,
    "nbgrader": {
     "checksum": "221841c9a450cc68c4a8aebd6d716073",
     "grade": false,
     "grade_id": "cell-5f1cf32629cef97b",
     "locked": true,
     "schema_version": 1,
     "solution": false
    }
   },
   "source": [
    "The problem above is that some of those columns have numbers, but not measures you can do math on. The Beat, District, Ward, Community Area, and id are codes, so you can't take their mean, avg, max etc...  We should change them to string types, of \"object\" in pandas type notation."
   ]
  },
  {
   "cell_type": "code",
   "execution_count": 79,
   "metadata": {
    "deletable": false,
    "editable": false,
    "nbgrader": {
     "checksum": "57fa91fe3a103c9b813058e7b9c004de",
     "grade": false,
     "grade_id": "cell-2a7568fcac48746c",
     "locked": true,
     "schema_version": 1,
     "solution": false
    }
   },
   "outputs": [],
   "source": [
    "df = df.astype({\"Ward\":\"object\",\"Beat\":\"object\", \"District\":\"object\", \"identification\":\"object\", \"Community Area\": \"object\"}, copy=True)"
   ]
  },
  {
   "cell_type": "code",
   "execution_count": 80,
   "metadata": {
    "deletable": false,
    "editable": false,
    "nbgrader": {
     "checksum": "81f1a90d1258146b4b3f920254190d37",
     "grade": false,
     "grade_id": "cell-e94161ce1c19e360",
     "locked": true,
     "schema_version": 1,
     "solution": false
    }
   },
   "outputs": [
    {
     "data": {
      "text/html": [
       "<div>\n",
       "<style scoped>\n",
       "    .dataframe tbody tr th:only-of-type {\n",
       "        vertical-align: middle;\n",
       "    }\n",
       "\n",
       "    .dataframe tbody tr th {\n",
       "        vertical-align: top;\n",
       "    }\n",
       "\n",
       "    .dataframe thead th {\n",
       "        text-align: right;\n",
       "    }\n",
       "</style>\n",
       "<table border=\"1\" class=\"dataframe\">\n",
       "  <thead>\n",
       "    <tr style=\"text-align: right;\">\n",
       "      <th></th>\n",
       "      <th>X Coordinate</th>\n",
       "      <th>Y Coordinate</th>\n",
       "      <th>Year</th>\n",
       "      <th>Latitude</th>\n",
       "      <th>Longitude</th>\n",
       "    </tr>\n",
       "  </thead>\n",
       "  <tbody>\n",
       "    <tr>\n",
       "      <th>count</th>\n",
       "      <td>1.780000e+03</td>\n",
       "      <td>1.780000e+03</td>\n",
       "      <td>2000.0</td>\n",
       "      <td>1780.000000</td>\n",
       "      <td>1780.000000</td>\n",
       "    </tr>\n",
       "    <tr>\n",
       "      <th>mean</th>\n",
       "      <td>1.164729e+06</td>\n",
       "      <td>1.886418e+06</td>\n",
       "      <td>2008.0</td>\n",
       "      <td>41.843926</td>\n",
       "      <td>-87.671010</td>\n",
       "    </tr>\n",
       "    <tr>\n",
       "      <th>std</th>\n",
       "      <td>1.616071e+04</td>\n",
       "      <td>3.174306e+04</td>\n",
       "      <td>0.0</td>\n",
       "      <td>0.087297</td>\n",
       "      <td>0.058810</td>\n",
       "    </tr>\n",
       "    <tr>\n",
       "      <th>min</th>\n",
       "      <td>1.100635e+06</td>\n",
       "      <td>1.814278e+06</td>\n",
       "      <td>2008.0</td>\n",
       "      <td>41.645636</td>\n",
       "      <td>-87.905312</td>\n",
       "    </tr>\n",
       "    <tr>\n",
       "      <th>25%</th>\n",
       "      <td>1.153470e+06</td>\n",
       "      <td>1.859010e+06</td>\n",
       "      <td>2008.0</td>\n",
       "      <td>41.768470</td>\n",
       "      <td>-87.711982</td>\n",
       "    </tr>\n",
       "    <tr>\n",
       "      <th>50%</th>\n",
       "      <td>1.165820e+06</td>\n",
       "      <td>1.891388e+06</td>\n",
       "      <td>2008.0</td>\n",
       "      <td>41.857613</td>\n",
       "      <td>-87.666840</td>\n",
       "    </tr>\n",
       "    <tr>\n",
       "      <th>75%</th>\n",
       "      <td>1.176344e+06</td>\n",
       "      <td>1.910260e+06</td>\n",
       "      <td>2008.0</td>\n",
       "      <td>41.909694</td>\n",
       "      <td>-87.628180</td>\n",
       "    </tr>\n",
       "    <tr>\n",
       "      <th>max</th>\n",
       "      <td>1.204829e+06</td>\n",
       "      <td>1.951407e+06</td>\n",
       "      <td>2008.0</td>\n",
       "      <td>42.022291</td>\n",
       "      <td>-87.525651</td>\n",
       "    </tr>\n",
       "  </tbody>\n",
       "</table>\n",
       "</div>"
      ],
      "text/plain": [
       "       X Coordinate  Y Coordinate    Year     Latitude    Longitude\n",
       "count  1.780000e+03  1.780000e+03  2000.0  1780.000000  1780.000000\n",
       "mean   1.164729e+06  1.886418e+06  2008.0    41.843926   -87.671010\n",
       "std    1.616071e+04  3.174306e+04     0.0     0.087297     0.058810\n",
       "min    1.100635e+06  1.814278e+06  2008.0    41.645636   -87.905312\n",
       "25%    1.153470e+06  1.859010e+06  2008.0    41.768470   -87.711982\n",
       "50%    1.165820e+06  1.891388e+06  2008.0    41.857613   -87.666840\n",
       "75%    1.176344e+06  1.910260e+06  2008.0    41.909694   -87.628180\n",
       "max    1.204829e+06  1.951407e+06  2008.0    42.022291   -87.525651"
      ]
     },
     "execution_count": 80,
     "metadata": {},
     "output_type": "execute_result"
    }
   ],
   "source": [
    "df.describe()"
   ]
  },
  {
   "cell_type": "code",
   "execution_count": 81,
   "metadata": {
    "deletable": false,
    "editable": false,
    "nbgrader": {
     "checksum": "41f687eee60ea07b161133118f0fef76",
     "grade": false,
     "grade_id": "cell-f328ea1089025221",
     "locked": true,
     "schema_version": 1,
     "solution": false
    },
    "scrolled": true
   },
   "outputs": [
    {
     "data": {
      "text/html": [
       "<div>\n",
       "<style scoped>\n",
       "    .dataframe tbody tr th:only-of-type {\n",
       "        vertical-align: middle;\n",
       "    }\n",
       "\n",
       "    .dataframe tbody tr th {\n",
       "        vertical-align: top;\n",
       "    }\n",
       "\n",
       "    .dataframe thead th {\n",
       "        text-align: right;\n",
       "    }\n",
       "</style>\n",
       "<table border=\"1\" class=\"dataframe\">\n",
       "  <thead>\n",
       "    <tr style=\"text-align: right;\">\n",
       "      <th></th>\n",
       "      <th>identification</th>\n",
       "      <th>Case Number</th>\n",
       "      <th>Date-Time</th>\n",
       "      <th>Date</th>\n",
       "      <th>Time</th>\n",
       "      <th>Block</th>\n",
       "      <th>Street</th>\n",
       "      <th>IUCR</th>\n",
       "      <th>Primary Type</th>\n",
       "      <th>Description</th>\n",
       "      <th>...</th>\n",
       "      <th>Ward</th>\n",
       "      <th>Community Area</th>\n",
       "      <th>FBI Code</th>\n",
       "      <th>X Coordinate</th>\n",
       "      <th>Y Coordinate</th>\n",
       "      <th>Year</th>\n",
       "      <th>Updated On</th>\n",
       "      <th>Location</th>\n",
       "      <th>Latitude</th>\n",
       "      <th>Longitude</th>\n",
       "    </tr>\n",
       "  </thead>\n",
       "  <tbody>\n",
       "    <tr>\n",
       "      <th>0</th>\n",
       "      <td>7446859</td>\n",
       "      <td>HS247325</td>\n",
       "      <td>2008-01-01 00:01:00</td>\n",
       "      <td>1/1/08</td>\n",
       "      <td>0:01</td>\n",
       "      <td>004XX E 133RD ST</td>\n",
       "      <td>E 133RD ST</td>\n",
       "      <td>841</td>\n",
       "      <td>THEFT</td>\n",
       "      <td>FINANCIAL ID THEFT:$300 &amp;UNDER</td>\n",
       "      <td>...</td>\n",
       "      <td>9</td>\n",
       "      <td>54</td>\n",
       "      <td>6</td>\n",
       "      <td>NaN</td>\n",
       "      <td>NaN</td>\n",
       "      <td>2008</td>\n",
       "      <td>4/30/10 1:15</td>\n",
       "      <td>NaN</td>\n",
       "      <td>NaN</td>\n",
       "      <td>NaN</td>\n",
       "    </tr>\n",
       "    <tr>\n",
       "      <th>1</th>\n",
       "      <td>6236266</td>\n",
       "      <td>HP323693</td>\n",
       "      <td>2008-01-01 00:01:00</td>\n",
       "      <td>1/1/08</td>\n",
       "      <td>0:01</td>\n",
       "      <td>013XX E 49TH ST</td>\n",
       "      <td>E 49TH ST</td>\n",
       "      <td>840</td>\n",
       "      <td>THEFT</td>\n",
       "      <td>FINANCIAL ID THEFT: OVER $300</td>\n",
       "      <td>...</td>\n",
       "      <td>4</td>\n",
       "      <td>39</td>\n",
       "      <td>6</td>\n",
       "      <td>1186146.0</td>\n",
       "      <td>1872823.0</td>\n",
       "      <td>2008</td>\n",
       "      <td>5/24/08 1:05</td>\n",
       "      <td>(41.80615476732223, -87.59280284925518)</td>\n",
       "      <td>41.806155</td>\n",
       "      <td>-87.592803</td>\n",
       "    </tr>\n",
       "    <tr>\n",
       "      <th>2</th>\n",
       "      <td>7514546</td>\n",
       "      <td>HS317259</td>\n",
       "      <td>2008-01-01 00:01:00</td>\n",
       "      <td>1/1/08</td>\n",
       "      <td>0:01</td>\n",
       "      <td>014XX E 59TH ST</td>\n",
       "      <td>E 59TH ST</td>\n",
       "      <td>840</td>\n",
       "      <td>THEFT</td>\n",
       "      <td>FINANCIAL ID THEFT: OVER $300</td>\n",
       "      <td>...</td>\n",
       "      <td>5</td>\n",
       "      <td>41</td>\n",
       "      <td>6</td>\n",
       "      <td>NaN</td>\n",
       "      <td>NaN</td>\n",
       "      <td>2008</td>\n",
       "      <td>5/24/10 1:12</td>\n",
       "      <td>NaN</td>\n",
       "      <td>NaN</td>\n",
       "      <td>NaN</td>\n",
       "    </tr>\n",
       "    <tr>\n",
       "      <th>3</th>\n",
       "      <td>6422569</td>\n",
       "      <td>HP499242</td>\n",
       "      <td>2008-01-01 00:01:00</td>\n",
       "      <td>1/1/08</td>\n",
       "      <td>0:01</td>\n",
       "      <td>014XX E 62ND ST</td>\n",
       "      <td>E 62ND ST</td>\n",
       "      <td>840</td>\n",
       "      <td>THEFT</td>\n",
       "      <td>FINANCIAL ID THEFT: OVER $300</td>\n",
       "      <td>...</td>\n",
       "      <td>20</td>\n",
       "      <td>42</td>\n",
       "      <td>6</td>\n",
       "      <td>1186762.0</td>\n",
       "      <td>1864130.0</td>\n",
       "      <td>2008</td>\n",
       "      <td>8/17/08 1:04</td>\n",
       "      <td>(41.78228592790556, -87.5908189949899)</td>\n",
       "      <td>41.782286</td>\n",
       "      <td>-87.590819</td>\n",
       "    </tr>\n",
       "    <tr>\n",
       "      <th>4</th>\n",
       "      <td>6013347</td>\n",
       "      <td>HP118097</td>\n",
       "      <td>2008-01-01 00:01:00</td>\n",
       "      <td>1/1/08</td>\n",
       "      <td>0:01</td>\n",
       "      <td>014XX E 72ND PL</td>\n",
       "      <td>E 72ND PL</td>\n",
       "      <td>2825</td>\n",
       "      <td>OTHER OFFENSE</td>\n",
       "      <td>HARASSMENT BY TELEPHONE</td>\n",
       "      <td>...</td>\n",
       "      <td>5</td>\n",
       "      <td>43</td>\n",
       "      <td>26</td>\n",
       "      <td>1187119.0</td>\n",
       "      <td>1857171.0</td>\n",
       "      <td>2008</td>\n",
       "      <td>1/16/08 1:05</td>\n",
       "      <td>(41.76318136897587, -87.58973074990949)</td>\n",
       "      <td>41.763181</td>\n",
       "      <td>-87.589731</td>\n",
       "    </tr>\n",
       "  </tbody>\n",
       "</table>\n",
       "<p>5 rows × 25 columns</p>\n",
       "</div>"
      ],
      "text/plain": [
       "  identification Case Number           Date-Time    Date  Time  \\\n",
       "0        7446859    HS247325 2008-01-01 00:01:00  1/1/08  0:01   \n",
       "1        6236266    HP323693 2008-01-01 00:01:00  1/1/08  0:01   \n",
       "2        7514546    HS317259 2008-01-01 00:01:00  1/1/08  0:01   \n",
       "3        6422569    HP499242 2008-01-01 00:01:00  1/1/08  0:01   \n",
       "4        6013347    HP118097 2008-01-01 00:01:00  1/1/08  0:01   \n",
       "\n",
       "              Block      Street  IUCR   Primary Type  \\\n",
       "0  004XX E 133RD ST  E 133RD ST   841          THEFT   \n",
       "1   013XX E 49TH ST   E 49TH ST   840          THEFT   \n",
       "2   014XX E 59TH ST   E 59TH ST   840          THEFT   \n",
       "3   014XX E 62ND ST   E 62ND ST   840          THEFT   \n",
       "4   014XX E 72ND PL   E 72ND PL  2825  OTHER OFFENSE   \n",
       "\n",
       "                      Description  ... Ward  Community Area  FBI Code  \\\n",
       "0  FINANCIAL ID THEFT:$300 &UNDER  ...    9              54         6   \n",
       "1   FINANCIAL ID THEFT: OVER $300  ...    4              39         6   \n",
       "2   FINANCIAL ID THEFT: OVER $300  ...    5              41         6   \n",
       "3   FINANCIAL ID THEFT: OVER $300  ...   20              42         6   \n",
       "4         HARASSMENT BY TELEPHONE  ...    5              43        26   \n",
       "\n",
       "  X Coordinate Y Coordinate  Year    Updated On  \\\n",
       "0          NaN          NaN  2008  4/30/10 1:15   \n",
       "1    1186146.0    1872823.0  2008  5/24/08 1:05   \n",
       "2          NaN          NaN  2008  5/24/10 1:12   \n",
       "3    1186762.0    1864130.0  2008  8/17/08 1:04   \n",
       "4    1187119.0    1857171.0  2008  1/16/08 1:05   \n",
       "\n",
       "                                  Location   Latitude  Longitude  \n",
       "0                                      NaN        NaN        NaN  \n",
       "1  (41.80615476732223, -87.59280284925518)  41.806155 -87.592803  \n",
       "2                                      NaN        NaN        NaN  \n",
       "3   (41.78228592790556, -87.5908189949899)  41.782286 -87.590819  \n",
       "4  (41.76318136897587, -87.58973074990949)  41.763181 -87.589731  \n",
       "\n",
       "[5 rows x 25 columns]"
      ]
     },
     "execution_count": 81,
     "metadata": {},
     "output_type": "execute_result"
    }
   ],
   "source": [
    "df.head()"
   ]
  },
  {
   "cell_type": "markdown",
   "metadata": {
    "deletable": false,
    "editable": false,
    "nbgrader": {
     "checksum": "7a36f4fa66b7c01de54bb2d7b4d3a56e",
     "grade": false,
     "grade_id": "cell-1ab50aff5f769650",
     "locked": true,
     "schema_version": 1,
     "solution": false
    }
   },
   "source": [
    "### What are the columns in this data set?\n"
   ]
  },
  {
   "cell_type": "code",
   "execution_count": 82,
   "metadata": {
    "deletable": false,
    "nbgrader": {
     "checksum": "e134067a7e977c721296bd473bdb6616",
     "grade": false,
     "grade_id": "cell-d5992f9bca034595",
     "locked": false,
     "schema_version": 1,
     "solution": true
    },
    "scrolled": false
   },
   "outputs": [
    {
     "data": {
      "text/plain": [
       "array(['identification', 'Case Number', 'Date-Time', 'Date', 'Time',\n",
       "       'Block', 'Street', 'IUCR', 'Primary Type', 'Description',\n",
       "       'Location Description', 'Arrest', 'Domestic', 'Beat', 'District',\n",
       "       'Ward', 'Community Area', 'FBI Code', 'X Coordinate',\n",
       "       'Y Coordinate', 'Year', 'Updated On', 'Location', 'Latitude',\n",
       "       'Longitude'], dtype=object)"
      ]
     },
     "execution_count": 82,
     "metadata": {},
     "output_type": "execute_result"
    }
   ],
   "source": [
    "# YOUR CODE HERE\n",
    "\n",
    "df.columns.values"
   ]
  },
  {
   "cell_type": "markdown",
   "metadata": {
    "deletable": false,
    "editable": false,
    "nbgrader": {
     "checksum": "ee10e7d75db30c124ee59608c26496b6",
     "grade": false,
     "grade_id": "cell-33e1706ebe45d7db",
     "locked": true,
     "schema_version": 1,
     "solution": false
    }
   },
   "source": [
    "### What are all the Primary Types?  \n",
    "Hint: use unique()\n"
   ]
  },
  {
   "cell_type": "code",
   "execution_count": 83,
   "metadata": {
    "deletable": false,
    "nbgrader": {
     "checksum": "501653ac548a89c5e9b590740ca185fb",
     "grade": false,
     "grade_id": "cell-f30700ae1554fd4d",
     "locked": false,
     "schema_version": 1,
     "solution": true
    },
    "scrolled": true
   },
   "outputs": [
    {
     "data": {
      "text/plain": [
       "array(['THEFT', 'OTHER OFFENSE', 'CRIM SEXUAL ASSAULT', 'CRIMINAL DAMAGE',\n",
       "       'SEX OFFENSE', 'OFFENSE INVOLVING CHILDREN', 'DECEPTIVE PRACTICE',\n",
       "       'CRIMINAL TRESPASS', 'MOTOR VEHICLE THEFT', 'BATTERY', 'ASSAULT',\n",
       "       'BURGLARY', 'INTERFERE WITH PUBLIC OFFICER', 'WEAPONS VIOLATION',\n",
       "       'NARCOTICS', 'PUBLIC PEACE VIOLATION', 'ROBBERY',\n",
       "       'LIQUOR LAW VIOLATION', 'OBSCENITY', 'KIDNAPPING', 'PROSTITUTION',\n",
       "       'HOMICIDE', 'STALKING', 'ARSON'], dtype=object)"
      ]
     },
     "execution_count": 83,
     "metadata": {},
     "output_type": "execute_result"
    }
   ],
   "source": [
    "df[\"Primary Type\"].unique()"
   ]
  },
  {
   "cell_type": "markdown",
   "metadata": {
    "deletable": false,
    "editable": false,
    "nbgrader": {
     "checksum": "ddd6e312502db0ba5f70d01f6a29afaa",
     "grade": false,
     "grade_id": "cell-96e4d16ef8c8de48",
     "locked": true,
     "schema_version": 1,
     "solution": false
    }
   },
   "source": [
    "### Find out how many of each type occur."
   ]
  },
  {
   "cell_type": "code",
   "execution_count": 84,
   "metadata": {
    "deletable": false,
    "nbgrader": {
     "checksum": "67a63ffab44be1e0afc6bc3a6a28c371",
     "grade": false,
     "grade_id": "cell-d0f98ce8ec0ee85a",
     "locked": false,
     "schema_version": 1,
     "solution": true
    }
   },
   "outputs": [
    {
     "data": {
      "text/plain": [
       "THEFT                            605\n",
       "BATTERY                          358\n",
       "CRIMINAL DAMAGE                  187\n",
       "OTHER OFFENSE                    160\n",
       "NARCOTICS                        126\n",
       "DECEPTIVE PRACTICE                95\n",
       "ASSAULT                           87\n",
       "BURGLARY                          68\n",
       "MOTOR VEHICLE THEFT               59\n",
       "OFFENSE INVOLVING CHILDREN        49\n",
       "CRIMINAL TRESPASS                 42\n",
       "ROBBERY                           38\n",
       "CRIM SEXUAL ASSAULT               34\n",
       "WEAPONS VIOLATION                 33\n",
       "SEX OFFENSE                       29\n",
       "PUBLIC PEACE VIOLATION             7\n",
       "PROSTITUTION                       6\n",
       "LIQUOR LAW VIOLATION               5\n",
       "ARSON                              3\n",
       "HOMICIDE                           3\n",
       "STALKING                           2\n",
       "INTERFERE WITH PUBLIC OFFICER      2\n",
       "OBSCENITY                          1\n",
       "KIDNAPPING                         1\n",
       "Name: Primary Type, dtype: int64"
      ]
     },
     "execution_count": 84,
     "metadata": {},
     "output_type": "execute_result"
    }
   ],
   "source": [
    "type_count = df[\"Primary Type\"].value_counts()\n",
    "type_count"
   ]
  },
  {
   "cell_type": "markdown",
   "metadata": {
    "deletable": false,
    "editable": false,
    "nbgrader": {
     "checksum": "de62b0249b6cd482f342a1befbcea1ed",
     "grade": false,
     "grade_id": "cell-0477370af1a5d0cc",
     "locked": true,
     "schema_version": 1,
     "solution": false
    }
   },
   "source": [
    "### Make a bar chart of the top 10"
   ]
  },
  {
   "cell_type": "code",
   "execution_count": 85,
   "metadata": {
    "deletable": false,
    "nbgrader": {
     "checksum": "6c7fed1053288078cacf1e98c79b11b2",
     "grade": false,
     "grade_id": "cell-e5c423f4803dd6ba",
     "locked": false,
     "schema_version": 1,
     "solution": true
    }
   },
   "outputs": [
    {
     "data": {
      "text/plain": [
       "<AxesSubplot:>"
      ]
     },
     "execution_count": 85,
     "metadata": {},
     "output_type": "execute_result"
    },
    {
     "data": {
      "image/png": "[encoded data removed]",
      "text/plain": [
       "<Figure size 432x288 with 1 Axes>"
      ]
     },
     "metadata": {
      "needs_background": "light"
     },
     "output_type": "display_data"
    }
   ],
   "source": [
    "# YOUR CODE HERE\n",
    "df_counts = df[\"Primary Type\"].value_counts()\n",
    "df_counts[:10]\n",
    "df_counts[:10].plot(kind='bar', color='cyan', edgecolor = 'black')"
   ]
  },
  {
   "cell_type": "markdown",
   "metadata": {
    "deletable": false,
    "editable": false,
    "nbgrader": {
     "checksum": "398d3bea0322ab986b968ba1260ef6a0",
     "grade": false,
     "grade_id": "cell-6833934793df93c6",
     "locked": true,
     "schema_version": 1,
     "solution": false
    }
   },
   "source": [
    "### Make a new dataframe of just the theft types.\n"
   ]
  },
  {
   "cell_type": "code",
   "execution_count": 86,
   "metadata": {
    "deletable": false,
    "nbgrader": {
     "checksum": "0df243f5982a77ab1a564b3d84ea2a6e",
     "grade": false,
     "grade_id": "cell-e9e14ccfeb13f9cc",
     "locked": false,
     "schema_version": 1,
     "solution": true
    }
   },
   "outputs": [
    {
     "data": {
      "text/html": [
       "<div>\n",
       "<style scoped>\n",
       "    .dataframe tbody tr th:only-of-type {\n",
       "        vertical-align: middle;\n",
       "    }\n",
       "\n",
       "    .dataframe tbody tr th {\n",
       "        vertical-align: top;\n",
       "    }\n",
       "\n",
       "    .dataframe thead th {\n",
       "        text-align: right;\n",
       "    }\n",
       "</style>\n",
       "<table border=\"1\" class=\"dataframe\">\n",
       "  <thead>\n",
       "    <tr style=\"text-align: right;\">\n",
       "      <th></th>\n",
       "      <th>THEFT</th>\n",
       "      <th>Description</th>\n",
       "    </tr>\n",
       "  </thead>\n",
       "  <tbody>\n",
       "    <tr>\n",
       "      <th>0</th>\n",
       "      <td>True</td>\n",
       "      <td>FINANCIAL ID THEFT:$300 &amp;UNDER</td>\n",
       "    </tr>\n",
       "    <tr>\n",
       "      <th>1</th>\n",
       "      <td>True</td>\n",
       "      <td>FINANCIAL ID THEFT: OVER $300</td>\n",
       "    </tr>\n",
       "    <tr>\n",
       "      <th>2</th>\n",
       "      <td>True</td>\n",
       "      <td>FINANCIAL ID THEFT: OVER $300</td>\n",
       "    </tr>\n",
       "    <tr>\n",
       "      <th>3</th>\n",
       "      <td>True</td>\n",
       "      <td>FINANCIAL ID THEFT: OVER $300</td>\n",
       "    </tr>\n",
       "    <tr>\n",
       "      <th>4</th>\n",
       "      <td>False</td>\n",
       "      <td>HARASSMENT BY TELEPHONE</td>\n",
       "    </tr>\n",
       "    <tr>\n",
       "      <th>...</th>\n",
       "      <td>...</td>\n",
       "      <td>...</td>\n",
       "    </tr>\n",
       "    <tr>\n",
       "      <th>1995</th>\n",
       "      <td>False</td>\n",
       "      <td>TO PROPERTY</td>\n",
       "    </tr>\n",
       "    <tr>\n",
       "      <th>1996</th>\n",
       "      <td>False</td>\n",
       "      <td>STRONGARM - NO WEAPON</td>\n",
       "    </tr>\n",
       "    <tr>\n",
       "      <th>1997</th>\n",
       "      <td>False</td>\n",
       "      <td>DOMESTIC BATTERY SIMPLE</td>\n",
       "    </tr>\n",
       "    <tr>\n",
       "      <th>1998</th>\n",
       "      <td>False</td>\n",
       "      <td>POSS: HEROIN(WHITE)</td>\n",
       "    </tr>\n",
       "    <tr>\n",
       "      <th>1999</th>\n",
       "      <td>False</td>\n",
       "      <td>MANU/DELIVER:CRACK</td>\n",
       "    </tr>\n",
       "  </tbody>\n",
       "</table>\n",
       "<p>2000 rows × 2 columns</p>\n",
       "</div>"
      ],
      "text/plain": [
       "      THEFT                     Description\n",
       "0      True  FINANCIAL ID THEFT:$300 &UNDER\n",
       "1      True   FINANCIAL ID THEFT: OVER $300\n",
       "2      True   FINANCIAL ID THEFT: OVER $300\n",
       "3      True   FINANCIAL ID THEFT: OVER $300\n",
       "4     False         HARASSMENT BY TELEPHONE\n",
       "...     ...                             ...\n",
       "1995  False                     TO PROPERTY\n",
       "1996  False           STRONGARM - NO WEAPON\n",
       "1997  False         DOMESTIC BATTERY SIMPLE\n",
       "1998  False             POSS: HEROIN(WHITE)\n",
       "1999  False              MANU/DELIVER:CRACK\n",
       "\n",
       "[2000 rows x 2 columns]"
      ]
     },
     "execution_count": 86,
     "metadata": {},
     "output_type": "execute_result"
    }
   ],
   "source": [
    "# YOUR CODE HERE\n",
    "\n",
    "df2 = pd.DataFrame(zip(df['Primary Type'].apply(lambda x: 'THEFT' in x), df['Description']))\n",
    "df2.columns = ['THEFT','Description']\n",
    "df2"
   ]
  },
  {
   "cell_type": "code",
   "execution_count": 87,
   "metadata": {},
   "outputs": [],
   "source": [
    "for i in range(len(df2)):\n",
    "    if df2[\"THEFT\"].loc[i] == False:\n",
    "        df2 = df2.drop([i])\n",
    "    else:\n",
    "        pass"
   ]
  },
  {
   "cell_type": "code",
   "execution_count": 88,
   "metadata": {
    "scrolled": false
   },
   "outputs": [
    {
     "data": {
      "text/plain": [
       "664"
      ]
     },
     "execution_count": 88,
     "metadata": {},
     "output_type": "execute_result"
    }
   ],
   "source": [
    "len(df2)"
   ]
  },
  {
   "cell_type": "code",
   "execution_count": 89,
   "metadata": {},
   "outputs": [
    {
     "data": {
      "text/html": [
       "<div>\n",
       "<style scoped>\n",
       "    .dataframe tbody tr th:only-of-type {\n",
       "        vertical-align: middle;\n",
       "    }\n",
       "\n",
       "    .dataframe tbody tr th {\n",
       "        vertical-align: top;\n",
       "    }\n",
       "\n",
       "    .dataframe thead th {\n",
       "        text-align: right;\n",
       "    }\n",
       "</style>\n",
       "<table border=\"1\" class=\"dataframe\">\n",
       "  <thead>\n",
       "    <tr style=\"text-align: right;\">\n",
       "      <th></th>\n",
       "      <th>THEFT</th>\n",
       "      <th>Description</th>\n",
       "    </tr>\n",
       "  </thead>\n",
       "  <tbody>\n",
       "    <tr>\n",
       "      <th>0</th>\n",
       "      <td>True</td>\n",
       "      <td>FINANCIAL ID THEFT:$300 &amp;UNDER</td>\n",
       "    </tr>\n",
       "    <tr>\n",
       "      <th>1</th>\n",
       "      <td>True</td>\n",
       "      <td>FINANCIAL ID THEFT: OVER $300</td>\n",
       "    </tr>\n",
       "    <tr>\n",
       "      <th>2</th>\n",
       "      <td>True</td>\n",
       "      <td>FINANCIAL ID THEFT: OVER $300</td>\n",
       "    </tr>\n",
       "    <tr>\n",
       "      <th>3</th>\n",
       "      <td>True</td>\n",
       "      <td>FINANCIAL ID THEFT: OVER $300</td>\n",
       "    </tr>\n",
       "    <tr>\n",
       "      <th>5</th>\n",
       "      <td>True</td>\n",
       "      <td>FINANCIAL ID THEFT:$300 &amp;UNDER</td>\n",
       "    </tr>\n",
       "    <tr>\n",
       "      <th>...</th>\n",
       "      <td>...</td>\n",
       "      <td>...</td>\n",
       "    </tr>\n",
       "    <tr>\n",
       "      <th>1975</th>\n",
       "      <td>True</td>\n",
       "      <td>OVER $300</td>\n",
       "    </tr>\n",
       "    <tr>\n",
       "      <th>1976</th>\n",
       "      <td>True</td>\n",
       "      <td>FROM BUILDING</td>\n",
       "    </tr>\n",
       "    <tr>\n",
       "      <th>1983</th>\n",
       "      <td>True</td>\n",
       "      <td>AUTOMOBILE</td>\n",
       "    </tr>\n",
       "    <tr>\n",
       "      <th>1988</th>\n",
       "      <td>True</td>\n",
       "      <td>OVER $300</td>\n",
       "    </tr>\n",
       "    <tr>\n",
       "      <th>1994</th>\n",
       "      <td>True</td>\n",
       "      <td>OVER $300</td>\n",
       "    </tr>\n",
       "  </tbody>\n",
       "</table>\n",
       "<p>664 rows × 2 columns</p>\n",
       "</div>"
      ],
      "text/plain": [
       "      THEFT                     Description\n",
       "0      True  FINANCIAL ID THEFT:$300 &UNDER\n",
       "1      True   FINANCIAL ID THEFT: OVER $300\n",
       "2      True   FINANCIAL ID THEFT: OVER $300\n",
       "3      True   FINANCIAL ID THEFT: OVER $300\n",
       "5      True  FINANCIAL ID THEFT:$300 &UNDER\n",
       "...     ...                             ...\n",
       "1975   True                       OVER $300\n",
       "1976   True                   FROM BUILDING\n",
       "1983   True                      AUTOMOBILE\n",
       "1988   True                       OVER $300\n",
       "1994   True                       OVER $300\n",
       "\n",
       "[664 rows x 2 columns]"
      ]
     },
     "execution_count": 89,
     "metadata": {},
     "output_type": "execute_result"
    }
   ],
   "source": [
    "df2"
   ]
  },
  {
   "cell_type": "code",
   "execution_count": 90,
   "metadata": {},
   "outputs": [
    {
     "data": {
      "text/html": [
       "<div>\n",
       "<style scoped>\n",
       "    .dataframe tbody tr th:only-of-type {\n",
       "        vertical-align: middle;\n",
       "    }\n",
       "\n",
       "    .dataframe tbody tr th {\n",
       "        vertical-align: top;\n",
       "    }\n",
       "\n",
       "    .dataframe thead th {\n",
       "        text-align: right;\n",
       "    }\n",
       "</style>\n",
       "<table border=\"1\" class=\"dataframe\">\n",
       "  <thead>\n",
       "    <tr style=\"text-align: right;\">\n",
       "      <th></th>\n",
       "      <th>Description</th>\n",
       "    </tr>\n",
       "  </thead>\n",
       "  <tbody>\n",
       "    <tr>\n",
       "      <th>0</th>\n",
       "      <td>FINANCIAL ID THEFT:$300 &amp;UNDER</td>\n",
       "    </tr>\n",
       "    <tr>\n",
       "      <th>1</th>\n",
       "      <td>FINANCIAL ID THEFT: OVER $300</td>\n",
       "    </tr>\n",
       "    <tr>\n",
       "      <th>2</th>\n",
       "      <td>FINANCIAL ID THEFT: OVER $300</td>\n",
       "    </tr>\n",
       "    <tr>\n",
       "      <th>3</th>\n",
       "      <td>FINANCIAL ID THEFT: OVER $300</td>\n",
       "    </tr>\n",
       "    <tr>\n",
       "      <th>5</th>\n",
       "      <td>FINANCIAL ID THEFT:$300 &amp;UNDER</td>\n",
       "    </tr>\n",
       "    <tr>\n",
       "      <th>...</th>\n",
       "      <td>...</td>\n",
       "    </tr>\n",
       "    <tr>\n",
       "      <th>1975</th>\n",
       "      <td>OVER $300</td>\n",
       "    </tr>\n",
       "    <tr>\n",
       "      <th>1976</th>\n",
       "      <td>FROM BUILDING</td>\n",
       "    </tr>\n",
       "    <tr>\n",
       "      <th>1983</th>\n",
       "      <td>AUTOMOBILE</td>\n",
       "    </tr>\n",
       "    <tr>\n",
       "      <th>1988</th>\n",
       "      <td>OVER $300</td>\n",
       "    </tr>\n",
       "    <tr>\n",
       "      <th>1994</th>\n",
       "      <td>OVER $300</td>\n",
       "    </tr>\n",
       "  </tbody>\n",
       "</table>\n",
       "<p>664 rows × 1 columns</p>\n",
       "</div>"
      ],
      "text/plain": [
       "                         Description\n",
       "0     FINANCIAL ID THEFT:$300 &UNDER\n",
       "1      FINANCIAL ID THEFT: OVER $300\n",
       "2      FINANCIAL ID THEFT: OVER $300\n",
       "3      FINANCIAL ID THEFT: OVER $300\n",
       "5     FINANCIAL ID THEFT:$300 &UNDER\n",
       "...                              ...\n",
       "1975                       OVER $300\n",
       "1976                   FROM BUILDING\n",
       "1983                      AUTOMOBILE\n",
       "1988                       OVER $300\n",
       "1994                       OVER $300\n",
       "\n",
       "[664 rows x 1 columns]"
      ]
     },
     "execution_count": 90,
     "metadata": {},
     "output_type": "execute_result"
    }
   ],
   "source": [
    "df2.drop([\"THEFT\"], axis = 1)"
   ]
  },
  {
   "cell_type": "markdown",
   "metadata": {
    "deletable": false,
    "editable": false,
    "nbgrader": {
     "checksum": "961cca265fe98233337bf92ece47f562",
     "grade": false,
     "grade_id": "cell-eb99da6355f23fcf",
     "locked": true,
     "schema_version": 1,
     "solution": false
    }
   },
   "source": [
    "### Get the counts of each Description type inside the Thefts dataframe.\n"
   ]
  },
  {
   "cell_type": "code",
   "execution_count": 91,
   "metadata": {
    "deletable": false,
    "nbgrader": {
     "checksum": "946bb24f208807b079acf054cb10222a",
     "grade": false,
     "grade_id": "cell-62dda829e6915c6d",
     "locked": false,
     "schema_version": 1,
     "solution": true
    },
    "scrolled": true
   },
   "outputs": [
    {
     "data": {
      "text/plain": [
       "FINANCIAL ID THEFT: OVER $300       247\n",
       "FROM BUILDING                        87\n",
       "$300 AND UNDER                       82\n",
       "FINANCIAL ID THEFT:$300 &UNDER       68\n",
       "OVER $300                            60\n",
       "AUTOMOBILE                           48\n",
       "RETAIL THEFT                         24\n",
       "AGG: FINANCIAL ID THEFT              13\n",
       "ATTEMPT FINANCIAL IDENTITY THEFT     10\n",
       "THEFT/RECOVERY: AUTOMOBILE            8\n",
       "PURSE-SNATCHING                       7\n",
       "POCKET-PICKING                        5\n",
       "TRUCK, BUS, MOTOR HOME                2\n",
       "FROM COIN-OP MACHINE/DEVICE           1\n",
       "ATT: AUTOMOBILE                       1\n",
       "OVER $500                             1\n",
       "Name: Description, dtype: int64"
      ]
     },
     "execution_count": 91,
     "metadata": {},
     "output_type": "execute_result"
    }
   ],
   "source": [
    "# YOUR CODE HERE\n",
    "\n",
    "type_count = df2['Description'].value_counts()\n",
    "type_count"
   ]
  },
  {
   "cell_type": "markdown",
   "metadata": {
    "deletable": false,
    "editable": false,
    "nbgrader": {
     "checksum": "eff02b97e9675bd75de5be5a32c2aebe",
     "grade": false,
     "grade_id": "cell-10db12ce41da6bbd",
     "locked": true,
     "schema_version": 1,
     "solution": false
    }
   },
   "source": [
    "### Using your answer above, make a bar chart of the Description type counts.\n"
   ]
  },
  {
   "cell_type": "code",
   "execution_count": 92,
   "metadata": {
    "deletable": false,
    "nbgrader": {
     "checksum": "7bdbbdbfde79037f92ad942bdc318ee5",
     "grade": false,
     "grade_id": "cell-89943fe42d0a5d3e",
     "locked": false,
     "schema_version": 1,
     "solution": true
    }
   },
   "outputs": [
    {
     "data": {
      "text/plain": [
       "<AxesSubplot:>"
      ]
     },
     "execution_count": 92,
     "metadata": {},
     "output_type": "execute_result"
    },
    {
     "data": {
      "image/png": "[encoded data removed]",
      "text/plain": [
       "<Figure size 432x288 with 1 Axes>"
      ]
     },
     "metadata": {
      "needs_background": "light"
     },
     "output_type": "display_data"
    }
   ],
   "source": [
    "# YOUR CODE HERE\n",
    "df_typecounts = df2[\"Description\"].value_counts()\n",
    "df_typecounts.plot(kind='bar', color='cyan', edgecolor = 'black')"
   ]
  },
  {
   "cell_type": "markdown",
   "metadata": {
    "deletable": false,
    "editable": false,
    "nbgrader": {
     "checksum": "add6815b6d5cb2ead6719250e9d02ebc",
     "grade": false,
     "grade_id": "cell-878f8c746eb2169f",
     "locked": true,
     "schema_version": 1,
     "solution": false
    }
   },
   "source": [
    "### What percentage of all crimes in this data occur in Ward 42? \n",
    "Hint: just find out how many occur in ward 42 and then divide by all crimes.\n"
   ]
  },
  {
   "cell_type": "code",
   "execution_count": 93,
   "metadata": {
    "deletable": false,
    "nbgrader": {
     "checksum": "4fc3c835cdf2426c30a0cac34e579eea",
     "grade": false,
     "grade_id": "cell-d2acbdc4f9c9a05f",
     "locked": false,
     "schema_version": 1,
     "solution": true
    }
   },
   "outputs": [
    {
     "data": {
      "text/plain": [
       "42    97\n",
       "28    83\n",
       "24    72\n",
       "6     70\n",
       "15    70\n",
       "17    69\n",
       "27    66\n",
       "7     65\n",
       "37    62\n",
       "20    61\n",
       "2     60\n",
       "8     55\n",
       "34    55\n",
       "16    53\n",
       "3     51\n",
       "9     49\n",
       "29    47\n",
       "5     47\n",
       "32    46\n",
       "21    45\n",
       "31    41\n",
       "1     37\n",
       "30    36\n",
       "18    36\n",
       "26    35\n",
       "10    34\n",
       "25    32\n",
       "49    32\n",
       "40    31\n",
       "12    30\n",
       "35    30\n",
       "43    29\n",
       "33    28\n",
       "4     28\n",
       "38    26\n",
       "48    25\n",
       "23    25\n",
       "14    25\n",
       "41    23\n",
       "50    23\n",
       "44    21\n",
       "13    19\n",
       "19    19\n",
       "11    18\n",
       "46    18\n",
       "22    17\n",
       "39    16\n",
       "45    16\n",
       "36    14\n",
       "47    13\n",
       "Name: Ward, dtype: int64"
      ]
     },
     "execution_count": 93,
     "metadata": {},
     "output_type": "execute_result"
    }
   ],
   "source": [
    "# YOUR CODE HERE\n",
    "ward_counts = df['Ward'].value_counts()\n",
    "\n",
    "ward_counts"
   ]
  },
  {
   "cell_type": "code",
   "execution_count": 94,
   "metadata": {},
   "outputs": [
    {
     "data": {
      "text/plain": [
       "0.0485"
      ]
     },
     "execution_count": 94,
     "metadata": {},
     "output_type": "execute_result"
    }
   ],
   "source": [
    "ward_counts[42]/ward_counts.sum()"
   ]
  },
  {
   "cell_type": "markdown",
   "metadata": {
    "deletable": false,
    "editable": false,
    "nbgrader": {
     "checksum": "66251f98e1e88fcdbe9302293ac05486",
     "grade": false,
     "grade_id": "cell-c63dfe89d9643f37",
     "locked": true,
     "schema_version": 1,
     "solution": false
    }
   },
   "source": [
    "### What is the most common crime Primary Type that results in an arrest?\n"
   ]
  },
  {
   "cell_type": "code",
   "execution_count": 95,
   "metadata": {},
   "outputs": [
    {
     "data": {
      "text/plain": [
       "False    1583\n",
       "True      417\n",
       "Name: Arrest, dtype: int64"
      ]
     },
     "execution_count": 95,
     "metadata": {},
     "output_type": "execute_result"
    }
   ],
   "source": [
    "df[\"Arrest\"].value_counts()"
   ]
  },
  {
   "cell_type": "code",
   "execution_count": 96,
   "metadata": {},
   "outputs": [],
   "source": [
    "arrest_types = []"
   ]
  },
  {
   "cell_type": "code",
   "execution_count": 97,
   "metadata": {},
   "outputs": [],
   "source": [
    "for i in range(len(df)):\n",
    "    if df[\"Arrest\"].loc[i] == True:\n",
    "        arrest_types.append(df[\"Primary Type\"].loc[i])\n",
    "    else:\n",
    "        pass"
   ]
  },
  {
   "cell_type": "code",
   "execution_count": 98,
   "metadata": {},
   "outputs": [
    {
     "data": {
      "text/plain": [
       "417"
      ]
     },
     "execution_count": 98,
     "metadata": {},
     "output_type": "execute_result"
    }
   ],
   "source": [
    "len(arrest_types)"
   ]
  },
  {
   "cell_type": "code",
   "execution_count": 99,
   "metadata": {},
   "outputs": [
    {
     "data": {
      "text/html": [
       "<div>\n",
       "<style scoped>\n",
       "    .dataframe tbody tr th:only-of-type {\n",
       "        vertical-align: middle;\n",
       "    }\n",
       "\n",
       "    .dataframe tbody tr th {\n",
       "        vertical-align: top;\n",
       "    }\n",
       "\n",
       "    .dataframe thead th {\n",
       "        text-align: right;\n",
       "    }\n",
       "</style>\n",
       "<table border=\"1\" class=\"dataframe\">\n",
       "  <thead>\n",
       "    <tr style=\"text-align: right;\">\n",
       "      <th></th>\n",
       "      <th>0</th>\n",
       "    </tr>\n",
       "  </thead>\n",
       "  <tbody>\n",
       "    <tr>\n",
       "      <th>0</th>\n",
       "      <td>CRIM SEXUAL ASSAULT</td>\n",
       "    </tr>\n",
       "    <tr>\n",
       "      <th>1</th>\n",
       "      <td>THEFT</td>\n",
       "    </tr>\n",
       "    <tr>\n",
       "      <th>2</th>\n",
       "      <td>OFFENSE INVOLVING CHILDREN</td>\n",
       "    </tr>\n",
       "    <tr>\n",
       "      <th>3</th>\n",
       "      <td>OFFENSE INVOLVING CHILDREN</td>\n",
       "    </tr>\n",
       "    <tr>\n",
       "      <th>4</th>\n",
       "      <td>CRIM SEXUAL ASSAULT</td>\n",
       "    </tr>\n",
       "    <tr>\n",
       "      <th>...</th>\n",
       "      <td>...</td>\n",
       "    </tr>\n",
       "    <tr>\n",
       "      <th>412</th>\n",
       "      <td>BATTERY</td>\n",
       "    </tr>\n",
       "    <tr>\n",
       "      <th>413</th>\n",
       "      <td>NARCOTICS</td>\n",
       "    </tr>\n",
       "    <tr>\n",
       "      <th>414</th>\n",
       "      <td>NARCOTICS</td>\n",
       "    </tr>\n",
       "    <tr>\n",
       "      <th>415</th>\n",
       "      <td>NARCOTICS</td>\n",
       "    </tr>\n",
       "    <tr>\n",
       "      <th>416</th>\n",
       "      <td>NARCOTICS</td>\n",
       "    </tr>\n",
       "  </tbody>\n",
       "</table>\n",
       "<p>417 rows × 1 columns</p>\n",
       "</div>"
      ],
      "text/plain": [
       "                              0\n",
       "0           CRIM SEXUAL ASSAULT\n",
       "1                         THEFT\n",
       "2    OFFENSE INVOLVING CHILDREN\n",
       "3    OFFENSE INVOLVING CHILDREN\n",
       "4           CRIM SEXUAL ASSAULT\n",
       "..                          ...\n",
       "412                     BATTERY\n",
       "413                   NARCOTICS\n",
       "414                   NARCOTICS\n",
       "415                   NARCOTICS\n",
       "416                   NARCOTICS\n",
       "\n",
       "[417 rows x 1 columns]"
      ]
     },
     "execution_count": 99,
     "metadata": {},
     "output_type": "execute_result"
    }
   ],
   "source": [
    "df_arrest = pd.DataFrame(arrest_types)\n",
    "df_arrest"
   ]
  },
  {
   "cell_type": "code",
   "execution_count": 100,
   "metadata": {
    "deletable": false,
    "nbgrader": {
     "checksum": "98f028d87c77e685d20168e3a3cbff31",
     "grade": false,
     "grade_id": "cell-b3a154d4c4c44dfc",
     "locked": false,
     "schema_version": 1,
     "solution": true
    }
   },
   "outputs": [
    {
     "data": {
      "text/plain": [
       "NARCOTICS                        123\n",
       "BATTERY                           93\n",
       "CRIMINAL TRESPASS                 31\n",
       "WEAPONS VIOLATION                 30\n",
       "THEFT                             28\n",
       "ASSAULT                           28\n",
       "CRIMINAL DAMAGE                   12\n",
       "OTHER OFFENSE                     12\n",
       "CRIM SEXUAL ASSAULT                9\n",
       "DECEPTIVE PRACTICE                 8\n",
       "OFFENSE INVOLVING CHILDREN         7\n",
       "PROSTITUTION                       6\n",
       "PUBLIC PEACE VIOLATION             6\n",
       "LIQUOR LAW VIOLATION               5\n",
       "MOTOR VEHICLE THEFT                5\n",
       "SEX OFFENSE                        4\n",
       "HOMICIDE                           3\n",
       "ROBBERY                            2\n",
       "INTERFERE WITH PUBLIC OFFICER      2\n",
       "BURGLARY                           2\n",
       "OBSCENITY                          1\n",
       "Name: 0, dtype: int64"
      ]
     },
     "execution_count": 100,
     "metadata": {},
     "output_type": "execute_result"
    }
   ],
   "source": [
    "df_arrest[0].value_counts()"
   ]
  },
  {
   "cell_type": "markdown",
   "metadata": {
    "deletable": false,
    "editable": false,
    "nbgrader": {
     "checksum": "e395c3ceaa0dfd93d60f78d711461a0e",
     "grade": false,
     "grade_id": "cell-07857823a169aa2b",
     "locked": true,
     "schema_version": 1,
     "solution": false
    }
   },
   "source": [
    "## Part 2: Statistics Computation\n",
    "### Load in the paris rainfall data"
   ]
  },
  {
   "cell_type": "code",
   "execution_count": 101,
   "metadata": {
    "deletable": false,
    "nbgrader": {
     "checksum": "a3df3dbe02e421c4820e74233959da6d",
     "grade": false,
     "grade_id": "cell-ab1bb38f06ff8a68",
     "locked": false,
     "schema_version": 1,
     "solution": true
    }
   },
   "outputs": [],
   "source": [
    "# YOUR CODE HERE\n",
    "rain = pd.read_csv('data/paris_rain.csv', index_col=0)"
   ]
  },
  {
   "cell_type": "code",
   "execution_count": 102,
   "metadata": {
    "deletable": false,
    "editable": false,
    "nbgrader": {
     "checksum": "18c8fb925ba75f23848ffc353336e20d",
     "grade": false,
     "grade_id": "cell-fe0797ab60bb574c",
     "locked": true,
     "schema_version": 1,
     "solution": false
    }
   },
   "outputs": [
    {
     "data": {
      "text/html": [
       "<div>\n",
       "<style scoped>\n",
       "    .dataframe tbody tr th:only-of-type {\n",
       "        vertical-align: middle;\n",
       "    }\n",
       "\n",
       "    .dataframe tbody tr th {\n",
       "        vertical-align: top;\n",
       "    }\n",
       "\n",
       "    .dataframe thead th {\n",
       "        text-align: right;\n",
       "    }\n",
       "</style>\n",
       "<table border=\"1\" class=\"dataframe\">\n",
       "  <thead>\n",
       "    <tr style=\"text-align: right;\">\n",
       "      <th></th>\n",
       "      <th>Jan</th>\n",
       "      <th>Feb</th>\n",
       "      <th>Mar</th>\n",
       "      <th>Apr</th>\n",
       "      <th>May</th>\n",
       "      <th>Jun</th>\n",
       "      <th>Jul</th>\n",
       "      <th>Aug</th>\n",
       "      <th>Sep</th>\n",
       "      <th>Oct</th>\n",
       "      <th>Nov</th>\n",
       "      <th>Dec</th>\n",
       "      <th>Unnamed: 13</th>\n",
       "      <th>Unnamed: 14</th>\n",
       "      <th>Unnamed: 15</th>\n",
       "      <th>Unnamed: 16</th>\n",
       "    </tr>\n",
       "  </thead>\n",
       "  <tbody>\n",
       "    <tr>\n",
       "      <th>count</th>\n",
       "      <td>302.000000</td>\n",
       "      <td>302.000000</td>\n",
       "      <td>302.000000</td>\n",
       "      <td>302.000000</td>\n",
       "      <td>302.000000</td>\n",
       "      <td>302.000000</td>\n",
       "      <td>302.000000</td>\n",
       "      <td>303.000000</td>\n",
       "      <td>303.000000</td>\n",
       "      <td>303.000000</td>\n",
       "      <td>303.000000</td>\n",
       "      <td>303.000000</td>\n",
       "      <td>0.0</td>\n",
       "      <td>0.0</td>\n",
       "      <td>0.0</td>\n",
       "      <td>0.0</td>\n",
       "    </tr>\n",
       "    <tr>\n",
       "      <th>mean</th>\n",
       "      <td>43.052980</td>\n",
       "      <td>36.440397</td>\n",
       "      <td>38.354305</td>\n",
       "      <td>43.758278</td>\n",
       "      <td>53.817881</td>\n",
       "      <td>52.834437</td>\n",
       "      <td>55.920530</td>\n",
       "      <td>50.973597</td>\n",
       "      <td>48.191419</td>\n",
       "      <td>51.643564</td>\n",
       "      <td>49.062706</td>\n",
       "      <td>46.993399</td>\n",
       "      <td>NaN</td>\n",
       "      <td>NaN</td>\n",
       "      <td>NaN</td>\n",
       "      <td>NaN</td>\n",
       "    </tr>\n",
       "    <tr>\n",
       "      <th>std</th>\n",
       "      <td>24.141688</td>\n",
       "      <td>23.876094</td>\n",
       "      <td>23.397695</td>\n",
       "      <td>25.041584</td>\n",
       "      <td>26.637033</td>\n",
       "      <td>29.193007</td>\n",
       "      <td>32.648032</td>\n",
       "      <td>30.416958</td>\n",
       "      <td>27.262089</td>\n",
       "      <td>30.585322</td>\n",
       "      <td>26.489396</td>\n",
       "      <td>26.778091</td>\n",
       "      <td>NaN</td>\n",
       "      <td>NaN</td>\n",
       "      <td>NaN</td>\n",
       "      <td>NaN</td>\n",
       "    </tr>\n",
       "    <tr>\n",
       "      <th>min</th>\n",
       "      <td>0.000000</td>\n",
       "      <td>0.000000</td>\n",
       "      <td>0.000000</td>\n",
       "      <td>0.000000</td>\n",
       "      <td>5.000000</td>\n",
       "      <td>1.000000</td>\n",
       "      <td>2.000000</td>\n",
       "      <td>2.000000</td>\n",
       "      <td>0.000000</td>\n",
       "      <td>0.000000</td>\n",
       "      <td>0.000000</td>\n",
       "      <td>0.000000</td>\n",
       "      <td>NaN</td>\n",
       "      <td>NaN</td>\n",
       "      <td>NaN</td>\n",
       "      <td>NaN</td>\n",
       "    </tr>\n",
       "    <tr>\n",
       "      <th>25%</th>\n",
       "      <td>25.000000</td>\n",
       "      <td>19.000000</td>\n",
       "      <td>21.000000</td>\n",
       "      <td>24.000000</td>\n",
       "      <td>34.000000</td>\n",
       "      <td>32.000000</td>\n",
       "      <td>34.000000</td>\n",
       "      <td>29.000000</td>\n",
       "      <td>28.000000</td>\n",
       "      <td>29.000000</td>\n",
       "      <td>29.000000</td>\n",
       "      <td>27.000000</td>\n",
       "      <td>NaN</td>\n",
       "      <td>NaN</td>\n",
       "      <td>NaN</td>\n",
       "      <td>NaN</td>\n",
       "    </tr>\n",
       "    <tr>\n",
       "      <th>50%</th>\n",
       "      <td>40.000000</td>\n",
       "      <td>32.000000</td>\n",
       "      <td>35.000000</td>\n",
       "      <td>41.000000</td>\n",
       "      <td>50.000000</td>\n",
       "      <td>49.000000</td>\n",
       "      <td>49.000000</td>\n",
       "      <td>47.000000</td>\n",
       "      <td>45.000000</td>\n",
       "      <td>46.000000</td>\n",
       "      <td>46.000000</td>\n",
       "      <td>44.000000</td>\n",
       "      <td>NaN</td>\n",
       "      <td>NaN</td>\n",
       "      <td>NaN</td>\n",
       "      <td>NaN</td>\n",
       "    </tr>\n",
       "    <tr>\n",
       "      <th>75%</th>\n",
       "      <td>58.750000</td>\n",
       "      <td>48.000000</td>\n",
       "      <td>52.000000</td>\n",
       "      <td>62.000000</td>\n",
       "      <td>70.750000</td>\n",
       "      <td>70.000000</td>\n",
       "      <td>73.750000</td>\n",
       "      <td>65.000000</td>\n",
       "      <td>66.000000</td>\n",
       "      <td>67.000000</td>\n",
       "      <td>64.000000</td>\n",
       "      <td>65.000000</td>\n",
       "      <td>NaN</td>\n",
       "      <td>NaN</td>\n",
       "      <td>NaN</td>\n",
       "      <td>NaN</td>\n",
       "    </tr>\n",
       "    <tr>\n",
       "      <th>max</th>\n",
       "      <td>118.000000</td>\n",
       "      <td>135.000000</td>\n",
       "      <td>128.000000</td>\n",
       "      <td>137.000000</td>\n",
       "      <td>135.000000</td>\n",
       "      <td>195.000000</td>\n",
       "      <td>204.000000</td>\n",
       "      <td>201.000000</td>\n",
       "      <td>149.000000</td>\n",
       "      <td>167.000000</td>\n",
       "      <td>139.000000</td>\n",
       "      <td>146.000000</td>\n",
       "      <td>NaN</td>\n",
       "      <td>NaN</td>\n",
       "      <td>NaN</td>\n",
       "      <td>NaN</td>\n",
       "    </tr>\n",
       "  </tbody>\n",
       "</table>\n",
       "</div>"
      ],
      "text/plain": [
       "              Jan         Feb         Mar         Apr         May         Jun  \\\n",
       "count  302.000000  302.000000  302.000000  302.000000  302.000000  302.000000   \n",
       "mean    43.052980   36.440397   38.354305   43.758278   53.817881   52.834437   \n",
       "std     24.141688   23.876094   23.397695   25.041584   26.637033   29.193007   \n",
       "min      0.000000    0.000000    0.000000    0.000000    5.000000    1.000000   \n",
       "25%     25.000000   19.000000   21.000000   24.000000   34.000000   32.000000   \n",
       "50%     40.000000   32.000000   35.000000   41.000000   50.000000   49.000000   \n",
       "75%     58.750000   48.000000   52.000000   62.000000   70.750000   70.000000   \n",
       "max    118.000000  135.000000  128.000000  137.000000  135.000000  195.000000   \n",
       "\n",
       "              Jul         Aug         Sep         Oct         Nov         Dec  \\\n",
       "count  302.000000  303.000000  303.000000  303.000000  303.000000  303.000000   \n",
       "mean    55.920530   50.973597   48.191419   51.643564   49.062706   46.993399   \n",
       "std     32.648032   30.416958   27.262089   30.585322   26.489396   26.778091   \n",
       "min      2.000000    2.000000    0.000000    0.000000    0.000000    0.000000   \n",
       "25%     34.000000   29.000000   28.000000   29.000000   29.000000   27.000000   \n",
       "50%     49.000000   47.000000   45.000000   46.000000   46.000000   44.000000   \n",
       "75%     73.750000   65.000000   66.000000   67.000000   64.000000   65.000000   \n",
       "max    204.000000  201.000000  149.000000  167.000000  139.000000  146.000000   \n",
       "\n",
       "       Unnamed: 13  Unnamed: 14  Unnamed: 15  Unnamed: 16  \n",
       "count          0.0          0.0          0.0          0.0  \n",
       "mean           NaN          NaN          NaN          NaN  \n",
       "std            NaN          NaN          NaN          NaN  \n",
       "min            NaN          NaN          NaN          NaN  \n",
       "25%            NaN          NaN          NaN          NaN  \n",
       "50%            NaN          NaN          NaN          NaN  \n",
       "75%            NaN          NaN          NaN          NaN  \n",
       "max            NaN          NaN          NaN          NaN  "
      ]
     },
     "execution_count": 102,
     "metadata": {},
     "output_type": "execute_result"
    }
   ],
   "source": [
    "rain.describe()"
   ]
  },
  {
   "cell_type": "code",
   "execution_count": 103,
   "metadata": {
    "deletable": false,
    "editable": false,
    "nbgrader": {
     "checksum": "5a51360a7f62fdf6f05f665c78e30e7a",
     "grade": false,
     "grade_id": "cell-fd47ddae27a388bd",
     "locked": true,
     "schema_version": 1,
     "solution": false
    }
   },
   "outputs": [
    {
     "data": {
      "text/html": [
       "<div>\n",
       "<style scoped>\n",
       "    .dataframe tbody tr th:only-of-type {\n",
       "        vertical-align: middle;\n",
       "    }\n",
       "\n",
       "    .dataframe tbody tr th {\n",
       "        vertical-align: top;\n",
       "    }\n",
       "\n",
       "    .dataframe thead th {\n",
       "        text-align: right;\n",
       "    }\n",
       "</style>\n",
       "<table border=\"1\" class=\"dataframe\">\n",
       "  <thead>\n",
       "    <tr style=\"text-align: right;\">\n",
       "      <th></th>\n",
       "      <th>Jan</th>\n",
       "      <th>Feb</th>\n",
       "      <th>Mar</th>\n",
       "      <th>Apr</th>\n",
       "      <th>May</th>\n",
       "      <th>Jun</th>\n",
       "      <th>Jul</th>\n",
       "      <th>Aug</th>\n",
       "      <th>Sep</th>\n",
       "      <th>Oct</th>\n",
       "      <th>Nov</th>\n",
       "      <th>Dec</th>\n",
       "      <th>Unnamed: 13</th>\n",
       "      <th>Unnamed: 14</th>\n",
       "      <th>Unnamed: 15</th>\n",
       "      <th>Unnamed: 16</th>\n",
       "    </tr>\n",
       "    <tr>\n",
       "      <th>Year</th>\n",
       "      <th></th>\n",
       "      <th></th>\n",
       "      <th></th>\n",
       "      <th></th>\n",
       "      <th></th>\n",
       "      <th></th>\n",
       "      <th></th>\n",
       "      <th></th>\n",
       "      <th></th>\n",
       "      <th></th>\n",
       "      <th></th>\n",
       "      <th></th>\n",
       "      <th></th>\n",
       "      <th></th>\n",
       "      <th></th>\n",
       "      <th></th>\n",
       "    </tr>\n",
       "  </thead>\n",
       "  <tbody>\n",
       "    <tr>\n",
       "      <th>NaN</th>\n",
       "      <td>NaN</td>\n",
       "      <td>NaN</td>\n",
       "      <td>NaN</td>\n",
       "      <td>NaN</td>\n",
       "      <td>NaN</td>\n",
       "      <td>NaN</td>\n",
       "      <td>NaN</td>\n",
       "      <td>NaN</td>\n",
       "      <td>NaN</td>\n",
       "      <td>NaN</td>\n",
       "      <td>NaN</td>\n",
       "      <td>NaN</td>\n",
       "      <td>NaN</td>\n",
       "      <td>NaN</td>\n",
       "      <td>NaN</td>\n",
       "      <td>NaN</td>\n",
       "    </tr>\n",
       "    <tr>\n",
       "      <th>NaN</th>\n",
       "      <td>NaN</td>\n",
       "      <td>NaN</td>\n",
       "      <td>NaN</td>\n",
       "      <td>NaN</td>\n",
       "      <td>NaN</td>\n",
       "      <td>NaN</td>\n",
       "      <td>NaN</td>\n",
       "      <td>NaN</td>\n",
       "      <td>NaN</td>\n",
       "      <td>NaN</td>\n",
       "      <td>NaN</td>\n",
       "      <td>NaN</td>\n",
       "      <td>NaN</td>\n",
       "      <td>NaN</td>\n",
       "      <td>NaN</td>\n",
       "      <td>NaN</td>\n",
       "    </tr>\n",
       "    <tr>\n",
       "      <th>NaN</th>\n",
       "      <td>NaN</td>\n",
       "      <td>NaN</td>\n",
       "      <td>NaN</td>\n",
       "      <td>NaN</td>\n",
       "      <td>NaN</td>\n",
       "      <td>NaN</td>\n",
       "      <td>NaN</td>\n",
       "      <td>NaN</td>\n",
       "      <td>NaN</td>\n",
       "      <td>NaN</td>\n",
       "      <td>NaN</td>\n",
       "      <td>NaN</td>\n",
       "      <td>NaN</td>\n",
       "      <td>NaN</td>\n",
       "      <td>NaN</td>\n",
       "      <td>NaN</td>\n",
       "    </tr>\n",
       "    <tr>\n",
       "      <th>NaN</th>\n",
       "      <td>NaN</td>\n",
       "      <td>NaN</td>\n",
       "      <td>NaN</td>\n",
       "      <td>NaN</td>\n",
       "      <td>NaN</td>\n",
       "      <td>NaN</td>\n",
       "      <td>NaN</td>\n",
       "      <td>NaN</td>\n",
       "      <td>NaN</td>\n",
       "      <td>NaN</td>\n",
       "      <td>NaN</td>\n",
       "      <td>NaN</td>\n",
       "      <td>NaN</td>\n",
       "      <td>NaN</td>\n",
       "      <td>NaN</td>\n",
       "      <td>NaN</td>\n",
       "    </tr>\n",
       "    <tr>\n",
       "      <th>NaN</th>\n",
       "      <td>NaN</td>\n",
       "      <td>NaN</td>\n",
       "      <td>NaN</td>\n",
       "      <td>NaN</td>\n",
       "      <td>NaN</td>\n",
       "      <td>NaN</td>\n",
       "      <td>NaN</td>\n",
       "      <td>NaN</td>\n",
       "      <td>NaN</td>\n",
       "      <td>NaN</td>\n",
       "      <td>NaN</td>\n",
       "      <td>NaN</td>\n",
       "      <td>NaN</td>\n",
       "      <td>NaN</td>\n",
       "      <td>NaN</td>\n",
       "      <td>NaN</td>\n",
       "    </tr>\n",
       "  </tbody>\n",
       "</table>\n",
       "</div>"
      ],
      "text/plain": [
       "      Jan  Feb  Mar  Apr  May  Jun  Jul  Aug  Sep  Oct  Nov  Dec  Unnamed: 13  \\\n",
       "Year                                                                            \n",
       "NaN   NaN  NaN  NaN  NaN  NaN  NaN  NaN  NaN  NaN  NaN  NaN  NaN          NaN   \n",
       "NaN   NaN  NaN  NaN  NaN  NaN  NaN  NaN  NaN  NaN  NaN  NaN  NaN          NaN   \n",
       "NaN   NaN  NaN  NaN  NaN  NaN  NaN  NaN  NaN  NaN  NaN  NaN  NaN          NaN   \n",
       "NaN   NaN  NaN  NaN  NaN  NaN  NaN  NaN  NaN  NaN  NaN  NaN  NaN          NaN   \n",
       "NaN   NaN  NaN  NaN  NaN  NaN  NaN  NaN  NaN  NaN  NaN  NaN  NaN          NaN   \n",
       "\n",
       "      Unnamed: 14  Unnamed: 15  Unnamed: 16  \n",
       "Year                                         \n",
       "NaN           NaN          NaN          NaN  \n",
       "NaN           NaN          NaN          NaN  \n",
       "NaN           NaN          NaN          NaN  \n",
       "NaN           NaN          NaN          NaN  \n",
       "NaN           NaN          NaN          NaN  "
      ]
     },
     "execution_count": 103,
     "metadata": {},
     "output_type": "execute_result"
    }
   ],
   "source": [
    "rain.tail()"
   ]
  },
  {
   "cell_type": "markdown",
   "metadata": {
    "deletable": false,
    "editable": false,
    "nbgrader": {
     "checksum": "cc397ad797d4ca3749161649404baec0",
     "grade": false,
     "grade_id": "cell-aa3e24abaae4adeb",
     "locked": true,
     "schema_version": 1,
     "solution": false
    }
   },
   "source": [
    "### Use .loc to get all the rain values for the year 1700\n"
   ]
  },
  {
   "cell_type": "code",
   "execution_count": 104,
   "metadata": {
    "deletable": false,
    "nbgrader": {
     "checksum": "10461a5407919d9a9d2b04629638e6f0",
     "grade": false,
     "grade_id": "cell-1ad77971dfce3c19",
     "locked": false,
     "schema_version": 1,
     "solution": true
    }
   },
   "outputs": [
    {
     "data": {
      "text/plain": [
       "Jan             27.0\n",
       "Feb             30.0\n",
       "Mar             30.0\n",
       "Apr             63.0\n",
       "May             39.0\n",
       "Jun            100.0\n",
       "Jul             81.0\n",
       "Aug             20.0\n",
       "Sep              3.0\n",
       "Oct             54.0\n",
       "Nov             58.0\n",
       "Dec             38.0\n",
       "Unnamed: 13      NaN\n",
       "Unnamed: 14      NaN\n",
       "Unnamed: 15      NaN\n",
       "Unnamed: 16      NaN\n",
       "Name: 1700.0, dtype: float64"
      ]
     },
     "execution_count": 104,
     "metadata": {},
     "output_type": "execute_result"
    }
   ],
   "source": [
    "# YOUR CODE HERE\n",
    "\n",
    "rain.loc[1700.0, :]"
   ]
  },
  {
   "cell_type": "markdown",
   "metadata": {
    "deletable": false,
    "editable": false,
    "nbgrader": {
     "checksum": "b6f52875e6ffc2b8648a739aa7ff62d6",
     "grade": false,
     "grade_id": "cell-bdaad51615846504",
     "locked": true,
     "schema_version": 1,
     "solution": false
    }
   },
   "source": [
    "### Sort by rain amount in January, ascending=False. Now get the top row. What's the year?\n"
   ]
  },
  {
   "cell_type": "code",
   "execution_count": 105,
   "metadata": {
    "deletable": false,
    "nbgrader": {
     "checksum": "19c596993be6f5fb25c8bd9d71901df1",
     "grade": false,
     "grade_id": "cell-c86d3c5cf5a824bd",
     "locked": false,
     "schema_version": 1,
     "solution": true
    }
   },
   "outputs": [
    {
     "data": {
      "text/html": [
       "<div>\n",
       "<style scoped>\n",
       "    .dataframe tbody tr th:only-of-type {\n",
       "        vertical-align: middle;\n",
       "    }\n",
       "\n",
       "    .dataframe tbody tr th {\n",
       "        vertical-align: top;\n",
       "    }\n",
       "\n",
       "    .dataframe thead th {\n",
       "        text-align: right;\n",
       "    }\n",
       "</style>\n",
       "<table border=\"1\" class=\"dataframe\">\n",
       "  <thead>\n",
       "    <tr style=\"text-align: right;\">\n",
       "      <th></th>\n",
       "      <th>Jan</th>\n",
       "      <th>Feb</th>\n",
       "      <th>Mar</th>\n",
       "      <th>Apr</th>\n",
       "      <th>May</th>\n",
       "      <th>Jun</th>\n",
       "      <th>Jul</th>\n",
       "      <th>Aug</th>\n",
       "      <th>Sep</th>\n",
       "      <th>Oct</th>\n",
       "      <th>Nov</th>\n",
       "      <th>Dec</th>\n",
       "      <th>Unnamed: 13</th>\n",
       "      <th>Unnamed: 14</th>\n",
       "      <th>Unnamed: 15</th>\n",
       "      <th>Unnamed: 16</th>\n",
       "    </tr>\n",
       "    <tr>\n",
       "      <th>Year</th>\n",
       "      <th></th>\n",
       "      <th></th>\n",
       "      <th></th>\n",
       "      <th></th>\n",
       "      <th></th>\n",
       "      <th></th>\n",
       "      <th></th>\n",
       "      <th></th>\n",
       "      <th></th>\n",
       "      <th></th>\n",
       "      <th></th>\n",
       "      <th></th>\n",
       "      <th></th>\n",
       "      <th></th>\n",
       "      <th></th>\n",
       "      <th></th>\n",
       "    </tr>\n",
       "  </thead>\n",
       "  <tbody>\n",
       "    <tr>\n",
       "      <th>1988.0</th>\n",
       "      <td>118.0</td>\n",
       "      <td>61.0</td>\n",
       "      <td>76.0</td>\n",
       "      <td>26.0</td>\n",
       "      <td>67.0</td>\n",
       "      <td>22.0</td>\n",
       "      <td>126.0</td>\n",
       "      <td>27.0</td>\n",
       "      <td>46.0</td>\n",
       "      <td>68.0</td>\n",
       "      <td>37.0</td>\n",
       "      <td>60.0</td>\n",
       "      <td>NaN</td>\n",
       "      <td>NaN</td>\n",
       "      <td>NaN</td>\n",
       "      <td>NaN</td>\n",
       "    </tr>\n",
       "  </tbody>\n",
       "</table>\n",
       "</div>"
      ],
      "text/plain": [
       "          Jan   Feb   Mar   Apr   May   Jun    Jul   Aug   Sep   Oct   Nov  \\\n",
       "Year                                                                         \n",
       "1988.0  118.0  61.0  76.0  26.0  67.0  22.0  126.0  27.0  46.0  68.0  37.0   \n",
       "\n",
       "         Dec  Unnamed: 13  Unnamed: 14  Unnamed: 15  Unnamed: 16  \n",
       "Year                                                              \n",
       "1988.0  60.0          NaN          NaN          NaN          NaN  "
      ]
     },
     "execution_count": 105,
     "metadata": {},
     "output_type": "execute_result"
    }
   ],
   "source": [
    "# YOUR CODE HERE\n",
    "\n",
    "rain.sort_values(by = 'Jan', ascending=False).head(1)\n",
    "#Sorted by descending order the rain amount in January, the highest rainfall was in 1988. "
   ]
  },
  {
   "cell_type": "markdown",
   "metadata": {
    "deletable": false,
    "editable": false,
    "nbgrader": {
     "checksum": "afc43c15c630ac20025dbefb5fac0a3f",
     "grade": false,
     "grade_id": "cell-734c073c909c8df5",
     "locked": true,
     "schema_version": 1,
     "solution": false
    }
   },
   "source": [
    "### Find the values for the month of June. Plot in a bar chart. (It's ok if you can't read the x axis labels.)\n"
   ]
  },
  {
   "cell_type": "code",
   "execution_count": 106,
   "metadata": {
    "deletable": false,
    "nbgrader": {
     "checksum": "5984a7544e5476bf9150d034522d69a7",
     "grade": false,
     "grade_id": "cell-68f16dff28c6657f",
     "locked": false,
     "schema_version": 1,
     "solution": true
    }
   },
   "outputs": [
    {
     "data": {
      "text/plain": [
       "Year\n",
       "1688.0    75.0\n",
       "1689.0    20.0\n",
       "1690.0    63.0\n",
       "1691.0     NaN\n",
       "1692.0     NaN\n",
       "          ... \n",
       "NaN        NaN\n",
       "NaN        NaN\n",
       "NaN        NaN\n",
       "NaN        NaN\n",
       "NaN        NaN\n",
       "Name: Jun, Length: 3864, dtype: float64"
      ]
     },
     "execution_count": 106,
     "metadata": {},
     "output_type": "execute_result"
    }
   ],
   "source": [
    "# YOUR CODE HERE\n",
    "\n",
    "rain.loc[:,'Jun']\n",
    "\n"
   ]
  },
  {
   "cell_type": "code",
   "execution_count": 107,
   "metadata": {},
   "outputs": [
    {
     "data": {
      "text/plain": [
       "<AxesSubplot:>"
      ]
     },
     "execution_count": 107,
     "metadata": {},
     "output_type": "execute_result"
    },
    {
     "data": {
      "image/png": "[encoded data removed]",
      "text/plain": [
       "<Figure size 432x288 with 1 Axes>"
      ]
     },
     "metadata": {
      "needs_background": "light"
     },
     "output_type": "display_data"
    }
   ],
   "source": [
    "rain_counts = rain.loc[:,'Jun'].value_counts()\n",
    "rain_counts.plot(kind='bar', color='cyan', edgecolor = 'black')"
   ]
  },
  {
   "cell_type": "markdown",
   "metadata": {
    "deletable": false,
    "editable": false,
    "nbgrader": {
     "checksum": "3dc0657a34f359b2f87a7653b86d1cbc",
     "grade": false,
     "grade_id": "cell-025ec56bd8a05e7e",
     "locked": true,
     "schema_version": 1,
     "solution": false
    }
   },
   "source": [
    "### What are the max and min values for Jun?  What is the median?\n"
   ]
  },
  {
   "cell_type": "code",
   "execution_count": 108,
   "metadata": {},
   "outputs": [
    {
     "data": {
      "text/plain": [
       "195.0"
      ]
     },
     "execution_count": 108,
     "metadata": {},
     "output_type": "execute_result"
    }
   ],
   "source": [
    "# YOUR CODE HERE\n",
    "rain['Jun'].max()"
   ]
  },
  {
   "cell_type": "code",
   "execution_count": 109,
   "metadata": {},
   "outputs": [
    {
     "data": {
      "text/plain": [
       "1.0"
      ]
     },
     "execution_count": 109,
     "metadata": {},
     "output_type": "execute_result"
    }
   ],
   "source": [
    "rain['Jun'].min()"
   ]
  },
  {
   "cell_type": "code",
   "execution_count": 110,
   "metadata": {},
   "outputs": [
    {
     "data": {
      "text/plain": [
       "49.0"
      ]
     },
     "execution_count": 110,
     "metadata": {},
     "output_type": "execute_result"
    }
   ],
   "source": [
    "rain['Jun'].median()"
   ]
  },
  {
   "cell_type": "code",
   "execution_count": 111,
   "metadata": {
    "deletable": false,
    "nbgrader": {
     "checksum": "d6a7bf1852f199cfd2341ead67a5c4f8",
     "grade": false,
     "grade_id": "cell-74ac9deccab8e1a6",
     "locked": false,
     "schema_version": 1,
     "solution": true
    }
   },
   "outputs": [
    {
     "data": {
      "text/plain": [
       "count    302.000000\n",
       "mean      52.834437\n",
       "std       29.193007\n",
       "min        1.000000\n",
       "25%       32.000000\n",
       "50%       49.000000\n",
       "75%       70.000000\n",
       "max      195.000000\n",
       "Name: Jun, dtype: float64"
      ]
     },
     "execution_count": 111,
     "metadata": {},
     "output_type": "execute_result"
    }
   ],
   "source": [
    "rain['Jun'].describe()\n",
    "\n",
    "#To prove I used the describe function: The min: 1, the max: 195 and the median (50%):49"
   ]
  },
  {
   "cell_type": "markdown",
   "metadata": {
    "deletable": false,
    "editable": false,
    "nbgrader": {
     "checksum": "3106acaedef055fa886d7a69fcdf556e",
     "grade": false,
     "grade_id": "cell-9d215ec78c6e6e6a",
     "locked": true,
     "schema_version": 1,
     "solution": false
    }
   },
   "source": [
    "### Make a histogram for one month's rain.\n"
   ]
  },
  {
   "cell_type": "code",
   "execution_count": 112,
   "metadata": {
    "deletable": false,
    "nbgrader": {
     "checksum": "a65df2286cfcfc19038efc32ea53b89c",
     "grade": false,
     "grade_id": "cell-4c79843209dfaa8a",
     "locked": false,
     "schema_version": 1,
     "solution": true
    }
   },
   "outputs": [
    {
     "data": {
      "text/plain": [
       "<AxesSubplot:>"
      ]
     },
     "execution_count": 112,
     "metadata": {},
     "output_type": "execute_result"
    },
    {
     "data": {
      "image/png": "[encoded data removed]",
      "text/plain": [
       "<Figure size 432x288 with 1 Axes>"
      ]
     },
     "metadata": {
      "needs_background": "light"
     },
     "output_type": "display_data"
    }
   ],
   "source": [
    "# YOUR CODE HERE\n",
    "rain['May'].hist()"
   ]
  },
  {
   "cell_type": "markdown",
   "metadata": {
    "deletable": false,
    "editable": false,
    "nbgrader": {
     "checksum": "92ca739f04e09fd38e1d94fb0a9a479e",
     "grade": false,
     "grade_id": "cell-140d4d72e241a14b",
     "locked": true,
     "schema_version": 1,
     "solution": false
    }
   },
   "source": [
    "### Create a column for the total rain each year.  \n",
    "It's okay if you have a NaN for years with columns with missing data, too.\n"
   ]
  },
  {
   "cell_type": "code",
   "execution_count": 113,
   "metadata": {
    "deletable": false,
    "nbgrader": {
     "checksum": "e025248377cd1ea248bc0297c24ce727",
     "grade": false,
     "grade_id": "cell-f2638152eb5cdb32",
     "locked": false,
     "schema_version": 1,
     "solution": true
    }
   },
   "outputs": [
    {
     "data": {
      "text/html": [
       "<div>\n",
       "<style scoped>\n",
       "    .dataframe tbody tr th:only-of-type {\n",
       "        vertical-align: middle;\n",
       "    }\n",
       "\n",
       "    .dataframe tbody tr th {\n",
       "        vertical-align: top;\n",
       "    }\n",
       "\n",
       "    .dataframe thead th {\n",
       "        text-align: right;\n",
       "    }\n",
       "</style>\n",
       "<table border=\"1\" class=\"dataframe\">\n",
       "  <thead>\n",
       "    <tr style=\"text-align: right;\">\n",
       "      <th></th>\n",
       "      <th>Jan</th>\n",
       "      <th>Feb</th>\n",
       "      <th>Mar</th>\n",
       "      <th>Apr</th>\n",
       "      <th>May</th>\n",
       "      <th>Jun</th>\n",
       "      <th>Jul</th>\n",
       "      <th>Aug</th>\n",
       "      <th>Sep</th>\n",
       "      <th>Oct</th>\n",
       "      <th>Nov</th>\n",
       "      <th>Dec</th>\n",
       "      <th>Unnamed: 13</th>\n",
       "      <th>Unnamed: 14</th>\n",
       "      <th>Unnamed: 15</th>\n",
       "      <th>Unnamed: 16</th>\n",
       "      <th>Total year</th>\n",
       "    </tr>\n",
       "    <tr>\n",
       "      <th>Year</th>\n",
       "      <th></th>\n",
       "      <th></th>\n",
       "      <th></th>\n",
       "      <th></th>\n",
       "      <th></th>\n",
       "      <th></th>\n",
       "      <th></th>\n",
       "      <th></th>\n",
       "      <th></th>\n",
       "      <th></th>\n",
       "      <th></th>\n",
       "      <th></th>\n",
       "      <th></th>\n",
       "      <th></th>\n",
       "      <th></th>\n",
       "      <th></th>\n",
       "      <th></th>\n",
       "    </tr>\n",
       "  </thead>\n",
       "  <tbody>\n",
       "    <tr>\n",
       "      <th>1688.0</th>\n",
       "      <td>NaN</td>\n",
       "      <td>NaN</td>\n",
       "      <td>NaN</td>\n",
       "      <td>NaN</td>\n",
       "      <td>NaN</td>\n",
       "      <td>75.0</td>\n",
       "      <td>47.0</td>\n",
       "      <td>9.0</td>\n",
       "      <td>43.0</td>\n",
       "      <td>46.0</td>\n",
       "      <td>44.0</td>\n",
       "      <td>49.0</td>\n",
       "      <td>NaN</td>\n",
       "      <td>NaN</td>\n",
       "      <td>NaN</td>\n",
       "      <td>NaN</td>\n",
       "      <td>NaN</td>\n",
       "    </tr>\n",
       "    <tr>\n",
       "      <th>1689.0</th>\n",
       "      <td>36.0</td>\n",
       "      <td>22.0</td>\n",
       "      <td>22.0</td>\n",
       "      <td>37.0</td>\n",
       "      <td>18.0</td>\n",
       "      <td>20.0</td>\n",
       "      <td>116.0</td>\n",
       "      <td>41.0</td>\n",
       "      <td>45.0</td>\n",
       "      <td>50.0</td>\n",
       "      <td>66.0</td>\n",
       "      <td>18.0</td>\n",
       "      <td>NaN</td>\n",
       "      <td>NaN</td>\n",
       "      <td>NaN</td>\n",
       "      <td>NaN</td>\n",
       "      <td>491.0</td>\n",
       "    </tr>\n",
       "    <tr>\n",
       "      <th>1690.0</th>\n",
       "      <td>70.0</td>\n",
       "      <td>32.0</td>\n",
       "      <td>43.0</td>\n",
       "      <td>24.0</td>\n",
       "      <td>68.0</td>\n",
       "      <td>63.0</td>\n",
       "      <td>73.0</td>\n",
       "      <td>79.0</td>\n",
       "      <td>21.0</td>\n",
       "      <td>64.0</td>\n",
       "      <td>23.0</td>\n",
       "      <td>9.0</td>\n",
       "      <td>NaN</td>\n",
       "      <td>NaN</td>\n",
       "      <td>NaN</td>\n",
       "      <td>NaN</td>\n",
       "      <td>569.0</td>\n",
       "    </tr>\n",
       "    <tr>\n",
       "      <th>1691.0</th>\n",
       "      <td>NaN</td>\n",
       "      <td>NaN</td>\n",
       "      <td>NaN</td>\n",
       "      <td>NaN</td>\n",
       "      <td>NaN</td>\n",
       "      <td>NaN</td>\n",
       "      <td>NaN</td>\n",
       "      <td>NaN</td>\n",
       "      <td>NaN</td>\n",
       "      <td>NaN</td>\n",
       "      <td>NaN</td>\n",
       "      <td>NaN</td>\n",
       "      <td>NaN</td>\n",
       "      <td>NaN</td>\n",
       "      <td>NaN</td>\n",
       "      <td>NaN</td>\n",
       "      <td>NaN</td>\n",
       "    </tr>\n",
       "    <tr>\n",
       "      <th>1692.0</th>\n",
       "      <td>NaN</td>\n",
       "      <td>NaN</td>\n",
       "      <td>NaN</td>\n",
       "      <td>NaN</td>\n",
       "      <td>NaN</td>\n",
       "      <td>NaN</td>\n",
       "      <td>NaN</td>\n",
       "      <td>NaN</td>\n",
       "      <td>NaN</td>\n",
       "      <td>NaN</td>\n",
       "      <td>NaN</td>\n",
       "      <td>NaN</td>\n",
       "      <td>NaN</td>\n",
       "      <td>NaN</td>\n",
       "      <td>NaN</td>\n",
       "      <td>NaN</td>\n",
       "      <td>NaN</td>\n",
       "    </tr>\n",
       "  </tbody>\n",
       "</table>\n",
       "</div>"
      ],
      "text/plain": [
       "         Jan   Feb   Mar   Apr   May   Jun    Jul   Aug   Sep   Oct   Nov  \\\n",
       "Year                                                                        \n",
       "1688.0   NaN   NaN   NaN   NaN   NaN  75.0   47.0   9.0  43.0  46.0  44.0   \n",
       "1689.0  36.0  22.0  22.0  37.0  18.0  20.0  116.0  41.0  45.0  50.0  66.0   \n",
       "1690.0  70.0  32.0  43.0  24.0  68.0  63.0   73.0  79.0  21.0  64.0  23.0   \n",
       "1691.0   NaN   NaN   NaN   NaN   NaN   NaN    NaN   NaN   NaN   NaN   NaN   \n",
       "1692.0   NaN   NaN   NaN   NaN   NaN   NaN    NaN   NaN   NaN   NaN   NaN   \n",
       "\n",
       "         Dec  Unnamed: 13  Unnamed: 14  Unnamed: 15  Unnamed: 16  Total year  \n",
       "Year                                                                          \n",
       "1688.0  49.0          NaN          NaN          NaN          NaN         NaN  \n",
       "1689.0  18.0          NaN          NaN          NaN          NaN       491.0  \n",
       "1690.0   9.0          NaN          NaN          NaN          NaN       569.0  \n",
       "1691.0   NaN          NaN          NaN          NaN          NaN         NaN  \n",
       "1692.0   NaN          NaN          NaN          NaN          NaN         NaN  "
      ]
     },
     "execution_count": 113,
     "metadata": {},
     "output_type": "execute_result"
    }
   ],
   "source": [
    "# YOUR CODE HERE\n",
    "\n",
    "rain_copy = rain.copy()\n",
    "rain_copy['Total year'] = rain['Jan'] + rain['Feb'] + rain['Mar'] + rain['Apr'] + rain['May'] + rain['Jun'] + rain['Jul'] + rain['Aug'] + rain['Sep'] + rain['Oct'] + rain['Nov'] + rain['Dec']\n",
    "rain_copy.head() "
   ]
  },
  {
   "cell_type": "markdown",
   "metadata": {
    "deletable": false,
    "editable": false,
    "nbgrader": {
     "checksum": "0ac7b70a9e4d56f89248d18baeffbde9",
     "grade": false,
     "grade_id": "cell-090adc8f41689254",
     "locked": true,
     "schema_version": 1,
     "solution": false
    }
   },
   "source": [
    "### Plot the proportion or percentage of rain for each January out of the total (hint: jan/total), using a line chart.\n"
   ]
  },
  {
   "cell_type": "code",
   "execution_count": 114,
   "metadata": {
    "deletable": false,
    "nbgrader": {
     "checksum": "0335cd96ddf3f6976ce3d32149888539",
     "grade": false,
     "grade_id": "cell-6a1e02ed72b5649f",
     "locked": false,
     "schema_version": 1,
     "solution": true
    }
   },
   "outputs": [
    {
     "data": {
      "text/html": [
       "<div>\n",
       "<style scoped>\n",
       "    .dataframe tbody tr th:only-of-type {\n",
       "        vertical-align: middle;\n",
       "    }\n",
       "\n",
       "    .dataframe tbody tr th {\n",
       "        vertical-align: top;\n",
       "    }\n",
       "\n",
       "    .dataframe thead th {\n",
       "        text-align: right;\n",
       "    }\n",
       "</style>\n",
       "<table border=\"1\" class=\"dataframe\">\n",
       "  <thead>\n",
       "    <tr style=\"text-align: right;\">\n",
       "      <th></th>\n",
       "      <th>Jan</th>\n",
       "      <th>Feb</th>\n",
       "      <th>Mar</th>\n",
       "      <th>Apr</th>\n",
       "      <th>May</th>\n",
       "      <th>Jun</th>\n",
       "      <th>Jul</th>\n",
       "      <th>Aug</th>\n",
       "      <th>Sep</th>\n",
       "      <th>Oct</th>\n",
       "      <th>Nov</th>\n",
       "      <th>Dec</th>\n",
       "      <th>Unnamed: 13</th>\n",
       "      <th>Unnamed: 14</th>\n",
       "      <th>Unnamed: 15</th>\n",
       "      <th>Unnamed: 16</th>\n",
       "      <th>Total year</th>\n",
       "    </tr>\n",
       "    <tr>\n",
       "      <th>Year</th>\n",
       "      <th></th>\n",
       "      <th></th>\n",
       "      <th></th>\n",
       "      <th></th>\n",
       "      <th></th>\n",
       "      <th></th>\n",
       "      <th></th>\n",
       "      <th></th>\n",
       "      <th></th>\n",
       "      <th></th>\n",
       "      <th></th>\n",
       "      <th></th>\n",
       "      <th></th>\n",
       "      <th></th>\n",
       "      <th></th>\n",
       "      <th></th>\n",
       "      <th></th>\n",
       "    </tr>\n",
       "  </thead>\n",
       "  <tbody>\n",
       "    <tr>\n",
       "      <th>1688.0</th>\n",
       "      <td>NaN</td>\n",
       "      <td>NaN</td>\n",
       "      <td>NaN</td>\n",
       "      <td>NaN</td>\n",
       "      <td>NaN</td>\n",
       "      <td>NaN</td>\n",
       "      <td>NaN</td>\n",
       "      <td>NaN</td>\n",
       "      <td>NaN</td>\n",
       "      <td>NaN</td>\n",
       "      <td>NaN</td>\n",
       "      <td>NaN</td>\n",
       "      <td>NaN</td>\n",
       "      <td>NaN</td>\n",
       "      <td>NaN</td>\n",
       "      <td>NaN</td>\n",
       "      <td>NaN</td>\n",
       "    </tr>\n",
       "    <tr>\n",
       "      <th>1689.0</th>\n",
       "      <td>0.073320</td>\n",
       "      <td>0.044807</td>\n",
       "      <td>0.044807</td>\n",
       "      <td>0.075356</td>\n",
       "      <td>0.036660</td>\n",
       "      <td>0.040733</td>\n",
       "      <td>0.236253</td>\n",
       "      <td>0.083503</td>\n",
       "      <td>0.091650</td>\n",
       "      <td>0.101833</td>\n",
       "      <td>0.134420</td>\n",
       "      <td>0.036660</td>\n",
       "      <td>NaN</td>\n",
       "      <td>NaN</td>\n",
       "      <td>NaN</td>\n",
       "      <td>NaN</td>\n",
       "      <td>1.0</td>\n",
       "    </tr>\n",
       "    <tr>\n",
       "      <th>1690.0</th>\n",
       "      <td>0.123023</td>\n",
       "      <td>0.056239</td>\n",
       "      <td>0.075571</td>\n",
       "      <td>0.042179</td>\n",
       "      <td>0.119508</td>\n",
       "      <td>0.110721</td>\n",
       "      <td>0.128295</td>\n",
       "      <td>0.138840</td>\n",
       "      <td>0.036907</td>\n",
       "      <td>0.112478</td>\n",
       "      <td>0.040422</td>\n",
       "      <td>0.015817</td>\n",
       "      <td>NaN</td>\n",
       "      <td>NaN</td>\n",
       "      <td>NaN</td>\n",
       "      <td>NaN</td>\n",
       "      <td>1.0</td>\n",
       "    </tr>\n",
       "    <tr>\n",
       "      <th>1691.0</th>\n",
       "      <td>NaN</td>\n",
       "      <td>NaN</td>\n",
       "      <td>NaN</td>\n",
       "      <td>NaN</td>\n",
       "      <td>NaN</td>\n",
       "      <td>NaN</td>\n",
       "      <td>NaN</td>\n",
       "      <td>NaN</td>\n",
       "      <td>NaN</td>\n",
       "      <td>NaN</td>\n",
       "      <td>NaN</td>\n",
       "      <td>NaN</td>\n",
       "      <td>NaN</td>\n",
       "      <td>NaN</td>\n",
       "      <td>NaN</td>\n",
       "      <td>NaN</td>\n",
       "      <td>NaN</td>\n",
       "    </tr>\n",
       "    <tr>\n",
       "      <th>1692.0</th>\n",
       "      <td>NaN</td>\n",
       "      <td>NaN</td>\n",
       "      <td>NaN</td>\n",
       "      <td>NaN</td>\n",
       "      <td>NaN</td>\n",
       "      <td>NaN</td>\n",
       "      <td>NaN</td>\n",
       "      <td>NaN</td>\n",
       "      <td>NaN</td>\n",
       "      <td>NaN</td>\n",
       "      <td>NaN</td>\n",
       "      <td>NaN</td>\n",
       "      <td>NaN</td>\n",
       "      <td>NaN</td>\n",
       "      <td>NaN</td>\n",
       "      <td>NaN</td>\n",
       "      <td>NaN</td>\n",
       "    </tr>\n",
       "  </tbody>\n",
       "</table>\n",
       "</div>"
      ],
      "text/plain": [
       "             Jan       Feb       Mar       Apr       May       Jun       Jul  \\\n",
       "Year                                                                           \n",
       "1688.0       NaN       NaN       NaN       NaN       NaN       NaN       NaN   \n",
       "1689.0  0.073320  0.044807  0.044807  0.075356  0.036660  0.040733  0.236253   \n",
       "1690.0  0.123023  0.056239  0.075571  0.042179  0.119508  0.110721  0.128295   \n",
       "1691.0       NaN       NaN       NaN       NaN       NaN       NaN       NaN   \n",
       "1692.0       NaN       NaN       NaN       NaN       NaN       NaN       NaN   \n",
       "\n",
       "             Aug       Sep       Oct       Nov       Dec  Unnamed: 13  \\\n",
       "Year                                                                    \n",
       "1688.0       NaN       NaN       NaN       NaN       NaN          NaN   \n",
       "1689.0  0.083503  0.091650  0.101833  0.134420  0.036660          NaN   \n",
       "1690.0  0.138840  0.036907  0.112478  0.040422  0.015817          NaN   \n",
       "1691.0       NaN       NaN       NaN       NaN       NaN          NaN   \n",
       "1692.0       NaN       NaN       NaN       NaN       NaN          NaN   \n",
       "\n",
       "        Unnamed: 14  Unnamed: 15  Unnamed: 16  Total year  \n",
       "Year                                                       \n",
       "1688.0          NaN          NaN          NaN         NaN  \n",
       "1689.0          NaN          NaN          NaN         1.0  \n",
       "1690.0          NaN          NaN          NaN         1.0  \n",
       "1691.0          NaN          NaN          NaN         NaN  \n",
       "1692.0          NaN          NaN          NaN         NaN  "
      ]
     },
     "execution_count": 114,
     "metadata": {},
     "output_type": "execute_result"
    }
   ],
   "source": [
    "# YOUR CODE HERE\n",
    "proportions = rain_copy.apply(lambda x: x/x['Total year'], axis=1)\n",
    "proportions.head()"
   ]
  },
  {
   "cell_type": "code",
   "execution_count": 115,
   "metadata": {
    "scrolled": true
   },
   "outputs": [
    {
     "data": {
      "text/plain": [
       "[<matplotlib.lines.Line2D at 0x22842d8c940>]"
      ]
     },
     "execution_count": 115,
     "metadata": {},
     "output_type": "execute_result"
    },
    {
     "data": {
      "image/png": "[encoded data removed]",
      "text/plain": [
       "<Figure size 432x288 with 1 Axes>"
      ]
     },
     "metadata": {
      "needs_background": "light"
     },
     "output_type": "display_data"
    }
   ],
   "source": [
    "plt.plot(proportions[\"Jan\"])"
   ]
  },
  {
   "cell_type": "code",
   "execution_count": null,
   "metadata": {},
   "outputs": [],
   "source": []
  }
 ],
 "metadata": {
  "anaconda-cloud": {},
  "kernelspec": {
   "display_name": "Python 3",
   "language": "python",
   "name": "python3"
  },
  "language_info": {
   "codemirror_mode": {
    "name": "ipython",
    "version": 3
   },
   "file_extension": ".py",
   "mimetype": "text/x-python",
   "name": "python",
   "nbconvert_exporter": "python",
   "pygments_lexer": "ipython3",
   "version": "3.8.5"
  },
  "toc": {
   "base_numbering": 1,
   "nav_menu": {},
   "number_sections": true,
   "sideBar": true,
   "skip_h1_title": false,
   "title_cell": "Table of Contents",
   "title_sidebar": "Contents",
   "toc_cell": false,
   "toc_position": {
    "height": "calc(100% - 180px)",
    "left": "10px",
    "top": "150px",
    "width": "287.9963073730469px"
   },
   "toc_section_display": true,
   "toc_window_display": true
  }
 },
 "nbformat": 4,
 "nbformat_minor": 1
}
